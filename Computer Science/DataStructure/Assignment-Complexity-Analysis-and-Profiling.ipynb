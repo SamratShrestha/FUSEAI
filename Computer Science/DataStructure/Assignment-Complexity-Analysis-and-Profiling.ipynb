{
 "cells": [
  {
   "cell_type": "markdown",
   "metadata": {
    "colab_type": "text",
    "deletable": false,
    "editable": false,
    "id": "el-6DVnwabpQ",
    "nbgrader": {
     "checksum": "c66063c68d4e46dc32089566257030ab",
     "grade": false,
     "grade_id": "cell-55c2b4e1d4030ff8",
     "locked": true,
     "schema_version": 1,
     "solution": false
    }
   },
   "source": [
    "# Assignment: Improving on the Greatest Common Divisor Algorithm\n",
    "\n",
    "<b><div style=\"text-align: right\">[TOTAL POINTS: 45]</div></b>\n",
    "\n",
    "In this assignment, we will go through a series of steps thal will allow us to improve upon our implementation of the Greatest Common Divisor algorithm. Along the way, we will analyse the space and time complexity of our implementation.\n",
    "\n",
    "##### Function Definition\n",
    "\n",
    "`input`: `m` and `n` are two positive integers.\n",
    "\n",
    "`gcd(m,n)`: Largest `k` such that `k` divides both `m` and `n`. There is atleast one common factor for every `m` and `n`. `1` divides both numbers and is the smallest posible value of GCD.\n",
    "\n",
    "##### Example\n",
    "\n",
    "* gcd(4,6) = 2\n",
    "* gcd(3,5) = 1\n",
    "* gcd(40,70) = 10"
   ]
  },
  {
   "cell_type": "markdown",
   "metadata": {
    "colab_type": "text",
    "deletable": false,
    "editable": false,
    "id": "3JaAkLRaabpW",
    "nbgrader": {
     "checksum": "afe28ceabdd9e3a9f226d90acaa98d8f",
     "grade": false,
     "grade_id": "cell-bfa954f9a7872352",
     "locked": true,
     "schema_version": 1,
     "solution": false
    }
   },
   "source": [
    "### Solution 1: The Brute-Force Way\n",
    "\n",
    "**Algorithm**\n",
    "1. List the factors of m\n",
    "2. List the factors of n \n",
    "3. Return the largest number that appears on both list\n",
    "\n",
    "\n",
    "***Note:*** The `range(i,j)` produces the sequence `i,i+1,...,j-2,j-1`"
   ]
  },
  {
   "cell_type": "code",
   "execution_count": null,
   "metadata": {
    "colab": {},
    "colab_type": "code",
    "deletable": false,
    "editable": false,
    "id": "ycuZ0-qJabpX",
    "nbgrader": {
     "checksum": "cfaf790dfff5cc874aa0bef573486bfc",
     "grade": false,
     "grade_id": "cell-832ce2d366de7fc7",
     "locked": true,
     "schema_version": 1,
     "solution": false
    }
   },
   "outputs": [],
   "source": [
    "def gcd1(m,n):\n",
    "        #List out factors of m\n",
    "        fm = []\n",
    "        for i in range(1,m+1):\n",
    "            if m%i == 0:\n",
    "                fm.append(i)\n",
    "\n",
    "\n",
    "        #List out factors of n\n",
    "        fn = []\n",
    "        for j in range(1,n+1):\n",
    "            if n%j == 0:\n",
    "                fn.append(j)\n",
    "\n",
    "        #Report the largest number that appears on both list\n",
    "        #Find common factors\n",
    "        cf =[]\n",
    "        for f in fm:\n",
    "            if f in fn:\n",
    "                cf.append(f)\n",
    "\n",
    "        #Return largest value\n",
    "        return cf[-1]"
   ]
  },
  {
   "cell_type": "code",
   "execution_count": null,
   "metadata": {
    "colab": {},
    "colab_type": "code",
    "deletable": false,
    "editable": false,
    "id": "UBR8tlgPabpb",
    "nbgrader": {
     "checksum": "62ed1a40937c4425dba5ae8b2c29cf4f",
     "grade": false,
     "grade_id": "cell-fccee6eb5dc22c44",
     "locked": true,
     "schema_version": 1,
     "solution": false
    }
   },
   "outputs": [],
   "source": [
    "# check the output of function\n",
    "gcd1(8,10)"
   ]
  },
  {
   "cell_type": "code",
   "execution_count": null,
   "metadata": {
    "colab": {},
    "colab_type": "code",
    "deletable": false,
    "editable": false,
    "id": "AJjrMgV2abpd",
    "nbgrader": {
     "checksum": "f0e76c4fbb4f4fd3faada4e67809291f",
     "grade": false,
     "grade_id": "cell-5446de88612e4beb",
     "locked": true,
     "schema_version": 1,
     "solution": false
    }
   },
   "outputs": [],
   "source": [
    "# check exectution time\n",
    "%timeit gcd1(137477,14160131)"
   ]
  },
  {
   "cell_type": "markdown",
   "metadata": {
    "colab_type": "text",
    "deletable": false,
    "editable": false,
    "id": "9dVFNFYdabpj",
    "nbgrader": {
     "checksum": "262f92a0e5dc03660f4e32602e52c812",
     "grade": false,
     "grade_id": "cell-ae5f5da21ad0065a",
     "locked": true,
     "schema_version": 1,
     "solution": false
    }
   },
   "source": [
    "Some comments on the brute force way:\n",
    "\n",
    "1. It uses a lot of names to store intermediate values. `m,n,i,j,f` are integer variables. `fm`(factors of m),`fn`(factors of n) and `cf`(common factors) of list of integer numbers.\n",
    "\n",
    "2. Some steps are repeated i.e it uses the same code for finding factors.\n",
    "\n",
    "3. For finding factors, we can limit our loop to half of `m` or `n` i.e `m/2` and `n/2`.\n",
    "\n",
    "4. If we just want to find factors using just one loop, we can do a single scan from `1 : max(m,n)`. Add `i` to `fm` if `i` divides `m` and add `i` to `fn` if `i` divides `n`."
   ]
  },
  {
   "cell_type": "markdown",
   "metadata": {
    "colab_type": "text",
    "deletable": false,
    "editable": false,
    "id": "zN1pDm1rabpm",
    "nbgrader": {
     "checksum": "85cd54743a56d4fa719223cd3fb766ae",
     "grade": false,
     "grade_id": "cell-95edeea88f0fefdc",
     "locked": true,
     "schema_version": 1,
     "solution": false
    }
   },
   "source": [
    "### Solution 2: A Better Way Out\n",
    "\n",
    "Are two lists even required? Why compute two list (fn and fm) and then compare them to find the common factors(cf). \n",
    "We can find common factors in one shot by doing the following:\n",
    "\n",
    "* for each `i` in `1` to `max(m, n)`, if `i` divides both `m` and `n` then add `i` to `cf`. \n",
    "\n",
    "If it divides neither or if it divides only one of them then it is not a common factor and we can discard.\n",
    "Also, the common factors must be less than or equal to `min(m,n)`."
   ]
  },
  {
   "cell_type": "markdown",
   "metadata": {
    "colab_type": "text",
    "id": "J31qpzMaabpn",
    "tags": [
     "Exercise-1"
    ]
   },
   "source": [
    "### Exercise 1: Implement  `gcd2`\n",
    "\n",
    "<b><div style=\"text-align: right\">[POINTS: 10]</div></b>\n",
    "\n",
    "**Task:**  Implement the greatest common divisor function with only one loop. \n",
    "\n",
    "**Hint:**  for each `i` in `1` to `max(m, n)`, if `i` divides both `m` and `n` then add `i` to `cf`"
   ]
  },
  {
   "cell_type": "code",
   "execution_count": 4,
   "metadata": {
    "colab": {},
    "colab_type": "code",
    "deletable": false,
    "id": "7qLzqXjQabpq",
    "nbgrader": {
     "checksum": "bd43d7ccea62b42f3f38319eaccee743",
     "grade": false,
     "grade_id": "cell-4593088c3e61cd3c",
     "locked": false,
     "schema_version": 1,
     "solution": true
    },
    "tags": [
     "Exercise-1"
    ]
   },
   "outputs": [
    {
     "name": "stdout",
     "output_type": "stream",
     "text": [
      "2\n",
      "1\n",
      "10\n"
     ]
    }
   ],
   "source": [
    "def gcd2(m,n):\n",
    "    # YOUR CODE HERE\n",
    "    cf=[]\n",
    "    for i in range(1,max(m,n)):\n",
    "        if i <= min(m,n):\n",
    "            if m%i ==0 and n%i==0:\n",
    "                cf.append(i)\n",
    "    return cf[-1]\n",
    "\n",
    "\n",
    "print(gcd2(4,6))\n",
    "print(gcd2(3,5)) \n",
    "print(gcd2(40,70)) \n"
   ]
  },
  {
   "cell_type": "code",
   "execution_count": null,
   "metadata": {
    "colab": {},
    "colab_type": "code",
    "deletable": false,
    "editable": false,
    "id": "Lmgq_v0xabpt",
    "nbgrader": {
     "checksum": "4978c3503c8f76e6b8ce4272b0d157d6",
     "grade": true,
     "grade_id": "cell-7160b4289df8a11f",
     "locked": true,
     "points": 10,
     "schema_version": 1,
     "solution": false
    },
    "tags": [
     "Exercise-1"
    ]
   },
   "outputs": [],
   "source": [
    "### INTENTIONALLY LEFT BLANK\n"
   ]
  },
  {
   "cell_type": "code",
   "execution_count": 13,
   "metadata": {
    "colab": {},
    "colab_type": "code",
    "deletable": false,
    "editable": false,
    "id": "rl8LWxpLabpv",
    "nbgrader": {
     "checksum": "a3e3e30a74369759fe6538c34617045a",
     "grade": false,
     "grade_id": "cell-97b4710ffcfc989b",
     "locked": true,
     "schema_version": 1,
     "solution": false
    },
    "tags": [
     "Exercise-1"
    ]
   },
   "outputs": [
    {
     "name": "stdout",
     "output_type": "stream",
     "text": [
      "2.95 s ± 100 ms per loop (mean ± std. dev. of 7 runs, 1 loop each)\n"
     ]
    }
   ],
   "source": [
    "# check execution time\n",
    "%timeit gcd2(137477,14160131)"
   ]
  },
  {
   "cell_type": "markdown",
   "metadata": {
    "colab_type": "text",
    "deletable": false,
    "editable": false,
    "id": "ZLSajQ9Yabpx",
    "nbgrader": {
     "checksum": "5fe92128d016002efea6ce5d17806478",
     "grade": false,
     "grade_id": "cell-93c48f4fe5463e78",
     "locked": true,
     "schema_version": 1,
     "solution": false
    }
   },
   "source": [
    "### Solution 3: Save Resources\n",
    "\n",
    "So, can we do better with the idea that we have? Do we need a list of common factors at all? Remember, that we only need the largest common factor.\n",
    "\n",
    "The notion of the largest common factor will always be well defined for any pair m and n. There will always be at least one common factor namely 1. Each time we find a common factor, we can discard the previous. We can only keep track of the greatest common factor(gcf) and return it."
   ]
  },
  {
   "cell_type": "markdown",
   "metadata": {
    "colab_type": "text",
    "deletable": false,
    "editable": false,
    "id": "XhT6LfIKabpz",
    "nbgrader": {
     "checksum": "ead4f576af4b16f9dfde9364f227d544",
     "grade": false,
     "grade_id": "cell-b0ea1c26c2bcd246",
     "locked": true,
     "schema_version": 1,
     "solution": false
    },
    "tags": [
     "Exercise-2"
    ]
   },
   "source": [
    "### Exercise 2: Implement  `gcd3`\n",
    "\n",
    "<b><div style=\"text-align: right\">[POINTS: 10]</div></b>\n",
    "\n",
    "**Task:**  Insted of using a `cf` list use `gcf`(greatest common factor) integer to keep track of the largest common factor.  \n"
   ]
  },
  {
   "cell_type": "code",
   "execution_count": 10,
   "metadata": {
    "colab": {},
    "colab_type": "code",
    "deletable": false,
    "id": "L7xsrrqaabp1",
    "nbgrader": {
     "checksum": "ef5b43ab4818f428944ca882017f5def",
     "grade": false,
     "grade_id": "cell-a1127b40295b163b",
     "locked": false,
     "schema_version": 1,
     "solution": true
    },
    "tags": [
     "Exercise-2"
    ]
   },
   "outputs": [
    {
     "name": "stdout",
     "output_type": "stream",
     "text": [
      "2\n",
      "1\n",
      "10\n"
     ]
    }
   ],
   "source": [
    "def gcd3(m,n):\n",
    "    # YOUR CODE HERE\n",
    "    gcf=1\n",
    "    for i in range(1,max(m,n)):\n",
    "        if i <= min(m,n):\n",
    "            if m%i ==0 and n%i==0:\n",
    "                gcf=i\n",
    "    return gcf\n",
    "\n",
    "\n",
    "print(gcd3(4,6))\n",
    "print(gcd3(3,5)) \n",
    "print(gcd3(40,70)) "
   ]
  },
  {
   "cell_type": "code",
   "execution_count": 11,
   "metadata": {
    "colab": {},
    "colab_type": "code",
    "deletable": false,
    "editable": false,
    "id": "XbErs0ySabp5",
    "nbgrader": {
     "checksum": "add3340596bd764e10be54570e6c7c61",
     "grade": true,
     "grade_id": "cell-ea17216d5bc66f4e",
     "locked": true,
     "points": 10,
     "schema_version": 1,
     "solution": false
    },
    "tags": [
     "Exercise-2"
    ]
   },
   "outputs": [],
   "source": [
    "### INTENTIONALLY LEFT BLANK\n"
   ]
  },
  {
   "cell_type": "code",
   "execution_count": 12,
   "metadata": {
    "colab": {},
    "colab_type": "code",
    "deletable": false,
    "editable": false,
    "id": "BxXXoIxgabp7",
    "nbgrader": {
     "checksum": "c2f209ec9fc47de7101fddaaa46a33c9",
     "grade": false,
     "grade_id": "cell-2b7b3da89e6d6667",
     "locked": true,
     "schema_version": 1,
     "solution": false
    },
    "tags": [
     "Exercise-2"
    ]
   },
   "outputs": [
    {
     "name": "stdout",
     "output_type": "stream",
     "text": [
      "2.87 s ± 11.2 ms per loop (mean ± std. dev. of 7 runs, 1 loop each)\n"
     ]
    }
   ],
   "source": [
    "# check execution time\n",
    "%timeit gcd3(137477,14160131)"
   ]
  },
  {
   "cell_type": "markdown",
   "metadata": {
    "colab_type": "text",
    "deletable": false,
    "editable": false,
    "id": "2esEG5BEabp-",
    "nbgrader": {
     "checksum": "ca45c236b25b755a4d29de833f983c25",
     "grade": false,
     "grade_id": "cell-5d6925a98855d8aa",
     "locked": true,
     "schema_version": 1,
     "solution": false
    }
   },
   "source": [
    "### Solution 4: Scan Backwards\n",
    "\n",
    "If we really only need the largest number, we can start from `min(m,n)` and work backwards. The first common factor we find will be the GCD."
   ]
  },
  {
   "cell_type": "markdown",
   "metadata": {
    "colab_type": "text",
    "deletable": false,
    "editable": false,
    "id": "Ng1JYM0Sabp_",
    "nbgrader": {
     "checksum": "d260439203a5b8bc9c198a02e71f9988",
     "grade": false,
     "grade_id": "cell-f777c7c49740e597",
     "locked": true,
     "schema_version": 1,
     "solution": false
    },
    "tags": [
     "Exercise-3"
    ]
   },
   "source": [
    "### Exercise 3: Implement  `gcd4`\n",
    "\n",
    "<b><div style=\"text-align: right\">[POINTS: 10]</div></b>\n",
    "\n",
    "**Task:**  Instead of going to min(m,n), to find the largest factor start from min(m,n) and move backwards."
   ]
  },
  {
   "cell_type": "code",
   "execution_count": 14,
   "metadata": {
    "colab": {},
    "colab_type": "code",
    "deletable": false,
    "id": "T0CGOj0xabp_",
    "nbgrader": {
     "checksum": "cc2cd533b485d2bc5a54d6379863cd8e",
     "grade": false,
     "grade_id": "cell-fceec228c9e76437",
     "locked": false,
     "schema_version": 1,
     "solution": true
    },
    "tags": [
     "Exercise-3"
    ]
   },
   "outputs": [
    {
     "name": "stdout",
     "output_type": "stream",
     "text": [
      "2\n",
      "1\n",
      "10\n"
     ]
    }
   ],
   "source": [
    "def gcd4(m,n):\n",
    "    # YOUR CODE HERE\n",
    "    gcf = 1\n",
    "    for i in range(min(m,n),1,-1):\n",
    "        if m % i ==0 and n % i==0:\n",
    "            gcf = i\n",
    "            break\n",
    "    return gcf\n",
    "print(gcd4(4,6))\n",
    "print(gcd4(3,5)) \n",
    "print(gcd4(40,70)) \n",
    "    "
   ]
  },
  {
   "cell_type": "code",
   "execution_count": 15,
   "metadata": {
    "colab": {},
    "colab_type": "code",
    "deletable": false,
    "editable": false,
    "id": "OhYF0kujabqG",
    "nbgrader": {
     "checksum": "57c80d7c0a7c49581b7b8b4c47100714",
     "grade": true,
     "grade_id": "cell-12bdd181ccf7d647",
     "locked": true,
     "points": 10,
     "schema_version": 1,
     "solution": false
    },
    "tags": [
     "Exercise-3"
    ]
   },
   "outputs": [],
   "source": [
    "### INTENTIONALLY LEFT BLANK\n"
   ]
  },
  {
   "cell_type": "code",
   "execution_count": 16,
   "metadata": {
    "colab": {},
    "colab_type": "code",
    "deletable": false,
    "editable": false,
    "id": "p-O-pLlgabqL",
    "nbgrader": {
     "checksum": "8fe743f2ebe07e5d30924ef079235a07",
     "grade": false,
     "grade_id": "cell-6160859fe686dbf5",
     "locked": true,
     "schema_version": 1,
     "solution": false
    },
    "tags": [
     "Exercise-3"
    ]
   },
   "outputs": [
    {
     "name": "stdout",
     "output_type": "stream",
     "text": [
      "708 ns ± 8.12 ns per loop (mean ± std. dev. of 7 runs, 1000000 loops each)\n"
     ]
    }
   ],
   "source": [
    "# check execution time\n",
    "%timeit gcd4(137477,14160131)"
   ]
  },
  {
   "cell_type": "markdown",
   "metadata": {
    "colab_type": "text",
    "deletable": false,
    "editable": false,
    "id": "ZllFaAivabqN",
    "nbgrader": {
     "checksum": "e223cb80ab70426d01b9304930c2a353",
     "grade": false,
     "grade_id": "cell-b2166bef5539fadf",
     "locked": true,
     "schema_version": 1,
     "solution": false
    }
   },
   "source": [
    "### Solution 5: Euclid's Algorithm: The Knight in Shining Armor\n",
    "\n",
    "**Euclid's Algorithm:** Consider GCD with m > n. If n divides m, return n. otherwise, compute gcd(n,m-n) and return that value. "
   ]
  },
  {
   "cell_type": "markdown",
   "metadata": {
    "colab_type": "text",
    "deletable": false,
    "editable": false,
    "id": "Nut9AZ3kabqN",
    "nbgrader": {
     "checksum": "2a0814d18d6208d3dbc7d3bbdc7666b4",
     "grade": false,
     "grade_id": "cell-29632549fb74d8bb",
     "locked": true,
     "schema_version": 1,
     "solution": false
    },
    "tags": [
     "Exercise-4"
    ]
   },
   "source": [
    "### Exercise 4: Implement  `gcd5`, Extended Euclid's Algorithm\n",
    "\n",
    "<b><div style=\"text-align: right\">[POINTS: 10]</div></b>\n",
    "\n",
    "**Task:**  The extended Euclid's ALgorithm is as follows:\n",
    "    1. if n is 0 return m\n",
    "    2. else return gcd(n,m%n)"
   ]
  },
  {
   "cell_type": "code",
   "execution_count": 20,
   "metadata": {
    "colab": {},
    "colab_type": "code",
    "deletable": false,
    "id": "AtIacotpabqO",
    "nbgrader": {
     "checksum": "7026aebe298b137b0fe5cbf60e25b3dd",
     "grade": false,
     "grade_id": "cell-2d3950c9f66f6f7a",
     "locked": false,
     "schema_version": 1,
     "solution": true
    },
    "tags": [
     "Exercise-4"
    ]
   },
   "outputs": [
    {
     "name": "stdout",
     "output_type": "stream",
     "text": [
      "2\n",
      "1\n",
      "10\n"
     ]
    }
   ],
   "source": [
    "def gcd5(m,n):\n",
    "    # YOUR CODE HERE\n",
    "    if   n==0:\n",
    "        return m\n",
    "    else:\n",
    "        return gcd5(n,m%n)\n",
    "\n",
    "print(gcd5(4,6))\n",
    "print(gcd5(3,5)) \n",
    "print(gcd5(40,70))   "
   ]
  },
  {
   "cell_type": "code",
   "execution_count": null,
   "metadata": {
    "colab": {},
    "colab_type": "code",
    "deletable": false,
    "editable": false,
    "id": "KaKkJENkabqQ",
    "nbgrader": {
     "checksum": "3ecbcdc8a216dde39a29579f5aba6d2b",
     "grade": true,
     "grade_id": "cell-f0d199018ed5b052",
     "locked": true,
     "points": 10,
     "schema_version": 1,
     "solution": false
    },
    "tags": [
     "Exercise-4"
    ]
   },
   "outputs": [],
   "source": [
    "### INTENTIONALLY LEFT BLANK\n"
   ]
  },
  {
   "cell_type": "code",
   "execution_count": 21,
   "metadata": {
    "colab": {},
    "colab_type": "code",
    "deletable": false,
    "editable": false,
    "id": "JwD1axNKabqU",
    "nbgrader": {
     "checksum": "a3c4a27a37b0f2f299083fe6b6adb59d",
     "grade": false,
     "grade_id": "cell-ecf6e1251893f1c7",
     "locked": true,
     "schema_version": 1,
     "solution": false
    },
    "tags": [
     "Exercise-4"
    ]
   },
   "outputs": [
    {
     "name": "stdout",
     "output_type": "stream",
     "text": [
      "365 ns ± 3.41 ns per loop (mean ± std. dev. of 7 runs, 1000000 loops each)\n"
     ]
    }
   ],
   "source": [
    "# check execution time\n",
    "%timeit gcd5(137477,14160131)"
   ]
  },
  {
   "cell_type": "code",
   "execution_count": null,
   "metadata": {
    "colab": {},
    "colab_type": "code",
    "deletable": false,
    "editable": false,
    "id": "ZrpW07PrabqY",
    "nbgrader": {
     "checksum": "5da4a475a869c619cd66514eafbd49f5",
     "grade": false,
     "grade_id": "cell-2b76a2b7f048994e",
     "locked": true,
     "schema_version": 1,
     "solution": false
    },
    "tags": [
     "Exercise-4"
    ]
   },
   "outputs": [],
   "source": [
    "class WrapperClass:\n",
    "    def __init__(self,m,n,f):\n",
    "        functions = {'gcd1':gcd1,'gcd2':gcd2,'gcd3':gcd3,'gcd4':gcd4,'gcd5':gcd5}\n",
    "        self.m = m\n",
    "        self.n =n\n",
    "        self.f = functions[f]\n",
    "        \n",
    "    def __call__(self):\n",
    "        self.f(self.m,self.n)  "
   ]
  },
  {
   "cell_type": "markdown",
   "metadata": {
    "colab_type": "text",
    "deletable": false,
    "editable": false,
    "id": "bvOBx2J7abqf",
    "nbgrader": {
     "checksum": "0b9ce6c4935c31d4f113ad11bab637d8",
     "grade": false,
     "grade_id": "cell-acd797f785dd0fd6",
     "locked": true,
     "schema_version": 1,
     "solution": false
    }
   },
   "source": [
    "## KNOW YOUR FOE\n",
    "#### List VS Numpy Arrays\n",
    "\n",
    "The aim of this assignment is to compare the execution time of serial and parallel implementation. Our goal is to find the multiplicative inverse of a vector. At fist, we will implement it the sequention way by using for loops. The we will use numpy arrays to do the same thing. Obviously, the numpy implementation will be much faster(about 1000x times) than the sequential implementation."
   ]
  },
  {
   "cell_type": "code",
   "execution_count": 4,
   "metadata": {
    "colab": {},
    "colab_type": "code",
    "deletable": false,
    "editable": false,
    "id": "1fPybu4cabqg",
    "nbgrader": {
     "checksum": "1cdc9a39ebe1eb2d4ef26ac1c60eb74b",
     "grade": false,
     "grade_id": "cell-d1c0a6c13b7f6816",
     "locked": true,
     "schema_version": 1,
     "solution": false
    }
   },
   "outputs": [],
   "source": [
    "import numpy as np"
   ]
  },
  {
   "cell_type": "code",
   "execution_count": 5,
   "metadata": {
    "colab": {},
    "colab_type": "code",
    "deletable": false,
    "editable": false,
    "id": "Q3CY7_3iabqq",
    "nbgrader": {
     "checksum": "0fa2912a3f513b703b1b095d529acf45",
     "grade": false,
     "grade_id": "cell-d7840615b5f10b8c",
     "locked": true,
     "schema_version": 1,
     "solution": false
    }
   },
   "outputs": [],
   "source": [
    "# multiply each component of the vector\n",
    "def multiply(vector, inverse):\n",
    "    output = np.empty(len(vector))  \n",
    "    for i in range(vector.shape[0]):\n",
    "        output[i] = vector[i] * inverse[i]\n",
    "    return output"
   ]
  },
  {
   "cell_type": "code",
   "execution_count": 6,
   "metadata": {
    "colab": {},
    "colab_type": "code",
    "deletable": false,
    "editable": false,
    "id": "QQ1tfBdTabqs",
    "nbgrader": {
     "checksum": "efbfd3ed3e9e366c9d72cbf43b756a0a",
     "grade": false,
     "grade_id": "cell-bdef95a1eac1a7fd",
     "locked": true,
     "schema_version": 1,
     "solution": false
    }
   },
   "outputs": [],
   "source": [
    "# computer the reciprocal of each component of the vector\n",
    "def compute_reciprocals(vector):\n",
    "    output = np.empty(len(vector))           \n",
    "    for i in range(len(vector)):               \n",
    "        output[i] = 1.0 / vector[i]           \n",
    "    return output"
   ]
  },
  {
   "cell_type": "code",
   "execution_count": 7,
   "metadata": {
    "colab": {},
    "colab_type": "code",
    "deletable": false,
    "editable": false,
    "id": "WIrBMkYGabqu",
    "nbgrader": {
     "checksum": "219361a6b237837a264e10509eeb0fca",
     "grade": false,
     "grade_id": "cell-a5f466499dee9bd5",
     "locked": true,
     "schema_version": 1,
     "solution": false
    }
   },
   "outputs": [],
   "source": [
    "# create a vector of random ints\n",
    "vector = np.random.randint(1, 100, size=10000) "
   ]
  },
  {
   "cell_type": "code",
   "execution_count": 8,
   "metadata": {
    "colab": {},
    "colab_type": "code",
    "deletable": false,
    "editable": false,
    "id": "NPlDmoerabqw",
    "nbgrader": {
     "checksum": "94e1b192ca454e5f60b72427ad9be7a4",
     "grade": false,
     "grade_id": "cell-023999ab7f13a9f8",
     "locked": true,
     "schema_version": 1,
     "solution": false
    }
   },
   "outputs": [],
   "source": [
    "# find multiplicative inverse\n",
    "mul_inv = multiply(vector,compute_reciprocals(vector)) "
   ]
  },
  {
   "cell_type": "code",
   "execution_count": 9,
   "metadata": {
    "colab": {},
    "colab_type": "code",
    "deletable": false,
    "editable": false,
    "id": "-kFB9MMLabqy",
    "nbgrader": {
     "checksum": "01db434112f011980679bc75a556795d",
     "grade": false,
     "grade_id": "cell-7d072d7de7d07a62",
     "locked": true,
     "schema_version": 1,
     "solution": false
    }
   },
   "outputs": [
    {
     "data": {
      "text/plain": [
       "True"
      ]
     },
     "execution_count": 9,
     "metadata": {},
     "output_type": "execute_result"
    }
   ],
   "source": [
    "# check if all components are one\n",
    "np.all((mul_inv.round() == np.ones(mul_inv.shape[0])))"
   ]
  },
  {
   "cell_type": "code",
   "execution_count": 10,
   "metadata": {
    "colab": {},
    "colab_type": "code",
    "deletable": false,
    "editable": false,
    "id": "30QmNKvKabq1",
    "nbgrader": {
     "checksum": "f29f7cbf887e5b6de9e8cb6e99dc7413",
     "grade": false,
     "grade_id": "cell-1b02f6ab9826a1a0",
     "locked": true,
     "schema_version": 1,
     "solution": false
    }
   },
   "outputs": [
    {
     "name": "stdout",
     "output_type": "stream",
     "text": [
      "56.5 ms ± 3.77 ms per loop (mean ± std. dev. of 7 runs, 10 loops each)\n"
     ]
    }
   ],
   "source": [
    "# check execution time\n",
    "%timeit multiply(vector,compute_reciprocals(vector))"
   ]
  },
  {
   "cell_type": "markdown",
   "metadata": {
    "colab_type": "text",
    "deletable": false,
    "editable": false,
    "id": "emQouQhZabq5",
    "nbgrader": {
     "checksum": "50c97cb74de9358932029f2c5f6cc12e",
     "grade": false,
     "grade_id": "cell-299940c3d8fdefcf",
     "locked": true,
     "schema_version": 1,
     "solution": false
    },
    "tags": [
     "Exercise-5"
    ]
   },
   "source": [
    "### Exercise 5: Parallel computation with numpy arrays\n",
    "\n",
    "<b><div style=\"text-align: right\">[POINTS: 10]</div></b>\n",
    "\n",
    "**Task:**  Find the multiplicative inverse using vectorized implementation. Store the result in a variable named `mul_inv_np`."
   ]
  },
  {
   "cell_type": "code",
   "execution_count": null,
   "metadata": {
    "colab": {},
    "colab_type": "code",
    "deletable": false,
    "id": "fsYVW7VCabq6",
    "nbgrader": {
     "checksum": "939d203915e2586fbcbd2650d98c4b3f",
     "grade": false,
     "grade_id": "cell-3958c21cfab8afd4",
     "locked": false,
     "schema_version": 1,
     "solution": true
    },
    "tags": [
     "Exercise-5"
    ]
   },
   "outputs": [],
   "source": [
    "mul_inv_np = None\n",
    "# YOUR CODE HERE\n",
    "raise NotImplementedError()"
   ]
  },
  {
   "cell_type": "code",
   "execution_count": null,
   "metadata": {
    "colab": {},
    "colab_type": "code",
    "deletable": false,
    "editable": false,
    "id": "SC-qPgHCabq7",
    "nbgrader": {
     "checksum": "5b1917dc85fc803b3420740bf258cd40",
     "grade": true,
     "grade_id": "cell-8db7f9cd3f94ddff",
     "locked": true,
     "points": 5,
     "schema_version": 1,
     "solution": false
    },
    "tags": [
     "Exercise-5"
    ]
   },
   "outputs": [],
   "source": [
    "### INTENTIONALLY LEFT BLANK"
   ]
  },
  {
   "cell_type": "code",
   "execution_count": null,
   "metadata": {},
   "outputs": [],
   "source": []
  }
 ],
 "metadata": {
  "colab": {
   "collapsed_sections": [],
   "name": "Assignment: Algorithmic Analysis.ipynb",
   "provenance": []
  },
  "kernelspec": {
   "display_name": "Python 3",
   "language": "python",
   "name": "python3"
  },
  "language_info": {
   "codemirror_mode": {
    "name": "ipython",
    "version": 3
   },
   "file_extension": ".py",
   "mimetype": "text/x-python",
   "name": "python",
   "nbconvert_exporter": "python",
   "pygments_lexer": "ipython3",
   "version": "3.6.8"
  }
 },
 "nbformat": 4,
 "nbformat_minor": 1
}
