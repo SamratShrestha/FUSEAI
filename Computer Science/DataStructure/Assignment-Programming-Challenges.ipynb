{
 "cells": [
  {
   "cell_type": "markdown",
   "metadata": {
    "colab_type": "text",
    "id": "NblcgsCvRylY"
   },
   "source": [
    "# Algorithmic Challenges\n",
    "\n",
    "<b><div style=\"text-align: right\">[TOTAL POINTS: 50]</div></b>\n",
    "\n",
    "In this assignment, we will explore some of challenges or problems that can be solved using basic algorithms and data scructures such as stack, queue and linked list."
   ]
  },
  {
   "cell_type": "markdown",
   "metadata": {
    "colab_type": "text",
    "id": "5ny-jzT6Ryla"
   },
   "source": [
    "## Problem 1: Balanced Parenthesis\n",
    "\n",
    "Stacks can be used to check whether the given expression has balanced symbols. This algorithm is very useful in compilers. Each time the parser parses one character at a time. If the character is an opening delimiter such as `(, [` or `{` then it is written to the stack. When a closing delimiter is encountered like `),]` or `}`, the stack is popped. \n",
    "The opening and closing delimeters are then compared. If they match, the parsing of the string continues. If they do not match, the parser indicates that there is an error on the line. A linear-time 0(n) algorithm based on stack can be given as:\n",
    "\n",
    "**Algorithm:** \n",
    "\n",
    "1. Create a stack. \n",
    "2. while (end of input is not reached):\n",
    "    1. If the character is an opening symbol like `(, [ , {` push it onto the stack. \n",
    "    2. If it is a closing symbol like `), ], }`, then if the stack is empty report an error. Otherwise pop the stack. \n",
    "    3. If the symbol popped is not the corresponding opening symbol, report an error. \n",
    "3. At end of input. if the stack is not empty report an error \n",
    "\n",
    "In python, you can use list as well as string operations. For list, you can use the `.append()` and `.pop()` method."
   ]
  },
  {
   "cell_type": "markdown",
   "metadata": {
    "colab_type": "text",
    "deletable": false,
    "editable": false,
    "id": "KdE_AVSCRylb",
    "nbgrader": {
     "checksum": "bf492739ef0d32279af65a52e12a8502",
     "grade": false,
     "grade_id": "cell-1b69d4da632d67ed",
     "locked": true,
     "schema_version": 1,
     "solution": false
    },
    "tags": [
     "Exercise-1"
    ]
   },
   "source": [
    "### Exercise 1: Check Balanced Parenthesis\n",
    "\n",
    "<b><div style=\"text-align: right\">[POINTS: 10]</div></b>\n",
    "\n",
    "**Task:** Implement an algorithm to check if an expression has balanced parenthesis.\n",
    "\n",
    "**Note** Name of the attributes **should** be `length` and `breadth`."
   ]
  },
  {
   "cell_type": "code",
   "execution_count": 1,
   "metadata": {
    "colab": {},
    "colab_type": "code",
    "deletable": false,
    "id": "tI8sahbzRyld",
    "nbgrader": {
     "checksum": "e841e7d796a567c9bd27d9001db502e4",
     "grade": false,
     "grade_id": "cell-21356d6c2a5c1527",
     "locked": false,
     "schema_version": 1,
     "solution": true
    },
    "tags": [
     "Exercise-1"
    ]
   },
   "outputs": [],
   "source": [
    "parent = {\n",
    "    '}' :'{',\n",
    "    ']':'[',\n",
    "    ')' :'('\n",
    "}\n",
    "\n",
    "def check_balanced_parenthesis(expression):\n",
    "    # YOUR CODE HERE\n",
    "    stack=[]\n",
    "    for symbol in expression:\n",
    "        if symbol in '({[':\n",
    "            stack.append(symbol)\n",
    "        else:\n",
    "            if len(stack) == 0:\n",
    "                return False\n",
    "            top_symbol = stack.pop()\n",
    "            if parent[symbol] != top_symbol:\n",
    "                return False\n",
    "    if len(stack) != 0:\n",
    "            return False\n",
    "    return True\n"
   ]
  },
  {
   "cell_type": "code",
   "execution_count": 2,
   "metadata": {
    "colab": {},
    "colab_type": "code",
    "deletable": false,
    "editable": false,
    "id": "HJgEKaQfRyli",
    "nbgrader": {
     "checksum": "d4ad5fced595dc55d0d039c75a5cf092",
     "grade": true,
     "grade_id": "cell-c967e01b8e918a4d",
     "locked": true,
     "points": 10,
     "schema_version": 1,
     "solution": false
    },
    "tags": [
     "Exercise-1"
    ]
   },
   "outputs": [],
   "source": [
    "assert check_balanced_parenthesis('{[()]}')\n",
    "assert check_balanced_parenthesis('([{}])')\n"
   ]
  },
  {
   "cell_type": "markdown",
   "metadata": {
    "colab_type": "text",
    "id": "FVL-VfwdRylm"
   },
   "source": [
    "## Queue: Down to Zero\n",
    "\n",
    "\n",
    "**Down To Zero:**\n",
    "\n",
    "Let us suppose you have $K$ element Array. Each element is a single integer number $N$. For each element you can perform any of the two operations:\n",
    "\n",
    "1: If $a$ and $b$ are two integers such that: $N = a \\times b$, where $a\\neq 1$ and $b\\neq 1$, replace $N$ by $\\text{max}(a,b)$\n",
    "\n",
    "2: Decrease the value of $N$ by 1, i.e. $N=N-1$\n",
    "\n",
    "You have to determine the minimum number of moves required to reduce the value of $N$ to $0$."
   ]
  },
  {
   "cell_type": "markdown",
   "metadata": {
    "colab_type": "text",
    "deletable": false,
    "editable": false,
    "id": "Bta2acPiRyln",
    "nbgrader": {
     "checksum": "e7c8432f78f9aad6f1508193286609c6",
     "grade": false,
     "grade_id": "cell-bdfb16a47fd501f0",
     "locked": true,
     "schema_version": 1,
     "solution": false
    },
    "tags": [
     "Exercise-2"
    ]
   },
   "source": [
    "### Exercise 2: Down to Zero Implementation\n",
    "\n",
    "<b><div style=\"text-align: right\">[POINTS: 20]</div></b>\n",
    "\n",
    "**Task:**\n",
    "\n",
    "- Create a class `DownToZero` that stores the list of minimum moves for each number corresponding to its index.\n",
    "\n",
    "- Create a method `best_factors` that can find the next value of $N$ according to operation (1). You can find the factors that will lead to least number of moves.\n",
    "\n",
    "- Create a function `minimum_steps` that can find the minimum number of moves using either operation (1) or (2).\n",
    "\n",
    "- Create a function `get_number_of_steps` that returns minimum number of moves required by given values of arrays\n",
    "\n",
    "**How to structure your code ?**\n",
    "\n",
    "- First, specify that the minimum number of moves is 0 for $N=0$ in a answer list.\n",
    "- Second, ranging from 1 to `max_range` find the minimum number of steps required to get to zero and add it to answer list.\n",
    "\n",
    "***Tips:*** Use previously found minimum number to find minimum number for larger numbers."
   ]
  },
  {
   "cell_type": "code",
   "execution_count": 3,
   "metadata": {
    "colab": {},
    "colab_type": "code",
    "deletable": false,
    "id": "jX6SMOlkRylo",
    "nbgrader": {
     "checksum": "7228c5027a3d36dc4564e873553ed126",
     "grade": false,
     "grade_id": "cell-4f7ae1b2f20d1923",
     "locked": false,
     "schema_version": 1,
     "solution": true
    },
    "tags": [
     "Exercise-2"
    ]
   },
   "outputs": [],
   "source": [
    "import math\n",
    "class DownToZero(object):\n",
    "    \n",
    "    def __init__(self,max_range = 1000):\n",
    "        self.max_range = max_range\n",
    "        self.data_list = [0,]\n",
    "        for i in range(1,self.max_range):\n",
    "            self.down_one_step(i)\n",
    "    \n",
    "    def best_factors(self,x):\n",
    "        factors = set()\n",
    "        for i in range(2, (x//2)+1):\n",
    "            if x%i == 0:\n",
    "                y = x//i\n",
    "                factors.add(max(i,y))\n",
    "        return min(factors)\n",
    "    \n",
    "    def down_one_step(self, value):\n",
    "        if value == 0: return 0\n",
    "        Q = [ (value,0) ]\n",
    "        setQ = [ 0 ] * value\n",
    "        while Q:\n",
    "            value, steps = Q.pop(0)\n",
    "            if value == 1: return steps+1\n",
    "            div = int(math.sqrt( value ))\n",
    "            while div > 1:\n",
    "                if value % div == 0 and not setQ[value // div]:\n",
    "                    Q.append( (value // div, steps+1) )\n",
    "                    setQ[ value // div ] = 1\n",
    "                div -= 1\n",
    "                \n",
    "            if not setQ[value-1]:\n",
    "                Q.append( (value-1, steps+1) )\n",
    "                setQ[ value-1 ] = 1\n",
    "    \n",
    "    def minimum_steps(self, value):\n",
    "        return self.down_on_step(value)\n",
    "        \n",
    "    \n",
    "    def get_number_of_steps(self, values:list):\n",
    "        answer = []\n",
    "        for i in values:\n",
    "            answer.append(self.down_one_step(i))\n",
    "        return answer\n"
   ]
  },
  {
   "cell_type": "code",
   "execution_count": 4,
   "metadata": {
    "colab": {},
    "colab_type": "code",
    "deletable": false,
    "editable": false,
    "id": "VmV0ePX8Ryls",
    "nbgrader": {
     "checksum": "251c7bc308343f4c2b4c59a77f34c8ef",
     "grade": true,
     "grade_id": "cell-ef38a5dbb5869d1a",
     "locked": true,
     "points": 20,
     "schema_version": 1,
     "solution": false
    },
    "tags": [
     "Exercise-2"
    ]
   },
   "outputs": [],
   "source": [
    "### INTENTIONALLY LEFT BLANK\n"
   ]
  },
  {
   "cell_type": "markdown",
   "metadata": {
    "colab_type": "text",
    "deletable": false,
    "editable": false,
    "id": "E6_WeRBvRylv",
    "nbgrader": {
     "checksum": "b80fd02741dff7f7f8fce44c0f2fda01",
     "grade": false,
     "grade_id": "cell-c420a244830ac51d",
     "locked": true,
     "schema_version": 1,
     "solution": false
    },
    "tags": [
     "Exercise-3"
    ]
   },
   "source": [
    "### Exercise 3: Doubly Linked List : Delete at an Arbitrary Index\n",
    "\n",
    "\n",
    "<b><div style=\"text-align: right\">[POINTS: 20]</div></b>\n",
    "\n",
    "**Task:**\n",
    "\n",
    "Doubly Linked List is a type of Linked List where we can traverse the nodes in each direction. We have previously written a `DoublyLinkedList` class with methods to `traverse`,`insert_at_beg`,`insert_at_end`, `insert_at_index`, `delete_at_beg`, `delete_at_end`, `delete_at_index` and `search`.\n",
    "\n",
    "Write a method for `DoublyLinkedList` class to delete element at given index, i.e. `delete_at_index`."
   ]
  },
  {
   "cell_type": "code",
   "execution_count": 5,
   "metadata": {
    "colab": {},
    "colab_type": "code",
    "deletable": false,
    "editable": false,
    "id": "43X_pM3KRylw",
    "nbgrader": {
     "checksum": "d81a539f421d0fe13de4ba7539d86fc9",
     "grade": false,
     "grade_id": "cell-a3d271b05a37e5cb",
     "locked": true,
     "schema_version": 1,
     "solution": false
    },
    "tags": [
     "Exercise-3"
    ]
   },
   "outputs": [],
   "source": [
    "class Node:\n",
    "    #initializer\n",
    "    def __init__(self,data = None):\n",
    "        self.data = data\n",
    "        self.next = None\n",
    "        self.prev = None\n",
    "    \n",
    "    def __str__(self):\n",
    "        return str(data)   "
   ]
  },
  {
   "cell_type": "code",
   "execution_count": 6,
   "metadata": {
    "colab": {},
    "colab_type": "code",
    "deletable": false,
    "id": "eZauWfQsRyl0",
    "nbgrader": {
     "checksum": "5df7ec05ca4e87d9789260c370f83067",
     "grade": false,
     "grade_id": "cell-483d4c597c29dcbb",
     "locked": false,
     "schema_version": 1,
     "solution": true
    },
    "tags": [
     "Exercise-3"
    ]
   },
   "outputs": [
    {
     "name": "stdout",
     "output_type": "stream",
     "text": [
      "5  \n",
      "10  \n"
     ]
    }
   ],
   "source": [
    "class DoublyLinkedList:\n",
    "    def __init__(self):\n",
    "        self.head = None\n",
    "\n",
    "    ############################Traverse#############################\n",
    "    def traverse(self):\n",
    "        if self.head is None:\n",
    "            print(\"The list is empty\")\n",
    "            return\n",
    "        else:\n",
    "            n = self.head\n",
    "            while n is not None:\n",
    "                print(n.data , \" \")\n",
    "                n = n.next\n",
    "\n",
    "    ############################INSERT#############################\n",
    "    def insert_at_beg(self, data):\n",
    "        new_node = Node(data)\n",
    "        if self.head is None:\n",
    "            self.head = new_node\n",
    "            return\n",
    "        new_node.next = self.head\n",
    "        self.head.prev = new_node\n",
    "        self.head = new_node\n",
    "\n",
    "\n",
    "    def insert_at_end(self, data):\n",
    "        new_node = Node(data)\n",
    "        if self.head is None:\n",
    "            self.head = new_node\n",
    "            return\n",
    "        n = self.head\n",
    "        while n.next is not None:\n",
    "            n = n.next\n",
    "        n.next = new_node\n",
    "        new_node.prev = n\n",
    "\n",
    "\n",
    "    def insert_at_index(self, index, data):\n",
    "        if index == 1:\n",
    "            #equivalent to inserting at beginning\n",
    "            new_node = Node(data)\n",
    "            if self.head is None:\n",
    "                self.head = new_node\n",
    "                return\n",
    "            new_node.next = self.head\n",
    "            self.head.prev = new_node\n",
    "            self.head = new_node\n",
    "\n",
    "        #traverse i=index nodes\n",
    "        i = 1\n",
    "        n = self.head\n",
    "        while i < index-1 and n is not None:\n",
    "            n = n.next\n",
    "            i += 1\n",
    "        if n is None:\n",
    "            print(\"Index out of bound\")\n",
    "        else:\n",
    "            new_node = Node(data)\n",
    "            new_node.next = n.next\n",
    "            new_node.prev = n\n",
    "            n.next = new_node\n",
    "\n",
    "    ############################INSERT#############################\n",
    "    ############################DELETE#############################\n",
    "    def delete_at_beg(self):\n",
    "        if self.head is None:\n",
    "            print(\"The list is empty\")\n",
    "            return\n",
    "        if self.head.next is None:\n",
    "            self.head = None\n",
    "            return\n",
    "        self.head = self.head.next\n",
    "        # update previous pointer of new head to None\n",
    "        self.head.prev = None\n",
    "\n",
    "\n",
    "    def delete_at_end(self):\n",
    "        if self.head is None:\n",
    "            print(\"The list is empty\")\n",
    "            return\n",
    "        if self.head.next is None:\n",
    "            self.head = None\n",
    "            return\n",
    "        n = self.head\n",
    "        while n.next is not None:\n",
    "            n = n.next\n",
    "        n.prev.next = None\n",
    "\n",
    "    ########## Delete at index -- the assignment ##################\n",
    "\n",
    "    def delete_at_index(self, index):\n",
    "        if self.head is None:\n",
    "            print(\"The list is empty\")\n",
    "            return\n",
    "        j = self.head\n",
    "        count = 1\n",
    "        while j.next is not None:\n",
    "            j = j.next\n",
    "            count += 1\n",
    "        if index < 0:\n",
    "            print(\"Enter a valid index\")\n",
    "            return\n",
    "        elif index == 0:\n",
    "            self.delete_at_beg()\n",
    "        elif index == count-1:\n",
    "            self.delete_at_end()\n",
    "        elif index < count:\n",
    "            n = self.head\n",
    "            i = 0\n",
    "            while i < index-1 and n is not None:\n",
    "                n = n.next\n",
    "                i += 1\n",
    "            if n is None:\n",
    "                print(\"Index out of bound\")\n",
    "            else:\n",
    "                n.next.next.prev = n\n",
    "                n.next = n.next.next\n",
    "        else:\n",
    "            print('Index out of bound')\n",
    "\n",
    "    ############################DELETE#############################\n",
    "    ############################SEARCH#############################\n",
    "\n",
    "    def search(self,data):\n",
    "        if self.head is None:\n",
    "            print(\"The list is empty\")\n",
    "            return\n",
    "        else:\n",
    "            n = self.head\n",
    "            index = 1\n",
    "            while n is not None:\n",
    "                if n.data == data:\n",
    "                    print(\"Data found at index \",index)\n",
    "                    return True\n",
    "                n = n.next\n",
    "                index += 1\n",
    "            print(\"Data not found\")\n",
    "            return False\n",
    "\n",
    "d = DoublyLinkedList()\n",
    "d.insert_at_beg(5)\n",
    "d.insert_at_end(51)\n",
    "d.insert_at_end(10)\n",
    "d.delete_at_index(1)\n",
    "d.traverse()\n"
   ]
  },
  {
   "cell_type": "code",
   "execution_count": 7,
   "metadata": {
    "colab": {},
    "colab_type": "code",
    "deletable": false,
    "editable": false,
    "id": "rq37SAU7Ryl3",
    "nbgrader": {
     "checksum": "13a93769dcc191a6a0bc4822124960c5",
     "grade": true,
     "grade_id": "cell-163569573de5a621",
     "locked": true,
     "points": 20,
     "schema_version": 1,
     "solution": false
    },
    "tags": [
     "Exercise-3"
    ]
   },
   "outputs": [],
   "source": [
    "### INTENTIONALLY LEFT BLANK\n"
   ]
  },
  {
   "cell_type": "code",
   "execution_count": null,
   "metadata": {
    "colab": {},
    "colab_type": "code",
    "id": "i9EF1u8JRyl7"
   },
   "outputs": [],
   "source": []
  }
 ],
 "metadata": {
  "colab": {
   "collapsed_sections": [],
   "name": "Assignment: Algorithmic-Challenges.ipynb",
   "provenance": []
  },
  "kernelspec": {
   "display_name": "Python 3",
   "language": "python",
   "name": "python3"
  },
  "language_info": {
   "codemirror_mode": {
    "name": "ipython",
    "version": 3
   },
   "file_extension": ".py",
   "mimetype": "text/x-python",
   "name": "python",
   "nbconvert_exporter": "python",
   "pygments_lexer": "ipython3",
   "version": "3.6.8"
  }
 },
 "nbformat": 4,
 "nbformat_minor": 1
}
