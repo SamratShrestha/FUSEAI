{
 "cells": [
  {
   "cell_type": "markdown",
   "metadata": {
    "colab_type": "text",
    "deletable": false,
    "editable": false,
    "id": "rYoBSUk-tB_-",
    "nbgrader": {
     "checksum": "2b261ac53bc4343f40badca65934e4c4",
     "grade": false,
     "grade_id": "cell-11a4f903070b41a5",
     "locked": true,
     "schema_version": 1,
     "solution": false
    }
   },
   "source": [
    "# Assignment 4.4 Similarity Measure Using Inversion\n",
    "\n",
    "<b><div style=\"text-align: right\">[POINTS: 40]</div></b>\n",
    "\n",
    "Merge sort uses divide and conquer algorithm for the purpose of sorting. But it can be used to count numbers of inversions during the process as well. \n",
    "\n",
    "When sorting using merge sort (or any other sort algorithm), you can put the array you want to obtain on top and the array that you wish to sort at the bottom and then connect all the items respectivly. The number of intersections obtained will be you number of inversions. \n",
    "\n",
    "![inversions](https://docs.google.com/drawings/d/e/2PACX-1vTRGZzWkisPxRhiTQJuMiMV9i1yvPiniJt74JOwdk0fzdMD5tMFsIF-Kdtge5nIqnafojcIHH8K07f_/pub?w=585&h=281)\n",
    "\n",
    "The number of inversions is the number of times elements of an array should be interchanged to be sorted. Hence, the number of inversions conducted during this process also signifies dissimilarity between these two arrays as how far (or close) the array is from being sorted. If an array is already sorted then number of inversions is 0 and if it is in reversed order, number of inversions is maximum i.e. `n*(n-1/2)`. For example, if our array is `[1,10,7,3,5]` then number of inversions will be 5. \n",
    "\n",
    "Now lets say you are given 10 items and you have to form an array using those items in such a way that the items have to be ordered in descending order according to your liking of the items. Your friend does the same. If you sort your friends array into your array and find number of inversions, you can evaluate dissimilarity between yours and your friend's choices.\n",
    "\n",
    "Note: Even though this might not be the most efficient way to compute dissimilarity, many applications have used this technique."
   ]
  },
  {
   "cell_type": "markdown",
   "metadata": {
    "colab_type": "text",
    "deletable": false,
    "editable": false,
    "id": "WGevBTcgtCAC",
    "nbgrader": {
     "checksum": "66ae2cbe4764ab3c46a23af0d2a0bd92",
     "grade": false,
     "grade_id": "cell-6b4e75cdc42c86da",
     "locked": true,
     "schema_version": 1,
     "solution": false
    },
    "tags": [
     "Exercise-1"
    ]
   },
   "source": [
    "### Exercise 1 : Merge Sort\n",
    "\n",
    "<b><div style=\"text-align: right\">[POINTS: 10]</div></b>\n",
    "\n",
    "Given below are two arrays: items sorted by you and your friend. \n",
    "\n",
    "**Task:** Compute the dissimilarity of these choices as number of inversions by implementing merge sort using the function `merge_sort()` that accepts source array and dictionary containing values of each item to represent order of sorting. This function should return number of inversions."
   ]
  },
  {
   "cell_type": "code",
   "execution_count": 1,
   "metadata": {
    "colab": {},
    "colab_type": "code",
    "deletable": false,
    "id": "lKA0PpiBtCAE",
    "nbgrader": {
     "checksum": "5c79ba1d08788bdaa3e0d586920a3447",
     "grade": false,
     "grade_id": "cell-15f1141fcb162d42",
     "locked": false,
     "schema_version": 1,
     "solution": true
    },
    "tags": [
     "Exercise-1"
    ]
   },
   "outputs": [],
   "source": [
    "your_choice=[\"apple\",\"cherry\",\"banana\",\"peanut\",\"lime\",\"pizza\",\"icecream\",\"guava\",\"donut\",\"cake\"]\n",
    "friend_choice=[\"apple\",\"banana\",\"guava\",\"cherry\",\"lime\",\"icecream\",\"peanut\",\"donut\",\"pizza\",\"cake\"]\n",
    "\n",
    "target_dict={}\n",
    "for index, item in enumerate(your_choice):\n",
    "    target_dict[item]=index\n",
    "    \n",
    "def merge_sort(source,td,num_inversions=0): ## re\n",
    "    '''\n",
    "        The source is the list of choices of our friend and the td(target dict) is our dict of choices with indices\n",
    "        \n",
    "    '''\n",
    "    if len(source) > 1:\n",
    "        mid = len(source)//2\n",
    "        left = source[:mid]\n",
    "        #print(left)\n",
    "        right = source[mid:]\n",
    "        \n",
    "        num_inversions = num_inversions + merge_sort(left, td)\n",
    "        num_inversions = num_inversions + merge_sort(right,td)\n",
    "        \n",
    "        #Merging function \n",
    "        i = j = k = 0\n",
    "        m, n = len(left), len(right)\n",
    "        \n",
    "        #Run the loop until the sum of indices of left and right becomes equal to the sum of their lengths\n",
    "        while i + j < m + n:\n",
    "            #When left is empty\n",
    "            if i == m:\n",
    "                source[k] = right[j]\n",
    "                j, k = j+1, k+1\n",
    "                \n",
    "            #When right is empty \n",
    "            elif j == n: \n",
    "                source[k] = left[i]\n",
    "                i, k = i+1, k+1\n",
    "                \n",
    "            #Left is smaller\n",
    "            elif td[left[i]] <= td[right[j]]:\n",
    "                source[k] = left[i]\n",
    "                i, k = i+1, k+1\n",
    "                \n",
    "            #Right is smaller\n",
    "            elif td[left[i]] > td[right[j]]:\n",
    "                # This is because if an element in the left is greater than the one in right\n",
    "                # Then all the elements next to it will also be greater than it\n",
    "                # Since the arrays are sorted\n",
    "                num_inversions += len(left)-i  \n",
    "                source[k] = right[j]\n",
    "                j, k = j+1, k+1\n",
    "                \n",
    "    return num_inversions"
   ]
  },
  {
   "cell_type": "code",
   "execution_count": 2,
   "metadata": {
    "colab": {},
    "colab_type": "code",
    "deletable": false,
    "editable": false,
    "id": "_p7QonAStCAK",
    "nbgrader": {
     "checksum": "cac03830d619e98a4fb41a740e0fd827",
     "grade": true,
     "grade_id": "cell-b9cab629d09a8da3",
     "locked": true,
     "points": 10,
     "schema_version": 1,
     "solution": false
    },
    "tags": [
     "Exercise-1"
    ]
   },
   "outputs": [],
   "source": [
    "assert(merge_sort([\"icecream\",\"peanut\",\"banana\",\"lime\",\"guava\",\"donut\",\"pizza\",\"cake\",\"apple\",\"cherry\"],target_dict)==23)\n",
    "assert(merge_sort([\"apple\",\"cherry\",\"banana\",\"peanut\",\"lime\",\"pizza\",\"icecream\",\"guava\",\"donut\",\"cake\"],target_dict)==0)\n"
   ]
  },
  {
   "cell_type": "markdown",
   "metadata": {
    "colab_type": "text",
    "deletable": false,
    "editable": false,
    "id": "6LtXu78ftCAP",
    "nbgrader": {
     "checksum": "a2b78ce74034172536ae94313897a4a5",
     "grade": false,
     "grade_id": "cell-8e9f7a0098d2323f",
     "locked": true,
     "schema_version": 1,
     "solution": false
    },
    "tags": [
     "Exercise-2"
    ]
   },
   "source": [
    "### Exercise 2 : Recommendation using Merge Sort\n",
    "<b><div style=\"text-align: right\">[POINTS: 10]</div></b>\n",
    "\n",
    "Consider that you are an owner of a website. You have maintained an array of items for each person to store their likeness of items in descending order. For a given person A, you need to find number of inversions for all your users, find user B with least number of inversions according to A, and recommend items bought or liked by B to A.\n",
    "\n",
    "Below is given choice of person A, and a dataset that consists of a list of list of items sorted by a person and items that he has bought. \n",
    "\n",
    "**Task:** Find the items that should be recommended to person A and store it in a list `recommended`. "
   ]
  },
  {
   "cell_type": "code",
   "execution_count": 3,
   "metadata": {
    "colab": {},
    "colab_type": "code",
    "deletable": false,
    "id": "cLwikzXBtCAQ",
    "nbgrader": {
     "checksum": "b6b98e6acc6f7b7bb7bb9ba6d6d755b5",
     "grade": false,
     "grade_id": "cell-735cd44c20bb48c3",
     "locked": false,
     "schema_version": 1,
     "solution": true
    },
    "outputId": "e541a234-1cf4-43e9-c1d4-c05cf5b70d14",
    "tags": [
     "Exercise-2"
    ]
   },
   "outputs": [],
   "source": [
    "person_choice=[\"apple\",\"banana\",\"guava\",\"cherry\",\"lime\",\"icecream\",\"peanut\",\"donut\",\"pizza\",\"cake\"]\n",
    "target_dict={}\n",
    "for index, item in enumerate(person_choice):\n",
    "    target_dict[item]=index\n",
    "dataset=[[['icecream', 'cake', 'donut', 'apple', 'peanut', 'guava', 'cherry', 'lime', 'banana', 'pizza'], ['tuna', 'fish']], [['guava', 'donut', 'pizza', 'peanut', 'lime', 'icecream', 'cake', 'apple', 'banana', 'cherry'], ['shrimp', 'tuna']], [['donut', 'cake', 'cherry', 'lime', 'banana', 'pizza', 'peanut', 'icecream', 'guava', 'apple'], ['rice', 'burger']], [['lime', 'pizza', 'peanut', 'donut', 'cherry', 'guava', 'apple', 'banana', 'cake', 'icecream'], ['rice', 'cheese']], [['icecream', 'guava', 'lime', 'cherry', 'donut', 'pizza', 'banana', 'apple', 'cake', 'peanut'], ['fish', 'bread']], [['cake', 'cherry', 'apple', 'guava', 'lime', 'pizza', 'donut', 'banana', 'icecream', 'peanut'], ['sandwich', 'steak']], [['pizza', 'peanut', 'icecream', 'guava', 'lime', 'donut', 'banana', 'cake', 'apple', 'cherry'], ['fish', 'rice']], [['banana', 'donut', 'cake', 'lime', 'icecream', 'pizza', 'guava', 'apple', 'peanut', 'cherry'], ['steak', 'bread']], [['banana', 'icecream', 'donut', 'apple', 'guava', 'peanut', 'cake', 'pizza', 'cherry', 'lime'], ['sandwich', 'bread']], [['pizza', 'guava', 'peanut', 'banana', 'cherry', 'icecream', 'donut', 'lime', 'cake', 'apple'], ['tuna', 'bread']], [['lime', 'cake', 'peanut', 'pizza', 'donut', 'guava', 'apple', 'cherry', 'icecream', 'banana'], ['sandwich', 'shrimp']], [['apple', 'donut', 'icecream', 'guava', 'lime', 'banana', 'peanut', 'pizza', 'cherry', 'cake'], ['rice', 'fish']], [['cherry', 'guava', 'pizza', 'lime', 'donut', 'apple', 'peanut', 'icecream', 'cake', 'banana'], ['bread', 'burger']], [['donut', 'lime', 'pizza', 'cake', 'banana', 'guava', 'cherry', 'peanut', 'icecream', 'apple'], ['sandwich', 'tuna']], [['cake', 'peanut', 'guava', 'apple', 'banana', 'lime', 'icecream', 'donut', 'pizza', 'cherry'], ['shrimp', 'steak']], [['guava', 'cherry', 'cake', 'peanut', 'donut', 'lime', 'pizza', 'banana', 'apple', 'icecream'], ['burger', 'tuna']], [['cherry', 'pizza', 'peanut', 'banana', 'apple', 'cake', 'icecream', 'lime', 'donut', 'guava'], ['burger', 'rice']], [['guava', 'donut', 'peanut', 'cherry', 'banana', 'cake', 'lime', 'icecream', 'apple', 'pizza'], ['steak', 'bread']], [['peanut', 'apple', 'lime', 'cake', 'banana', 'pizza', 'donut', 'icecream', 'cherry', 'guava'], ['cheese', 'tuna']], [['icecream', 'donut', 'apple', 'peanut', 'pizza', 'cake', 'guava', 'banana', 'cherry', 'lime'], ['steak', 'bread']], [['lime', 'guava', 'cake', 'donut', 'apple', 'peanut', 'banana', 'pizza', 'icecream', 'cherry'], ['burger', 'rice']], [['pizza', 'guava', 'icecream', 'banana', 'apple', 'donut', 'cherry', 'cake', 'lime', 'peanut'], ['steak', 'fish']], [['apple', 'pizza', 'banana', 'cherry', 'donut', 'peanut', 'icecream', 'cake', 'lime', 'guava'], ['rice', 'cheese']], [['icecream', 'guava', 'apple', 'donut', 'peanut', 'cherry', 'lime', 'pizza', 'banana', 'cake'], ['burger', 'sandwich']], [['lime', 'donut', 'icecream', 'peanut', 'banana', 'pizza', 'cake', 'guava', 'apple', 'cherry'], ['cheese', 'rice']], [['guava', 'banana', 'pizza', 'lime', 'peanut', 'apple', 'icecream', 'cherry', 'cake', 'donut'], ['sandwich', 'shrimp']], [['cake', 'apple', 'icecream', 'lime', 'banana', 'cherry', 'peanut', 'donut', 'guava', 'pizza'], ['sandwich', 'bread']], [['guava', 'pizza', 'donut', 'apple', 'icecream', 'lime', 'cake', 'peanut', 'banana', 'cherry'], ['fish', 'steak']], [['apple', 'banana', 'guava', 'donut', 'lime', 'peanut', 'icecream', 'cherry', 'pizza', 'cake'], ['fish', 'steak']], [['banana', 'guava', 'cherry', 'peanut', 'icecream', 'cake', 'lime', 'apple', 'donut', 'pizza'], ['cheese', 'bread']], [['icecream', 'guava', 'banana', 'cherry', 'pizza', 'lime', 'donut', 'cake', 'peanut', 'apple'], ['rice', 'sandwich']], [['banana', 'donut', 'cherry', 'guava', 'lime', 'peanut', 'apple', 'icecream', 'cake', 'pizza'], ['fish', 'bread']], [['donut', 'lime', 'cherry', 'cake', 'guava', 'pizza', 'apple', 'peanut', 'icecream', 'banana'], ['shrimp', 'rice']], [['icecream', 'peanut', 'lime', 'banana', 'cherry', 'apple', 'donut', 'cake', 'guava', 'pizza'], ['rice', 'steak']], [['banana', 'donut', 'apple', 'cake', 'lime', 'icecream', 'peanut', 'pizza', 'guava', 'cherry'], ['rice', 'shrimp']], [['pizza', 'lime', 'cake', 'guava', 'banana', 'peanut', 'icecream', 'cherry', 'apple', 'donut'], ['steak', 'bread']], [['peanut', 'cherry', 'banana', 'apple', 'icecream', 'donut', 'lime', 'pizza', 'cake', 'guava'], ['sandwich', 'steak']], [['pizza', 'lime', 'guava', 'cake', 'apple', 'peanut', 'donut', 'icecream', 'banana', 'cherry'], ['shrimp', 'tuna']], [['guava', 'cherry', 'apple', 'icecream', 'peanut', 'donut', 'pizza', 'cake', 'banana', 'lime'], ['sandwich', 'burger']], [['guava', 'icecream', 'lime', 'banana', 'apple', 'pizza', 'peanut', 'donut', 'cake', 'cherry'], ['steak', 'bread']], [['pizza', 'apple', 'icecream', 'peanut', 'banana', 'donut', 'cake', 'guava', 'cherry', 'lime'], ['bread', 'shrimp']], [['cherry', 'lime', 'apple', 'pizza', 'donut', 'guava', 'banana', 'cake', 'peanut', 'icecream'], ['shrimp', 'rice']], [['banana', 'pizza', 'apple', 'lime', 'peanut', 'guava', 'icecream', 'cake', 'donut', 'cherry'], ['shrimp', 'rice']], [['lime', 'cake', 'pizza', 'banana', 'apple', 'icecream', 'donut', 'peanut', 'guava', 'cherry'], ['cheese', 'steak']], [['lime', 'peanut', 'icecream', 'cherry', 'pizza', 'banana', 'donut', 'apple', 'guava', 'cake'], ['rice', 'sandwich']], [['guava', 'pizza', 'lime', 'peanut', 'donut', 'cake', 'cherry', 'apple', 'banana', 'icecream'], ['sandwich', 'fish']], [['cake', 'guava', 'peanut', 'donut', 'apple', 'cherry', 'banana', 'icecream', 'lime', 'pizza'], ['steak', 'fish']], [['donut', 'peanut', 'banana', 'pizza', 'icecream', 'lime', 'cherry', 'cake', 'guava', 'apple'], ['shrimp', 'burger']], [['lime', 'donut', 'pizza', 'banana', 'cake', 'apple', 'cherry', 'guava', 'peanut', 'icecream'], ['rice', 'burger']], [['cherry', 'peanut', 'banana', 'lime', 'guava', 'apple', 'cake', 'pizza', 'icecream', 'donut'], ['sandwich', 'shrimp']]]\n",
    "\n",
    "recommended =None\n",
    "inversion_list = []\n",
    "for r in dataset:\n",
    "    inversion_list.append(merge_sort(r[0],target_dict))\n",
    "    \n",
    "least_inversion = min(inversion_list)\n",
    "recommended = dataset[inversion_list.index(least_inversion)][1]\n"
   ]
  },
  {
   "cell_type": "code",
   "execution_count": 4,
   "metadata": {
    "colab": {},
    "colab_type": "code",
    "deletable": false,
    "editable": false,
    "id": "0djkdw-wtCAV",
    "nbgrader": {
     "checksum": "011e460899e38e03fd3efafdae558437",
     "grade": true,
     "grade_id": "cell-2662f8d71a351668",
     "locked": true,
     "points": 10,
     "schema_version": 1,
     "solution": false
    },
    "tags": [
     "Exercise-2"
    ]
   },
   "outputs": [],
   "source": [
    "assert recommended is not None"
   ]
  },
  {
   "cell_type": "markdown",
   "metadata": {
    "colab_type": "text",
    "deletable": false,
    "editable": false,
    "id": "wITiRroWtCAZ",
    "nbgrader": {
     "checksum": "dc8fedd58f420b02382797bca46f7e17",
     "grade": false,
     "grade_id": "cell-98c51aaaea48c3c8",
     "locked": true,
     "schema_version": 1,
     "solution": false
    },
    "tags": [
     "Exercise-3"
    ]
   },
   "source": [
    "### Exercise 3 : Sorting Dataset According to Number of Inversions\n",
    "<b><div style=\"text-align: right\">[POINTS: 10]</div></b>\n",
    "\n",
    "**Task:** Add the value of number of inversions at first position in each row of the dataset, sort the dataset items in ascending order of number of inversions and store the result in variable `sorted_dataset`. Use any of the sort algorithms.\n",
    "\n",
    "Note: If two items have same number of inversions, order them in lexicographical order."
   ]
  },
  {
   "cell_type": "code",
   "execution_count": 5,
   "metadata": {
    "colab": {},
    "colab_type": "code",
    "deletable": false,
    "id": "lu7-bX9ctCAa",
    "nbgrader": {
     "checksum": "595a79c932886d8be49f0da5b19611cf",
     "grade": false,
     "grade_id": "cell-f56ee68cc04337a5",
     "locked": false,
     "schema_version": 1,
     "solution": true
    },
    "tags": [
     "Exercise-3"
    ]
   },
   "outputs": [],
   "source": [
    "person_choice=[\"apple\",\"banana\",\"guava\",\"cherry\",\"lime\",\"icecream\",\"peanut\",\"donut\",\"pizza\",\"cake\"]\n",
    "dataset=[[['icecream', 'cake', 'donut', 'apple', 'peanut', 'guava', 'cherry', 'lime', 'banana', 'pizza'], ['tuna', 'fish']], [['guava', 'donut', 'pizza', 'peanut', 'lime', 'icecream', 'cake', 'apple', 'banana', 'cherry'], ['shrimp', 'tuna']], [['donut', 'cake', 'cherry', 'lime', 'banana', 'pizza', 'peanut', 'icecream', 'guava', 'apple'], ['rice', 'burger']], [['lime', 'pizza', 'peanut', 'donut', 'cherry', 'guava', 'apple', 'banana', 'cake', 'icecream'], ['rice', 'cheese']], [['icecream', 'guava', 'lime', 'cherry', 'donut', 'pizza', 'banana', 'apple', 'cake', 'peanut'], ['fish', 'bread']], [['cake', 'cherry', 'apple', 'guava', 'lime', 'pizza', 'donut', 'banana', 'icecream', 'peanut'], ['sandwich', 'steak']], [['pizza', 'peanut', 'icecream', 'guava', 'lime', 'donut', 'banana', 'cake', 'apple', 'cherry'], ['fish', 'rice']], [['banana', 'donut', 'cake', 'lime', 'icecream', 'pizza', 'guava', 'apple', 'peanut', 'cherry'], ['steak', 'bread']], [['banana', 'icecream', 'donut', 'apple', 'guava', 'peanut', 'cake', 'pizza', 'cherry', 'lime'], ['sandwich', 'bread']], [['pizza', 'guava', 'peanut', 'banana', 'cherry', 'icecream', 'donut', 'lime', 'cake', 'apple'], ['tuna', 'bread']], [['lime', 'cake', 'peanut', 'pizza', 'donut', 'guava', 'apple', 'cherry', 'icecream', 'banana'], ['sandwich', 'shrimp']], [['apple', 'donut', 'icecream', 'guava', 'lime', 'banana', 'peanut', 'pizza', 'cherry', 'cake'], ['rice', 'fish']], [['cherry', 'guava', 'pizza', 'lime', 'donut', 'apple', 'peanut', 'icecream', 'cake', 'banana'], ['bread', 'burger']], [['donut', 'lime', 'pizza', 'cake', 'banana', 'guava', 'cherry', 'peanut', 'icecream', 'apple'], ['sandwich', 'tuna']], [['cake', 'peanut', 'guava', 'apple', 'banana', 'lime', 'icecream', 'donut', 'pizza', 'cherry'], ['shrimp', 'steak']], [['guava', 'cherry', 'cake', 'peanut', 'donut', 'lime', 'pizza', 'banana', 'apple', 'icecream'], ['burger', 'tuna']], [['cherry', 'pizza', 'peanut', 'banana', 'apple', 'cake', 'icecream', 'lime', 'donut', 'guava'], ['burger', 'rice']], [['guava', 'donut', 'peanut', 'cherry', 'banana', 'cake', 'lime', 'icecream', 'apple', 'pizza'], ['steak', 'bread']], [['peanut', 'apple', 'lime', 'cake', 'banana', 'pizza', 'donut', 'icecream', 'cherry', 'guava'], ['cheese', 'tuna']], [['icecream', 'donut', 'apple', 'peanut', 'pizza', 'cake', 'guava', 'banana', 'cherry', 'lime'], ['steak', 'bread']], [['lime', 'guava', 'cake', 'donut', 'apple', 'peanut', 'banana', 'pizza', 'icecream', 'cherry'], ['burger', 'rice']], [['pizza', 'guava', 'icecream', 'banana', 'apple', 'donut', 'cherry', 'cake', 'lime', 'peanut'], ['steak', 'fish']], [['apple', 'pizza', 'banana', 'cherry', 'donut', 'peanut', 'icecream', 'cake', 'lime', 'guava'], ['rice', 'cheese']], [['icecream', 'guava', 'apple', 'donut', 'peanut', 'cherry', 'lime', 'pizza', 'banana', 'cake'], ['burger', 'sandwich']], [['lime', 'donut', 'icecream', 'peanut', 'banana', 'pizza', 'cake', 'guava', 'apple', 'cherry'], ['cheese', 'rice']], [['guava', 'banana', 'pizza', 'lime', 'peanut', 'apple', 'icecream', 'cherry', 'cake', 'donut'], ['sandwich', 'shrimp']], [['cake', 'apple', 'icecream', 'lime', 'banana', 'cherry', 'peanut', 'donut', 'guava', 'pizza'], ['sandwich', 'bread']], [['guava', 'pizza', 'donut', 'apple', 'icecream', 'lime', 'cake', 'peanut', 'banana', 'cherry'], ['fish', 'steak']], [['apple', 'banana', 'guava', 'donut', 'lime', 'peanut', 'icecream', 'cherry', 'pizza', 'cake'], ['fish', 'steak']], [['banana', 'guava', 'cherry', 'peanut', 'icecream', 'cake', 'lime', 'apple', 'donut', 'pizza'], ['cheese', 'bread']], [['icecream', 'guava', 'banana', 'cherry', 'pizza', 'lime', 'donut', 'cake', 'peanut', 'apple'], ['rice', 'sandwich']], [['banana', 'donut', 'cherry', 'guava', 'lime', 'peanut', 'apple', 'icecream', 'cake', 'pizza'], ['fish', 'bread']], [['donut', 'lime', 'cherry', 'cake', 'guava', 'pizza', 'apple', 'peanut', 'icecream', 'banana'], ['shrimp', 'rice']], [['icecream', 'peanut', 'lime', 'banana', 'cherry', 'apple', 'donut', 'cake', 'guava', 'pizza'], ['rice', 'steak']], [['banana', 'donut', 'apple', 'cake', 'lime', 'icecream', 'peanut', 'pizza', 'guava', 'cherry'], ['rice', 'shrimp']], [['pizza', 'lime', 'cake', 'guava', 'banana', 'peanut', 'icecream', 'cherry', 'apple', 'donut'], ['steak', 'bread']], [['peanut', 'cherry', 'banana', 'apple', 'icecream', 'donut', 'lime', 'pizza', 'cake', 'guava'], ['sandwich', 'steak']], [['pizza', 'lime', 'guava', 'cake', 'apple', 'peanut', 'donut', 'icecream', 'banana', 'cherry'], ['shrimp', 'tuna']], [['guava', 'cherry', 'apple', 'icecream', 'peanut', 'donut', 'pizza', 'cake', 'banana', 'lime'], ['sandwich', 'burger']], [['guava', 'icecream', 'lime', 'banana', 'apple', 'pizza', 'peanut', 'donut', 'cake', 'cherry'], ['steak', 'bread']], [['pizza', 'apple', 'icecream', 'peanut', 'banana', 'donut', 'cake', 'guava', 'cherry', 'lime'], ['bread', 'shrimp']], [['cherry', 'lime', 'apple', 'pizza', 'donut', 'guava', 'banana', 'cake', 'peanut', 'icecream'], ['shrimp', 'rice']], [['banana', 'pizza', 'apple', 'lime', 'peanut', 'guava', 'icecream', 'cake', 'donut', 'cherry'], ['shrimp', 'rice']], [['lime', 'cake', 'pizza', 'banana', 'apple', 'icecream', 'donut', 'peanut', 'guava', 'cherry'], ['cheese', 'steak']], [['lime', 'peanut', 'icecream', 'cherry', 'pizza', 'banana', 'donut', 'apple', 'guava', 'cake'], ['rice', 'sandwich']], [['guava', 'pizza', 'lime', 'peanut', 'donut', 'cake', 'cherry', 'apple', 'banana', 'icecream'], ['sandwich', 'fish']], [['cake', 'guava', 'peanut', 'donut', 'apple', 'cherry', 'banana', 'icecream', 'lime', 'pizza'], ['steak', 'fish']], [['donut', 'peanut', 'banana', 'pizza', 'icecream', 'lime', 'cherry', 'cake', 'guava', 'apple'], ['shrimp', 'burger']], [['lime', 'donut', 'pizza', 'banana', 'cake', 'apple', 'cherry', 'guava', 'peanut', 'icecream'], ['rice', 'burger']], [['cherry', 'peanut', 'banana', 'lime', 'guava', 'apple', 'cake', 'pizza', 'icecream', 'donut'], ['sandwich', 'shrimp']]]\n",
    "\n",
    "new_dataset = dataset\n",
    "i = 0\n",
    "for row in new_dataset:\n",
    "    row.insert(0, inversion_list[i])\n",
    "    i += 1\n",
    "    \n",
    "new_dataset.sort() \n",
    "sorted_dataset = new_dataset"
   ]
  },
  {
   "cell_type": "code",
   "execution_count": 6,
   "metadata": {
    "colab": {},
    "colab_type": "code",
    "deletable": false,
    "editable": false,
    "id": "7A72NEVMtCAd",
    "nbgrader": {
     "checksum": "736d1d70484f21d1d2b4e8733dfc2edc",
     "grade": true,
     "grade_id": "cell-93aab7b66f928688",
     "locked": true,
     "points": 10,
     "schema_version": 1,
     "solution": false
    },
    "tags": [
     "Exercise-3"
    ]
   },
   "outputs": [],
   "source": [
    "assert sorted_dataset is not None"
   ]
  },
  {
   "cell_type": "markdown",
   "metadata": {
    "colab_type": "text",
    "deletable": false,
    "editable": false,
    "id": "JeP4CBYYtCAg",
    "nbgrader": {
     "checksum": "3b07211be64fb03dad07d4a7773e19fd",
     "grade": false,
     "grade_id": "cell-48e29d65dbd4cc3d",
     "locked": true,
     "schema_version": 1,
     "solution": false
    },
    "tags": [
     "Exercise-4"
    ]
   },
   "source": [
    "### Exercise 4 : Binary Search\n",
    "<b><div style=\"text-align: right\">[POINTS: 10]</div></b>\n",
    "\n",
    "Often you will need to find an item for given number of inversions. Search will be faster if you implement binary search on the sorted dataset than using linear search. \n",
    "\n",
    "**Task:** Write a function `binary_search()` that takes the sorted dataset, lowest index to search for, highest index to search for and value of number of inversions to search index at which item having `n` inversions for person A lies. Also return the corresponding items bought by that person and total steps involved during the search.\n",
    "\n",
    "Note: use `mid = left + (right - l)//2` to find the location of mid value. Also since there exists same number of inversions for different items, tests will be conducted only for unique values."
   ]
  },
  {
   "cell_type": "code",
   "execution_count": 7,
   "metadata": {
    "colab": {},
    "colab_type": "code",
    "deletable": false,
    "id": "eeqAbIiDtCAg",
    "nbgrader": {
     "checksum": "d856030f60e0391e6e5966501287de79",
     "grade": false,
     "grade_id": "cell-17f6e912e8c36a55",
     "locked": false,
     "schema_version": 1,
     "solution": true
    },
    "tags": [
     "Exercise-4"
    ]
   },
   "outputs": [
    {
     "data": {
      "text/plain": [
       "(0, ['fish', 'steak'], 5)"
      ]
     },
     "execution_count": 7,
     "metadata": {},
     "output_type": "execute_result"
    }
   ],
   "source": [
    "def binary_search(arr, left, right, n): \n",
    "    count = 0\n",
    "    while left <= right:\n",
    "        count = count + 1\n",
    "        mid = left + (right - left)//2;\n",
    "        if arr[mid][0] == n:\n",
    "            return mid, arr[mid][2], count\n",
    "        elif arr[mid][0] < n:\n",
    "            left = mid + 1\n",
    "        else:\n",
    "            right = mid -1   \n",
    "    return -1\n",
    "binary_search(sorted_dataset, 0,len(sorted_dataset)-1, 8)"
   ]
  },
  {
   "cell_type": "code",
   "execution_count": 8,
   "metadata": {
    "colab": {},
    "colab_type": "code",
    "deletable": false,
    "editable": false,
    "id": "huONXjKstCAj",
    "nbgrader": {
     "checksum": "97212187a238cb101c62b551fafc4e12",
     "grade": true,
     "grade_id": "cell-f013f58677f5d9b7",
     "locked": true,
     "points": 10,
     "schema_version": 1,
     "solution": false
    },
    "tags": [
     "Exercise-4"
    ]
   },
   "outputs": [],
   "source": [
    "assert (binary_search(sorted_dataset, 0,len(sorted_dataset)-1, 8)==(0, ['fish', 'steak'], 5))"
   ]
  },
  {
   "cell_type": "code",
   "execution_count": null,
   "metadata": {},
   "outputs": [],
   "source": []
  }
 ],
 "metadata": {
  "colab": {
   "name": "4.4 Similarity Measure Using Inversion.ipynb",
   "provenance": []
  },
  "kernelspec": {
   "display_name": "Python 3",
   "language": "python",
   "name": "python3"
  },
  "language_info": {
   "codemirror_mode": {
    "name": "ipython",
    "version": 3
   },
   "file_extension": ".py",
   "mimetype": "text/x-python",
   "name": "python",
   "nbconvert_exporter": "python",
   "pygments_lexer": "ipython3",
   "version": "3.6.8"
  }
 },
 "nbformat": 4,
 "nbformat_minor": 1
}
