{
 "cells": [
  {
   "cell_type": "markdown",
   "metadata": {
    "colab_type": "text",
    "deletable": false,
    "editable": false,
    "id": "kN4SP2wLTXye",
    "nbgrader": {
     "checksum": "900da4d4eb2d41bf45e1582fcee216d3",
     "grade": false,
     "grade_id": "cell-32d7123683a7e9a9",
     "locked": true,
     "schema_version": 1,
     "solution": false
    }
   },
   "source": [
    "# 8-puzzle\n",
    "**<div style=\"text-align: right\"> [Total score: 75]</div>**\n",
    "N-Puzzle or sliding puzzle is a popular puzzle that consists of N tiles where N can be 8, 15, 24 and so on. In our example N = 8. The puzzle is divided into sqrt(N+1) rows and sqrt(N+1) columns. Eg. 15-Puzzle will have 4 rows and 4 columns and an 8-Puzzle will have 3 rows and 3 columns. The puzzle consists of N tiles and one empty space where the tiles can be moved. Start and Goal configurations (also called state) of the puzzle are provided. The puzzle can be solved by moving the tiles one by one in the single empty space and thus achieving the Goal configuration.\n",
    "\n",
    "![8+puzzle](https://docs.google.com/drawings/d/e/2PACX-1vT15wXMNqd2zIfnf2CIS73dd3_zKu1wXVgHE8uaOLDNNF-j04reoX37GR8q71F9NwD94pzaZYjkbuSD/pub?w=344&h=158)\n"
   ]
  },
  {
   "cell_type": "markdown",
   "metadata": {
    "colab_type": "text",
    "deletable": false,
    "editable": false,
    "id": "cFhGkvMNTX18",
    "nbgrader": {
     "checksum": "6c0d74b9b81df1196a38b9f6a7a0b9f4",
     "grade": false,
     "grade_id": "cell-deae934a142854b9",
     "locked": true,
     "schema_version": 1,
     "solution": false
    }
   },
   "source": [
    "In this project, you will need to solve the 8-puzzle using BFS, DFS and A star algorithm.\n",
    "As an example, in the figure above, the initial state is `[1,8,2,0,4,3,7,6,5]`. We need to obtain `[0,1,2,3,4,5,6,7,8]` in the final state.\n",
    "\n",
    "Suppose if the initial state is `[3,1,2,0,4,5,6,7,8]`\n",
    "\n",
    "The path followed by all BFS, DFS and A-star to reach the goal state is `['Up']`.\n",
    "\n",
    "You will need to return the path in each of the exercises. The path returned should be in the format: `['Up', 'Down', 'Right', 'Left', 'Up', 'Left']` i.e. you are required to use first letter as Capital for each action and return the actions in a list. Also note that whenever an arbitary choice has to be made we choose the next node in UDLR (Up, Down, Left, Right) order.\n",
    "\n",
    "**You also need to test whether a node is goal state or not only after the node has been popped from the frontier. Otherwise your answer may deviate. Also, only push those nodes to frontier which has not been yet added to the frontier (and hence explored)\".**\n",
    "\n",
    "A class has been constructed to represent the puzzle as below.\n"
   ]
  },
  {
   "cell_type": "code",
   "execution_count": null,
   "metadata": {
    "colab": {},
    "colab_type": "code",
    "deletable": false,
    "editable": false,
    "id": "T_Ew5tx1sPgJ",
    "nbgrader": {
     "checksum": "585489456a1bd135571ccf89d2a953cb",
     "grade": false,
     "grade_id": "cell-13c932d711fc9d23",
     "locked": true,
     "schema_version": 1,
     "solution": false
    }
   },
   "outputs": [],
   "source": [
    "import sys\n",
    "import math\n",
    "import resource\n",
    "\n",
    "import numpy as np\n",
    "\n",
    "## A Class to represent 8 puzzle.\n",
    "class PuzzleBoard:\n",
    "\n",
    "    def __init__(self, puzzle_state, parent=None, state=\"Initial\"):\n",
    "        self.parent = parent\n",
    "        self.children = []\n",
    "        self.puzzle_state = np.array(puzzle_state)\n",
    "        self.column_size = int(math.sqrt(len(puzzle_state)))\n",
    "        self.state = state\n",
    "        self.depth = 0 if parent is None else parent.depth + 1\n",
    "        self.cost = self.depth + self.get_manhattan_distance\n",
    "    \n",
    "    # Comparing two nodes according to estimated cost and UDLR order if two nodes have same cost.\n",
    "    def __lt__(self, other):\n",
    "        if self.cost != other.cost:\n",
    "            return self.cost < other.cost\n",
    "        else:\n",
    "            op = {'Up': 0, 'Down': 1, 'Left': 2, 'Right': 3}\n",
    "            return op[self.state] < op[other.state]\n",
    "\n",
    "    @property\n",
    "    def goal_test(self):\n",
    "        if np.array_equal(self.puzzle_state, np.arange(9)):\n",
    "            return True\n",
    "\n",
    "    @property\n",
    "    def get_manhattan_distance(self):\n",
    "        for index, number in enumerate(self.puzzle_state):\n",
    "            return abs(index // 3 - number // 3) + abs(index % 3 - number % 3)\n",
    "\n",
    "    def move_up(self, i):\n",
    "        if i - self.column_size >= 0:\n",
    "            puzzle_new, parent = self.swap(i, i - 3)\n",
    "            return PuzzleBoard(puzzle_new, parent, state='Up')\n",
    "\n",
    "    def move_down(self, i):\n",
    "        if i + self.column_size <= len(self.puzzle_state) - 1:\n",
    "            puzzle_new, parent = self.swap(i, i + 3)\n",
    "            return PuzzleBoard(puzzle_new, parent, state='Down')\n",
    "\n",
    "    def move_left(self, i):\n",
    "        if i % self.column_size > 0:\n",
    "            puzzle_new, parent = self.swap(i, i - 1)\n",
    "            return PuzzleBoard(puzzle_new, parent, state='Left')\n",
    "\n",
    "    def move_right(self, i):\n",
    "        if i % self.column_size < self.column_size - 1:\n",
    "            puzzle_new, parent = self.swap(i, i + 1)\n",
    "            return PuzzleBoard(puzzle_new, parent, state='Right')\n",
    "\n",
    "    def swap(self, index_one, index_two):\n",
    "        puzzle_new = self.puzzle_state.copy()\n",
    "        puzzle_new[index_one], puzzle_new[index_two] = puzzle_new[index_two], puzzle_new[index_one]\n",
    "        return puzzle_new, self\n",
    "\n",
    "    @property\n",
    "    def print_puzzle(self):\n",
    "        m = 0\n",
    "        while (m < 9):\n",
    "            print()\n",
    "            print(str(self.puzzle_state[m]) +\n",
    "                  ' ' +\n",
    "                  str(self.puzzle_state[m +\n",
    "                                        1]) +\n",
    "                  ' ' +\n",
    "                  str(self.puzzle_state[m +\n",
    "                                        2]))\n",
    "            m += 3\n",
    "        print()\n",
    "    \n",
    "    # Expanding a node.\n",
    "    @property\n",
    "    def expand(self):\n",
    "        x = list(self.puzzle_state).index(0)\n",
    "        self.children.append(self.move_up(x))\n",
    "        self.children.append(self.move_down(x))\n",
    "        self.children.append(self.move_left(x))\n",
    "        self.children.append(self.move_right(x))\n",
    "        self.children = list(filter(None, self.children))\n",
    "        return self.children"
   ]
  },
  {
   "cell_type": "markdown",
   "metadata": {
    "colab_type": "text",
    "deletable": false,
    "editable": false,
    "id": "bcnjPcucTX3T",
    "nbgrader": {
     "checksum": "749603d9bb440ef3ca31d645a84f02d5",
     "grade": false,
     "grade_id": "cell-d47cf0d66ea2ae85",
     "locked": true,
     "schema_version": 1,
     "solution": false
    },
    "tags": [
     "Exercise-1"
    ]
   },
   "source": [
    "## Exercise 1: Breadth First Search  \n",
    "**<div style=\"text-align: right\"> [Score: 25]</div>**\n",
    "\n",
    "**Task:** Find the path followed by BFS to reach the goal state.\n",
    "\n",
    "Note: Your function should take an instance of class PuzzleBoard as input and return path followed by bfs search and number of nodes expanded during the search. "
   ]
  },
  {
   "cell_type": "code",
   "execution_count": null,
   "metadata": {
    "colab": {},
    "colab_type": "code",
    "deletable": false,
    "id": "r5n-n7adZ7HX",
    "nbgrader": {
     "checksum": "3041e285578fd0000c6034f9efbb44fd",
     "grade": false,
     "grade_id": "cell-ae0d3b8c5f21e38f",
     "locked": false,
     "schema_version": 1,
     "solution": true
    },
    "tags": [
     "Exercise-1"
    ]
   },
   "outputs": [],
   "source": [
    "from collections import deque\n",
    "\n",
    "puzzle_state = [3, 1, 2, 0, 4, 5, 6, 7, 8]\n",
    "puzzle_board = PuzzleBoard(puzzle_state)\n",
    "\n",
    "def bfs(puzzle_board):\n",
    "    soln = None\n",
    "    path = None\n",
    "    nodes_expanded = 0\n",
    "    max_depth = 0\n",
    "\n",
    "    def ancestral_chain():\n",
    "        current = soln\n",
    "        chain = [current]\n",
    "        while current.parent != None:\n",
    "            chain.append(current.parent)\n",
    "            current = current.parent\n",
    "        return chain\n",
    "\n",
    "    def path():\n",
    "        path = [node.state for node in ancestral_chain()[-2::-1]]\n",
    "        return path\n",
    "    \n",
    "    \n",
    "    frontier = deque()\n",
    "    frontier.append(puzzle_board)\n",
    "    froxplored = set()\n",
    "    while frontier:\n",
    "        board = frontier.popleft()\n",
    "        froxplored.add(tuple(board.puzzle_state))\n",
    "        if board.goal_test:\n",
    "            soln = board\n",
    "            path = path()\n",
    "            nodes_expanded = len(froxplored)-len(frontier)-1\n",
    "            return nodes_expanded, path\n",
    "        \n",
    "        for neighbor in board.expand:\n",
    "            if tuple(neighbor.puzzle_state) not in froxplored:\n",
    "                frontier.append(neighbor)\n",
    "                froxplored.add(tuple(neighbor.puzzle_state))\n",
    "                max_depth = max(max_depth, neighbor.depth)\n",
    "    return nodes_expanded, path\n",
    "\n",
    "\n",
    "        \n",
    "print(bfs(puzzle_board))\n",
    "print(bfs(PuzzleBoard([1,2,5,3,4,0,6,7,8])))"
   ]
  },
  {
   "cell_type": "code",
   "execution_count": null,
   "metadata": {
    "colab": {},
    "colab_type": "code",
    "deletable": false,
    "editable": false,
    "id": "WzA10EAuklG5",
    "nbgrader": {
     "checksum": "c60adf71820f480de60416d31357a323",
     "grade": true,
     "grade_id": "cell-0626f3add79b694a",
     "locked": true,
     "points": 25,
     "schema_version": 1,
     "solution": false
    },
    "tags": [
     "Exercise-1"
    ]
   },
   "outputs": [],
   "source": [
    "assert bfs(PuzzleBoard([3,1,2,0,4,5,6,7,8])) == (1, ['Up'])\n",
    "assert bfs(PuzzleBoard([1,2,5,3,4,0,6,7,8])) == (10, ['Up', 'Left', 'Left'])"
   ]
  },
  {
   "cell_type": "markdown",
   "metadata": {
    "colab_type": "text",
    "deletable": false,
    "editable": false,
    "id": "CfwVFu0sTX5t",
    "nbgrader": {
     "checksum": "19ecf6d44cd4c278ff30e9c53ad59ee7",
     "grade": false,
     "grade_id": "cell-95cc6205e57eaded",
     "locked": true,
     "schema_version": 1,
     "solution": false
    },
    "tags": [
     "Exercise-2"
    ]
   },
   "source": [
    "## Exercise 2: Depth First Search\n",
    "**<div style=\"text-align: right\"> [Score: 25]</div>**\n",
    "Find the path followed by DFS to reach the goal state.\n",
    "\n",
    "Note: Your function should take an instance of class PuzzleBoard as input and return path followed by dfs search and number of nodes expanded during the search. "
   ]
  },
  {
   "cell_type": "code",
   "execution_count": null,
   "metadata": {
    "colab": {},
    "colab_type": "code",
    "deletable": false,
    "id": "FB0_gDFksPgU",
    "nbgrader": {
     "checksum": "894c34598f1d7a3331246795d6e218bd",
     "grade": false,
     "grade_id": "cell-c14435c41fd191ec",
     "locked": false,
     "schema_version": 1,
     "solution": true
    },
    "tags": [
     "Exercise-2"
    ]
   },
   "outputs": [],
   "source": [
    "def dfs(puzzle_board):\n",
    "    soln = None\n",
    "    path = None\n",
    "    nodes_expanded = 0\n",
    "    max_depth = 0\n",
    "\n",
    "    def ancestral_chain():\n",
    "        current = soln\n",
    "        chain = [current]\n",
    "        while current.parent != None:\n",
    "            chain.append(current.parent)\n",
    "            current = current.parent\n",
    "        return chain\n",
    "\n",
    "    def path():\n",
    "        path = [node.state for node in ancestral_chain()[-2::-1]]\n",
    "        return path\n",
    "\n",
    "    frontier = []\n",
    "    frontier.append(puzzle_board)\n",
    "    froxplored = set()\n",
    "    while frontier:\n",
    "        board = frontier.pop()\n",
    "        froxplored.add(tuple(board.puzzle_state))\n",
    "        if board.goal_test:\n",
    "            soln = board\n",
    "            path = path()\n",
    "            nodes_expanded = len(froxplored)-len(frontier)-1\n",
    "            return nodes_expanded, path\n",
    "        \n",
    "        for neighbor in board.expand[::-1]:\n",
    "            if tuple(neighbor.puzzle_state) not in froxplored:\n",
    "                frontier.append(neighbor)\n",
    "                froxplored.add(tuple(neighbor.puzzle_state))\n",
    "                max_depth = max(max_depth, neighbor.depth)\n",
    "    return None\n",
    "\n",
    "print(dfs(PuzzleBoard([3,1,2,0,4,5,6,7,8])))\n",
    "print(dfs(PuzzleBoard([1,3,0,4,2,5,6,7,8])))"
   ]
  },
  {
   "cell_type": "code",
   "execution_count": null,
   "metadata": {
    "colab": {},
    "colab_type": "code",
    "deletable": false,
    "editable": false,
    "id": "Ub8rh9NEmZqx",
    "nbgrader": {
     "checksum": "901e0b0d55206c68687fd84de497b9d4",
     "grade": true,
     "grade_id": "cell-1c3a1fc9d054904b",
     "locked": true,
     "points": 25,
     "schema_version": 1,
     "solution": false
    },
    "tags": [
     "Exercise-2"
    ]
   },
   "outputs": [],
   "source": [
    "assert dfs(PuzzleBoard([3,1,2,0,4,5,6,7,8])) == (1, ['Up'])\n",
    "assert dfs(PuzzleBoard([1,3,0,4,2,5,6,7,8])) == (402, ['Down', 'Down', 'Left', 'Up', 'Up', 'Left', 'Down', 'Down', 'Right', 'Up', 'Up', 'Left', 'Down', 'Down', 'Right', 'Up', 'Up', 'Left', 'Down', 'Down', 'Right', 'Up', 'Up', 'Left', 'Down', 'Down', 'Right', 'Up', 'Up', 'Left', 'Down', 'Right', 'Up', 'Left', 'Down', 'Down', 'Right', 'Up', 'Up', 'Left', 'Down', 'Down', 'Right', 'Up', 'Up', 'Right', 'Down', 'Down', 'Left', 'Up', 'Up', 'Left', 'Down', 'Down', 'Right', 'Up', 'Up', 'Left', 'Down', 'Down', 'Right', 'Up', 'Up', 'Left', 'Down', 'Down', 'Right', 'Up', 'Up', 'Left', 'Down', 'Down', 'Right', 'Up', 'Up', 'Left', 'Down', 'Right', 'Up', 'Left', 'Down', 'Down', 'Right', 'Up', 'Up', 'Left', 'Down', 'Down', 'Right', 'Up', 'Up', 'Right', 'Down', 'Down', 'Left', 'Up', 'Up', 'Left', 'Down', 'Down', 'Right', 'Up', 'Up', 'Left', 'Down', 'Down', 'Right', 'Up', 'Up', 'Left', 'Down', 'Down', 'Right', 'Up', 'Up', 'Left', 'Down', 'Down', 'Right', 'Up', 'Up', 'Left', 'Down', 'Right', 'Up', 'Left', 'Down', 'Down', 'Right', 'Up', 'Up', 'Left', 'Down', 'Down', 'Right', 'Up', 'Up', 'Right', 'Down', 'Down', 'Left', 'Up', 'Up', 'Left', 'Down', 'Down', 'Right', 'Up', 'Up', 'Left', 'Down', 'Down', 'Right', 'Up', 'Up', 'Left', 'Down', 'Down', 'Right', 'Up', 'Up', 'Left', 'Down', 'Down', 'Right', 'Up', 'Up', 'Left', 'Down', 'Right', 'Up', 'Left', 'Down', 'Down', 'Right', 'Up', 'Up', 'Left', 'Down', 'Down', 'Right', 'Up', 'Up', 'Right', 'Down', 'Down', 'Left', 'Up', 'Up', 'Left', 'Down', 'Down', 'Right', 'Up', 'Up', 'Left', 'Down', 'Down', 'Right', 'Up', 'Up', 'Left', 'Down', 'Down', 'Right', 'Up', 'Up', 'Left', 'Down', 'Down', 'Right', 'Up', 'Up', 'Left', 'Down', 'Right', 'Up', 'Left', 'Down', 'Down', 'Right', 'Up', 'Up', 'Left', 'Down', 'Down', 'Right', 'Up', 'Up', 'Right', 'Down', 'Down', 'Left', 'Up', 'Up', 'Left', 'Down', 'Down', 'Right', 'Up', 'Up', 'Left', 'Down', 'Down', 'Right', 'Up', 'Up', 'Left', 'Down', 'Down', 'Right', 'Up', 'Up', 'Left', 'Down', 'Down', 'Right', 'Up', 'Up', 'Left', 'Down', 'Right', 'Up', 'Left', 'Down', 'Down', 'Right', 'Up', 'Up', 'Left', 'Down', 'Down', 'Right', 'Up', 'Up', 'Right', 'Down', 'Down', 'Left', 'Up', 'Up', 'Left', 'Down', 'Down', 'Right', 'Up', 'Up', 'Left', 'Down', 'Down', 'Right', 'Up', 'Up', 'Left', 'Down', 'Down', 'Right', 'Up', 'Up', 'Left', 'Down', 'Down', 'Right', 'Up', 'Up', 'Left', 'Down', 'Right', 'Up', 'Left', 'Down', 'Down', 'Right', 'Up', 'Up', 'Left', 'Down', 'Down', 'Right', 'Up', 'Left', 'Up', 'Right', 'Right', 'Down', 'Down', 'Left', 'Up', 'Up', 'Left', 'Down', 'Down', 'Right', 'Up', 'Up', 'Left', 'Down', 'Down', 'Right', 'Up', 'Up', 'Left', 'Down', 'Down', 'Right', 'Up', 'Up', 'Left', 'Down', 'Down', 'Right', 'Up', 'Up', 'Left', 'Down', 'Right', 'Up', 'Left', 'Down', 'Down', 'Right', 'Right', 'Up', 'Up', 'Left', 'Down', 'Down', 'Left', 'Up', 'Up', 'Right', 'Down', 'Down', 'Left', 'Up', 'Up', 'Right', 'Down', 'Down', 'Left', 'Up', 'Up', 'Right', 'Down', 'Down', 'Left', 'Up', 'Up', 'Right', 'Down', 'Down', 'Left', 'Up', 'Right', 'Up', 'Left'])"
   ]
  },
  {
   "cell_type": "markdown",
   "metadata": {
    "colab_type": "text",
    "deletable": false,
    "editable": false,
    "id": "_x4IMUcSTX8P",
    "nbgrader": {
     "checksum": "61d4d7eb7e3ce586f5d2da3e13ab7287",
     "grade": false,
     "grade_id": "cell-ad0aee19052b3c0f",
     "locked": true,
     "schema_version": 1,
     "solution": false
    },
    "tags": [
     "Exercise-3"
    ]
   },
   "source": [
    "## Exercise 3: A Star Search\n",
    "A* search evaluates nodes by combining cost to reach the node and cost estimate to get from the node to goal node; i.e. $f(n) = g(n) + h(n) = $ estimated cost of cheapest solution through node $n$, where  $g(n)$ is the cost of getting to node n from start node and $h(n)$ is the estimated cost from node n to the goal. In following task, you are required to use manhattan distance as heuristic. Manhattan distance for each tile is the minimumm number of moves required to place that tile in required position. In the example board given above, manhattan distance for tile 5 is 2 and for tile 2 is 0. Total manhattan distance for the puzzle state is 11.\n",
    "\n",
    "**<div style=\"text-align: right\"> [Score: 25]</div>**\n",
    "\n",
    "Find the path followed by A-star to reach the goal state.\n",
    "\n",
    "Note: Your function should take an instance of class PuzzleBoard as input and return path followed by A* search and number of nodes expanded during the search. Number of nodes expanded might slightly differ for A* search according to implementation. \n",
    "\n",
    "Hint: You can use manhattan distance given in class description code given above."
   ]
  },
  {
   "cell_type": "code",
   "execution_count": null,
   "metadata": {
    "colab": {},
    "colab_type": "code",
    "deletable": false,
    "id": "VIfj5ulmsPgZ",
    "nbgrader": {
     "checksum": "859c678decf2598270324c6b3e947a18",
     "grade": false,
     "grade_id": "cell-88d0fbac1798d102",
     "locked": false,
     "schema_version": 1,
     "solution": true
    },
    "tags": [
     "Exercise-3"
    ]
   },
   "outputs": [],
   "source": [
    "import heapq\n",
    "\n",
    "def ast(puzzle_board):\n",
    "    soln = None\n",
    "    path = None\n",
    "    nodes_expanded = 0\n",
    "    max_depth = 0\n",
    "\n",
    "    def ancestral_chain():\n",
    "        current = soln\n",
    "        chain = [current]\n",
    "        while current.parent != None:\n",
    "            chain.append(current.parent)\n",
    "            current = current.parent\n",
    "        return chain\n",
    "\n",
    "    def path():\n",
    "        path = [node.state for node in ancestral_chain()[-2::-1]]\n",
    "        return path\n",
    "    \n",
    "    frontier = []\n",
    "    heapq.heappush(frontier, puzzle_board)\n",
    "    froxplored = set()\n",
    "    while frontier:\n",
    "        board = heapq.heappop(frontier)\n",
    "        froxplored.add(tuple(board.puzzle_state))\n",
    "        if board.goal_test:\n",
    "            soln = board\n",
    "            path = path()\n",
    "            nodes_expanded = len(froxplored)-len(frontier)-1\n",
    "            return nodes_expanded, path\n",
    "        \n",
    "        for neighbor in board.expand:\n",
    "            if tuple(neighbor.puzzle_state) not in froxplored:\n",
    "                heapq.heappush(frontier, neighbor)\n",
    "                froxplored.add(tuple(neighbor.puzzle_state))\n",
    "                self = max(max_depth, neighbor.depth)\n",
    "    return None\n",
    "\n",
    "ast(PuzzleBoard([1,2,5,3,4,0,6,7,8]))"
   ]
  },
  {
   "cell_type": "code",
   "execution_count": null,
   "metadata": {
    "colab": {},
    "colab_type": "code",
    "deletable": false,
    "editable": false,
    "id": "G5pzJbc7kI3S",
    "nbgrader": {
     "checksum": "334b371cd9b3f05c6fd14034309504f5",
     "grade": true,
     "grade_id": "cell-0dff3d6bb70d007b",
     "locked": true,
     "points": 25,
     "schema_version": 1,
     "solution": false
    },
    "tags": [
     "Exercise-3"
    ]
   },
   "outputs": [],
   "source": [
    "assert ast(PuzzleBoard([3,1,2,0,4,5,6,7,8]))[1] == ['Up']\n",
    "assert ast(PuzzleBoard([1,2,5,3,4,0,6,7,8]))[1] == ['Up', 'Left', 'Left']"
   ]
  }
 ],
 "metadata": {
  "colab": {
   "collapsed_sections": [],
   "name": "Project 4_ 8-puzzle.ipynb",
   "provenance": []
  },
  "kernelspec": {
   "display_name": "Python 3",
   "language": "python",
   "name": "python3"
  },
  "language_info": {
   "codemirror_mode": {
    "name": "ipython",
    "version": 3
   },
   "file_extension": ".py",
   "mimetype": "text/x-python",
   "name": "python",
   "nbconvert_exporter": "python",
   "pygments_lexer": "ipython3",
   "version": "3.6.8"
  }
 },
 "nbformat": 4,
 "nbformat_minor": 1
}
