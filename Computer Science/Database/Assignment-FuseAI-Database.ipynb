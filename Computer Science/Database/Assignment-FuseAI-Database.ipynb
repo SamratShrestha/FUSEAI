{
 "cells": [
  {
   "cell_type": "markdown",
   "metadata": {
    "deletable": false,
    "editable": false,
    "nbgrader": {
     "checksum": "148aac323ee1acdeb72aca45511b3fcc",
     "grade": false,
     "grade_id": "cell-757392f0ad5f0e63",
     "locked": true,
     "schema_version": 1,
     "solution": false
    }
   },
   "source": [
    "# Structured Query Language Assignment\n",
    "\n",
    "In this assignment, you are going to practice the concepts of Structured Query Language that you have gained so far. The main objective of the current module is to understand the relational query language, particularly the data maipulation and the basic query structure that will hold for all SQL queries.\n",
    "\n",
    "**<div style=\"text-align: right\">[TOTAL POINTS: 45]</div>**\n",
    "\n",
    "### General Overview of the Assignment\n",
    "\n",
    "In this module's assignment, you will be writing some queries for FuseAI. We’ll also look at how to search the database for information and manipulate it.\n",
    "\n",
    "### Recall: Fuse AI Database\n",
    "\n",
    "Given a detailed description of the FuseAI platform, the following key points were identified:\n",
    "\n",
    "<hr/>\n",
    "\n",
    "**Requirement Analysis**\n",
    "\n",
    "1. Each course can have one or more students and a student can enroll in one or more courses.\n",
    "2. A course can have many modules. Each module can comprise of many units and a unit can further have many chapters.\n",
    "3. Each chapter has a quiz to assess the student's understanding of the chapter. \n",
    "4. Each unit may or may not have an assignment.\n",
    "5. For each student enrolled in a particular course they will be given at most one project in each module.\n",
    "\n",
    "![FuseAI Database](https://drive.google.com/uc?export=view&id=1u-sN7Rcxmf0ea0gEWw5GVMZW4XglZqqJ)\n",
    "\n",
    "\n",
    "#### Entities and Attributes\n",
    "\n",
    "| Entity | Attributes | \n",
    "| - | - | \n",
    "| Student | ***student_id***, student_name, student_email, student_contact, date_joined | \n",
    "| Course |  ***course_id***, course_name, course_length | \n",
    "| Enrollment | _student_id, course_id_ |\n",
    "| Module |  ***course_id, module num***, module_name | \n",
    "| Unit |  ***course_id, module num, unit_num***, unit_name | \n",
    "| Chapter |  ***course_id, module_num, unit_num, chapter_num***, chapter_name, time_allotted | \n",
    "| Project |  *course_id, module_num*, project_title, project_marks | \n",
    "| Assignment |  *course_id, module_num, unit_num*, assignment_name, assignment_marks | \n",
    "| Quiz |  number of question | "
   ]
  },
  {
   "cell_type": "markdown",
   "metadata": {
    "deletable": false,
    "editable": false,
    "nbgrader": {
     "checksum": "73611dd3d36e48fe22e04c28144bb093",
     "grade": false,
     "grade_id": "cell-169fe7615c6b638f",
     "locked": true,
     "schema_version": 1,
     "solution": false
    }
   },
   "source": [
    "#### Connecting to Sqlite Database"
   ]
  },
  {
   "cell_type": "code",
   "execution_count": 1,
   "metadata": {
    "deletable": false,
    "editable": false,
    "nbgrader": {
     "checksum": "5e5e21cb286a9e56cf668237e701d6f9",
     "grade": false,
     "grade_id": "cell-638e2d5bd5446cce",
     "locked": true,
     "schema_version": 1,
     "solution": false
    }
   },
   "outputs": [
    {
     "data": {
      "text/plain": [
       "'Connected: @None'"
      ]
     },
     "execution_count": 1,
     "metadata": {},
     "output_type": "execute_result"
    }
   ],
   "source": [
    "#Execute this cell\n",
    "\n",
    "%load_ext sql\n",
    "\n",
    "%sql sqlite://"
   ]
  },
  {
   "cell_type": "markdown",
   "metadata": {
    "deletable": false,
    "editable": false,
    "nbgrader": {
     "checksum": "4102a29a80b8b94696c3cef444c380c9",
     "grade": false,
     "grade_id": "cell-8faed293577efece",
     "locked": true,
     "schema_version": 1,
     "solution": false
    }
   },
   "source": [
    "\n",
    "#### Minor Differences between sqlite and SQL\n",
    "\n",
    "```\n",
    "* INT  ->  INTEGER\n",
    "* auto_increment -> AUTOINCREMENT\n",
    "```"
   ]
  },
  {
   "cell_type": "markdown",
   "metadata": {
    "deletable": false,
    "editable": false,
    "nbgrader": {
     "checksum": "e03e3653e1bbdf967a9f661d1a26d53e",
     "grade": false,
     "grade_id": "cell-72c4913273135ae6",
     "locked": true,
     "schema_version": 1,
     "solution": false
    }
   },
   "source": [
    "<br/>\n",
    "\n",
    "> Create `Student` and `course` table"
   ]
  },
  {
   "cell_type": "code",
   "execution_count": 2,
   "metadata": {
    "deletable": false,
    "editable": false,
    "nbgrader": {
     "checksum": "82cb8aca3c2e3d9c1d4fa7665b3446d7",
     "grade": false,
     "grade_id": "cell-41a727f25a3727af",
     "locked": true,
     "schema_version": 1,
     "solution": false
    }
   },
   "outputs": [
    {
     "name": "stdout",
     "output_type": "stream",
     "text": [
      " * sqlite://\n",
      "Done.\n",
      "Done.\n"
     ]
    },
    {
     "data": {
      "text/plain": [
       "[]"
      ]
     },
     "execution_count": 2,
     "metadata": {},
     "output_type": "execute_result"
    }
   ],
   "source": [
    "%%sql\n",
    "CREATE TABLE student(\n",
    "    student_id INTEGER PRIMARY KEY AUTOINCREMENT,\n",
    "    student_name VARCHAR(50) NOT NULL,\n",
    "    student_email VARCHAR(50),\n",
    "    student_contact VARCHAR(15)\n",
    ");\n",
    "\n",
    "\n",
    "CREATE TABLE course(\n",
    "    course_id INTEGER NOT NULL PRIMARY KEY AUTOINCREMENT,\n",
    "    course_name VARCHAR(50) NOT NULL,\n",
    "    course_length INTEGER\n",
    ");"
   ]
  },
  {
   "cell_type": "markdown",
   "metadata": {
    "deletable": false,
    "editable": false,
    "nbgrader": {
     "checksum": "f6f8bdbb7f6e67ddcb5f8d582b1abaed",
     "grade": false,
     "grade_id": "cell-8677748309bd9f00",
     "locked": true,
     "schema_version": 1,
     "solution": false
    }
   },
   "source": [
    "<br/>\n",
    "\n",
    "> Add other tables. Feel free to explore!"
   ]
  },
  {
   "cell_type": "code",
   "execution_count": 3,
   "metadata": {
    "deletable": false,
    "editable": false,
    "nbgrader": {
     "checksum": "9a5b3ff893f3fa545cdcb61798104ed3",
     "grade": false,
     "grade_id": "cell-cd378333ada47c9b",
     "locked": true,
     "schema_version": 1,
     "solution": false
    }
   },
   "outputs": [
    {
     "name": "stdout",
     "output_type": "stream",
     "text": [
      " * sqlite://\n",
      "Done.\n",
      "Done.\n",
      "Done.\n",
      "Done.\n",
      "Done.\n",
      "Done.\n",
      "Done.\n"
     ]
    },
    {
     "data": {
      "text/plain": [
       "[]"
      ]
     },
     "execution_count": 3,
     "metadata": {},
     "output_type": "execute_result"
    }
   ],
   "source": [
    "%%sql\n",
    "CREATE TABLE enrollment(student_id INTEGER, course_id INTEGER, FOREIGN KEY(student_id) REFERENCES student(student_id) ON DELETE CASCADE ON UPDATE CASCADE, FOREIGN KEY(course_id) REFERENCES course(course_id) ON DELETE CASCADE ON UPDATE CASCADE);\n",
    "CREATE TABLE module(course_id INTEGER, module_num INTEGER, module_name VARCHAR(50) NOT NULL, PRIMARY KEY(course_id,module_num), FOREIGN KEY(course_id) REFERENCES course(course_id) ON DELETE CASCADE ON UPDATE CASCADE);\n",
    "CREATE TABLE unit(course_id INTEGER, module_num INTEGER, unit_num INTEGER, unit_name VARCHAR(50) NOT NULL, time_allotted float, PRIMARY KEY(course_id,module_num,unit_num), FOREIGN KEY(course_id,module_num) REFERENCES module(course_id,module_num) ON DELETE CASCADE ON UPDATE CASCADE);\n",
    "CREATE TABLE chapter(course_id INTEGER, module_num INTEGER, unit_num INTEGER, chapter_num INTEGER, chapter_name VARCHAR(50) NOT NULL, PRIMARY KEY(course_id, module_num, unit_num, chapter_num), FOREIGN KEY(course_id, module_num, unit_num) REFERENCES unit(course_id,module_num, unit_num) ON DELETE CASCADE ON UPDATE CASCADE);\n",
    "CREATE TABLE project(course_id INTEGER, module_num INTEGER, project_title VARCHAR(50) NOT NULL, project_marks INTEGER, FOREIGN KEY(course_id,module_num) REFERENCES module(course_id,module_num) ON DELETE CASCADE ON UPDATE CASCADE);\n",
    "CREATE TABLE assignment(course_id INTEGER,module_num INTEGER,unit_num INTEGER, assignment_name VARCHAR(50) NOT NULL, assignment_marks INTEGER, FOREIGN KEY(course_id, module_num, unit_num) REFERENCES unit(course_id, module_num, unit_num) ON DELETE CASCADE ON UPDATE CASCADE);\n",
    "CREATE TABLE quiz(course_id INTEGER, module_num INTEGER, unit_num INTEGER, chapter_num INTEGER, num_questions INTEGER, FOREIGN KEY(course_id, module_num, unit_num, chapter_num) REFERENCES chapter(course_id,module_num, unit_num, chapter_num) ON DELETE CASCADE ON UPDATE CASCADE);"
   ]
  },
  {
   "cell_type": "markdown",
   "metadata": {
    "deletable": false,
    "editable": false,
    "nbgrader": {
     "checksum": "4aa586dd086e604f1fdcabf0e9c8fe89",
     "grade": false,
     "grade_id": "cell-688f8420479340d3",
     "locked": true,
     "schema_version": 1,
     "solution": false
    }
   },
   "source": [
    "<br/>\n",
    "\n",
    ">Insert values into `Student` and `Course` table"
   ]
  },
  {
   "cell_type": "code",
   "execution_count": 4,
   "metadata": {
    "deletable": false,
    "editable": false,
    "nbgrader": {
     "checksum": "6d0958ae79125d58286c97f60f82d70a",
     "grade": false,
     "grade_id": "cell-61ea73dece6e1af2",
     "locked": true,
     "schema_version": 1,
     "solution": false
    }
   },
   "outputs": [
    {
     "name": "stdout",
     "output_type": "stream",
     "text": [
      " * sqlite://\n",
      "8 rows affected.\n"
     ]
    },
    {
     "data": {
      "text/plain": [
       "[]"
      ]
     },
     "execution_count": 4,
     "metadata": {},
     "output_type": "execute_result"
    }
   ],
   "source": [
    "%%sql\n",
    "INSERT INTO student ( student_name, student_email)\n",
    "VALUES ('John Doe', 'john@fusemachines.com'),\n",
    "('Dummy Person', 'dummy@fusemachines.com'),\n",
    "('Alison Burgers','alison@fusemachines.com'),\n",
    "('Harka Bahadur','harke@fusemachines.com.np'),\n",
    "('Ful Kumari','fulkumari@fusemachines.com.np'),\n",
    "('Chulbul Pandey','chulbul@fusemachines.com'),\n",
    "('Bir Kaji Sherchan','birkaji@fusemachines.com.np'),\n",
    "('Maiya Gauchan','maiya@fusemachines.com.np');"
   ]
  },
  {
   "cell_type": "code",
   "execution_count": 5,
   "metadata": {
    "deletable": false,
    "editable": false,
    "nbgrader": {
     "checksum": "ad19ec93ce38c9addae915f65eda805c",
     "grade": false,
     "grade_id": "cell-a40375b3463118d2",
     "locked": true,
     "schema_version": 1,
     "solution": false
    }
   },
   "outputs": [
    {
     "name": "stdout",
     "output_type": "stream",
     "text": [
      " * sqlite://\n",
      "6 rows affected.\n"
     ]
    },
    {
     "data": {
      "text/plain": [
       "[]"
      ]
     },
     "execution_count": 5,
     "metadata": {},
     "output_type": "execute_result"
    }
   ],
   "source": [
    "%%sql\n",
    "INSERT INTO course (course_name,course_length)\n",
    "VALUES ('Fundamentals of Computer Science',3),\n",
    "('Fundamentals of Mathematics',4),\n",
    "('Machine Learning',5),\n",
    "('Deep Learning',5),\n",
    "('Computer Vision',5),\n",
    "('Natural Language Processing',5);"
   ]
  },
  {
   "cell_type": "code",
   "execution_count": 6,
   "metadata": {
    "deletable": false,
    "editable": false,
    "nbgrader": {
     "checksum": "56c7c1e7db9dc0080d57ba109e8ad4c9",
     "grade": false,
     "grade_id": "cell-379adec5473f8133",
     "locked": true,
     "schema_version": 1,
     "solution": false
    }
   },
   "outputs": [
    {
     "name": "stdout",
     "output_type": "stream",
     "text": [
      " * sqlite://\n",
      "8 rows affected.\n",
      "12 rows affected.\n",
      "31 rows affected.\n",
      "10 rows affected.\n",
      "3 rows affected.\n",
      "15 rows affected.\n"
     ]
    },
    {
     "data": {
      "text/plain": [
       "[]"
      ]
     },
     "execution_count": 6,
     "metadata": {},
     "output_type": "execute_result"
    }
   ],
   "source": [
    "%%sql\n",
    "INSERT INTO enrollment (student_id, course_id) VALUES (1,1),(1,2),(2,1),(3,1),(4,2),(5,1),(6,1),(7,2);\n",
    "INSERT INTO module(course_id, module_num, module_name) VALUES (1,1,'Introduction to the Course'),(1,2,'Basics of Computer Systems'),(1,3,'Python Programming'),(1,4,'Data Structures and Algorithms'),(1,5,'Database'),(1,6,'Building Applications'),(2,1,'Introduction to the Course'),(2,2,'Linear Algebra'),(2,3,'Calculus'),(2,4,'Probability and Statistics'),(2,5,'Information Theory'),(2,6,'Numerical Computation');\n",
    "INSERT INTO unit(course_id, module_num, unit_num, unit_name, time_allotted) VALUES (1,1,1,'Introduction to the Course',0.25),(1,1,2,'Introduction to AI',0.5),(1,2,1,'Introduction to the Module',0),(1,2,2,'Digital Information & Digital Logic',1.25),(1,2,3,'Basics Computer Architecture',2),(1,2,4,'Basics of Linux Operating System',1.5),(1,2,5,'Basics of Computer Networks',1.5),(1,2,6,'Module Summary',0),(1,3,1,'Introduction to the Module',0),(1,3,2,'Python Programming',5),(1,3,3,'Object Oriented Programming',4.5),(1,3,4,'Web Scraping',0.75),(1,3,5,'Numpy',2),(1,3,6,'Pandas',2),(1,3,7,'Matplotlib',1),(1,3,8,'Module Summary',0),(2,2,1,'Introduction to the Module',0),(2,2,2,'Scalars Vectors and their operations',1.75),(2,2,3,'Linear transformations and Matrix',1.5),(2,2,4,'Solving Linear Equations',3.75),(2,2,5,'Determinant and Inverses',2.25),(2,2,6,'Orthogonality',2),(2,2,7,'Eigen and Singular Value Decomposition',2.75),(2,2,8,'Module Summary',0),(2,3,1,'Introduction to the Module',0),(2,3,2,'Derivatives',3.25),(2,3,3,'Integrals',2.25),(2,3,4,'Multivariable Calculus',3),(2,3,5,'Optimization of multivariable Functions',2.5),(2,3,6,'Integrals of multivariable functions',2),(2,3,7,'Module Summary',0);\n",
    "INSERT INTO chapter(course_id, module_num, unit_num, chapter_num, chapter_name) VALUES (1,1,1,1,'Introduction to the Course'),(1,1,1,2,'Course Logistics'),(1,1,2,1,'AI and its applications'),(1,1,2,2,'A Brief History of AI'),(1,1,2,3,'Types of AI'),(1,1,2,4,'Introduction to ML'),(1,2,1,1,'Introduction to the Module'),(1,2,2,1,'Number Representation in computers'),(1,2,2,2,'Digital Information'),(1,2,2,3,'Boolean Operation and algebra');\n",
    "INSERT INTO project(course_id, module_num, project_title, project_marks) VALUES (2,1,'None',0),(2,2,'3D Reconstruction',200),(2,3,'Shape Optimization',250);\n",
    "INSERT INTO assignment(course_id, module_num, unit_num, assignment_name, assignment_marks) VALUES (2,2,1,'N/A',0),(2,2,2,'Similarity',60),(2,2,3,'Robotics Forward Kinematics',70),(2,2,4,'Kirchoffs Law: Traffic flow',80),(2,2,5,'Inverse Kinematics',90),(2,2,6,'Least-Squares',100),(2,2,7,'Eigen Faces',110),(2,2,8,'N/A',0),(2,3,1,'N/A',0),(2,3,2,'Robotics Forward Kinematics',60),(2,3,3,'Single variable gradient descent',70),(2,3,4,'Trapezoidal rule',80),(2,3,5,'Image edge detection',90),(2,3,6,'Multi variable gradient descent',100),(2,3,7,'N/A',110);"
   ]
  },
  {
   "cell_type": "markdown",
   "metadata": {
    "deletable": false,
    "editable": false,
    "nbgrader": {
     "checksum": "4d7a2a61848e1366536101f9bbd504d6",
     "grade": false,
     "grade_id": "cell-aa9e265be3f6e50c",
     "locked": true,
     "schema_version": 1,
     "solution": false
    },
    "tags": [
     "Exercise-1"
    ]
   },
   "source": [
    "### Exercise 1: Basic Operation with Select Operator\n",
    "\n",
    "**<div style=\"text-align: right\">[POINTS: 5]</div>**\n",
    "\n",
    "**Task:**  # List the course name of all courses whose course length is less than 5 months. Store the result of the query in a variable named `result1`.\n",
    "\n",
    "_**Note:** Use %sql for executing single line SQL query and %%sql for executing multiline SQL query_\n",
    "\n",
    "<hr/>"
   ]
  },
  {
   "cell_type": "code",
   "execution_count": 7,
   "metadata": {
    "deletable": false,
    "nbgrader": {
     "checksum": "ff3f8637f400b89276792c267a41a61f",
     "grade": false,
     "grade_id": "cell-b602d44d21c7f7ed",
     "locked": false,
     "schema_version": 1,
     "solution": true
    },
    "tags": [
     "Exercise-1"
    ]
   },
   "outputs": [
    {
     "name": "stdout",
     "output_type": "stream",
     "text": [
      " * sqlite://\n",
      "Done.\n"
     ]
    },
    {
     "data": {
      "text/html": [
       "<table>\n",
       "    <tr>\n",
       "        <th>course_name</th>\n",
       "    </tr>\n",
       "    <tr>\n",
       "        <td>Fundamentals of Computer Science</td>\n",
       "    </tr>\n",
       "    <tr>\n",
       "        <td>Fundamentals of Mathematics</td>\n",
       "    </tr>\n",
       "</table>"
      ],
      "text/plain": [
       "[('Fundamentals of Computer Science',), ('Fundamentals of Mathematics',)]"
      ]
     },
     "execution_count": 7,
     "metadata": {},
     "output_type": "execute_result"
    }
   ],
   "source": [
    "# YOUR CODE HERE\n",
    "result1 =  %sql select course_name from course where course_length < 5;\n",
    "result1"
   ]
  },
  {
   "cell_type": "code",
   "execution_count": 8,
   "metadata": {
    "deletable": false,
    "editable": false,
    "nbgrader": {
     "checksum": "7e1b3a00674df3455b0fa43a53d81010",
     "grade": true,
     "grade_id": "cell-662792038b644eea",
     "locked": true,
     "points": 5,
     "schema_version": 1,
     "solution": false
    },
    "tags": [
     "Exercise-1"
    ]
   },
   "outputs": [],
   "source": [
    "### INTENTIONALLY LEFT BLANK\n"
   ]
  },
  {
   "cell_type": "markdown",
   "metadata": {
    "deletable": false,
    "editable": false,
    "nbgrader": {
     "checksum": "95abac094355617da2fed08ab9afb83d",
     "grade": false,
     "grade_id": "cell-fe8b1c045e02e408",
     "locked": true,
     "schema_version": 1,
     "solution": false
    },
    "tags": [
     "Exercise-2"
    ]
   },
   "source": [
    "### Exercise 2: String Operation\n",
    "\n",
    "**<div style=\"text-align: right\">[POINTS: 5]</div>**\n",
    "\n",
    "**Task:**  Students of fusemachines from Nepal have country domain .np in their email id. Find the name and email of all students from Nepal. Store the result of the query in a variable named `result2`.\n",
    "\n",
    "<hr/>"
   ]
  },
  {
   "cell_type": "code",
   "execution_count": 9,
   "metadata": {
    "deletable": false,
    "nbgrader": {
     "checksum": "d6a6328c2641bd0d6a42841988717ddb",
     "grade": false,
     "grade_id": "cell-47034fc519d236da",
     "locked": false,
     "schema_version": 1,
     "solution": true
    },
    "tags": [
     "Exercise-2"
    ]
   },
   "outputs": [
    {
     "name": "stdout",
     "output_type": "stream",
     "text": [
      " * sqlite://\n",
      "Done.\n"
     ]
    },
    {
     "data": {
      "text/html": [
       "<table>\n",
       "    <tr>\n",
       "        <th>student_name</th>\n",
       "        <th>student_email</th>\n",
       "    </tr>\n",
       "    <tr>\n",
       "        <td>Harka Bahadur</td>\n",
       "        <td>harke@fusemachines.com.np</td>\n",
       "    </tr>\n",
       "    <tr>\n",
       "        <td>Ful Kumari</td>\n",
       "        <td>fulkumari@fusemachines.com.np</td>\n",
       "    </tr>\n",
       "    <tr>\n",
       "        <td>Bir Kaji Sherchan</td>\n",
       "        <td>birkaji@fusemachines.com.np</td>\n",
       "    </tr>\n",
       "    <tr>\n",
       "        <td>Maiya Gauchan</td>\n",
       "        <td>maiya@fusemachines.com.np</td>\n",
       "    </tr>\n",
       "</table>"
      ],
      "text/plain": [
       "[('Harka Bahadur', 'harke@fusemachines.com.np'),\n",
       " ('Ful Kumari', 'fulkumari@fusemachines.com.np'),\n",
       " ('Bir Kaji Sherchan', 'birkaji@fusemachines.com.np'),\n",
       " ('Maiya Gauchan', 'maiya@fusemachines.com.np')]"
      ]
     },
     "execution_count": 9,
     "metadata": {},
     "output_type": "execute_result"
    }
   ],
   "source": [
    "# YOUR CODE HERE\n",
    "result2 = %sql SELECT student_name, student_email FROM student WHERE student_email LIKE '%.np';\n",
    "result2"
   ]
  },
  {
   "cell_type": "code",
   "execution_count": 10,
   "metadata": {
    "deletable": false,
    "editable": false,
    "nbgrader": {
     "checksum": "612bb88b355fdaf99a959d3beae21f2c",
     "grade": true,
     "grade_id": "cell-0461b10f419a1c6b",
     "locked": true,
     "points": 5,
     "schema_version": 1,
     "solution": false
    },
    "tags": [
     "Exercise-2"
    ]
   },
   "outputs": [],
   "source": [
    "### INTENTIONALLY LEFT BLANK\n"
   ]
  },
  {
   "cell_type": "markdown",
   "metadata": {
    "deletable": false,
    "editable": false,
    "nbgrader": {
     "checksum": "a6ff656fbf297a3f14197f50abd16ae3",
     "grade": false,
     "grade_id": "cell-4d9d12d8d2e09624",
     "locked": true,
     "schema_version": 1,
     "solution": false
    },
    "tags": [
     "Exercise-3"
    ]
   },
   "source": [
    "### Exercise 3: Query Involving Joins\n",
    "\n",
    "**<div style=\"text-align: right\">[POINTS: 5]</div>**\n",
    "\n",
    "**Task:**  List the name of all students who are enrolled in the first course(Fundamentals of Computer Science). Store the result of the query in a variable named `result3`\n",
    "\n",
    "<hr/>"
   ]
  },
  {
   "cell_type": "code",
   "execution_count": 11,
   "metadata": {
    "deletable": false,
    "nbgrader": {
     "checksum": "3e724f54164c72011deb1657468130fc",
     "grade": false,
     "grade_id": "cell-13f39134c3badd42",
     "locked": false,
     "schema_version": 1,
     "solution": true
    },
    "tags": [
     "Exercise-3"
    ]
   },
   "outputs": [
    {
     "name": "stdout",
     "output_type": "stream",
     "text": [
      " * sqlite://\n",
      "Done.\n"
     ]
    },
    {
     "data": {
      "text/html": [
       "<table>\n",
       "    <tr>\n",
       "        <th>student_name</th>\n",
       "    </tr>\n",
       "    <tr>\n",
       "        <td>John Doe</td>\n",
       "    </tr>\n",
       "    <tr>\n",
       "        <td>Dummy Person</td>\n",
       "    </tr>\n",
       "    <tr>\n",
       "        <td>Alison Burgers</td>\n",
       "    </tr>\n",
       "    <tr>\n",
       "        <td>Ful Kumari</td>\n",
       "    </tr>\n",
       "    <tr>\n",
       "        <td>Chulbul Pandey</td>\n",
       "    </tr>\n",
       "</table>"
      ],
      "text/plain": [
       "[('John Doe',),\n",
       " ('Dummy Person',),\n",
       " ('Alison Burgers',),\n",
       " ('Ful Kumari',),\n",
       " ('Chulbul Pandey',)]"
      ]
     },
     "execution_count": 11,
     "metadata": {},
     "output_type": "execute_result"
    }
   ],
   "source": [
    "# YOUR CODE HERE\n",
    "result3 = %sql SELECT student_name FROM student NATURAL JOIN enrollment WHERE course_id = 1;\n",
    "result3"
   ]
  },
  {
   "cell_type": "code",
   "execution_count": 12,
   "metadata": {
    "deletable": false,
    "editable": false,
    "nbgrader": {
     "checksum": "1537902b49f001a9155e894eb79dffb2",
     "grade": true,
     "grade_id": "cell-103921995ac21e4b",
     "locked": true,
     "points": 5,
     "schema_version": 1,
     "solution": false
    },
    "tags": [
     "Exercise-3"
    ]
   },
   "outputs": [],
   "source": [
    "### INTENTIONALLY LEFT BLANK\n"
   ]
  },
  {
   "cell_type": "markdown",
   "metadata": {
    "deletable": false,
    "editable": false,
    "nbgrader": {
     "checksum": "0704944ff338bf42b1a5d8dbe127348d",
     "grade": false,
     "grade_id": "cell-40589a9776548321",
     "locked": true,
     "schema_version": 1,
     "solution": false
    },
    "tags": [
     "Exercise-4"
    ]
   },
   "source": [
    "### Exercise 4: Aggregate Functions\n",
    "\n",
    "**<div style=\"text-align: right\">[POINTS: 5]</div>**\n",
    "\n",
    "**Task:**  Find the student id and number of course each student is enrolled in. Store the result of the query in a variable named `result4`"
   ]
  },
  {
   "cell_type": "code",
   "execution_count": 13,
   "metadata": {
    "deletable": false,
    "nbgrader": {
     "checksum": "f4562a53a7ddfa2905713fe43cebb870",
     "grade": false,
     "grade_id": "cell-494e996604b36a84",
     "locked": false,
     "schema_version": 1,
     "solution": true
    },
    "tags": [
     "Exercise-4"
    ]
   },
   "outputs": [
    {
     "name": "stdout",
     "output_type": "stream",
     "text": [
      " * sqlite://\n",
      "Done.\n"
     ]
    },
    {
     "data": {
      "text/html": [
       "<table>\n",
       "    <tr>\n",
       "        <th>student_id</th>\n",
       "        <th>COUNT(*)</th>\n",
       "    </tr>\n",
       "    <tr>\n",
       "        <td>1</td>\n",
       "        <td>2</td>\n",
       "    </tr>\n",
       "    <tr>\n",
       "        <td>2</td>\n",
       "        <td>1</td>\n",
       "    </tr>\n",
       "    <tr>\n",
       "        <td>3</td>\n",
       "        <td>1</td>\n",
       "    </tr>\n",
       "    <tr>\n",
       "        <td>4</td>\n",
       "        <td>1</td>\n",
       "    </tr>\n",
       "    <tr>\n",
       "        <td>5</td>\n",
       "        <td>1</td>\n",
       "    </tr>\n",
       "    <tr>\n",
       "        <td>6</td>\n",
       "        <td>1</td>\n",
       "    </tr>\n",
       "    <tr>\n",
       "        <td>7</td>\n",
       "        <td>1</td>\n",
       "    </tr>\n",
       "</table>"
      ],
      "text/plain": [
       "[(1, 2), (2, 1), (3, 1), (4, 1), (5, 1), (6, 1), (7, 1)]"
      ]
     },
     "execution_count": 13,
     "metadata": {},
     "output_type": "execute_result"
    }
   ],
   "source": [
    "# YOUR CODE HERE\n",
    "result4 = %sql SELECT student_id, COUNT(*) FROM enrollment GROUP BY student_id; \n",
    "result4"
   ]
  },
  {
   "cell_type": "code",
   "execution_count": 14,
   "metadata": {
    "deletable": false,
    "editable": false,
    "nbgrader": {
     "checksum": "697fe4bc4b37920fca03ba1fc7e43073",
     "grade": true,
     "grade_id": "cell-859f771d79f4ae09",
     "locked": true,
     "points": 5,
     "schema_version": 1,
     "solution": false
    },
    "tags": [
     "Exercise-4"
    ]
   },
   "outputs": [],
   "source": [
    "### INTENTIONALLY LEFT BLANK\n"
   ]
  },
  {
   "cell_type": "markdown",
   "metadata": {
    "deletable": false,
    "editable": false,
    "nbgrader": {
     "checksum": "4de0b292c2fbabef6459f4ea38bb74db",
     "grade": false,
     "grade_id": "cell-7b6c7b8fec4ef285",
     "locked": true,
     "schema_version": 1,
     "solution": false
    },
    "tags": [
     "Exercise-5"
    ]
   },
   "source": [
    "### Exercise 5: Nested Query and Aggregate Functions\n",
    "\n",
    "**<div style=\"text-align: right\">[POINTS: 5]</div>**\n",
    "\n",
    "\n",
    "**Task:**  List the student id and name of students who are enrolled in more than one course. Store the result of the query in a variable named `result5`"
   ]
  },
  {
   "cell_type": "code",
   "execution_count": 15,
   "metadata": {
    "deletable": false,
    "nbgrader": {
     "checksum": "3703241c884a610ecc78856b911d507b",
     "grade": false,
     "grade_id": "cell-e196951cd62d6ceb",
     "locked": false,
     "schema_version": 1,
     "solution": true
    },
    "tags": [
     "Exercise-5"
    ]
   },
   "outputs": [
    {
     "name": "stdout",
     "output_type": "stream",
     "text": [
      " * sqlite://\n",
      "Done.\n"
     ]
    },
    {
     "data": {
      "text/html": [
       "<table>\n",
       "    <tr>\n",
       "        <th>student_name</th>\n",
       "    </tr>\n",
       "    <tr>\n",
       "        <td>John Doe</td>\n",
       "    </tr>\n",
       "</table>"
      ],
      "text/plain": [
       "[('John Doe',)]"
      ]
     },
     "execution_count": 15,
     "metadata": {},
     "output_type": "execute_result"
    }
   ],
   "source": [
    "# YOUR CODE HERE\n",
    "result5 = %sql SELECT student_name FROM student NATURAL JOIN (SELECT student_id, COUNT(*) FROM enrollment GROUP BY student_id HAVING COUNT(*) > 1);\n",
    "result5"
   ]
  },
  {
   "cell_type": "code",
   "execution_count": 16,
   "metadata": {
    "deletable": false,
    "editable": false,
    "nbgrader": {
     "checksum": "315d5c34e8d1cef7d49d20699720b8cd",
     "grade": true,
     "grade_id": "cell-8de5fe5d848802bf",
     "locked": true,
     "points": 5,
     "schema_version": 1,
     "solution": false
    },
    "tags": [
     "Exercise-5"
    ]
   },
   "outputs": [],
   "source": [
    "### INTENTIONALLY LEFT BLANK\n"
   ]
  },
  {
   "cell_type": "markdown",
   "metadata": {
    "deletable": false,
    "editable": false,
    "nbgrader": {
     "checksum": "8a8291a8c43108f5e87f30019505a08f",
     "grade": false,
     "grade_id": "cell-55ff3993e2072be2",
     "locked": true,
     "schema_version": 1,
     "solution": false
    },
    "tags": [
     "Exercise-6"
    ]
   },
   "source": [
    "### Exercise 6: Queries with Set-Comparision Operators\n",
    "\n",
    "**<div style=\"text-align: right\">[POINTS: 5]</div>**\n",
    "\n",
    "**Task:**  List out the name and marks of all assignments whose total marks is greater than average marks of assignments.  Store the result of the query in a variable named `result6`.\n",
    "\n",
    "**Note:** Also take care of the case where assignment mark = 0"
   ]
  },
  {
   "cell_type": "code",
   "execution_count": 17,
   "metadata": {
    "deletable": false,
    "nbgrader": {
     "checksum": "be41906f36bf74260789966bb964d034",
     "grade": false,
     "grade_id": "cell-205c249b2d76c900",
     "locked": false,
     "schema_version": 1,
     "solution": true
    },
    "tags": [
     "Exercise-6"
    ]
   },
   "outputs": [
    {
     "name": "stdout",
     "output_type": "stream",
     "text": [
      " * sqlite://\n",
      "Done.\n"
     ]
    },
    {
     "data": {
      "text/html": [
       "<table>\n",
       "    <tr>\n",
       "        <th>assignment_name</th>\n",
       "        <th>assignment_marks</th>\n",
       "    </tr>\n",
       "    <tr>\n",
       "        <td>Inverse Kinematics</td>\n",
       "        <td>90</td>\n",
       "    </tr>\n",
       "    <tr>\n",
       "        <td>Least-Squares</td>\n",
       "        <td>100</td>\n",
       "    </tr>\n",
       "    <tr>\n",
       "        <td>Eigen Faces</td>\n",
       "        <td>110</td>\n",
       "    </tr>\n",
       "    <tr>\n",
       "        <td>Image edge detection</td>\n",
       "        <td>90</td>\n",
       "    </tr>\n",
       "    <tr>\n",
       "        <td>Multi variable gradient descent</td>\n",
       "        <td>100</td>\n",
       "    </tr>\n",
       "    <tr>\n",
       "        <td>N/A</td>\n",
       "        <td>110</td>\n",
       "    </tr>\n",
       "</table>"
      ],
      "text/plain": [
       "[('Inverse Kinematics', 90),\n",
       " ('Least-Squares', 100),\n",
       " ('Eigen Faces', 110),\n",
       " ('Image edge detection', 90),\n",
       " ('Multi variable gradient descent', 100),\n",
       " ('N/A', 110)]"
      ]
     },
     "execution_count": 17,
     "metadata": {},
     "output_type": "execute_result"
    }
   ],
   "source": [
    "# YOUR CODE HERE\n",
    "result6 = %sql SELECT assignment.assignment_name, assignment.assignment_marks FROM assignment WHERE assignment.assignment_marks > (SELECT avg(assignment_marks) FROM assignment WHERE assignment_marks != 0)\n",
    "result6"
   ]
  },
  {
   "cell_type": "code",
   "execution_count": 18,
   "metadata": {
    "deletable": false,
    "editable": false,
    "nbgrader": {
     "checksum": "716bbafa94e06e2a145f8b224a86365a",
     "grade": true,
     "grade_id": "cell-574df0862a7ebebe",
     "locked": true,
     "points": 5,
     "schema_version": 1,
     "solution": false
    },
    "tags": [
     "Exercise-6"
    ]
   },
   "outputs": [],
   "source": [
    "### INTENTIONALLY LEFT BLANK\n"
   ]
  },
  {
   "cell_type": "markdown",
   "metadata": {
    "deletable": false,
    "editable": false,
    "nbgrader": {
     "checksum": "ce3c3092b537fbedadc60cb6e9525fae",
     "grade": false,
     "grade_id": "cell-2225a71534462d13",
     "locked": true,
     "schema_version": 1,
     "solution": false
    },
    "tags": [
     "Exercise-7"
    ]
   },
   "source": [
    "### Exercise 7: The GROUP BY clause\n",
    "\n",
    "**<div style=\"text-align: right\">[POINTS: 5]</div>**\n",
    "\n",
    "**Task:** List module number and total time allotted(as alias total_time_allotted) for each module of the first course. Store the result of the query in a variable named `result7`.\n"
   ]
  },
  {
   "cell_type": "code",
   "execution_count": 19,
   "metadata": {
    "deletable": false,
    "nbgrader": {
     "checksum": "3853e1815829857bad99892d4033d7bd",
     "grade": false,
     "grade_id": "cell-3b2e2e0bb59c2e23",
     "locked": false,
     "schema_version": 1,
     "solution": true
    },
    "tags": [
     "Exercise-7"
    ]
   },
   "outputs": [
    {
     "name": "stdout",
     "output_type": "stream",
     "text": [
      " * sqlite://\n",
      "Done.\n"
     ]
    },
    {
     "data": {
      "text/html": [
       "<table>\n",
       "    <tr>\n",
       "        <th>module_num</th>\n",
       "        <th>total_time_allotted</th>\n",
       "    </tr>\n",
       "    <tr>\n",
       "        <td>1</td>\n",
       "        <td>0.75</td>\n",
       "    </tr>\n",
       "    <tr>\n",
       "        <td>2</td>\n",
       "        <td>6.25</td>\n",
       "    </tr>\n",
       "    <tr>\n",
       "        <td>3</td>\n",
       "        <td>15.25</td>\n",
       "    </tr>\n",
       "</table>"
      ],
      "text/plain": [
       "[(1, 0.75), (2, 6.25), (3, 15.25)]"
      ]
     },
     "execution_count": 19,
     "metadata": {},
     "output_type": "execute_result"
    }
   ],
   "source": [
    "# YOUR CODE HERE\n",
    "result7 = %sql SELECT module_num, SUM(time_allotted) AS total_time_allotted FROM unit WHERE course_id = 1 GROUP BY module_num;\n",
    "result7"
   ]
  },
  {
   "cell_type": "code",
   "execution_count": 20,
   "metadata": {
    "deletable": false,
    "editable": false,
    "nbgrader": {
     "checksum": "f5a70206ded4708b2d1fb82e2d6a0a98",
     "grade": true,
     "grade_id": "cell-ba2f581ccecb6c7d",
     "locked": true,
     "points": 5,
     "schema_version": 1,
     "solution": false
    },
    "tags": [
     "Exercise-7"
    ]
   },
   "outputs": [],
   "source": [
    "### INTENTIONALLY LEFT BLANK\n"
   ]
  },
  {
   "cell_type": "markdown",
   "metadata": {
    "deletable": false,
    "editable": false,
    "nbgrader": {
     "checksum": "8b1c006d4f8bb1703538a539c9e1b386",
     "grade": false,
     "grade_id": "cell-67167e673305080a",
     "locked": true,
     "schema_version": 1,
     "solution": false
    },
    "tags": [
     "Exercise-8"
    ]
   },
   "source": [
    "### Exercise 8: Additional Information using JOINs\n",
    "\n",
    "**<div style=\"text-align: right\">[POINTS: 10]</div>**\n",
    "\n",
    "**Task:** List the module name and total time allotted(as alias total_time_allotted) for each module of the first course. Store the result of the query in a variable named `result8`.\n"
   ]
  },
  {
   "cell_type": "code",
   "execution_count": 21,
   "metadata": {
    "deletable": false,
    "nbgrader": {
     "checksum": "2dd546615ade479bc5bf96952a0357b8",
     "grade": false,
     "grade_id": "cell-af09e2b77cc42817",
     "locked": false,
     "schema_version": 1,
     "solution": true
    },
    "tags": [
     "Exercise-8"
    ]
   },
   "outputs": [
    {
     "name": "stdout",
     "output_type": "stream",
     "text": [
      " * sqlite://\n",
      "Done.\n"
     ]
    },
    {
     "data": {
      "text/html": [
       "<table>\n",
       "    <tr>\n",
       "        <th>module_name</th>\n",
       "        <th>total_time_alloted</th>\n",
       "    </tr>\n",
       "    <tr>\n",
       "        <td>Introduction to the Course</td>\n",
       "        <td>0.75</td>\n",
       "    </tr>\n",
       "    <tr>\n",
       "        <td>Basics of Computer Systems</td>\n",
       "        <td>6.25</td>\n",
       "    </tr>\n",
       "    <tr>\n",
       "        <td>Python Programming</td>\n",
       "        <td>15.25</td>\n",
       "    </tr>\n",
       "</table>"
      ],
      "text/plain": [
       "[('Introduction to the Course', 0.75),\n",
       " ('Basics of Computer Systems', 6.25),\n",
       " ('Python Programming', 15.25)]"
      ]
     },
     "execution_count": 21,
     "metadata": {},
     "output_type": "execute_result"
    }
   ],
   "source": [
    "# YOUR CODE HERE\n",
    "result8 = %sql SELECT module_name, sum(time_allotted) as total_time_alloted FROM module NATURAL JOIN unit WHERE course_id =1 GROUP BY module_num;\n",
    "result8"
   ]
  },
  {
   "cell_type": "code",
   "execution_count": 22,
   "metadata": {
    "deletable": false,
    "editable": false,
    "nbgrader": {
     "checksum": "2b02baf0faac0cda7423db45f6efa1de",
     "grade": true,
     "grade_id": "cell-c101b5d36bdb7932",
     "locked": true,
     "points": 10,
     "schema_version": 1,
     "solution": false
    },
    "tags": [
     "Exercise-8"
    ]
   },
   "outputs": [],
   "source": [
    "### INTENTIONALLY LEFT BLANK\n"
   ]
  }
 ],
 "metadata": {
  "kernelspec": {
   "display_name": "Python 3",
   "language": "python",
   "name": "python3"
  },
  "language_info": {
   "codemirror_mode": {
    "name": "ipython",
    "version": 3
   },
   "file_extension": ".py",
   "mimetype": "text/x-python",
   "name": "python",
   "nbconvert_exporter": "python",
   "pygments_lexer": "ipython3",
   "version": "3.6.8"
  }
 },
 "nbformat": 4,
 "nbformat_minor": 2
}
