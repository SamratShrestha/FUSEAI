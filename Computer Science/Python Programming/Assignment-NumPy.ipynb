{
 "cells": [
  {
   "cell_type": "markdown",
   "metadata": {
    "colab_type": "text",
    "deletable": false,
    "editable": false,
    "id": "Un0Xurye_BOJ",
    "nbgrader": {
     "checksum": "167e66e9bb1f251ba1fe2ee8a9a2b0e4",
     "grade": false,
     "grade_id": "cell-5e7870b6dfa75a5c",
     "locked": true,
     "schema_version": 1,
     "solution": false
    }
   },
   "source": [
    "# Assignment 1.3: NumPy\n",
    "**<div style=\"text-align: right\"> [Total score: 10]</div>**\n",
    "\n",
    "NumPy is a Python library that lets you work with multidimensional arrays and matrices, along with a large collection of high-level mathematical functions to operate on these arrays. [Here is NumPy's official documentation](https://numpy.org/devdocs/) if you feel like you need it.\n",
    "\n",
    "This assignment is divided into multiple sections. In the first section, you will implement the Normal Equation for linear regression. In the next section, you will build a simple, single-layer neural network that classifies a data point into three different classes."
   ]
  },
  {
   "cell_type": "markdown",
   "metadata": {
    "colab_type": "text",
    "deletable": false,
    "editable": false,
    "id": "cx_4Yor7_BPV",
    "nbgrader": {
     "checksum": "c11868fa34bee6763a425cb52d44e230",
     "grade": false,
     "grade_id": "cell-aa6473400b0475d9",
     "locked": true,
     "schema_version": 1,
     "solution": false
    }
   },
   "source": [
    "## Section 1: The Normal Equation\n",
    "\n",
    "### Exercise 1: Generating Random Matrices\n",
    "\n",
    "**<div style=\"text-align: right\"> [Score: 5]</div>**\n",
    "**Task:** Generate a `4x4` random matrix with `np.random.rand` using a random seed of `42`. Store it in a variable named `data`.\n"
   ]
  },
  {
   "cell_type": "code",
   "execution_count": 1,
   "metadata": {
    "colab": {},
    "colab_type": "code",
    "deletable": false,
    "id": "DUafdllUWUFB",
    "nbgrader": {
     "checksum": "34ca82d1ce9d49fee086cca9f8b89ef3",
     "grade": false,
     "grade_id": "cell-4269dd979168f91f",
     "locked": false,
     "schema_version": 1,
     "solution": true
    },
    "tags": [
     "Exercise-1"
    ]
   },
   "outputs": [
    {
     "data": {
      "text/plain": [
       "array([[0.37454012, 0.95071431, 0.73199394, 0.59865848],\n",
       "       [0.15601864, 0.15599452, 0.05808361, 0.86617615],\n",
       "       [0.60111501, 0.70807258, 0.02058449, 0.96990985],\n",
       "       [0.83244264, 0.21233911, 0.18182497, 0.18340451]])"
      ]
     },
     "execution_count": 1,
     "metadata": {},
     "output_type": "execute_result"
    }
   ],
   "source": [
    "import numpy as np\n",
    "data = None\n",
    "# YOUR CODE HERE\n",
    "np.random.seed(42)\n",
    "data = np.random.rand(4,4)\n",
    "data"
   ]
  },
  {
   "cell_type": "code",
   "execution_count": 2,
   "metadata": {
    "colab": {},
    "colab_type": "code",
    "deletable": false,
    "editable": false,
    "id": "ZteP_BceWgC1",
    "nbgrader": {
     "checksum": "b9f63f38daf6633638cf40dd0fd2fe02",
     "grade": true,
     "grade_id": "cell-c92f3192832d9adc",
     "locked": true,
     "points": 5,
     "schema_version": 1,
     "solution": false
    },
    "tags": [
     "Exercise-1"
    ]
   },
   "outputs": [],
   "source": [
    "assert data is not None"
   ]
  },
  {
   "cell_type": "markdown",
   "metadata": {
    "colab_type": "text",
    "deletable": false,
    "editable": false,
    "id": "df2JUA3CWkkM",
    "nbgrader": {
     "checksum": "b2a2bd7da86d454b4ea1ab22567833b9",
     "grade": false,
     "grade_id": "cell-689dec40c69dd203",
     "locked": true,
     "schema_version": 1,
     "solution": false
    },
    "tags": [
     "Exercise-2"
    ]
   },
   "source": [
    "### Exercise 2: Indexing, Slicing and Reshaping\n",
    "\n",
    "**<div style=\"text-align: right\"> [Score: 5]</div>**\n",
    "\n",
    "**Task**: Slice out `X` and `y` from `data` such that`X` is the first three columns, `y` is the last column. Reshape `y` to be `(4, 1)`."
   ]
  },
  {
   "cell_type": "code",
   "execution_count": 19,
   "metadata": {
    "colab": {},
    "colab_type": "code",
    "deletable": false,
    "id": "KKn83U6AW38U",
    "nbgrader": {
     "checksum": "eb101dbe2c1b0d09e9178288efd24cae",
     "grade": false,
     "grade_id": "cell-8501816458e1cf71",
     "locked": false,
     "schema_version": 1,
     "solution": true
    },
    "tags": [
     "Exercise-2"
    ]
   },
   "outputs": [
    {
     "data": {
      "text/plain": [
       "(4, 1)"
      ]
     },
     "execution_count": 19,
     "metadata": {},
     "output_type": "execute_result"
    }
   ],
   "source": [
    "X = None\n",
    "y = None\n",
    "X=data[:,:3]\n",
    "y= data[:,3:].reshape(4,1)\n",
    "y.shape"
   ]
  },
  {
   "cell_type": "code",
   "execution_count": 4,
   "metadata": {
    "colab": {},
    "colab_type": "code",
    "deletable": false,
    "editable": false,
    "id": "vpm5nFNjXRJQ",
    "nbgrader": {
     "checksum": "df578ae6a64d9a0bb4df49999ebb585c",
     "grade": true,
     "grade_id": "cell-ec2df60d4960df4f",
     "locked": true,
     "points": 5,
     "schema_version": 1,
     "solution": false
    },
    "tags": [
     "Exercise-2"
    ]
   },
   "outputs": [],
   "source": [
    "assert X.shape == (4, 3)\n",
    "assert y.shape == (4, 1)"
   ]
  },
  {
   "cell_type": "markdown",
   "metadata": {
    "colab_type": "text",
    "deletable": false,
    "editable": false,
    "id": "l91251QcXxzs",
    "nbgrader": {
     "checksum": "19d68c91f5480caac9723259205154bf",
     "grade": false,
     "grade_id": "cell-c0327f50c00df2f2",
     "locked": true,
     "schema_version": 1,
     "solution": false
    },
    "tags": [
     "Exercise-3"
    ]
   },
   "source": [
    "### Exercise 3: The Normal Equation\n",
    "**<div style=\"text-align: right\"> [Score: 10]</div>**\n",
    "\n",
    "**Task**: Implement the normal equation in a function called `theta` that takes in the matrices `X` and `y` and returns the least squares solution to the system $X * \\text{<theta>} = y$. For your reference, $ \\text{<theta>} = (X^TX)^{-1}X^Ty$."
   ]
  },
  {
   "cell_type": "code",
   "execution_count": 5,
   "metadata": {
    "colab": {},
    "colab_type": "code",
    "deletable": false,
    "id": "NUJz_0szX5rB",
    "nbgrader": {
     "checksum": "ee16907f1e9469dc2d103b29199a432a",
     "grade": false,
     "grade_id": "cell-e0bed8344d69c6d7",
     "locked": false,
     "schema_version": 1,
     "solution": true
    },
    "tags": [
     "Exercise-3"
    ]
   },
   "outputs": [],
   "source": [
    "import numpy as np\n",
    "def theta(X, y):\n",
    "    return np.dot(np.linalg.inv(np.dot(X.T,X)), np.dot(X.T,y))\n",
    "\n"
   ]
  },
  {
   "cell_type": "code",
   "execution_count": 6,
   "metadata": {
    "colab": {},
    "colab_type": "code",
    "deletable": false,
    "editable": false,
    "id": "_pc4zn-9YNCb",
    "nbgrader": {
     "checksum": "a260bcae4cbf88c5632638a0d9c94e1b",
     "grade": true,
     "grade_id": "cell-54bfdba5d5d3e21f",
     "locked": true,
     "points": 10,
     "schema_version": 1,
     "solution": false
    },
    "tags": [
     "Exercise-3"
    ]
   },
   "outputs": [],
   "source": [
    "### INTENTIONALLY LEFT BLANK"
   ]
  },
  {
   "cell_type": "markdown",
   "metadata": {
    "colab_type": "text",
    "deletable": false,
    "editable": false,
    "id": "3BxRPAi4YzhC",
    "nbgrader": {
     "checksum": "b55dad3f3c3206f18c388d3a6aec2134",
     "grade": false,
     "grade_id": "cell-d0d11e0ce651934e",
     "locked": true,
     "schema_version": 1,
     "solution": false
    }
   },
   "source": [
    "## Section 2: Computational Network\n",
    "\n",
    "In this task, we'll build a series of functions in NumPy that will form a computational network."
   ]
  },
  {
   "cell_type": "markdown",
   "metadata": {
    "deletable": false,
    "editable": false,
    "nbgrader": {
     "checksum": "69c32d56f33268df8ed51c8e8cf730d8",
     "grade": false,
     "grade_id": "cell-9f368ec30cd50bcc",
     "locked": true,
     "schema_version": 1,
     "solution": false
    },
    "tags": [
     "Exercise-4"
    ]
   },
   "source": [
    "### Exercise 4: Generating Random Data\n",
    "\n",
    "**<div style=\"text-align: right\"> [Score: 5]</div>**\n",
    "\n",
    "**Task:** Generate two matrices `X` and `W` with `np.random.rand`(with random seed `42`):\n",
    "\n",
    "- **`X`**: `6 x 2 x 2` random array\n",
    "- **`W`**: `4 x 3` random array\n",
    "\n",
    "Also, reshape `X` to be `6 x 4`."
   ]
  },
  {
   "cell_type": "code",
   "execution_count": 20,
   "metadata": {
    "colab": {},
    "colab_type": "code",
    "deletable": false,
    "id": "N7N9sX9tYt3A",
    "nbgrader": {
     "checksum": "6845256a024b9960c6a6dd89aa60c2a5",
     "grade": false,
     "grade_id": "cell-cbf82cae29693cc6",
     "locked": false,
     "schema_version": 1,
     "solution": true
    },
    "tags": [
     "Exercise-4"
    ]
   },
   "outputs": [
    {
     "data": {
      "text/plain": [
       "array([[0.37454012, 0.95071431, 0.73199394, 0.59865848],\n",
       "       [0.15601864, 0.15599452, 0.05808361, 0.86617615],\n",
       "       [0.60111501, 0.70807258, 0.02058449, 0.96990985],\n",
       "       [0.83244264, 0.21233911, 0.18182497, 0.18340451],\n",
       "       [0.30424224, 0.52475643, 0.43194502, 0.29122914],\n",
       "       [0.61185289, 0.13949386, 0.29214465, 0.36636184]])"
      ]
     },
     "execution_count": 20,
     "metadata": {},
     "output_type": "execute_result"
    }
   ],
   "source": [
    "X = None\n",
    "W = None\n",
    "np.random.seed(42)\n",
    "X=np.random.rand(6,2,2)\n",
    "W=np.random.rand(4,3)\n",
    "X=X.reshape(6,4)\n",
    "X"
   ]
  },
  {
   "cell_type": "code",
   "execution_count": 21,
   "metadata": {
    "colab": {},
    "colab_type": "code",
    "deletable": false,
    "editable": false,
    "id": "vdbJ4FthegJt",
    "nbgrader": {
     "checksum": "9ebe641a9b4ba4d522beeca8806c2d85",
     "grade": true,
     "grade_id": "cell-229a515fbd1a9f94",
     "locked": true,
     "points": 0,
     "schema_version": 1,
     "solution": false
    },
    "tags": [
     "Exercise-4"
    ]
   },
   "outputs": [],
   "source": [
    "assert X.shape == (6, 4)\n",
    "assert W.shape == (4, 3)\n"
   ]
  },
  {
   "cell_type": "markdown",
   "metadata": {
    "colab_type": "text",
    "deletable": false,
    "editable": false,
    "id": "MUMXZaS9emPp",
    "nbgrader": {
     "checksum": "c19f8643533accae5e8a23281237a520",
     "grade": false,
     "grade_id": "cell-733d2686c0456995",
     "locked": true,
     "schema_version": 1,
     "solution": false
    },
    "tags": [
     "Exercise-5"
    ]
   },
   "source": [
    "### Exercise 5: Linear Equations\n",
    "\n",
    "**<div style=\"text-align: right\"> [Score: 5]</div>**\n",
    "**Task:** Create a function named `linear` that accepts `X`, `W`, and `b`. It should return the value $XW + b$."
   ]
  },
  {
   "cell_type": "code",
   "execution_count": 22,
   "metadata": {
    "colab": {},
    "colab_type": "code",
    "deletable": false,
    "id": "6gFfXBcNe0Q7",
    "nbgrader": {
     "checksum": "15012524625999de032cf44f82efdf26",
     "grade": false,
     "grade_id": "cell-a253eb08a6142eb2",
     "locked": false,
     "schema_version": 1,
     "solution": true
    },
    "tags": [
     "Exercise-5"
    ]
   },
   "outputs": [
    {
     "data": {
      "text/plain": [
       "array([7, 8])"
      ]
     },
     "execution_count": 22,
     "metadata": {},
     "output_type": "execute_result"
    }
   ],
   "source": [
    "def linear(X, W, b):\n",
    "    return np.dot(X,W)+b\n",
    "linear([1,1],[1,1],[5,6])"
   ]
  },
  {
   "cell_type": "code",
   "execution_count": 23,
   "metadata": {
    "colab": {},
    "colab_type": "code",
    "deletable": false,
    "editable": false,
    "id": "KtXUsxjxfQNg",
    "nbgrader": {
     "checksum": "5675e113abdab7961f12baff2b8746c5",
     "grade": true,
     "grade_id": "cell-4b468325e62e9c9c",
     "locked": true,
     "points": 5,
     "schema_version": 1,
     "solution": false
    },
    "tags": [
     "Exercise-5"
    ]
   },
   "outputs": [],
   "source": [
    "### INTENTIONALLY LEFT BLANK"
   ]
  },
  {
   "cell_type": "markdown",
   "metadata": {
    "colab_type": "text",
    "deletable": false,
    "editable": false,
    "id": "sr63AFjGhwm1",
    "nbgrader": {
     "checksum": "cdf3154381f5b83f97a9c06f2c5cef8a",
     "grade": false,
     "grade_id": "cell-f938b33544c4c008",
     "locked": true,
     "schema_version": 1,
     "solution": false
    },
    "tags": [
     "Exercise-6"
    ]
   },
   "source": [
    "### Exercise 6: Softmax Function\n",
    "**<div style=\"text-align: right\"> [Score: 5]</div>**\n",
    "**Task:** Implement the softmax function\n",
    "\n",
    "$$\n",
    "\\text{Softmax}(x_{i}) = \\frac{\\exp(x_i)}{\\sum_j \\exp(x_j)}\n",
    "$$\n",
    "\n",
    "Your function should be named `softmax` and it should take in a NumPy array `x`. It should find the softmax of every single row in `x` if it has multiple rows, or the softmax of `x` if `x` is a vector."
   ]
  },
  {
   "cell_type": "code",
   "execution_count": 24,
   "metadata": {
    "colab": {},
    "colab_type": "code",
    "deletable": false,
    "id": "Rsgjvte5i_TG",
    "nbgrader": {
     "checksum": "4e3f37e0e19ae1d78f2849500ef53f7f",
     "grade": false,
     "grade_id": "cell-cbf724fc844e812f",
     "locked": false,
     "schema_version": 1,
     "solution": true
    },
    "tags": [
     "Exercise-6"
    ]
   },
   "outputs": [],
   "source": [
    "def softmax(X):\n",
    "    return np.exp(X) / np.sum(np.exp(X),axis=1).reshape(-1,1)"
   ]
  },
  {
   "cell_type": "code",
   "execution_count": 25,
   "metadata": {
    "colab": {},
    "colab_type": "code",
    "deletable": false,
    "editable": false,
    "id": "vj34HO7Pm4E3",
    "nbgrader": {
     "checksum": "1bf7e0cd69b5b04a7bb9c33a4d866f8a",
     "grade": true,
     "grade_id": "cell-a8cbe862e1b93c2a",
     "locked": true,
     "points": 5,
     "schema_version": 1,
     "solution": false
    },
    "tags": [
     "Exercise-6"
    ]
   },
   "outputs": [],
   "source": [
    "### INTENTIONALLY LEFT BLANK"
   ]
  },
  {
   "cell_type": "markdown",
   "metadata": {
    "colab_type": "text",
    "deletable": false,
    "editable": false,
    "id": "iQbRRs4Fnm7A",
    "nbgrader": {
     "checksum": "6030aa39a073dbe14ece39c6928b71f4",
     "grade": false,
     "grade_id": "cell-5250278111cbd83d",
     "locked": true,
     "schema_version": 1,
     "solution": false
    },
    "tags": [
     "Exercise-7"
    ]
   },
   "source": [
    "### Exercise 7: Cross Entropy\n",
    "\n",
    "**<div style=\"text-align: right\"> [Score: 5]</div>**\n",
    "**Task:** Implement the CrossEntropy Loss:\n",
    "\n",
    "$$ CE(y, \\hat y) = -\\sum_{i}y_{i}\\log \\hat y_{i} $$\n",
    "\n",
    "Build a function `cross_entropy` that takes in two matrices `y` and `yhat`, and returns the cross entropy between each row in `y` and the corresponding row in `yhat`. That is, the shape of the returned array should be `(y.shape[0],)`.\n"
   ]
  },
  {
   "cell_type": "code",
   "execution_count": 13,
   "metadata": {
    "colab": {},
    "colab_type": "code",
    "deletable": false,
    "id": "-Wj44YdDnxqX",
    "nbgrader": {
     "checksum": "91eb9dafc71abb540dfba0d7c17c6c31",
     "grade": false,
     "grade_id": "cell-9a2af4f0f8c78072",
     "locked": false,
     "schema_version": 1,
     "solution": true
    },
    "tags": [
     "Exercise-7"
    ]
   },
   "outputs": [],
   "source": [
    "def cross_entropy(y, yhat):\n",
    "    return -np.sum(y*np.log(yhat),axis=1)\n"
   ]
  },
  {
   "cell_type": "code",
   "execution_count": 14,
   "metadata": {
    "colab": {},
    "colab_type": "code",
    "deletable": false,
    "editable": false,
    "id": "E6_7WB5BoNP7",
    "nbgrader": {
     "checksum": "249a3f772c53c51cb6efd747cb409362",
     "grade": true,
     "grade_id": "cell-05c25caad52eca4f",
     "locked": true,
     "points": 5,
     "schema_version": 1,
     "solution": false
    },
    "tags": [
     "Exercise-7"
    ]
   },
   "outputs": [],
   "source": [
    "### INTENTIONALLY LEFT BLANK"
   ]
  },
  {
   "cell_type": "markdown",
   "metadata": {
    "colab_type": "text",
    "deletable": false,
    "editable": false,
    "id": "IkrEmacQo_BU",
    "nbgrader": {
     "checksum": "6891ea39fa9188fa93cced93e68c926a",
     "grade": false,
     "grade_id": "cell-21ad2044e807c7a7",
     "locked": true,
     "schema_version": 1,
     "solution": false
    },
    "tags": [
     "Exercise-8"
    ]
   },
   "source": [
    "### Exercise 8: Argmax\n",
    "\n",
    "**<div style=\"text-align: right\"> [Score: 5]</div>**\n",
    "\n",
    "The argmax of a vector $x$ is defined as the index of the maximum value in $x$. For example, the argmax of the vector $(0,-5,9)$ is 2, since the third element in this vector is larger than all other elements. Remember that in much of programming, you count starting at 0.\n",
    "\n",
    "**Task:**\n",
    "Define a function `argmax` that takes in a matrix `A`, and returns a vector that contains the argmax of every single row in the matrix `A`."
   ]
  },
  {
   "cell_type": "code",
   "execution_count": 15,
   "metadata": {
    "colab": {},
    "colab_type": "code",
    "deletable": false,
    "id": "7bWk05ZRpN5d",
    "nbgrader": {
     "checksum": "2d116fb9ac8f3a461fd248e28aa703bc",
     "grade": false,
     "grade_id": "cell-931be8a06213a484",
     "locked": false,
     "schema_version": 1,
     "solution": true
    },
    "tags": [
     "Exercise-8"
    ]
   },
   "outputs": [],
   "source": [
    "def argmax(A):\n",
    "    return np.argmax(A,axis=1)\n"
   ]
  },
  {
   "cell_type": "code",
   "execution_count": 16,
   "metadata": {
    "colab": {},
    "colab_type": "code",
    "deletable": false,
    "editable": false,
    "id": "2XKMg20BpZj-",
    "nbgrader": {
     "checksum": "8e1db2fbb7808e4a172bc37312697be9",
     "grade": true,
     "grade_id": "cell-58ce820df7f44bdc",
     "locked": true,
     "points": 5,
     "schema_version": 1,
     "solution": false
    },
    "tags": [
     "Exercise-8"
    ]
   },
   "outputs": [],
   "source": [
    "assert argmax(np.array([[0, -5, 9]]))[0] == 2\n"
   ]
  },
  {
   "cell_type": "markdown",
   "metadata": {
    "colab_type": "text",
    "deletable": false,
    "editable": false,
    "id": "wyggmBIRpm4H",
    "nbgrader": {
     "checksum": "cf14f75dcd020ed7e4ab622792948b32",
     "grade": false,
     "grade_id": "cell-64e3dee9af9b7f37",
     "locked": true,
     "schema_version": 1,
     "solution": false
    },
    "tags": [
     "Exercise-9"
    ]
   },
   "source": [
    "### Exercise 9: Bringing It All Together!\n",
    "\n",
    "**<div style=\"text-align: right\"> [Score: 10]</div>**\n",
    "\n",
    "Even though the last three exercises in this section probably seemed completely unrelated to you, they were in fact building up to what you will create now. We will build a simple model that takes in some random data, and tries *classifying* them into one of **#todo** classes. Remember the two arrays `X` and `W` from the first exercise in this section? You will be using them in this exercise.\n",
    "\n",
    "\n",
    "**Task:** You will build a function `predict` that takes in `X` and `W` from before and `y`, which is given below, and then computes and returns the following **in order**:\n",
    "\n",
    "1. Treating the rows in `X` as data points, you will compute the output of the linear expression $XW+ b$, setting `b` = 1. Store this result to the variable `linear_result`.\n",
    "2. Then, you will find out the softmax of `linear_result`. Store this result to the variable `softmax_result`.\n",
    "3. You will compute the crossentropy of `softmax_result` and `y`. Store this result to the variable `ce`.\n",
    "3. You will then find out the argmax of the rows of `softmax_result`. Store this result to the variable `argmax_result`. The result in `argmax_result` are then the predicted classes for the instances in $A$.\n",
    "\n",
    "Remember that all three of the above tasks should be done using the functions you have defined in the previous exercises. If you do not, you will **not** receive any points for this exercise."
   ]
  },
  {
   "cell_type": "code",
   "execution_count": 33,
   "metadata": {
    "colab": {},
    "colab_type": "code",
    "deletable": false,
    "id": "yYAztnAyp2oc",
    "nbgrader": {
     "checksum": "fef1d7124784e40275733e00422ddf4b",
     "grade": false,
     "grade_id": "cell-7d87cf6a339e2547",
     "locked": false,
     "schema_version": 1,
     "solution": true
    },
    "tags": [
     "Exercise-9"
    ]
   },
   "outputs": [
    {
     "name": "stdout",
     "output_type": "stream",
     "text": [
      "[[2.67248407 2.56020334 1.65051822]\n",
      " [2.00856359 2.0612276  1.74239177]\n",
      " [2.57110525 2.83153974 1.93832878]\n",
      " [1.7733409  1.98751355 1.33617193]\n",
      " [1.94737268 1.90463428 1.34865193]\n",
      " [1.87590672 1.96663882 1.44382095]]\n",
      "\n",
      "[[0.44371871 0.39659281 0.15968849]\n",
      " [0.35456179 0.37373487 0.27170334]\n",
      " [0.35353068 0.45870383 0.18776549]\n",
      " [0.34665664 0.42945091 0.22389245]\n",
      " [0.39877557 0.38209161 0.21913282]\n",
      " [0.36441431 0.39902479 0.2365609 ]]\n",
      "\n",
      "[1.37989798 1.52542528 1.04578749 1.13956296 1.4733546  1.56567593]\n",
      "\n",
      "[0 1 1 1 0 1]\n",
      "[[2.67248407 2.56020334 1.65051822]\n",
      " [2.00856359 2.0612276  1.74239177]\n",
      " [2.57110525 2.83153974 1.93832878]\n",
      " [1.7733409  1.98751355 1.33617193]\n",
      " [1.94737268 1.90463428 1.34865193]\n",
      " [1.87590672 1.96663882 1.44382095]]\n"
     ]
    }
   ],
   "source": [
    "def predict(X, W, y):\n",
    "    # fill in the code using the functions you have defined above\n",
    "    linear_result = linear(X,W,1) # set b = 1\n",
    "    softmax_result = softmax(linear_result)\n",
    "    ce = cross_entropy(softmax_result,y)\n",
    "    argmax_result = argmax(softmax_result)\n",
    "    return linear_result, softmax_result, ce, argmax_result\n",
    "\n",
    "\n",
    "y = np.array([\n",
    "    [0.8,0.1,0.1],\n",
    "    [0.1,0.8,0.1],\n",
    "    [0.3,0.5,0.2],\n",
    "    [0.3,0.3,0.4],\n",
    "    [0.8,0.1,0.1],\n",
    "    [0.1,0.2,0.7]\n",
    "])\n",
    "linear_result, softmax_result, ce, argmax_result= predict(X, W, y)\n",
    "print(linear_result, softmax_result, ce, argmax_result,sep='\\n\\n')"
   ]
  },
  {
   "cell_type": "code",
   "execution_count": 18,
   "metadata": {
    "deletable": false,
    "editable": false,
    "nbgrader": {
     "checksum": "e3b3fce15339f26e56bfe44e734ef9a5",
     "grade": true,
     "grade_id": "cell-a57180ab700dd6e1",
     "locked": true,
     "points": 10,
     "schema_version": 1,
     "solution": false
    },
    "tags": [
     "Exercise-9"
    ]
   },
   "outputs": [],
   "source": [
    "assert linear_result is not None\n",
    "assert softmax_result is not None\n",
    "assert argmax_result is not None\n",
    "assert ce is not None\n"
   ]
  },
  {
   "cell_type": "code",
   "execution_count": null,
   "metadata": {},
   "outputs": [],
   "source": []
  }
 ],
 "metadata": {
  "colab": {
   "collapsed_sections": [],
   "name": "Copy of Assignment: NumPy.ipynb",
   "provenance": []
  },
  "kernelspec": {
   "display_name": "Python 3",
   "language": "python",
   "name": "python3"
  },
  "language_info": {
   "codemirror_mode": {
    "name": "ipython",
    "version": 3
   },
   "file_extension": ".py",
   "mimetype": "text/x-python",
   "name": "python",
   "nbconvert_exporter": "python",
   "pygments_lexer": "ipython3",
   "version": "3.6.8"
  }
 },
 "nbformat": 4,
 "nbformat_minor": 1
}
