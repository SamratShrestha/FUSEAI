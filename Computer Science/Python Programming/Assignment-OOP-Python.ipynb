{
 "cells": [
  {
   "cell_type": "markdown",
   "metadata": {
    "colab_type": "text",
    "deletable": false,
    "editable": false,
    "id": "O2SFAoW22c82",
    "nbgrader": {
     "checksum": "05e7a19fd7c830c0fa1fa16b30f39849",
     "grade": false,
     "grade_id": "cell-95745dab5e43d025",
     "locked": true,
     "schema_version": 1,
     "solution": false
    }
   },
   "source": [
    "# Object Oriented Programming\n",
    "\n",
    "<b><div style=\"text-align: right\">[TOTAL POINTS: 45|]</div></b>\n",
    "\n",
    "In this assignment, you are going to practice the concepts of Object Oriented Programming that you have gained so far. The main objective of this assignment is to make you familiar with the concepts of OOP in Python such as Inheritance, Polymorphism, Operator Loading and Exception Handling. "
   ]
  },
  {
   "cell_type": "markdown",
   "metadata": {
    "deletable": false,
    "editable": false,
    "nbgrader": {
     "checksum": "ef167ea8fc944643ef79e3088bcda426",
     "grade": false,
     "grade_id": "cell-54e8ffe861fc4272",
     "locked": true,
     "schema_version": 1,
     "solution": false
    }
   },
   "source": [
    "### General Overview of the Assignment\n",
    "\n",
    "In this module's assignment, you will be implementing two classes: a `Rectangle` class and a `Cuboid` class. The `Cuboid` class will inherit from the `Rectangle` class. The `Rectangle` class will have two main atrributes: `length(l)` and `breadth(b)`. You will need to write methods to find area, perimeter and the length of diagonal of the `Rectangle`. For `Cuboid` you'll need to override the methods of the `Rectangle` class and add a method to find the volume of the `Cuboid`. Implicitly, the `Cuboid` will have an additional `height(h)` atrribute.\n",
    "\n",
    "![Assignment Description](https://drive.google.com/uc?export=view&id=1vEqDL6Jxu_uRQWq9UReiIDRUVrGsopFr)"
   ]
  },
  {
   "cell_type": "markdown",
   "metadata": {
    "colab_type": "text",
    "deletable": false,
    "editable": false,
    "id": "3P7Z7mUU2c8-",
    "nbgrader": {
     "checksum": "0d92bf141eed5e76836d8ddc1ae24e1d",
     "grade": false,
     "grade_id": "cell-e1659ec570d53b7a",
     "locked": true,
     "schema_version": 1,
     "solution": false
    },
    "tags": [
     "Exercise-1"
    ]
   },
   "source": [
    "## Exercise 1: Creating a Class\n",
    "\n",
    "<b><div style=\"text-align: right\">[POINTS: 10]</div></b>\n",
    "\n",
    "**Task:**  Create a class `Rectangle` such that its instances are initialized with their length and breadth. Make three class methods `get_area`, `get_perimeter` and `get_diagonal_length` which calculate and return the area, perimeter and length of the diagonal of the rectangle respectively.\n",
    "\n",
    "**Note:** Name of the attributes **should** be `length` and `breadth`."
   ]
  },
  {
   "cell_type": "code",
   "execution_count": 13,
   "metadata": {
    "colab": {},
    "colab_type": "code",
    "deletable": false,
    "id": "13zjoKuf2c9B",
    "nbgrader": {
     "checksum": "c16ff222e1c8bc47e9668e2eecd3740d",
     "grade": false,
     "grade_id": "cell-d2aa2fd42c8392f6",
     "locked": false,
     "schema_version": 1,
     "solution": true
    },
    "tags": [
     "Exercise-1"
    ]
   },
   "outputs": [],
   "source": [
    "#import relevant library\n",
    "# YOUR CODE HERE\n",
    "from math import sqrt\n",
    "\n",
    "class Rectangle:\n",
    "    #initializer/constructor here\n",
    "    # YOUR CODE HERE\n",
    "    def __init__(self,length,breadth):\n",
    "        self.length = length\n",
    "        self.breadth = breadth\n",
    "    def get_area(self):\n",
    "        # YOUR CODE HERE\n",
    "        return self.length * self.breadth\n",
    "        \n",
    "    def get_perimeter(self):\n",
    "        # YOUR CODE HERE\n",
    "        return 2 * (self.length + self.breadth)\n",
    "        \n",
    "    def get_diagonal_length(self):\n",
    "        # YOUR CODE HERE\n",
    "        return sqrt(self.length**2+self.breadth**2)\n",
    "\n"
   ]
  },
  {
   "cell_type": "code",
   "execution_count": null,
   "metadata": {
    "colab": {},
    "colab_type": "code",
    "deletable": false,
    "editable": false,
    "id": "ZoCIwzhT2c9J",
    "nbgrader": {
     "checksum": "938c19165cc677a4a036e161cbf5299b",
     "grade": true,
     "grade_id": "cell-dadfcad23fd10ccc",
     "locked": true,
     "points": 10,
     "schema_version": 1,
     "solution": false
    },
    "tags": [
     "Exercise-1"
    ]
   },
   "outputs": [],
   "source": [
    "### INTENTIONALLY LEFT BLANK\n"
   ]
  },
  {
   "cell_type": "markdown",
   "metadata": {
    "colab_type": "text",
    "deletable": false,
    "editable": false,
    "id": "6efd3Vqm2c9R",
    "nbgrader": {
     "checksum": "4465d5fb831b1f6cb12147a5e1292f03",
     "grade": false,
     "grade_id": "cell-a66b3b9684128239",
     "locked": true,
     "schema_version": 1,
     "solution": false
    },
    "tags": [
     "Exercise-2"
    ]
   },
   "source": [
    "### Exercise 2: Magic Methods or Dunder methods\n",
    "\n",
    "<b><div style=\"text-align: right\">[POINTS: 5]</div></b>\n",
    "\n",
    "*Review:* [Python Special Methods](https://docs.python.org/3/reference/datamodel.html#special-method-names)\n",
    "\n",
    "**Task:** Modify the `Rectangle` class to print the object as \n",
    "`{'length': 4, 'breadth': 3, 'area': 12, 'perimeter': 14, 'diagonal_length': 5.0}`, for a rectangle whose length is 4 and breadth is 3.\n",
    "\n",
    "Use the `__str__` dunder method. \n",
    "\n",
    "\n",
    "```\n",
    "r =  Rectangle(4,3)\n",
    "print(r)\n",
    "```\n",
    "\n",
    "`Out : {'length': 4, 'breadth': 3, 'area': 12, 'perimeter': 14, 'diagonal_length': 5.0} `\n",
    "\n"
   ]
  },
  {
   "cell_type": "code",
   "execution_count": 37,
   "metadata": {
    "colab": {},
    "colab_type": "code",
    "deletable": false,
    "id": "blBX1R_I2c9T",
    "nbgrader": {
     "checksum": "ba758eba9c716d58380a28bc3d331e15",
     "grade": false,
     "grade_id": "cell-481c9e4f087d3bc0",
     "locked": false,
     "schema_version": 1,
     "solution": true
    },
    "tags": [
     "Exercise-2"
    ]
   },
   "outputs": [
    {
     "name": "stdout",
     "output_type": "stream",
     "text": [
      "{'length':4,'breadth':3,'area':12,'perimeter':14,'diagonal_length':5.0}\n"
     ]
    }
   ],
   "source": [
    "from math import sqrt\n",
    "class Rectangle:\n",
    "    #code from first question\n",
    "    # YOUR CODE HERE    \n",
    "    def __init__(self,length,breadth):\n",
    "        self.length = length\n",
    "        self.breadth = breadth\n",
    "        \n",
    "    def get_area(self):\n",
    "        # YOUR CODE HERE\n",
    "        return self.length * self.breadth\n",
    "    \n",
    "    def get_perimeter(self):\n",
    "        # YOUR CODE HERE\n",
    "        return 2 * (self.length + self.breadth)\n",
    "    \n",
    "    def get_diagonal_length(self):\n",
    "        # YOUR CODE HERE\n",
    "        return sqrt(self.length**2+self.breadth**2)   \n",
    "    \n",
    "    def __str__(self):\n",
    "        # YOUR CODE HERE\n",
    "        return \"{\"+\"'length':{},'breadth':{},'area':{},'perimeter':{},'diagonal_length':{}\".format(self.length,self.breadth,self.get_area(),self.get_perimeter(),self.get_diagonal_length()) + \"}\"\n",
    "r1 = Rectangle(4,3)\n",
    "print(r1)\n"
   ]
  },
  {
   "cell_type": "code",
   "execution_count": null,
   "metadata": {
    "colab": {},
    "colab_type": "code",
    "deletable": false,
    "editable": false,
    "id": "hdOpBEqZ2c9a",
    "nbgrader": {
     "checksum": "edcd56d6d87aca7e88d497c77c028995",
     "grade": true,
     "grade_id": "cell-1d76840c38540881",
     "locked": true,
     "points": 5,
     "schema_version": 1,
     "solution": false
    },
    "tags": [
     "Exercise-2"
    ]
   },
   "outputs": [],
   "source": [
    "### INTENTIONALLY LEFT BLANK\n"
   ]
  },
  {
   "cell_type": "markdown",
   "metadata": {
    "colab_type": "text",
    "deletable": false,
    "editable": false,
    "id": "QMUX9DqQ2c9h",
    "nbgrader": {
     "checksum": "5926af81ef267c891a24c756fb86ffd2",
     "grade": false,
     "grade_id": "cell-bb5c7bca36522114",
     "locked": true,
     "schema_version": 1,
     "solution": false
    },
    "tags": [
     "Exercise-3"
    ]
   },
   "source": [
    "### Exercise 3: Inheritance\n",
    "\n",
    "<b><div style=\"text-align: right\">[POINTS: 10]</div></b>\n",
    "\n",
    "Create a class named `Cuboid` that inherits the attributes and properties of `Rectangle` class. Add an attribute named `height` in the `Cuboid` class. Override the methods `get_area(), get_perimeter() and get_diagonal_length()` of the `Rectangle` class. The overridden `get_area()` function should return surface area of the cuboid. Add a `get_volume()` method. Finally, also modify the `__str__` function.\n",
    "\n",
    "\n",
    "When you print the Cuboid class object, your output should look something like this:\n",
    "\n",
    "`{'length': 3, 'breadth': 4, 'height': 5, 'surface_area': 94, 'perimeter': 48, 'volume': 60, 'diagonal_length': 7.07}`"
   ]
  },
  {
   "cell_type": "code",
   "execution_count": 47,
   "metadata": {
    "colab": {},
    "colab_type": "code",
    "deletable": false,
    "id": "uWjpJ8932c9k",
    "nbgrader": {
     "checksum": "beff323cca426d333782718278ce6ad6",
     "grade": false,
     "grade_id": "cell-8fde4b655e456835",
     "locked": false,
     "schema_version": 1,
     "solution": true
    },
    "tags": [
     "Exercise-3"
    ]
   },
   "outputs": [
    {
     "name": "stdout",
     "output_type": "stream",
     "text": [
      "{'length':3,'breadth':4,'height':5,'surface_area':94,'perimeter':48,'volume':60,'diagonal_length':7.07}\n"
     ]
    }
   ],
   "source": [
    "from math import sqrt\n",
    "class Cuboid(Rectangle):\n",
    "    def __init__(self,length,breadth,height):\n",
    "        super().__init__(length,breadth)\n",
    "        self.height = height\n",
    "        \n",
    "    def get_area(self):\n",
    "        return 2 * (self.length*self.breadth + self.breadth*self.height + self.height * self.length)\n",
    "\n",
    "    def get_perimeter(self):\n",
    "        return 4 * (self.length + self.breadth + self.height)\n",
    "    \n",
    "    def get_diagonal_length(self):\n",
    "        return sqrt(self.length**2+self.breadth**2+self.height**2) \n",
    "    \n",
    "    def get_volume(self):\n",
    "        return self.length * self.breadth * self.height\n",
    "    \n",
    "    def __str__(self):\n",
    "        return \"{\"+\"'length':{},'breadth':{},'height':{},'surface_area':{},'perimeter':{},'volume':{},'diagonal_length':{:.2f}\".format(self.length,self.breadth,self.height,self.get_area(),self.get_perimeter(),self.get_volume(),self.get_diagonal_length()) + \"}\"\n",
    "c = Cuboid(3,4,5)\n",
    "print(c)"
   ]
  },
  {
   "cell_type": "code",
   "execution_count": null,
   "metadata": {
    "colab": {},
    "colab_type": "code",
    "deletable": false,
    "editable": false,
    "id": "IqVId1XW2c9r",
    "nbgrader": {
     "checksum": "0e24d3a3a288d249d4381579ab0784e1",
     "grade": true,
     "grade_id": "cell-23acfa4b9293ad2f",
     "locked": true,
     "points": 10,
     "schema_version": 1,
     "solution": false
    },
    "tags": [
     "Exercise-3"
    ]
   },
   "outputs": [],
   "source": [
    "### INTENTIONALLY LEFT BLANK\n"
   ]
  },
  {
   "cell_type": "markdown",
   "metadata": {
    "colab_type": "text",
    "deletable": false,
    "editable": false,
    "id": "7gXQOFTY2c9x",
    "nbgrader": {
     "checksum": "1085d7273a96d9c9b53f97605a4a990d",
     "grade": false,
     "grade_id": "cell-318c810c8b6bd15b",
     "locked": true,
     "schema_version": 1,
     "solution": false
    },
    "tags": [
     "Exercise-4"
    ]
   },
   "source": [
    "### Exercise 4: Operator Overloading\n",
    "\n",
    "<b><div style=\"text-align: right\">[POINTS: 10]</div></b>\n",
    "\n",
    "**Task:** Modify `Rectangle` class to add the methods for comparing the area of self with other instances of `Rectangle`.\n",
    "\n",
    "Overload the operators for these comparisions:  `==`, `>` and `<` "
   ]
  },
  {
   "cell_type": "code",
   "execution_count": 48,
   "metadata": {
    "colab": {},
    "colab_type": "code",
    "deletable": false,
    "id": "aM5Nwr-L2c9z",
    "nbgrader": {
     "checksum": "572e722ffb6eb1065fd6e8f5928bd60b",
     "grade": false,
     "grade_id": "cell-6d265ec315eae420",
     "locked": false,
     "schema_version": 1,
     "solution": true
    },
    "tags": [
     "Exercise-4"
    ]
   },
   "outputs": [],
   "source": [
    "# YOUR CODE HERE\n",
    "class Rectangle():\n",
    "    def __init__(self,length,breadth):\n",
    "        self.length = length\n",
    "        self.breadth = breadth\n",
    "\n",
    "    def get_area(self):\n",
    "        return self.length * self.breadth\n",
    "\n",
    "    def __gt__(self,other):\n",
    "        return self.get_area() > other.get_area()\n",
    "\n",
    "    def __eq__(self,other):\n",
    "        return self.get_area() == other.get_area()\n",
    "\n",
    "    def __lt__(self,other):\n",
    "        return self.get_area() < other.get_area()\n"
   ]
  },
  {
   "cell_type": "code",
   "execution_count": 49,
   "metadata": {
    "colab": {},
    "colab_type": "code",
    "deletable": false,
    "editable": false,
    "id": "rQ7hIM4Y2c97",
    "nbgrader": {
     "checksum": "db220dc0f8299cb3488e962335057904",
     "grade": true,
     "grade_id": "cell-949b46c46cb9464f",
     "locked": true,
     "points": 10,
     "schema_version": 1,
     "solution": false
    },
    "tags": [
     "Exercise-4"
    ]
   },
   "outputs": [],
   "source": [
    "### INTENTIONALLY LEFT BLANK\n"
   ]
  },
  {
   "cell_type": "markdown",
   "metadata": {
    "colab_type": "text",
    "deletable": false,
    "editable": false,
    "id": "w5XZIJiX2c-B",
    "nbgrader": {
     "checksum": "668a7e38c8b2461359445e1c044e5aef",
     "grade": false,
     "grade_id": "cell-e01e83f85cd75062",
     "locked": true,
     "schema_version": 1,
     "solution": false
    },
    "tags": [
     "Exercise-5"
    ]
   },
   "source": [
    "### Exercise 5: Exception Handling\n",
    "\n",
    "<b><div style=\"text-align: right\">[POINTS: 10]</div></b>\n",
    "\n",
    "\n",
    "**Task:** The `length` and `breadth` attributes of the `Rectangle` class can't have a negative or zero value. It must be a positive real number. Modify the `__init__` method of the Recangle to raise a ValueError with a output message **\"Length or Breadth Invalid\"** if the initialized parameters don't match the criteria.\n",
    "\n",
    "**Note:** Also take care of character or string arguements. You can use `isinstance` function to check if the input number is positive real number or not. "
   ]
  },
  {
   "cell_type": "code",
   "execution_count": 1,
   "metadata": {
    "colab": {},
    "colab_type": "code",
    "deletable": false,
    "id": "XgwGRCv62c-D",
    "nbgrader": {
     "checksum": "4688f13d48740f007663081cdf187310",
     "grade": false,
     "grade_id": "cell-1de3e859f28db70c",
     "locked": false,
     "schema_version": 1,
     "solution": true
    },
    "tags": [
     "Exercise-5"
    ]
   },
   "outputs": [],
   "source": [
    "# YOUR CODE HERE\n",
    "class Rectangle:\n",
    "    def __init__(self,length,breadth):\n",
    "        try:\n",
    "            if isinstance(length,int) and isinstance(length,int):\n",
    "                if length > 0 and breadth > 0:\n",
    "                    self.length = length\n",
    "                    self.breadth = breadth\n",
    "                else:\n",
    "                    raise ValueError\n",
    "            else:\n",
    "                raise ValueError\n",
    "        except ValueError:\n",
    "            print('Length or Breadth Invalid')"
   ]
  },
  {
   "cell_type": "code",
   "execution_count": null,
   "metadata": {
    "colab": {},
    "colab_type": "code",
    "deletable": false,
    "editable": false,
    "id": "nJ9UJvoq2c-L",
    "nbgrader": {
     "checksum": "9c43cbd78b2e657e70a75fc157ab66fa",
     "grade": true,
     "grade_id": "cell-f61ae7d09e76628d",
     "locked": true,
     "points": 10,
     "schema_version": 1,
     "solution": false
    },
    "tags": [
     "Exercise-5"
    ]
   },
   "outputs": [],
   "source": [
    "### INTENTIONALLY LEFT BLANK\n"
   ]
  }
 ],
 "metadata": {
  "colab": {
   "name": "Assignment: OOP Python.ipynb",
   "provenance": []
  },
  "kernelspec": {
   "display_name": "Python 3",
   "language": "python",
   "name": "python3"
  },
  "language_info": {
   "codemirror_mode": {
    "name": "ipython",
    "version": 3
   },
   "file_extension": ".py",
   "mimetype": "text/x-python",
   "name": "python",
   "nbconvert_exporter": "python",
   "pygments_lexer": "ipython3",
   "version": "3.6.8"
  }
 },
 "nbformat": 4,
 "nbformat_minor": 1
}
