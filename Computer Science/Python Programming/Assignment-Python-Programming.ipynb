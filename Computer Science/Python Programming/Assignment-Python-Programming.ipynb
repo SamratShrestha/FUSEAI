{
 "cells": [
  {
   "cell_type": "markdown",
   "metadata": {
    "colab_type": "text",
    "deletable": false,
    "editable": false,
    "id": "OKOUOnk-BM6v",
    "nbgrader": {
     "checksum": "299d3e61f6fac5a18e634d263e92a4ce",
     "grade": false,
     "grade_id": "cell-8bea07573a37bf45",
     "locked": true,
     "schema_version": 1,
     "solution": false
    }
   },
   "source": [
    "# Assignment - Python Programming\n",
    "\n",
    "<b><div style=\"text-align: right\">[POINTS: 40]</div></b>\n",
    "\n",
    "Python is an easy to learn, powerful programming language with efficient high-level data structures and object-oriented programming. Python’s elegant syntax and dynamic typing, together with its interpreted nature, make it an ideal language for scripting and rapid application development in many areas on most platforms.\n",
    "\n",
    "In this assignment, you will not do one, big thing, but you will write small snippets of code that solve little problems."
   ]
  },
  {
   "cell_type": "markdown",
   "metadata": {
    "colab_type": "text",
    "deletable": false,
    "editable": false,
    "id": "Mr8SjsfZBRJq",
    "nbgrader": {
     "checksum": "56cff6b1a03306ab466c7ddf21aa8ec7",
     "grade": false,
     "grade_id": "cell-36201a6eb5ee9b82",
     "locked": true,
     "schema_version": 1,
     "solution": false
    }
   },
   "source": [
    "### Jupyter Notebook\n",
    "\n",
    "What you are reading now is an example of a Jupyter Notebook. The basic concept is that of a \"notebook\" containing text and programming code. You can easily edit the notebook using your web browser, run the programs in the ipython server in the background and see the output of the programs within the notebook. This is a powerful paradigm that is well suited to machine learning research, particularly when collaborating with other people. For Reference:\n",
    "\n",
    "- https://ipython.org/notebook.html\n",
    "- https://jupyter.org/\n",
    "\n",
    "\n"
   ]
  },
  {
   "cell_type": "code",
   "execution_count": 1,
   "metadata": {
    "colab": {},
    "colab_type": "code",
    "id": "D_GIQDIZB07h"
   },
   "outputs": [
    {
     "name": "stdout",
     "output_type": "stream",
     "text": [
      "30\n"
     ]
    }
   ],
   "source": [
    "# This rectangular box is a \"Cell\" in Jupyter Notebook (click to edit)\n",
    "# This line starting with # symbol is a comment\n",
    "# Press run on the menu or CTRL + ENTER to run this cell\n",
    "# or SHIFT + ENTER to run this cell and move to next cell\n",
    "# to escape from the current cell press ESC and H to see shortcut keys available\n",
    "\n",
    "var1 = 5\n",
    "var2 = 6\n",
    "print(var1 * var2)"
   ]
  },
  {
   "cell_type": "markdown",
   "metadata": {
    "colab_type": "text",
    "deletable": false,
    "editable": false,
    "id": "143MQ_JKB5c3",
    "nbgrader": {
     "checksum": "a0adbc9ba2266dea15607fe931d54e8f",
     "grade": false,
     "grade_id": "cell-f38fbb0f91f60a2f",
     "locked": true,
     "schema_version": 1,
     "solution": false
    }
   },
   "source": [
    "If you need to, feel free to go through the videos and reading resources throughout this unit. [This introductory tutorial](https://docs.python.org/3/tutorial/introduction.html) at python.org put up by the Python Software Foundation gives a really good introduction to the language if you need a refresher. Also, some of the exercises in this assignment assume that you are familiar with built-in data types in Python, such as `dict`s and `list`. So, check out the [documentation for the standard types](https://docs.python.org/3/library/stdtypes.html) in Python if you feel like you need to."
   ]
  },
  {
   "cell_type": "markdown",
   "metadata": {
    "colab_type": "text",
    "deletable": false,
    "editable": false,
    "id": "phYDWyiD5DVC",
    "nbgrader": {
     "checksum": "0739ade1557a5d8a834eb74b6e74837f",
     "grade": false,
     "grade_id": "cell-b4adf68877e1e313",
     "locked": true,
     "schema_version": 1,
     "solution": false
    }
   },
   "source": [
    "Lets begin by checking the version of Python being used. The `sys` module contains values for variables that the Python interpreter uses or maintains, and `sys.version` contains the version of Python being used."
   ]
  },
  {
   "cell_type": "code",
   "execution_count": 2,
   "metadata": {
    "colab": {},
    "colab_type": "code",
    "id": "46cQ2kSV5D_E"
   },
   "outputs": [
    {
     "name": "stdout",
     "output_type": "stream",
     "text": [
      "3.6.8 |Anaconda, Inc.| (default, Dec 30 2018, 01:22:34) \n",
      "[GCC 7.3.0]\n"
     ]
    }
   ],
   "source": [
    "import sys\n",
    "print(sys.version)"
   ]
  },
  {
   "cell_type": "markdown",
   "metadata": {
    "colab_type": "text",
    "deletable": false,
    "editable": false,
    "id": "oPjJ0EYv5LYF",
    "nbgrader": {
     "checksum": "dce62df3533d4db5ce76fe167c981353",
     "grade": false,
     "grade_id": "cell-f7c5b4a2c5a469be",
     "locked": true,
     "schema_version": 1,
     "solution": false
    }
   },
   "source": [
    "\n",
    "\n",
    "**Task:** Check if a Python shell is executing in 32bit or 64bit mode.\n",
    "\n",
    "Hint: you can use `struct.calcsize(fmt)` to calculate size of an character and multiply it by 8 to find out whether the python shell is executing in 32bit or 64bit mode. We multiply by 8 because the size is returned in terms of bytes.\n"
   ]
  },
  {
   "cell_type": "code",
   "execution_count": 3,
   "metadata": {
    "colab": {},
    "colab_type": "code",
    "id": "fBqT7P_j5PIA",
    "outputId": "1f9a8583-d282-490f-e194-700a0fb97f6d"
   },
   "outputs": [
    {
     "name": "stdout",
     "output_type": "stream",
     "text": [
      "64\n"
     ]
    }
   ],
   "source": [
    "import struct\n",
    "print(struct.calcsize(\"P\") * 8)"
   ]
  },
  {
   "cell_type": "markdown",
   "metadata": {
    "colab_type": "text",
    "deletable": false,
    "editable": false,
    "id": "jrGDViiK37lv",
    "nbgrader": {
     "checksum": "391d6acba34ba4897a32dc3631bccd47",
     "grade": false,
     "grade_id": "cell-d85313e6a34bd044",
     "locked": true,
     "schema_version": 1,
     "solution": false
    },
    "tags": [
     "Exercise-1"
    ]
   },
   "source": [
    "## Exercise 1: Variables\n",
    "\n",
    "<b><div style=\"text-align: right\">[POINTS: 1]</div></b>\n",
    "\n",
    "In this exercise you will create variables and assign values to them. You will also print out their types using a function built into Python.\n",
    "\n",
    "**Task:** Create two variables named  `num` & `word` and assign `10` and `'Ten'` to them respectively. Also print out their types using the built-in `type` function."
   ]
  },
  {
   "cell_type": "code",
   "execution_count": 10,
   "metadata": {
    "colab": {},
    "colab_type": "code",
    "deletable": false,
    "id": "JB2b85Ye5bpo",
    "nbgrader": {
     "checksum": "330dd08f7833eb2a0f503e2f6f31164a",
     "grade": false,
     "grade_id": "cell-679e2a0aa6f59056",
     "locked": false,
     "schema_version": 1,
     "solution": true
    },
    "tags": [
     "Exercise-1"
    ]
   },
   "outputs": [
    {
     "name": "stdout",
     "output_type": "stream",
     "text": [
      "<class 'int'>\n",
      "<class 'str'>\n"
     ]
    }
   ],
   "source": [
    "num = 10\n",
    "word = 'Ten'\n",
    "\n",
    "# YOUR CODE HERE\n",
    "print(type(num))\n",
    "print(type(word))\n"
   ]
  },
  {
   "cell_type": "code",
   "execution_count": 8,
   "metadata": {
    "colab": {},
    "colab_type": "code",
    "deletable": false,
    "editable": false,
    "id": "q2vSgGuFrO-A",
    "nbgrader": {
     "checksum": "40502779382220e3df905596b7f17473",
     "grade": true,
     "grade_id": "cell-479098952234f278",
     "locked": true,
     "points": 1,
     "schema_version": 1,
     "solution": false
    },
    "tags": [
     "Exercise-1"
    ]
   },
   "outputs": [],
   "source": [
    "assert num is not None\n",
    "assert word is not None\n"
   ]
  },
  {
   "cell_type": "markdown",
   "metadata": {
    "colab_type": "text",
    "deletable": false,
    "editable": false,
    "id": "spG_CW5K50O4",
    "nbgrader": {
     "checksum": "9bf0b1115dc0855317b5f7c0b8ad7156",
     "grade": false,
     "grade_id": "cell-5dd92c22f7af3b5d",
     "locked": true,
     "schema_version": 1,
     "solution": false
    },
    "tags": [
     "Exercise-2"
    ]
   },
   "source": [
    "## Exercise 2: Casting between types\n",
    "\n",
    "<b><div style=\"text-align: right\">[POINTS: 2]</div></b>\n",
    "\n",
    "**Task:** Convert the string `'1234.56'` in the variable `number` into `float`and store it in a variable `float_number`."
   ]
  },
  {
   "cell_type": "code",
   "execution_count": 18,
   "metadata": {
    "colab": {},
    "colab_type": "code",
    "deletable": false,
    "id": "U2Heo-Vi55o9",
    "nbgrader": {
     "checksum": "8186d6604fa68a64b7f14310d25ffcc2",
     "grade": false,
     "grade_id": "cell-527f2975881fc2be",
     "locked": false,
     "schema_version": 1,
     "solution": true
    },
    "outputId": "96576105-778c-427f-83b1-a8ace29bbb1f",
    "tags": [
     "Exercise-2"
    ]
   },
   "outputs": [],
   "source": [
    "number=\"1234.56\"\n",
    "float_number = None\n",
    "\n",
    "# YOUR CODE HERE\n",
    "float_number = float(number)\n"
   ]
  },
  {
   "cell_type": "code",
   "execution_count": null,
   "metadata": {
    "colab": {},
    "colab_type": "code",
    "deletable": false,
    "editable": false,
    "id": "eOAOa4xurO-p",
    "nbgrader": {
     "checksum": "471a232c6e6126c4cb75092513ff3a15",
     "grade": true,
     "grade_id": "cell-f73899a0d60ae0b1",
     "locked": true,
     "points": 2,
     "schema_version": 1,
     "solution": false
    },
    "tags": [
     "Exercise-2"
    ]
   },
   "outputs": [],
   "source": [
    "assert float_number is not None\n"
   ]
  },
  {
   "cell_type": "markdown",
   "metadata": {
    "colab_type": "text",
    "deletable": false,
    "editable": false,
    "id": "gTzsyjNr4DJ8",
    "nbgrader": {
     "checksum": "d7bfe6aa67614b7984c0ce9314e9ac84",
     "grade": false,
     "grade_id": "cell-2a1db7aadb6ea79f",
     "locked": true,
     "schema_version": 1,
     "solution": false
    },
    "tags": [
     "Exercise-3"
    ]
   },
   "source": [
    "## Exercise 3: Range\n",
    "\n",
    "<b><div style=\"text-align: right\">[POINTS: 2]</div></b>\n",
    "\n",
    "**Task:** Write a program to store even numbers between 0 to 100 in a variable named `even_numbers`.\n",
    "\n",
    "Hint: Use `range()` method."
   ]
  },
  {
   "cell_type": "code",
   "execution_count": 17,
   "metadata": {
    "colab": {},
    "colab_type": "code",
    "deletable": false,
    "id": "dFyMzewFFOG5",
    "nbgrader": {
     "checksum": "416b64f92584b00434048a8fe8962115",
     "grade": false,
     "grade_id": "cell-f8bec99f9a9d9f2b",
     "locked": false,
     "schema_version": 1,
     "solution": true
    },
    "tags": [
     "Exercise-3"
    ]
   },
   "outputs": [
    {
     "data": {
      "text/plain": [
       "[0,\n",
       " 2,\n",
       " 4,\n",
       " 6,\n",
       " 8,\n",
       " 10,\n",
       " 12,\n",
       " 14,\n",
       " 16,\n",
       " 18,\n",
       " 20,\n",
       " 22,\n",
       " 24,\n",
       " 26,\n",
       " 28,\n",
       " 30,\n",
       " 32,\n",
       " 34,\n",
       " 36,\n",
       " 38,\n",
       " 40,\n",
       " 42,\n",
       " 44,\n",
       " 46,\n",
       " 48,\n",
       " 50,\n",
       " 52,\n",
       " 54,\n",
       " 56,\n",
       " 58,\n",
       " 60,\n",
       " 62,\n",
       " 64,\n",
       " 66,\n",
       " 68,\n",
       " 70,\n",
       " 72,\n",
       " 74,\n",
       " 76,\n",
       " 78,\n",
       " 80,\n",
       " 82,\n",
       " 84,\n",
       " 86,\n",
       " 88,\n",
       " 90,\n",
       " 92,\n",
       " 94,\n",
       " 96,\n",
       " 98]"
      ]
     },
     "execution_count": 17,
     "metadata": {},
     "output_type": "execute_result"
    }
   ],
   "source": [
    "even_numbers= list(range(0,100,2))\n",
    "even_numbers"
   ]
  },
  {
   "cell_type": "code",
   "execution_count": null,
   "metadata": {
    "colab": {},
    "colab_type": "code",
    "deletable": false,
    "editable": false,
    "id": "N3ELvg1HrO_Z",
    "nbgrader": {
     "checksum": "c11f7508f83688c11c931e39f9dd2852",
     "grade": true,
     "grade_id": "cell-87a0409bb270fec2",
     "locked": true,
     "points": 2,
     "schema_version": 1,
     "solution": false
    },
    "tags": [
     "Exercise-3"
    ]
   },
   "outputs": [],
   "source": [
    "assert even_numbers is not None"
   ]
  },
  {
   "cell_type": "markdown",
   "metadata": {
    "colab_type": "text",
    "deletable": false,
    "editable": false,
    "id": "9i8-I35S4F0E",
    "nbgrader": {
     "checksum": "1683c7efe1a328b7806baf19ccad9557",
     "grade": false,
     "grade_id": "cell-52768447fb4d5fc7",
     "locked": true,
     "schema_version": 1,
     "solution": false
    },
    "tags": [
     "Exercise-4"
    ]
   },
   "source": [
    "## Exercise 4: Lists\n",
    "\n",
    "<b><div style=\"text-align: right\">[POINTS: 2]</div></b>\n",
    "\n",
    "**Task:** Find the sum of the 10 smallest numbers in the list `L` and store it in a variable named `sum_list`.\n",
    "\n",
    "`L = [75, 28, 47, 51, 96, 76, 32, 57, 10, 10, 25, 62, 17,  9, 68, 65, -2, 54, 34, 41, 74, 83, 91, 59, -3, 88, 59, 91, 10, -9, 90, 46, 58, 25, 62, 32, 74,  1, 61, 43, 25, 62, -5, 49, 40, 44, 83, -5, 13, 35]`\n",
    "\n",
    "Python has builtin ways and functions to index, sort and sum up the values in a sequence of values, so be sure to use them."
   ]
  },
  {
   "cell_type": "code",
   "execution_count": 3,
   "metadata": {
    "colab": {},
    "colab_type": "code",
    "deletable": false,
    "id": "SHa6_th0BXAn",
    "nbgrader": {
     "checksum": "8faea5580710d45bd00bc12900184605",
     "grade": false,
     "grade_id": "cell-8e86d41b9021b492",
     "locked": false,
     "schema_version": 1,
     "solution": true
    },
    "tags": [
     "Exercise-4"
    ]
   },
   "outputs": [
    {
     "name": "stdout",
     "output_type": "stream",
     "text": [
      "[-9, -5, -5, -3, -2, 1, 9, 10, 10, 10]\n",
      "16\n"
     ]
    }
   ],
   "source": [
    "L =[75, 28, 47, 51, 96, 76, 32, 57, 10, 10, 25, 62, 17,  9, 68, 65, -2,\n",
    "       54, 34, 41, 74, 83, 91, 59, -3, 88, 59, 91, 10, -9, 90, 46, 58, 25,\n",
    "       62, 32, 74,  1, 61, 43, 25, 62, -5, 49, 40, 44, 83, -5, 13, 35]\n",
    "\n",
    "sum_list = None\n",
    "# YOUR CODE HERE\n",
    "sum_list = sum(sorted(L)[:10])\n",
    "print(sum_list)"
   ]
  },
  {
   "cell_type": "code",
   "execution_count": null,
   "metadata": {
    "colab": {},
    "colab_type": "code",
    "deletable": false,
    "editable": false,
    "id": "zrJ9I-NfBY3z",
    "nbgrader": {
     "checksum": "21ff7c5359e40cc2ce088965ae017b66",
     "grade": true,
     "grade_id": "cell-ef493df9ed09c4af",
     "locked": true,
     "points": 2,
     "schema_version": 1,
     "solution": false
    },
    "tags": [
     "Exercise-4"
    ]
   },
   "outputs": [],
   "source": [
    "assert sum_list is not None"
   ]
  },
  {
   "cell_type": "markdown",
   "metadata": {
    "colab_type": "text",
    "deletable": false,
    "editable": false,
    "id": "W8GFUul0GB2r",
    "nbgrader": {
     "checksum": "9717e48bc2db1ffd0760189d938073c2",
     "grade": false,
     "grade_id": "cell-e648d0aefd5a9065",
     "locked": true,
     "schema_version": 1,
     "solution": false
    },
    "tags": [
     "Exercise-5"
    ]
   },
   "source": [
    "## Exercise 5: Fibonnaci Numbers\n",
    "\n",
    "<b><div style=\"text-align: right\">[POINTS: 3]</div></b>\n",
    "\n",
    "**Task:** Write a function `fibbo` that takes in an integer `n` and returns a list of `n` Fibonnaci numbers for `n` greater than 2.\n",
    "\n",
    "Hint: The first two Fibonnaci numbers are `[1,1]`."
   ]
  },
  {
   "cell_type": "code",
   "execution_count": 1,
   "metadata": {
    "colab": {},
    "colab_type": "code",
    "deletable": false,
    "id": "5zHWizuCGJr9",
    "nbgrader": {
     "checksum": "6d7042d8f93f9aae9f74107db4f64400",
     "grade": false,
     "grade_id": "cell-47228f28e6074a86",
     "locked": false,
     "schema_version": 1,
     "solution": true
    },
    "tags": [
     "Exercise-5"
    ]
   },
   "outputs": [],
   "source": [
    "def fibbo(n):\n",
    "    # YOUR CODE HERE\n",
    "    fibonacci_numbers = [1, 1]\n",
    "    for i in range(1,n-1):\n",
    "        fibonacci_numbers.append(fibonacci_numbers[-2] + fibonacci_numbers[-1])\n",
    "    return(fibonacci_numbers)\n",
    "\n",
    "    "
   ]
  },
  {
   "cell_type": "code",
   "execution_count": 2,
   "metadata": {
    "colab": {},
    "colab_type": "code",
    "deletable": false,
    "editable": false,
    "id": "gvDJuEOkGLbE",
    "nbgrader": {
     "checksum": "cfaf1d9959978c235a6af15fdbcc0876",
     "grade": true,
     "grade_id": "cell-2e89da0d14026ef0",
     "locked": true,
     "points": 3,
     "schema_version": 1,
     "solution": false
    },
    "tags": [
     "Exercise-5"
    ]
   },
   "outputs": [],
   "source": [
    "assert(fibbo(5)==[1, 1, 2, 3, 5])\n",
    "assert(fibbo(11)==[1, 1, 2, 3, 5, 8, 13, 21, 34, 55, 89])"
   ]
  },
  {
   "cell_type": "markdown",
   "metadata": {
    "colab_type": "text",
    "deletable": false,
    "editable": false,
    "id": "OoeIfbRn4H_C",
    "nbgrader": {
     "checksum": "1ce58d744b1337c9c1bd4776bf5cd2fe",
     "grade": false,
     "grade_id": "cell-cba9af3f17d44d1d",
     "locked": true,
     "schema_version": 1,
     "solution": false
    },
    "tags": [
     "Exercise-6"
    ]
   },
   "source": [
    "## Exercise 6: Tuples\n",
    "\n",
    "<b><div style=\"text-align: right\">[POINTS: 2]</div></b>\n",
    "\n",
    "**Task:** `T` is a nested tuple, use indexing to extract 'g' from `T`. Store the result in variable `thisisg`.\n",
    "\n",
    "Use `T = ('a','b','c',('d','e'),('f',('f','g'),'k'),'p')`"
   ]
  },
  {
   "cell_type": "code",
   "execution_count": 7,
   "metadata": {
    "colab": {},
    "colab_type": "code",
    "deletable": false,
    "id": "zxyvulQLB83n",
    "nbgrader": {
     "checksum": "019e46f08ab1d08e17f18b0c85250570",
     "grade": false,
     "grade_id": "cell-061453beb6d902de",
     "locked": false,
     "schema_version": 1,
     "solution": true
    },
    "tags": [
     "Exercise-6"
    ]
   },
   "outputs": [],
   "source": [
    "T = ('a','b','c',('d','e'),('f',('f','g'),'k'),'p')\n",
    "thisisg = None\n",
    "# YOUR CODE HERE\n",
    "thisisg = T[4][1][1]\n"
   ]
  },
  {
   "cell_type": "code",
   "execution_count": 8,
   "metadata": {
    "colab": {},
    "colab_type": "code",
    "deletable": false,
    "editable": false,
    "id": "k9kJEyiHrPBB",
    "nbgrader": {
     "checksum": "c8f664de365add80dcb4b3eb057a1c5c",
     "grade": true,
     "grade_id": "cell-ff9b29c9050cb8f6",
     "locked": true,
     "points": 2,
     "schema_version": 1,
     "solution": false
    },
    "tags": [
     "Exercise-6"
    ]
   },
   "outputs": [],
   "source": [
    "assert thisisg is not None"
   ]
  },
  {
   "cell_type": "markdown",
   "metadata": {
    "colab_type": "text",
    "deletable": false,
    "editable": false,
    "id": "GKMAHR8r4PV1",
    "nbgrader": {
     "checksum": "174fc8b247b977f2832850091eb56af8",
     "grade": false,
     "grade_id": "cell-b977253ef9ca8b1f",
     "locked": true,
     "schema_version": 1,
     "solution": false
    },
    "tags": [
     "Exercise-7"
    ]
   },
   "source": [
    "## Exercise 7: Dictionaries\n",
    "\n",
    "<b><div style=\"text-align: right\">[POINTS: 2]</div></b>\n",
    "\n",
    "Mark went to the market to guy some vegetables. `price` is a dictionary that maps the price of a vegetable to its name.\n",
    "\n",
    "**Task:** Write a function `totalcost` to find his total cost given his shopping list."
   ]
  },
  {
   "cell_type": "code",
   "execution_count": 14,
   "metadata": {
    "colab": {},
    "colab_type": "code",
    "deletable": false,
    "id": "bsO2AIBZCiy2",
    "nbgrader": {
     "checksum": "d7ff4eef0253ca985d6dc9ac48ef1194",
     "grade": false,
     "grade_id": "cell-9dc208e27777652d",
     "locked": false,
     "schema_version": 1,
     "solution": true
    },
    "tags": [
     "Exercise-7"
    ]
   },
   "outputs": [
    {
     "name": "stdout",
     "output_type": "stream",
     "text": [
      "380\n"
     ]
    }
   ],
   "source": [
    "price = {\"Tomato\":90,\n",
    "         \"Potato\":70,\n",
    "         \"Onion\":45,\n",
    "         \"Carrot\":120,\n",
    "         \"Cabbage\":40,\n",
    "         \"Soyabean\":80,\n",
    "         \"Pumpkin\":40,\n",
    "         \"Squash\":60,\n",
    "         \"Okara\":90,\n",
    "         \"Onion\":110,\n",
    "         \"Mushroom\":180,\n",
    "         \"Sugarbeet\":90,\n",
    "         \"Lettuce\":60,\n",
    "         \"Celery\":180,\n",
    "         \"Parsley\":180,\n",
    "         \"Mint\":180,\n",
    "         \"Turnip\":60,\n",
    "         \"Tamarind\":150,\n",
    "         \"Tofu\":100,\n",
    "         \"Apple\":120,\n",
    "         \"Lime\":250,\n",
    "         \"Pomegranate\":200,\n",
    "         \"Ginger\":130,\n",
    "         \"Chilli\":250,\n",
    "         \"Garlic\":290,\n",
    "         \"Fish\":270\n",
    "        }\n",
    "\n",
    "def totalcost(rams_list):\n",
    "# YOUR CODE HERE\n",
    "    return sum([price[i] for i in rams_list if i in price])\n"
   ]
  },
  {
   "cell_type": "code",
   "execution_count": 15,
   "metadata": {
    "colab": {},
    "colab_type": "code",
    "deletable": false,
    "editable": false,
    "id": "T-75yrucCl7b",
    "nbgrader": {
     "checksum": "213b8c0266af6d29cb1419767ed8d022",
     "grade": true,
     "grade_id": "cell-e631bda315d65fc4",
     "locked": true,
     "points": 2,
     "schema_version": 1,
     "solution": false
    },
    "tags": [
     "Exercise-7"
    ]
   },
   "outputs": [],
   "source": [
    "rams_list =[\"Tomato\",\"Garlic\"]\n",
    "assert(totalcost(rams_list)==380)"
   ]
  },
  {
   "cell_type": "markdown",
   "metadata": {
    "colab_type": "text",
    "deletable": false,
    "editable": false,
    "id": "HxtnkSNr7gvq",
    "nbgrader": {
     "checksum": "7ea8d8ec7d748ee5a5af3228e6b90a44",
     "grade": false,
     "grade_id": "cell-5bf714d914d7347c",
     "locked": true,
     "schema_version": 1,
     "solution": false
    },
    "tags": [
     "Exercise-8"
    ]
   },
   "source": [
    "## Exercise 8: Dictionary\n",
    "\n",
    "<b><div style=\"text-align: right\">[POINTS: 3]</div></b>\n",
    "\n",
    "**Task:** Write a function called `squares` that when given an integral number `n`, returns a dictionary that maps $i$ to $i^2$ such that $i$ is an integral number between 1 and `n` (both included).\n",
    "For example, if `n` is 8, the `squares` should return this dictionary:\n",
    "`{1: 1, 2: 4, 3: 9, 4: 16, 5: 25, 6: 36, 7: 49, 8: 64}`"
   ]
  },
  {
   "cell_type": "code",
   "execution_count": 20,
   "metadata": {
    "colab": {},
    "colab_type": "code",
    "deletable": false,
    "id": "ljZ7FSeK7sT_",
    "nbgrader": {
     "checksum": "ed5fe64355c7a1718c40d175ca41e366",
     "grade": false,
     "grade_id": "cell-6858c70d1575eb8c",
     "locked": false,
     "schema_version": 1,
     "solution": true
    },
    "outputId": "a8a3c760-1ad9-4f99-c4c7-0df7c3d85b63",
    "tags": [
     "Exercise-8"
    ]
   },
   "outputs": [],
   "source": [
    "def squares(n):\n",
    "# YOUR CODE HERE\n",
    "        return {n:n**2 for n in range(1,n+1)}"
   ]
  },
  {
   "cell_type": "code",
   "execution_count": 21,
   "metadata": {
    "colab": {},
    "colab_type": "code",
    "deletable": false,
    "editable": false,
    "id": "rU8Wdv1F7utY",
    "nbgrader": {
     "checksum": "d1e8ee1633f2548c61de9f3343573b60",
     "grade": true,
     "grade_id": "cell-65df0d30b845126a",
     "locked": true,
     "points": 3,
     "schema_version": 1,
     "solution": false
    },
    "tags": [
     "Exercise-8"
    ]
   },
   "outputs": [],
   "source": [
    "assert squares(1) is not None"
   ]
  },
  {
   "cell_type": "markdown",
   "metadata": {
    "colab_type": "text",
    "deletable": false,
    "editable": false,
    "id": "tB6FLI0p4RwA",
    "nbgrader": {
     "checksum": "6fd9f965c5ce246ee38ff587db13bc63",
     "grade": false,
     "grade_id": "cell-12a76175229e08e4",
     "locked": true,
     "schema_version": 1,
     "solution": false
    },
    "tags": [
     "Exercise-9"
    ]
   },
   "source": [
    "## Exercise 9: Sets\n",
    "\n",
    "<b><div style=\"text-align: right\">[POINTS: 2]</div></b>\n",
    "\n",
    "**Task:** Find the set difference of the sets `A` and `B`, store it in `ans` and remove the character `'e'` from the resulting set.\n"
   ]
  },
  {
   "cell_type": "code",
   "execution_count": 14,
   "metadata": {
    "colab": {
     "base_uri": "https://localhost:8080/",
     "height": 34
    },
    "colab_type": "code",
    "deletable": false,
    "id": "hWr_-rM6Iu9o",
    "nbgrader": {
     "checksum": "b63ce3bfb2a81a8234af85b95d06ab93",
     "grade": false,
     "grade_id": "cell-0c3d90a9f6014b64",
     "locked": false,
     "schema_version": 1,
     "solution": true
    },
    "outputId": "4a670c65-6d35-497b-d7e2-24694cbef12c",
    "tags": [
     "Exercise-9"
    ]
   },
   "outputs": [
    {
     "name": "stdout",
     "output_type": "stream",
     "text": [
      "{1, 2, 3, 7, 8}\n"
     ]
    }
   ],
   "source": [
    "B = {4, 5, 6, 7, 8, 'e'}\n",
    "A = {1, 2, 3, 4, 5, 6}\n",
    "ans = None\n",
    "# YOUR CODE HERE\n",
    "c = B.difference(A)\n",
    "d = A.difference(B)\n",
    "ans=c\n",
    "ans.update(d)\n",
    "ans.remove('e')\n",
    "print(ans)\n",
    "\n"
   ]
  },
  {
   "cell_type": "code",
   "execution_count": 29,
   "metadata": {
    "colab": {},
    "colab_type": "code",
    "deletable": false,
    "editable": false,
    "id": "l-94G4EzrPCZ",
    "nbgrader": {
     "checksum": "8b1d2210b1583091da7c3c5b5af5c6f0",
     "grade": true,
     "grade_id": "cell-c1447e34ed140a05",
     "locked": true,
     "points": 2,
     "schema_version": 1,
     "solution": false
    },
    "tags": [
     "Exercise-9"
    ]
   },
   "outputs": [],
   "source": [
    "assert ans is not None"
   ]
  },
  {
   "cell_type": "markdown",
   "metadata": {
    "colab_type": "text",
    "deletable": false,
    "editable": false,
    "id": "_ZwiW8Z1FKDp",
    "nbgrader": {
     "checksum": "31614eaa401e3bddd9bd40e42e3c763f",
     "grade": false,
     "grade_id": "cell-e6319ac849786fb3",
     "locked": true,
     "schema_version": 1,
     "solution": false
    },
    "tags": [
     "Exercise-10"
    ]
   },
   "source": [
    "## Exercise 10: Control Flow Statements\n",
    "\n",
    "<b><div style=\"text-align: right\">[POINTS: 2]</div></b>\n",
    "\n",
    "**Task:** Write a program which will find all such numbers which are divisible by 7 but are not a multiple of 5,\n",
    "between `2000` and `3200` (both included).\n",
    "The numbers obtained should be stored in a list called `multiples_of_seven` in ascending order."
   ]
  },
  {
   "cell_type": "code",
   "execution_count": 34,
   "metadata": {
    "colab": {
     "base_uri": "https://localhost:8080/",
     "height": 54
    },
    "colab_type": "code",
    "deletable": false,
    "id": "RKi6aJmK83H7",
    "nbgrader": {
     "checksum": "c56b40a9180c8e29617f3a7cb15f642a",
     "grade": false,
     "grade_id": "cell-774d33765dd9e679",
     "locked": false,
     "schema_version": 1,
     "solution": true
    },
    "outputId": "23a32bf7-d8ff-4969-a695-3173d54a2aaa",
    "tags": [
     "Exercise-10"
    ]
   },
   "outputs": [],
   "source": [
    "multiples_of_seven = []\n",
    "# YOUR CODE HERE\n",
    "for i in range(2000,3201):\n",
    "    if i % 7 ==0 and i % 5 != 0:\n",
    "        multiples_of_seven.append(i)"
   ]
  },
  {
   "cell_type": "code",
   "execution_count": 35,
   "metadata": {
    "colab": {},
    "colab_type": "code",
    "deletable": false,
    "editable": false,
    "id": "r3y9LAJH89IV",
    "nbgrader": {
     "checksum": "f7f6b522ca6ac3bde858ca5cd98072ec",
     "grade": true,
     "grade_id": "cell-34e689983bc0abad",
     "locked": true,
     "points": 2,
     "schema_version": 1,
     "solution": false
    },
    "tags": [
     "Exercise-10"
    ]
   },
   "outputs": [],
   "source": [
    "assert multiples_of_seven is not None"
   ]
  },
  {
   "cell_type": "markdown",
   "metadata": {
    "colab_type": "text",
    "deletable": false,
    "editable": false,
    "id": "HySkfAmfOLOx",
    "nbgrader": {
     "checksum": "2ff495be485f0f939599dfa6f9610a9a",
     "grade": false,
     "grade_id": "cell-3d95fbabf1bf5efb",
     "locked": true,
     "schema_version": 1,
     "solution": false
    },
    "tags": [
     "Exercise-11"
    ]
   },
   "source": [
    "## Exercise 11: Hailstone Series\n",
    "\n",
    "<b><div style=\"text-align: right\">[POINTS: 3]</div></b>\n",
    "\n",
    "The hailstone series is defined as follows: The $i^{th}$ value of this series, say $\\text{H}[i]$, is equal to $\\frac{\\text{H}[i-1]}{2}$ if $\\text{H}[i-1]$ is odd, and $3*\\text{H}[i-1]+1$ if it is even. The hailstone series converges to 1 for any input integer greater than 1. While this is yet to be formally proved, experiments show that this holds for integers as large as $1.2 * 10^{12}$.\n",
    "\n",
    "**Task:** Build a function `hailstone(n)` that takes in a number `n` and returns a list of the hailstone series starting at $n$. Your function should return the list when the last element is 1 for the first time. For example, if you start at 10, the returned list should be [10,5,16,8,4,2,1]."
   ]
  },
  {
   "cell_type": "code",
   "execution_count": 55,
   "metadata": {
    "colab": {},
    "colab_type": "code",
    "deletable": false,
    "id": "hT8St8rnUEFG",
    "nbgrader": {
     "checksum": "0edd192ab43506bdb9bbae51440bc1b8",
     "grade": false,
     "grade_id": "cell-ddbcf0f7c936bbf4",
     "locked": false,
     "schema_version": 1,
     "solution": true
    },
    "tags": [
     "Exercise-11"
    ]
   },
   "outputs": [
    {
     "name": "stdout",
     "output_type": "stream",
     "text": [
      "[10, 5, 16, 8, 4, 2, 1]\n"
     ]
    }
   ],
   "source": [
    "def hailstone(n):\n",
    "    numbers = [n]\n",
    "    while n!=1:\n",
    "        if n%2 == 0:\n",
    "            n=n//2\n",
    "            numbers.append(n)\n",
    "        else:\n",
    "            n=3*n+1\n",
    "            numbers.append(n)\n",
    "    return numbers\n",
    "# YOUR CODE HERE\n",
    "print(hailstone(10))"
   ]
  },
  {
   "cell_type": "code",
   "execution_count": null,
   "metadata": {
    "colab": {},
    "colab_type": "code",
    "deletable": false,
    "editable": false,
    "id": "-9ITFHE3rPDN",
    "nbgrader": {
     "checksum": "33d7daacbb9b80fa07ebc54f5acb4557",
     "grade": true,
     "grade_id": "cell-a9d789269089db25",
     "locked": true,
     "points": 3,
     "schema_version": 1,
     "solution": false
    },
    "tags": [
     "Exercise-11"
    ]
   },
   "outputs": [],
   "source": [
    "assert (hailstone(10)==[10,5,16,8,4,2,1])"
   ]
  },
  {
   "cell_type": "markdown",
   "metadata": {
    "colab_type": "text",
    "deletable": false,
    "editable": false,
    "id": "czhsfheeFXfL",
    "nbgrader": {
     "checksum": "f4a6c8fed0daf0a9a2f3d415c19ba0fa",
     "grade": false,
     "grade_id": "cell-fc78fc11c6dcbe8f",
     "locked": true,
     "schema_version": 1,
     "solution": false
    },
    "tags": [
     "Exercise-12"
    ]
   },
   "source": [
    "## Exercise 12: FInding the GCD\n",
    "\n",
    "<b><div style=\"text-align: right\">[POINTS: 3]</div></b>\n",
    "\n",
    "**Task:** Using concept of looping, control flow statements and fucntions,create a function `gcd()` that takes in two positive integers `a` and `b` and returns their Greatest Common Divisor (GCD). "
   ]
  },
  {
   "cell_type": "code",
   "execution_count": 52,
   "metadata": {
    "colab": {},
    "colab_type": "code",
    "deletable": false,
    "id": "JBmD24nLFdG1",
    "nbgrader": {
     "checksum": "80ba2982bf15045d674d9890128d39b3",
     "grade": false,
     "grade_id": "cell-a27f987e5613c584",
     "locked": false,
     "schema_version": 1,
     "solution": true
    },
    "outputId": "134196be-3185-4826-ab13-ac7084656add",
    "tags": [
     "Exercise-12"
    ]
   },
   "outputs": [],
   "source": [
    "# YOUR CODE HERE\n",
    "def gcd(a,b):\n",
    "    while(b):\n",
    "        a,b = b, a%b\n",
    "    return a"
   ]
  },
  {
   "cell_type": "code",
   "execution_count": 53,
   "metadata": {
    "colab": {},
    "colab_type": "code",
    "deletable": false,
    "editable": false,
    "id": "4Msx-MTMrPD4",
    "nbgrader": {
     "checksum": "1a501d5f0355f36f7120691a1ff63fea",
     "grade": true,
     "grade_id": "cell-93aba65a46bd9af6",
     "locked": true,
     "points": 3,
     "schema_version": 1,
     "solution": false
    },
    "tags": [
     "Exercise-12"
    ]
   },
   "outputs": [
    {
     "name": "stdout",
     "output_type": "stream",
     "text": [
      "GCD of 39203 and 39400 is 197.\n",
      "Runtime of gcd for a = 39203 and b = 39400 is 0.000 seconds.\n"
     ]
    }
   ],
   "source": [
    "# This shows the runtime of your function\n",
    "# time.time() gives the number of seconds since the epoch as a float\n",
    "import time\n",
    "start_time = time.time()\n",
    "a = 39203\n",
    "b = 39400\n",
    "print(f'GCD of {a} and {b} is {gcd(a,b)}.')\n",
    "print(f'Runtime of gcd for a = {a} and b = {b} is {time.time() - start_time:.3f} seconds.')\n"
   ]
  },
  {
   "cell_type": "markdown",
   "metadata": {
    "colab_type": "text",
    "deletable": false,
    "editable": false,
    "id": "EbFr3ctG4hmx",
    "nbgrader": {
     "checksum": "a695df754dcfc23f435da3ce53f8c8a9",
     "grade": false,
     "grade_id": "cell-3960b7687e1c6bd5",
     "locked": true,
     "schema_version": 1,
     "solution": false
    },
    "tags": [
     "Exercise-13"
    ]
   },
   "source": [
    "## Exercise 13: Reverse Strings\n",
    "\n",
    "<b><div style=\"text-align: right\">[POINTS: 1]</div></b>\n",
    "\n",
    "**Task:** Find the reverse of string in `string` using concept of slicing and store it in a variable named `reverse_string`."
   ]
  },
  {
   "cell_type": "code",
   "execution_count": 36,
   "metadata": {
    "colab": {},
    "colab_type": "code",
    "deletable": false,
    "id": "95kYun7p6Fs4",
    "nbgrader": {
     "checksum": "0a6dec2cf84e509aaf4e9b94a3ca450f",
     "grade": false,
     "grade_id": "cell-d82e4b5941680c86",
     "locked": false,
     "schema_version": 1,
     "solution": true
    },
    "tags": [
     "Exercise-13"
    ]
   },
   "outputs": [],
   "source": [
    "string=\"I love programming in python.\"\n",
    "reverse_string=None\n",
    "# YOUR CODE HERE\n",
    "reverse_string=string[::-1]"
   ]
  },
  {
   "cell_type": "code",
   "execution_count": null,
   "metadata": {
    "colab": {},
    "colab_type": "code",
    "deletable": false,
    "editable": false,
    "id": "cG8GsOY7rPEM",
    "nbgrader": {
     "checksum": "e7aeec7a6182fd4248fd4039e0a33422",
     "grade": true,
     "grade_id": "cell-ebfdc5676218e490",
     "locked": true,
     "points": 1,
     "schema_version": 1,
     "solution": false
    },
    "tags": [
     "Exercise-13"
    ]
   },
   "outputs": [],
   "source": [
    "assert reverse_string is not None"
   ]
  },
  {
   "cell_type": "markdown",
   "metadata": {
    "colab_type": "text",
    "deletable": false,
    "editable": false,
    "id": "aX3qYY5Z9oLH",
    "nbgrader": {
     "checksum": "65782692211a478be6985f237730a50d",
     "grade": false,
     "grade_id": "cell-97f502ca4754e1c0",
     "locked": true,
     "schema_version": 1,
     "solution": false
    },
    "tags": [
     "Exercise-14"
    ]
   },
   "source": [
    "## Exercise 14: Matrix Multiplication\n",
    "\n",
    "<b><div style=\"text-align: right\">[POINTS: 3]</div></b>\n",
    "\n",
    "**Task:**  Carry out matrix multiplication using list comprehension with a function `matmultiply`, that takes in two matrices (lists of lists) `A` and `B` and returns their matrix multiplication. The built-in `zip` function might be handy for this task."
   ]
  },
  {
   "cell_type": "code",
   "execution_count": 3,
   "metadata": {
    "colab": {},
    "colab_type": "code",
    "deletable": false,
    "id": "ApfWPi-496Wb",
    "nbgrader": {
     "checksum": "10ead5fc59dfecb55074ccfbedc05686",
     "grade": false,
     "grade_id": "cell-26d2d26289fc2e1b",
     "locked": false,
     "schema_version": 1,
     "solution": true
    },
    "tags": [
     "Exercise-14"
    ]
   },
   "outputs": [],
   "source": [
    "def matmultiply(A, B):\n",
    "# YOUR CODE HERE\n",
    "    zip_b = list(zip(*B))\n",
    "    print(*B)\n",
    "#     return [[sum(a*b for a,b in zip(row_a,col_b)) for col_b in zip_b] for row_a in A]"
   ]
  },
  {
   "cell_type": "code",
   "execution_count": null,
   "metadata": {
    "colab": {},
    "colab_type": "code",
    "deletable": false,
    "editable": false,
    "id": "tnvLUA--DniH",
    "nbgrader": {
     "checksum": "ea4c5c0c610e14219e76e7fc478c5eb8",
     "grade": true,
     "grade_id": "cell-e93564ba74baaa74",
     "locked": true,
     "points": 3,
     "schema_version": 1,
     "solution": false
    },
    "tags": [
     "Exercise-14"
    ]
   },
   "outputs": [],
   "source": [
    "A = [[1,2],[3,4]]\n",
    "B = [[5,6],[7,8]]\n",
    "assert(matmultiply(A,B)[0][0]==19)"
   ]
  },
  {
   "cell_type": "markdown",
   "metadata": {
    "colab_type": "text",
    "deletable": false,
    "editable": false,
    "id": "dhTEBPpb4lXO",
    "nbgrader": {
     "checksum": "75441cc04ad7c77da0dbb6860ea31c76",
     "grade": false,
     "grade_id": "cell-2c0e72f921c1f7e9",
     "locked": true,
     "schema_version": 1,
     "solution": false
    },
    "tags": [
     "Exercise-15"
    ]
   },
   "source": [
    "## Exercise 15: Lambda Functions\n",
    "\n",
    "<b><div style=\"text-align: right\">[POINTS: 1]</div></b>\n",
    "\n",
    "**Task:** Create a lambda function `exponent` to evaluate two times the exponential of a number `num` with base set to e. That is, exponent should evaluate the $2*e^x$ for a given number $x$. You can use `math.exp` for the exponential."
   ]
  },
  {
   "cell_type": "code",
   "execution_count": 1,
   "metadata": {
    "colab": {},
    "colab_type": "code",
    "deletable": false,
    "id": "D9HrO7QbeCrY",
    "nbgrader": {
     "checksum": "8e26da16b87e26e07e2188166fa67af2",
     "grade": false,
     "grade_id": "cell-248a4e7a8edb3525",
     "locked": false,
     "schema_version": 1,
     "solution": true
    },
    "tags": [
     "Exercise-15"
    ]
   },
   "outputs": [
    {
     "name": "stdout",
     "output_type": "stream",
     "text": [
      "14.7781121978613\n"
     ]
    }
   ],
   "source": [
    "import math\n",
    "exponent = lambda x : 2 * math.exp(x)\n",
    "# YOUR CODE HERE\n",
    "print(exponent(2))"
   ]
  },
  {
   "cell_type": "code",
   "execution_count": null,
   "metadata": {
    "colab": {},
    "colab_type": "code",
    "deletable": false,
    "editable": false,
    "id": "FRfUBavLrPE6",
    "nbgrader": {
     "checksum": "a73ff6b1b36cd149c0916f0122cffec1",
     "grade": true,
     "grade_id": "cell-a736e6da0b8a47b7",
     "locked": true,
     "points": 1,
     "schema_version": 1,
     "solution": false
    },
    "tags": [
     "Exercise-15"
    ]
   },
   "outputs": [],
   "source": [
    "assert exponent is not None"
   ]
  },
  {
   "cell_type": "markdown",
   "metadata": {
    "colab_type": "text",
    "deletable": false,
    "editable": false,
    "id": "RRWRaDY64obD",
    "nbgrader": {
     "checksum": "3b781fe46bb05e005f4e807d6a25431a",
     "grade": false,
     "grade_id": "cell-84f192778380ebc4",
     "locked": true,
     "schema_version": 1,
     "solution": false
    },
    "tags": [
     "Exercise-16"
    ]
   },
   "source": [
    "## Exercise 16: Functional Programming\n",
    "\n",
    "<b><div style=\"text-align: right\">[POINTS: 2]</div></b>\n",
    "\n",
    "**Task:** Using lambda functions, filter out the numbers divisible by 5 from the list `numbers` and store the resulting list in the variable `filtered_numbers`. Then, divide each number in the list `filtered_numbers` by 5 and then store this list in the variable `mapped_numbers`. "
   ]
  },
  {
   "cell_type": "code",
   "execution_count": 4,
   "metadata": {
    "colab": {},
    "colab_type": "code",
    "deletable": false,
    "id": "mZmAz-Zehvh4",
    "nbgrader": {
     "checksum": "6f8aae9dabfe98d0d0017512d2be7d63",
     "grade": false,
     "grade_id": "cell-030fc88fd141610b",
     "locked": false,
     "schema_version": 1,
     "solution": true
    },
    "tags": [
     "Exercise-16"
    ]
   },
   "outputs": [
    {
     "name": "stdout",
     "output_type": "stream",
     "text": [
      "[5, 15, 75, 50, 100, 90, 555, 10725, 5, 10, 75, 80]\n",
      "[1, 3, 15, 10, 20, 18, 111, 2145, 1, 2, 15, 16]\n"
     ]
    }
   ],
   "source": [
    "numbers = [1, 5, 4, 6, 8, 11, 15, 3, 12, 75, 66, 99, 50, 100, 90, 555, 10257, 10725, 5, 10, 75, 76, 77, 78, 79, 80]\n",
    "filtered_numbers = list(filter(lambda x:x%5==0,numbers))\n",
    "doubled_numbers = list(map(lambda x:x//5,filtered_numbers))\n",
    "# YOUR CODE HERE\n",
    "print(filtered_numbers)\n",
    "print(doubled_numbers)"
   ]
  },
  {
   "cell_type": "code",
   "execution_count": 11,
   "metadata": {
    "colab": {},
    "colab_type": "code",
    "deletable": false,
    "editable": false,
    "id": "zNAXM40VrPFQ",
    "nbgrader": {
     "checksum": "b443ec71cb531a111412ddf72928684c",
     "grade": true,
     "grade_id": "cell-963240d334c5615d",
     "locked": true,
     "points": 2,
     "schema_version": 1,
     "solution": false
    },
    "tags": [
     "Exercise-16"
    ]
   },
   "outputs": [],
   "source": [
    "assert len(filtered_numbers) and len(doubled_numbers)"
   ]
  },
  {
   "cell_type": "markdown",
   "metadata": {
    "colab_type": "text",
    "deletable": false,
    "editable": false,
    "id": "gs3htMEb4Jtb",
    "nbgrader": {
     "checksum": "bd0e768214284131b3f2d46aa05826f3",
     "grade": false,
     "grade_id": "cell-820899dd459801b5",
     "locked": true,
     "schema_version": 1,
     "solution": false
    },
    "tags": [
     "Exercise-17"
    ]
   },
   "source": [
    "## Exercise 17: File Handling\n",
    "\n",
    "<b><div style=\"text-align: right\">[POINTS: 2]</div></b>\n",
    "\n",
    "**Task:** Create a file named `'file.txt'` and write the strings in `line1`, `line2` and `line3` to the file **in order**. After writing, close the file."
   ]
  },
  {
   "cell_type": "code",
   "execution_count": 6,
   "metadata": {
    "colab": {},
    "colab_type": "code",
    "deletable": false,
    "id": "jSUg-YyW0_Wk",
    "nbgrader": {
     "checksum": "6d8d900667ac73f9b8db4e82901b0e7c",
     "grade": false,
     "grade_id": "cell-570207d78f70e95b",
     "locked": false,
     "schema_version": 1,
     "solution": true
    },
    "tags": [
     "Exercise-17"
    ]
   },
   "outputs": [],
   "source": [
    "line1='This is the first line\\n'\n",
    "line2='This is the second line\\n'\n",
    "line3='This is the third line\\n'\n",
    "\n",
    "# YOUR CODE HERE\n",
    "with open('file.txt','w') as fp:\n",
    "    fp.write(line1+ line2 +line3)\n",
    "    "
   ]
  },
  {
   "cell_type": "code",
   "execution_count": 7,
   "metadata": {
    "colab": {},
    "colab_type": "code",
    "deletable": false,
    "editable": false,
    "id": "ECqFp0JzrPFq",
    "nbgrader": {
     "checksum": "66c9a322c87f3aa8c6f8fa27e6688f54",
     "grade": true,
     "grade_id": "cell-07abb3c6368c1860",
     "locked": true,
     "points": 2,
     "schema_version": 1,
     "solution": false
    },
    "tags": [
     "Exercise-17"
    ]
   },
   "outputs": [],
   "source": [
    "### INTENTIONALLY LEFT BLANK"
   ]
  },
  {
   "cell_type": "markdown",
   "metadata": {
    "colab_type": "text",
    "deletable": false,
    "editable": false,
    "id": "qFykRnDQDB_I",
    "nbgrader": {
     "checksum": "46c18c62afa15b93b0a214870bd85380",
     "grade": false,
     "grade_id": "cell-bfcb603a6e1933ca",
     "locked": true,
     "schema_version": 1,
     "solution": false
    },
    "tags": [
     "Exercise-18"
    ]
   },
   "source": [
    "## Exercise 18: Reading From Files\n",
    "\n",
    "<b><div style=\"text-align: right\">[POINTS: 2]</div></b>\n",
    "\n",
    "**Task:** Open the previously created file, read first 23 characters from the file into a variable `data` and store the current file position in variable named `position`. Then, close the file."
   ]
  },
  {
   "cell_type": "code",
   "execution_count": 8,
   "metadata": {
    "colab": {},
    "colab_type": "code",
    "deletable": false,
    "id": "EKFJZpUZDPBz",
    "nbgrader": {
     "checksum": "70879c4779a009dcd6da69091187e7e5",
     "grade": false,
     "grade_id": "cell-398e2a2da6daaf33",
     "locked": false,
     "schema_version": 1,
     "solution": true
    },
    "tags": [
     "Exercise-18"
    ]
   },
   "outputs": [
    {
     "name": "stdout",
     "output_type": "stream",
     "text": [
      "This is the first line\n",
      "\n",
      "23\n"
     ]
    }
   ],
   "source": [
    "position = None\n",
    "data = None\n",
    "# YOUR CODE HERE\n",
    "with open('file.txt','r') as fp:\n",
    "    data = fp.read(23)\n",
    "    position = fp.tell()\n",
    "print(data)\n",
    "print(position)"
   ]
  },
  {
   "cell_type": "code",
   "execution_count": 8,
   "metadata": {
    "colab": {},
    "colab_type": "code",
    "deletable": false,
    "editable": false,
    "id": "2RYizjOcrPF-",
    "nbgrader": {
     "checksum": "5778457aecd307d152f69cf1516be2ee",
     "grade": true,
     "grade_id": "cell-5cca88e8ec59fece",
     "locked": true,
     "points": 2,
     "schema_version": 1,
     "solution": false
    },
    "tags": [
     "Exercise-18"
    ]
   },
   "outputs": [],
   "source": [
    "assert position is not None\n",
    "assert data is not None\n"
   ]
  },
  {
   "cell_type": "markdown",
   "metadata": {
    "colab_type": "text",
    "deletable": false,
    "editable": false,
    "id": "2ifMKbdcD0XM",
    "nbgrader": {
     "checksum": "a74f5376a4338eb753157567bbec7088",
     "grade": false,
     "grade_id": "cell-ce7fe773a5abe43e",
     "locked": true,
     "schema_version": 1,
     "solution": false
    },
    "tags": [
     "Exercise-19"
    ]
   },
   "source": [
    "## Exercise 19: Parsing Words From File\n",
    "\n",
    "<b><div style=\"text-align: right\">[POINTS: 2]</div></b>\n",
    "\n",
    "Reopen the file `file.txt` in read mode, read all the contents of the file and convert the string into list of words named `list_of_words`.\n",
    "\n",
    "Hint: Use the `split` function on the string."
   ]
  },
  {
   "cell_type": "code",
   "execution_count": 12,
   "metadata": {
    "colab": {},
    "colab_type": "code",
    "deletable": false,
    "id": "Zp3ceFmND05H",
    "nbgrader": {
     "checksum": "010ad290be624f13400b701b9c4a965b",
     "grade": false,
     "grade_id": "cell-432ad9d3953c6b5c",
     "locked": false,
     "schema_version": 1,
     "solution": true
    },
    "tags": [
     "Exercise-19"
    ]
   },
   "outputs": [
    {
     "name": "stdout",
     "output_type": "stream",
     "text": [
      "['This is the first line', 'This is the second line', 'This is the third line', '']\n"
     ]
    }
   ],
   "source": [
    "list_of_words=None\n",
    "\n",
    "# YOUR CODE HERE\n",
    "with open('file.txt','r') as fp:\n",
    "    list_of_words = fp.read().split('\\n')\n",
    "print(list_of_words)"
   ]
  },
  {
   "cell_type": "code",
   "execution_count": 50,
   "metadata": {
    "colab": {},
    "colab_type": "code",
    "deletable": false,
    "editable": false,
    "id": "xRj2QJK4rPGh",
    "nbgrader": {
     "checksum": "8b72d5b929a800f1a00102d7e96a7a10",
     "grade": true,
     "grade_id": "cell-29a28a5fc43dfd6b",
     "locked": true,
     "points": 2,
     "schema_version": 1,
     "solution": false
    },
    "tags": [
     "Exercise-19"
    ]
   },
   "outputs": [],
   "source": [
    "assert list_of_words is not None\n"
   ]
  },
  {
   "cell_type": "code",
   "execution_count": 51,
   "metadata": {},
   "outputs": [],
   "source": [
    "# clean up the directory\n",
    "!rm file.txt"
   ]
  },
  {
   "cell_type": "code",
   "execution_count": null,
   "metadata": {},
   "outputs": [],
   "source": []
  }
 ],
 "metadata": {
  "colab": {
   "name": "New: Assignment 3.2 Python Programming.ipynb",
   "provenance": []
  },
  "kernelspec": {
   "display_name": "Python 3",
   "language": "python",
   "name": "python3"
  },
  "language_info": {
   "codemirror_mode": {
    "name": "ipython",
    "version": 3
   },
   "file_extension": ".py",
   "mimetype": "text/x-python",
   "name": "python",
   "nbconvert_exporter": "python",
   "pygments_lexer": "ipython3",
   "version": "3.6.8"
  }
 },
 "nbformat": 4,
 "nbformat_minor": 1
}
