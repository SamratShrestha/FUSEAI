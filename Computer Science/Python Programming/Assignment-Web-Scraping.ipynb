{
 "cells": [
  {
   "cell_type": "markdown",
   "metadata": {
    "colab_type": "text",
    "deletable": false,
    "editable": false,
    "id": "RRM2bc3LQvSx",
    "nbgrader": {
     "checksum": "17b27852c458f15e2e7753b0bad61e70",
     "grade": false,
     "grade_id": "cell-5f5b1e8710ff1bd1",
     "locked": true,
     "schema_version": 1,
     "solution": false
    }
   },
   "source": [
    "#  Web Scraping\n",
    "<b><div style=\"text-align: right\">[TOTAL POINTS: 25]</div></b>\n",
    "\n",
    "In this assignment, you will scrape an e-commerce site that sells computers. Specifically, you will form a dataframe out of some attributes of tablet computers listed in a page."
   ]
  },
  {
   "cell_type": "markdown",
   "metadata": {
    "colab_type": "text",
    "deletable": false,
    "editable": false,
    "id": "V3DpX4BCQ8xD",
    "nbgrader": {
     "checksum": "b69c4621b8c4e3898aa1112a9cf715c2",
     "grade": false,
     "grade_id": "cell-befb370828bf925c",
     "locked": true,
     "schema_version": 1,
     "solution": false
    },
    "tags": [
     "Exercise-1"
    ]
   },
   "source": [
    "### Exercise 1: Get the website and form a `BeautifulSoup` object\n",
    "<b><div style=\"text-align: right\">[POINTS: 10]</div></b>\n",
    "Form a `BeautifulSoup` object out of the website at the URL `https://www.webscraper.io/test-sites/e-commerce/allinone/computers/tablets` .\n",
    "\n",
    "**Task:** \n",
    "- Get the website at `URL` using `requests`.\n",
    "- Form a `BeautifulSoup` object out of the website HTML and assign it to the variable `soup`\n"
   ]
  },
  {
   "cell_type": "code",
   "execution_count": 1,
   "metadata": {
    "colab": {},
    "colab_type": "code",
    "deletable": false,
    "id": "ayNRJg9vLxPp",
    "nbgrader": {
     "checksum": "d7a3b1def07493d4a1b099244d3871fe",
     "grade": false,
     "grade_id": "cell-a24c4539fb1df0de",
     "locked": false,
     "schema_version": 1,
     "solution": true
    },
    "tags": [
     "Exercise-1"
    ]
   },
   "outputs": [],
   "source": [
    "import requests\n",
    "from bs4 import BeautifulSoup\n",
    "\n",
    "content = requests.get(\"https://www.webscraper.io/test-sites/e-commerce/allinone/computers/tablets\")\n",
    "soup = BeautifulSoup(content.text)\n"
   ]
  },
  {
   "cell_type": "code",
   "execution_count": 2,
   "metadata": {
    "colab": {},
    "colab_type": "code",
    "deletable": false,
    "editable": false,
    "id": "K7eiZDQuUVjS",
    "nbgrader": {
     "checksum": "7f214d1e02ff2d774e9e8ec1aef464ad",
     "grade": true,
     "grade_id": "cell-f5d908c8e26b5b2b",
     "locked": true,
     "points": 10,
     "schema_version": 1,
     "solution": false
    },
    "tags": [
     "Exercise-1"
    ]
   },
   "outputs": [],
   "source": [
    "### INTENTIONALLY LEFT BLANK"
   ]
  },
  {
   "cell_type": "markdown",
   "metadata": {
    "colab_type": "text",
    "deletable": false,
    "editable": false,
    "id": "8kUvm-lhWU17",
    "nbgrader": {
     "checksum": "64958a7e45748794c8e65fe448223892",
     "grade": false,
     "grade_id": "cell-2dc010542c34b3c1",
     "locked": true,
     "schema_version": 1,
     "solution": false
    },
    "tags": [
     "Exercise-2"
    ]
   },
   "source": [
    "### Exercise 2: Form the dataframe\n",
    "<b><div style=\"text-align: right\">[POINTS: 15]</div></b>\n",
    "Form a Pandas DataFrame that contains the data for each product as shown below.\n",
    "\n",
    "**Task:** \n",
    "Form a dataframe as shown below in the example.\n",
    "\n"
   ]
  },
  {
   "cell_type": "markdown",
   "metadata": {
    "colab_type": "text",
    "deletable": false,
    "editable": false,
    "id": "jUSN5811NHxQ",
    "nbgrader": {
     "checksum": "7a6289d6203dc7496ed989023ac3e8eb",
     "grade": false,
     "grade_id": "cell-70969bd5db8d1250",
     "locked": true,
     "schema_version": 1,
     "solution": false
    },
    "tags": [
     "Exercise-2"
    ]
   },
   "source": [
    "![alt](https://docs.google.com/uc?export=download&id=1Mb2oTa9cFlYAQ5gVFMbbt54oxh_lMxd9)"
   ]
  },
  {
   "cell_type": "code",
   "execution_count": 3,
   "metadata": {
    "colab": {
     "base_uri": "https://localhost:8080/",
     "height": 80
    },
    "colab_type": "code",
    "id": "VIiL5jHdN6Xe",
    "outputId": "43d612b3-f29e-4f0c-9bb9-3e15d04c540a",
    "tags": [
     "Exercise-2"
    ]
   },
   "outputs": [
    {
     "data": {
      "text/html": [
       "<div>\n",
       "<style scoped>\n",
       "    .dataframe tbody tr th:only-of-type {\n",
       "        vertical-align: middle;\n",
       "    }\n",
       "\n",
       "    .dataframe tbody tr th {\n",
       "        vertical-align: top;\n",
       "    }\n",
       "\n",
       "    .dataframe thead th {\n",
       "        text-align: right;\n",
       "    }\n",
       "</style>\n",
       "<table border=\"1\" class=\"dataframe\">\n",
       "  <thead>\n",
       "    <tr style=\"text-align: right;\">\n",
       "      <th></th>\n",
       "      <th>Name</th>\n",
       "      <th>Description</th>\n",
       "      <th>Price</th>\n",
       "      <th>Stars</th>\n",
       "      <th>Reviews</th>\n",
       "    </tr>\n",
       "  </thead>\n",
       "  <tbody>\n",
       "    <tr>\n",
       "      <th>0</th>\n",
       "      <td>Lenovo IdeaTab</td>\n",
       "      <td>7\" screen, Android</td>\n",
       "      <td>69.99</td>\n",
       "      <td>3</td>\n",
       "      <td>7</td>\n",
       "    </tr>\n",
       "  </tbody>\n",
       "</table>\n",
       "</div>"
      ],
      "text/plain": [
       "             Name         Description  Price  Stars  Reviews\n",
       "0  Lenovo IdeaTab  7\" screen, Android  69.99      3        7"
      ]
     },
     "execution_count": 3,
     "metadata": {},
     "output_type": "execute_result"
    }
   ],
   "source": [
    "import pandas as pd\n",
    "\n",
    "df = pd.DataFrame({\n",
    "    'Name':['Lenovo IdeaTab'],\n",
    "    'Description':['7\" screen, Android'],\n",
    "    'Price':[69.99],\n",
    "    'Stars':[3],\n",
    "    'Reviews':[7]\n",
    "})\n",
    "\n",
    "df.head()"
   ]
  },
  {
   "cell_type": "code",
   "execution_count": 4,
   "metadata": {
    "colab": {},
    "colab_type": "code",
    "deletable": false,
    "id": "1cuz9rmAVjXL",
    "nbgrader": {
     "checksum": "6133b47a4e5a8d9cbb2701e06c0ba876",
     "grade": false,
     "grade_id": "cell-bcb73e524b910a47",
     "locked": false,
     "schema_version": 1,
     "solution": true
    },
    "tags": [
     "Exercise-2"
    ]
   },
   "outputs": [
    {
     "data": {
      "text/html": [
       "<div>\n",
       "<style scoped>\n",
       "    .dataframe tbody tr th:only-of-type {\n",
       "        vertical-align: middle;\n",
       "    }\n",
       "\n",
       "    .dataframe tbody tr th {\n",
       "        vertical-align: top;\n",
       "    }\n",
       "\n",
       "    .dataframe thead th {\n",
       "        text-align: right;\n",
       "    }\n",
       "</style>\n",
       "<table border=\"1\" class=\"dataframe\">\n",
       "  <thead>\n",
       "    <tr style=\"text-align: right;\">\n",
       "      <th></th>\n",
       "      <th>Name</th>\n",
       "      <th>Price</th>\n",
       "      <th>Description</th>\n",
       "      <th>Stars</th>\n",
       "      <th>Reviews</th>\n",
       "    </tr>\n",
       "  </thead>\n",
       "  <tbody>\n",
       "    <tr>\n",
       "      <th>0</th>\n",
       "      <td>Lenovo IdeaTab</td>\n",
       "      <td>$69.99</td>\n",
       "      <td>7\" screen, Android</td>\n",
       "      <td>3</td>\n",
       "      <td>7</td>\n",
       "    </tr>\n",
       "    <tr>\n",
       "      <th>1</th>\n",
       "      <td>IdeaTab A3500L</td>\n",
       "      <td>$88.99</td>\n",
       "      <td>Black, 7\" IPS, Quad-Core 1.2GHz, 8GB, Android 4.2</td>\n",
       "      <td>4</td>\n",
       "      <td>7</td>\n",
       "    </tr>\n",
       "    <tr>\n",
       "      <th>2</th>\n",
       "      <td>Acer Iconia</td>\n",
       "      <td>$96.99</td>\n",
       "      <td>7\" screen, Android, 16GB</td>\n",
       "      <td>1</td>\n",
       "      <td>7</td>\n",
       "    </tr>\n",
       "    <tr>\n",
       "      <th>3</th>\n",
       "      <td>Galaxy Tab 3</td>\n",
       "      <td>$97.99</td>\n",
       "      <td>7\", 8GB, Wi-Fi, Android 4.2, White</td>\n",
       "      <td>2</td>\n",
       "      <td>2</td>\n",
       "    </tr>\n",
       "    <tr>\n",
       "      <th>4</th>\n",
       "      <td>Iconia B1-730HD</td>\n",
       "      <td>$99.99</td>\n",
       "      <td>Black, 7\", 1.6GHz Dual-Core, 8GB, Android 4.4</td>\n",
       "      <td>3</td>\n",
       "      <td>1</td>\n",
       "    </tr>\n",
       "    <tr>\n",
       "      <th>5</th>\n",
       "      <td>Memo Pad HD 7</td>\n",
       "      <td>$101.99</td>\n",
       "      <td>IPS, Dual-Core 1.2GHz, 8GB, Android 4.3</td>\n",
       "      <td>2</td>\n",
       "      <td>1</td>\n",
       "    </tr>\n",
       "    <tr>\n",
       "      <th>6</th>\n",
       "      <td>Asus MeMO Pad</td>\n",
       "      <td>$102.99</td>\n",
       "      <td>7\" screen, Android, 8GB</td>\n",
       "      <td>4</td>\n",
       "      <td>1</td>\n",
       "    </tr>\n",
       "    <tr>\n",
       "      <th>7</th>\n",
       "      <td>Amazon Kindle</td>\n",
       "      <td>$103.99</td>\n",
       "      <td>6\" screen, wifi</td>\n",
       "      <td>4</td>\n",
       "      <td>3</td>\n",
       "    </tr>\n",
       "    <tr>\n",
       "      <th>8</th>\n",
       "      <td>Galaxy Tab 3</td>\n",
       "      <td>$107.99</td>\n",
       "      <td>7\", 8GB, Wi-Fi, Android 4.2, Yellow</td>\n",
       "      <td>2</td>\n",
       "      <td>1</td>\n",
       "    </tr>\n",
       "    <tr>\n",
       "      <th>9</th>\n",
       "      <td>IdeaTab A8-50</td>\n",
       "      <td>$121.99</td>\n",
       "      <td>Blue, 8\" IPS, Quad-Core 1.3GHz, 16GB, Android 4.2</td>\n",
       "      <td>2</td>\n",
       "      <td>1</td>\n",
       "    </tr>\n",
       "    <tr>\n",
       "      <th>10</th>\n",
       "      <td>MeMO Pad 7</td>\n",
       "      <td>$130.99</td>\n",
       "      <td>White, 7\", Atom 1.2GHz, 8GB, Android 4.4</td>\n",
       "      <td>1</td>\n",
       "      <td>1</td>\n",
       "    </tr>\n",
       "    <tr>\n",
       "      <th>11</th>\n",
       "      <td>IdeaTab A3500-H</td>\n",
       "      <td>$148.99</td>\n",
       "      <td>Blue, 7\" IPS, Quad-Core 1.3GHz, 8GB, 3G, Andro...</td>\n",
       "      <td>2</td>\n",
       "      <td>9</td>\n",
       "    </tr>\n",
       "    <tr>\n",
       "      <th>12</th>\n",
       "      <td>IdeaTab S5000</td>\n",
       "      <td>$172.99</td>\n",
       "      <td>Silver, 7\" IPS, Quad-Core 1.2Ghz, 16GB, 3G, An...</td>\n",
       "      <td>3</td>\n",
       "      <td>8</td>\n",
       "    </tr>\n",
       "    <tr>\n",
       "      <th>13</th>\n",
       "      <td>Galaxy Tab 4</td>\n",
       "      <td>$233.99</td>\n",
       "      <td>LTE (SM-T235), Quad-Core 1.2GHz, 8GB, Black</td>\n",
       "      <td>4</td>\n",
       "      <td>1</td>\n",
       "    </tr>\n",
       "    <tr>\n",
       "      <th>14</th>\n",
       "      <td>Galaxy Tab</td>\n",
       "      <td>$251.99</td>\n",
       "      <td>16GB, White</td>\n",
       "      <td>3</td>\n",
       "      <td>1</td>\n",
       "    </tr>\n",
       "    <tr>\n",
       "      <th>15</th>\n",
       "      <td>MeMo PAD FHD 10</td>\n",
       "      <td>$320.99</td>\n",
       "      <td>White, 10.1\" IPS, 1.6GHz, 2GB, 16GB, Android 4.2</td>\n",
       "      <td>2</td>\n",
       "      <td>7</td>\n",
       "    </tr>\n",
       "    <tr>\n",
       "      <th>16</th>\n",
       "      <td>Galaxy Note</td>\n",
       "      <td>$399.99</td>\n",
       "      <td>10.1\", 3G, Android 4.0, Garnet Red</td>\n",
       "      <td>4</td>\n",
       "      <td>1</td>\n",
       "    </tr>\n",
       "    <tr>\n",
       "      <th>17</th>\n",
       "      <td>Galaxy Note</td>\n",
       "      <td>$489.99</td>\n",
       "      <td>12.2\", 32GB, WiFi, Android 4.4, White</td>\n",
       "      <td>3</td>\n",
       "      <td>9</td>\n",
       "    </tr>\n",
       "    <tr>\n",
       "      <th>18</th>\n",
       "      <td>iPad Mini Retina</td>\n",
       "      <td>$537.99</td>\n",
       "      <td>Wi-Fi + Cellular, 32GB, Silver</td>\n",
       "      <td>2</td>\n",
       "      <td>8</td>\n",
       "    </tr>\n",
       "    <tr>\n",
       "      <th>19</th>\n",
       "      <td>Galaxy Note 10.1</td>\n",
       "      <td>$587.99</td>\n",
       "      <td>10.1\", 32GB, Black</td>\n",
       "      <td>2</td>\n",
       "      <td>6</td>\n",
       "    </tr>\n",
       "    <tr>\n",
       "      <th>20</th>\n",
       "      <td>Apple iPad Air</td>\n",
       "      <td>$603.99</td>\n",
       "      <td>Wi-Fi, 64GB, Silver</td>\n",
       "      <td>3</td>\n",
       "      <td>7</td>\n",
       "    </tr>\n",
       "  </tbody>\n",
       "</table>\n",
       "</div>"
      ],
      "text/plain": [
       "                Name    Price  \\\n",
       "0     Lenovo IdeaTab   $69.99   \n",
       "1     IdeaTab A3500L   $88.99   \n",
       "2        Acer Iconia   $96.99   \n",
       "3       Galaxy Tab 3   $97.99   \n",
       "4    Iconia B1-730HD   $99.99   \n",
       "5      Memo Pad HD 7  $101.99   \n",
       "6      Asus MeMO Pad  $102.99   \n",
       "7      Amazon Kindle  $103.99   \n",
       "8       Galaxy Tab 3  $107.99   \n",
       "9      IdeaTab A8-50  $121.99   \n",
       "10        MeMO Pad 7  $130.99   \n",
       "11   IdeaTab A3500-H  $148.99   \n",
       "12     IdeaTab S5000  $172.99   \n",
       "13      Galaxy Tab 4  $233.99   \n",
       "14        Galaxy Tab  $251.99   \n",
       "15   MeMo PAD FHD 10  $320.99   \n",
       "16       Galaxy Note  $399.99   \n",
       "17       Galaxy Note  $489.99   \n",
       "18  iPad Mini Retina  $537.99   \n",
       "19  Galaxy Note 10.1  $587.99   \n",
       "20    Apple iPad Air  $603.99   \n",
       "\n",
       "                                          Description  Stars  Reviews  \n",
       "0                                  7\" screen, Android      3        7  \n",
       "1   Black, 7\" IPS, Quad-Core 1.2GHz, 8GB, Android 4.2      4        7  \n",
       "2                            7\" screen, Android, 16GB      1        7  \n",
       "3                  7\", 8GB, Wi-Fi, Android 4.2, White      2        2  \n",
       "4       Black, 7\", 1.6GHz Dual-Core, 8GB, Android 4.4      3        1  \n",
       "5             IPS, Dual-Core 1.2GHz, 8GB, Android 4.3      2        1  \n",
       "6                             7\" screen, Android, 8GB      4        1  \n",
       "7                                     6\" screen, wifi      4        3  \n",
       "8                 7\", 8GB, Wi-Fi, Android 4.2, Yellow      2        1  \n",
       "9   Blue, 8\" IPS, Quad-Core 1.3GHz, 16GB, Android 4.2      2        1  \n",
       "10           White, 7\", Atom 1.2GHz, 8GB, Android 4.4      1        1  \n",
       "11  Blue, 7\" IPS, Quad-Core 1.3GHz, 8GB, 3G, Andro...      2        9  \n",
       "12  Silver, 7\" IPS, Quad-Core 1.2Ghz, 16GB, 3G, An...      3        8  \n",
       "13        LTE (SM-T235), Quad-Core 1.2GHz, 8GB, Black      4        1  \n",
       "14                                        16GB, White      3        1  \n",
       "15   White, 10.1\" IPS, 1.6GHz, 2GB, 16GB, Android 4.2      2        7  \n",
       "16                 10.1\", 3G, Android 4.0, Garnet Red      4        1  \n",
       "17              12.2\", 32GB, WiFi, Android 4.4, White      3        9  \n",
       "18                     Wi-Fi + Cellular, 32GB, Silver      2        8  \n",
       "19                                 10.1\", 32GB, Black      2        6  \n",
       "20                                Wi-Fi, 64GB, Silver      3        7  "
      ]
     },
     "execution_count": 4,
     "metadata": {},
     "output_type": "execute_result"
    }
   ],
   "source": [
    "names = []\n",
    "prices = []\n",
    "descriptions = []\n",
    "stars = []\n",
    "reviews = []\n",
    "for prod in soup(class_='thumbnail'):\n",
    "    prices.append(prod.find(class_='price').text)\n",
    "    names.append(prod.find(class_='title').text)\n",
    "    descriptions.append(prod.find(class_='description').text)\n",
    "    stars.append(len(prod(class_='glyphicon-star'))) \n",
    "\n",
    "    review_div = prod.find(class_='ratings')\n",
    "    reviews.append(int(review_div.find(class_='pull-right').text[:1]))\n",
    "\n",
    "df = pd.DataFrame({\n",
    "    'Name':names,\n",
    "    'Price':prices,\n",
    "    'Description':descriptions,\n",
    "    'Stars':stars,\n",
    "    'Reviews':reviews\n",
    "})\n",
    "\n",
    "df"
   ]
  },
  {
   "cell_type": "code",
   "execution_count": 5,
   "metadata": {
    "colab": {},
    "colab_type": "code",
    "deletable": false,
    "editable": false,
    "id": "GTJ2w5ZyjVG3",
    "nbgrader": {
     "checksum": "95663f1d531d15bb3ce026393834bb09",
     "grade": true,
     "grade_id": "cell-c8676e1e3309a8b0",
     "locked": true,
     "points": 15,
     "schema_version": 1,
     "solution": false
    },
    "tags": [
     "Exercise-2"
    ]
   },
   "outputs": [],
   "source": [
    "### INTENTIONALLY LEFT BLANK"
   ]
  },
  {
   "cell_type": "code",
   "execution_count": null,
   "metadata": {},
   "outputs": [],
   "source": []
  }
 ],
 "metadata": {
  "colab": {
   "collapsed_sections": [],
   "name": "Assignment: Web Scraping.ipynb",
   "provenance": []
  },
  "kernelspec": {
   "display_name": "Python 3",
   "language": "python",
   "name": "python3"
  },
  "language_info": {
   "codemirror_mode": {
    "name": "ipython",
    "version": 3
   },
   "file_extension": ".py",
   "mimetype": "text/x-python",
   "name": "python",
   "nbconvert_exporter": "python",
   "pygments_lexer": "ipython3",
   "version": "3.6.8"
  }
 },
 "nbformat": 4,
 "nbformat_minor": 1
}
