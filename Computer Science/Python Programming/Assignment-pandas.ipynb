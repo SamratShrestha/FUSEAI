{
 "cells": [
  {
   "cell_type": "markdown",
   "metadata": {
    "colab_type": "text",
    "deletable": false,
    "editable": false,
    "id": "Zt0E2YKMRZvr",
    "nbgrader": {
     "checksum": "98ed69ea235e9b941021ba32b17f48c0",
     "grade": false,
     "grade_id": "cell-994081dd43302608",
     "locked": true,
     "schema_version": 1,
     "solution": false
    }
   },
   "source": [
    "# Assignment - Pandas\n",
    "**<div style=\"text-align: right\"> [TOTAL SCORE: 20]</div>**\n",
    "\n",
    "In this assignment, you will practice using pandas on datasets that are similar to what you will encounter in real life. You will manipulate dataframes in many ways such as merging two dataframes and creating new columns in them. If you feel like you need a refresher for pandas, go through the resources in this chapter. [10 minutes to pandas](https://pandas.pydata.org/pandas-docs/stable/getting_started/10min.html) is also a really good introduction to pandas. "
   ]
  },
  {
   "cell_type": "markdown",
   "metadata": {
    "colab_type": "text",
    "deletable": false,
    "editable": false,
    "id": "xZnRrZSzRZvu",
    "nbgrader": {
     "checksum": "febb2dfd83b0056d50d63fc51674da08",
     "grade": false,
     "grade_id": "cell-ea13ae5a975e026e",
     "locked": true,
     "schema_version": 1,
     "solution": false
    },
    "tags": [
     "Exercise-1"
    ]
   },
   "source": [
    "## Exercise 1 - Importing Modules\n",
    "**<div style=\"text-align: right\"> [SCORE: 1]</div>**\n",
    "\n",
    "**Task:** Import `numpy` and `pandas`."
   ]
  },
  {
   "cell_type": "code",
   "execution_count": 1,
   "metadata": {
    "colab": {},
    "colab_type": "code",
    "deletable": false,
    "id": "zx1ISZkoRZvw",
    "nbgrader": {
     "checksum": "f6f0558f8bd7a327df8cbfa4d45d6578",
     "grade": false,
     "grade_id": "cell-d42b1ad5c9d38a8f",
     "locked": false,
     "schema_version": 1,
     "solution": true
    },
    "tags": [
     "Exercise-1"
    ]
   },
   "outputs": [],
   "source": [
    "# YOUR CODE HERE\n",
    "import numpy as np\n",
    "import pandas as pd"
   ]
  },
  {
   "cell_type": "code",
   "execution_count": 2,
   "metadata": {
    "colab": {},
    "colab_type": "code",
    "deletable": false,
    "editable": false,
    "id": "ZvwcLaTARZvz",
    "nbgrader": {
     "checksum": "b3ed978cd2ada6ee2a7b04abc68b14c4",
     "grade": true,
     "grade_id": "cell-bd164fdb061a9084",
     "locked": true,
     "points": 1,
     "schema_version": 1,
     "solution": false
    },
    "tags": [
     "Exercise-1"
    ]
   },
   "outputs": [],
   "source": [
    "### INTENTIONALLY LEFT BLANK"
   ]
  },
  {
   "cell_type": "markdown",
   "metadata": {
    "colab_type": "text",
    "deletable": false,
    "editable": false,
    "id": "M9EU98XFRZv3",
    "nbgrader": {
     "checksum": "d9d812d1c5d66457ccf50d11106dc597",
     "grade": false,
     "grade_id": "cell-488e38e490dcd402",
     "locked": true,
     "schema_version": 1,
     "solution": false
    },
    "tags": [
     "Exercise-2"
    ]
   },
   "source": [
    "## Exercise 2: Loading Datasets\n",
    "\n",
    "**<div style=\"text-align: right\"> [SCORE: 3]</div>**\n",
    "\n",
    "You are given two CSV files in the urls `URL1` and `URL2`.\n",
    "\n",
    "**Task:** Load the two CSV files into the dataframes `sales1` and `sales2` and investigate the data in them. Note that you can use these URLs directly instead of file paths when importing the CSV files using pandas."
   ]
  },
  {
   "cell_type": "code",
   "execution_count": 3,
   "metadata": {
    "colab": {},
    "colab_type": "code",
    "deletable": false,
    "id": "GGG-QV75RZv4",
    "nbgrader": {
     "checksum": "2e9c21f36dbc7788e18a9b1a759b27a2",
     "grade": false,
     "grade_id": "cell-71819bdd695318ce",
     "locked": false,
     "schema_version": 1,
     "solution": true
    },
    "outputId": "bdd3d934-2075-453e-e09c-5e60ef53e58f",
    "tags": [
     "Exercise-2"
    ]
   },
   "outputs": [],
   "source": [
    "URL1 = \"https://storage.googleapis.com/codehub-data/1-A-2-4-sales1.csv\"\n",
    "URL2 = \"https://storage.googleapis.com/codehub-data/1-A-2-4-sales2.csv\"\n",
    "\n",
    "sales1 = pd.read_csv(URL1)\n",
    "sales2 = pd.read_csv(URL2)"
   ]
  },
  {
   "cell_type": "code",
   "execution_count": 4,
   "metadata": {
    "colab": {},
    "colab_type": "code",
    "deletable": false,
    "editable": false,
    "id": "rsfm50MaRZv8",
    "nbgrader": {
     "checksum": "184377529008ab5fb1a3afe18be9cdfa",
     "grade": true,
     "grade_id": "cell-f3b7b88dade8b96d",
     "locked": true,
     "points": 3,
     "schema_version": 1,
     "solution": false
    },
    "tags": [
     "Exercise-2"
    ]
   },
   "outputs": [],
   "source": [
    "assert sales1 is not None\n",
    "assert sales2 is not None\n"
   ]
  },
  {
   "cell_type": "markdown",
   "metadata": {
    "colab_type": "text",
    "deletable": false,
    "editable": false,
    "id": "8S0r3TuJg3mm",
    "nbgrader": {
     "checksum": "9e60dd928115ff2e78463daedab47e75",
     "grade": false,
     "grade_id": "cell-fb14dd8ab42ba4f7",
     "locked": true,
     "schema_version": 1,
     "solution": false
    },
    "tags": [
     "Exercise-3"
    ]
   },
   "source": [
    "## Exercise 3: Investigating Dataframes                                                    \n",
    "**<div style=\"text-align: right\"> [UNGRADED]</div>**\n",
    "\n",
    "Take a look at the data in the two dataframes and get to know the variables in them."
   ]
  },
  {
   "cell_type": "code",
   "execution_count": 5,
   "metadata": {
    "colab": {},
    "colab_type": "code",
    "deletable": false,
    "id": "qv_Gly9mRZv_",
    "nbgrader": {
     "checksum": "247ad1972d1e363268eef8b3c83ed1dc",
     "grade": false,
     "grade_id": "cell-7544e033a6ac1b48",
     "locked": false,
     "schema_version": 1,
     "solution": true
    },
    "outputId": "bf883d7d-8b60-4f83-e2eb-99e0d4f74003",
    "tags": [
     "Exercise-3"
    ]
   },
   "outputs": [
    {
     "name": "stdout",
     "output_type": "stream",
     "text": [
      "Index(['Item Type', 'Order Date', 'Order ID', 'Ship Date', 'Units Sold',\n",
      "       'Unit Price', 'Unit Cost'],\n",
      "      dtype='object')\n",
      "Index(['Order ID', 'Region', 'Country', 'Order Priority', 'Total Revenue',\n",
      "       'Total Cost'],\n",
      "      dtype='object')\n"
     ]
    }
   ],
   "source": [
    "# YOUR CODE HERE\n",
    "print(sales1.columns)\n",
    "print(sales2.columns)"
   ]
  },
  {
   "cell_type": "markdown",
   "metadata": {
    "colab_type": "text",
    "deletable": false,
    "editable": false,
    "id": "Bbt1KXgeRZwE",
    "nbgrader": {
     "checksum": "81dbf64e00b6ff241746c5f90f87fbb3",
     "grade": false,
     "grade_id": "cell-95d9630f9c76ad44",
     "locked": true,
     "schema_version": 1,
     "solution": false
    },
    "tags": [
     "Exercise-3"
    ]
   },
   "source": [
    "## Exercise 4: Merging Two Dataframes\n",
    "**<div style=\"text-align: right\"> [SCORE: 4]</div>**\n",
    "**Task:** Merge the two dataframes into a single dataframe `sales` based on their `Order ID`. Do not throw away any data. Use the function [`pd.merge`](https://pandas.pydata.org/pandas-docs/version/0.23.4/generated/pandas.merge.html)."
   ]
  },
  {
   "cell_type": "code",
   "execution_count": 6,
   "metadata": {
    "colab": {},
    "colab_type": "code",
    "deletable": false,
    "id": "WEydwWgVRZwF",
    "nbgrader": {
     "checksum": "a0c389345f55a3b6f00d64c3b9e1a1fc",
     "grade": false,
     "grade_id": "cell-c507a9d4b392d1c7",
     "locked": false,
     "schema_version": 1,
     "solution": true
    },
    "outputId": "fae0872d-3f96-4d5e-cdc9-fbdea17b0bf1",
    "tags": [
     "Exercise-4"
    ]
   },
   "outputs": [],
   "source": [
    "sales = pd.merge(sales1,sales2, on=\"Order ID\",how='outer')\n",
    "# YOUR CODE HERE"
   ]
  },
  {
   "cell_type": "code",
   "execution_count": 7,
   "metadata": {
    "colab": {},
    "colab_type": "code",
    "deletable": false,
    "editable": false,
    "id": "tlX5xVqARZwI",
    "nbgrader": {
     "checksum": "39b97fa9c28d8d06473648ab1ede0306",
     "grade": true,
     "grade_id": "cell-103a2cae2e58bed4",
     "locked": true,
     "points": 4,
     "schema_version": 1,
     "solution": false
    },
    "tags": [
     "Exercise-4"
    ]
   },
   "outputs": [],
   "source": [
    "assert(sales[sales[\"Order ID\"]==686800706][\"Country\"].values == \"Libya\")\n",
    "assert(sales[sales[\"Order ID\"]==686800706][\"Item Type\"].values == \"Cosmetics\")"
   ]
  },
  {
   "cell_type": "markdown",
   "metadata": {
    "colab_type": "text",
    "deletable": false,
    "editable": false,
    "id": "m9nQzvuyRZwL",
    "nbgrader": {
     "checksum": "e93ded5f012a83c128a0ec6ac47dcf81",
     "grade": false,
     "grade_id": "cell-bd21e9e64402b04b",
     "locked": true,
     "schema_version": 1,
     "solution": false
    },
    "tags": [
     "Exercise-5"
    ]
   },
   "source": [
    "## Exercise 5: Searching for Missing Values\n",
    "\n",
    "**<div style=\"text-align: right\"> [SCORE: 2]</div>**\n",
    "\n",
    "**Task:** Investigate the `sales` dataframe to find out any missing values. Count the number of missing values and store the resulting count into the variable `NA_count`."
   ]
  },
  {
   "cell_type": "code",
   "execution_count": 8,
   "metadata": {
    "colab": {},
    "colab_type": "code",
    "deletable": false,
    "id": "yMnbzZfnRZwM",
    "nbgrader": {
     "checksum": "d6599a2355a90ea0f499dc99c0c110a1",
     "grade": false,
     "grade_id": "cell-a8cb7ba5e405990c",
     "locked": false,
     "schema_version": 1,
     "solution": true
    },
    "tags": [
     "Exercise-5"
    ]
   },
   "outputs": [
    {
     "data": {
      "text/plain": [
       "Item Type          0\n",
       "Order Date         0\n",
       "Order ID           0\n",
       "Ship Date          0\n",
       "Units Sold         6\n",
       "Unit Price         6\n",
       "Unit Cost          6\n",
       "Region            24\n",
       "Country           24\n",
       "Order Priority    20\n",
       "Total Revenue     23\n",
       "Total Cost        23\n",
       "dtype: int64"
      ]
     },
     "execution_count": 8,
     "metadata": {},
     "output_type": "execute_result"
    }
   ],
   "source": [
    "NA_count = sales.isnull().sum()\n",
    "NA_count\n"
   ]
  },
  {
   "cell_type": "code",
   "execution_count": 9,
   "metadata": {
    "colab": {},
    "colab_type": "code",
    "deletable": false,
    "editable": false,
    "id": "yrwwcwhgRZwP",
    "nbgrader": {
     "checksum": "fbc75e7863b9126d344485dd3f973538",
     "grade": true,
     "grade_id": "cell-b4bb498b511daa81",
     "locked": true,
     "points": 2,
     "schema_version": 1,
     "solution": false
    },
    "tags": [
     "Exercise-5"
    ]
   },
   "outputs": [],
   "source": [
    "assert NA_count is not None"
   ]
  },
  {
   "cell_type": "markdown",
   "metadata": {
    "colab_type": "text",
    "deletable": false,
    "editable": false,
    "id": "04nSBN-fRZwK",
    "nbgrader": {
     "checksum": "09cdc4edd230a80f29e76c926c16614c",
     "grade": false,
     "grade_id": "cell-77d10ae0e26267fe",
     "locked": true,
     "schema_version": 1,
     "solution": false
    },
    "tags": [
     "Exercise-6"
    ]
   },
   "source": [
    "## Exercise 6: Filling in Missing Values\n",
    "\n",
    "**<div style=\"text-align: right\"> [SCORE: 3]</div>**\n",
    "\n",
    "\n",
    "When solving the previous exercise, you must have noticed \n",
    "**Task:** Fill in the missing values in the `sales` dataframe following the strategy below. \n",
    "* If any values in the `Region` and `Country` columns are missing, fill in the fields with the string `unknown`.\n",
    "* If any values in the `Order Priority` column are missing, fill in the fields with mode of the values in the column.\n",
    "* If any values in the rest of the columns are missing, fill in the fields using the mean of the respective columns.\n",
    "\n",
    "\n",
    "You can use any of the functions in the following references for this section:\n",
    "- [Working with missing data](https://pandas.pydata.org/pandas-docs/stable/missing_data.html)\n",
    "- [Python Lambda Expressions](https://docs.python.org/3/tutorial/controlflow.html#lambda-expressions)\n",
    "- [Pandas Apply Function](https://pandas.pydata.org/pandas-docs/version/0.18/generated/pandas.Series.apply.html)\n",
    "- [Pandas FillNa](https://pandas.pydata.org/pandas-docs/version/0.17.0/generated/pandas.DataFrame.fillna.html)"
   ]
  },
  {
   "cell_type": "code",
   "execution_count": 10,
   "metadata": {
    "colab": {},
    "colab_type": "code",
    "deletable": false,
    "id": "YeYoCu9TRZwT",
    "nbgrader": {
     "checksum": "8b63d41057bc340d0b050e0d2c8f4dfd",
     "grade": false,
     "grade_id": "cell-ecd27c70cd31dd34",
     "locked": false,
     "schema_version": 1,
     "solution": true
    },
    "tags": [
     "Exercise-6"
    ]
   },
   "outputs": [],
   "source": [
    "# YOUR CODE HERE\n",
    "sales[['Region','Country']] = sales[['Region','Country']].fillna(\"unknown\")\n",
    "sales['Order Priority']= sales['Order Priority'].fillna(sales['Order Priority'].mode()[0])\n",
    "sales = sales.fillna(sales.mean())\n"
   ]
  },
  {
   "cell_type": "code",
   "execution_count": 11,
   "metadata": {
    "colab": {},
    "colab_type": "code",
    "deletable": false,
    "editable": false,
    "id": "Frxxy4ErRZwX",
    "nbgrader": {
     "checksum": "ab76555ef5898345f7cbee298f7e4412",
     "grade": true,
     "grade_id": "cell-8c5d5eb31400ede6",
     "locked": true,
     "points": 3,
     "schema_version": 1,
     "solution": false
    },
    "tags": [
     "Exercise-6"
    ]
   },
   "outputs": [],
   "source": [
    "assert(sales[sales[\"Order ID\"] == 267066323][\"Region\"].values == \"unknown\")"
   ]
  },
  {
   "cell_type": "markdown",
   "metadata": {
    "colab_type": "text",
    "deletable": false,
    "editable": false,
    "id": "jH6btVATRZwZ",
    "nbgrader": {
     "checksum": "b7d0193f7c2f634e0cf4cbacf044420e",
     "grade": false,
     "grade_id": "cell-9591d935e3490887",
     "locked": true,
     "schema_version": 1,
     "solution": false
    },
    "tags": [
     "Exercise-7"
    ]
   },
   "source": [
    "## Exercise 7: Grouping and Analysis \n",
    "**<div style=\"text-align: right\"> [SCORE: 3]</div>**\n",
    "**Task:** Find out the count, mean and standard deviation for the ‘Unit Cost’ column. Store it in the variable `summary`.\n",
    "\n",
    "References:\n",
    "- [Pandas Indexing](https://pandas.pydata.org/pandas-docs/stable/indexing.html)\n",
    "- [Groupby](https://pandas.pydata.org/pandas-docs/stable/groupby.html)\n",
    "- [Loc](https://pandas.pydata.org/pandas-docs/version/0.23.4/generated/pandas.DataFrame.loc.html)"
   ]
  },
  {
   "cell_type": "code",
   "execution_count": 12,
   "metadata": {
    "colab": {},
    "colab_type": "code",
    "deletable": false,
    "id": "Z1EdcB4MRZwa",
    "nbgrader": {
     "checksum": "0feb8709d796a5ab55b3cf6dfd99cd7b",
     "grade": false,
     "grade_id": "cell-6d7ee6337f1148e1",
     "locked": false,
     "schema_version": 1,
     "solution": true
    },
    "outputId": "ffb60470-3368-4da6-d2af-cc432cd2ad4e",
    "tags": [
     "Exercise-7"
    ]
   },
   "outputs": [
    {
     "data": {
      "text/html": [
       "<div>\n",
       "<style scoped>\n",
       "    .dataframe tbody tr th:only-of-type {\n",
       "        vertical-align: middle;\n",
       "    }\n",
       "\n",
       "    .dataframe tbody tr th {\n",
       "        vertical-align: top;\n",
       "    }\n",
       "\n",
       "    .dataframe thead th {\n",
       "        text-align: right;\n",
       "    }\n",
       "</style>\n",
       "<table border=\"1\" class=\"dataframe\">\n",
       "  <thead>\n",
       "    <tr style=\"text-align: right;\">\n",
       "      <th></th>\n",
       "      <th>count</th>\n",
       "      <th>mean</th>\n",
       "      <th>std</th>\n",
       "    </tr>\n",
       "    <tr>\n",
       "      <th>Item Type</th>\n",
       "      <th></th>\n",
       "      <th></th>\n",
       "      <th></th>\n",
       "    </tr>\n",
       "  </thead>\n",
       "  <tbody>\n",
       "    <tr>\n",
       "      <th>*Cereal</th>\n",
       "      <td>79</td>\n",
       "      <td>117.970017</td>\n",
       "      <td>7.643994</td>\n",
       "    </tr>\n",
       "    <tr>\n",
       "      <th>Baby Food</th>\n",
       "      <td>87</td>\n",
       "      <td>159.714613</td>\n",
       "      <td>2.747965</td>\n",
       "    </tr>\n",
       "    <tr>\n",
       "      <th>Beverages</th>\n",
       "      <td>101</td>\n",
       "      <td>31.790000</td>\n",
       "      <td>0.000000</td>\n",
       "    </tr>\n",
       "    <tr>\n",
       "      <th>Clothes</th>\n",
       "      <td>78</td>\n",
       "      <td>35.840000</td>\n",
       "      <td>0.000000</td>\n",
       "    </tr>\n",
       "    <tr>\n",
       "      <th>Cosmetics</th>\n",
       "      <td>75</td>\n",
       "      <td>263.330000</td>\n",
       "      <td>0.000000</td>\n",
       "    </tr>\n",
       "    <tr>\n",
       "      <th>Fruits</th>\n",
       "      <td>70</td>\n",
       "      <td>6.920000</td>\n",
       "      <td>0.000000</td>\n",
       "    </tr>\n",
       "    <tr>\n",
       "      <th>Household</th>\n",
       "      <td>77</td>\n",
       "      <td>498.416770</td>\n",
       "      <td>36.181194</td>\n",
       "    </tr>\n",
       "    <tr>\n",
       "      <th>Meat</th>\n",
       "      <td>78</td>\n",
       "      <td>364.690000</td>\n",
       "      <td>0.000000</td>\n",
       "    </tr>\n",
       "    <tr>\n",
       "      <th>Office Supplies</th>\n",
       "      <td>89</td>\n",
       "      <td>524.960000</td>\n",
       "      <td>0.000000</td>\n",
       "    </tr>\n",
       "    <tr>\n",
       "      <th>Personal Care</th>\n",
       "      <td>87</td>\n",
       "      <td>58.145647</td>\n",
       "      <td>13.763921</td>\n",
       "    </tr>\n",
       "    <tr>\n",
       "      <th>Snacks</th>\n",
       "      <td>82</td>\n",
       "      <td>98.508431</td>\n",
       "      <td>9.675050</td>\n",
       "    </tr>\n",
       "    <tr>\n",
       "      <th>Vegetables</th>\n",
       "      <td>97</td>\n",
       "      <td>91.900323</td>\n",
       "      <td>9.556571</td>\n",
       "    </tr>\n",
       "  </tbody>\n",
       "</table>\n",
       "</div>"
      ],
      "text/plain": [
       "                 count        mean        std\n",
       "Item Type                                    \n",
       "*Cereal             79  117.970017   7.643994\n",
       "Baby Food           87  159.714613   2.747965\n",
       "Beverages          101   31.790000   0.000000\n",
       "Clothes             78   35.840000   0.000000\n",
       "Cosmetics           75  263.330000   0.000000\n",
       "Fruits              70    6.920000   0.000000\n",
       "Household           77  498.416770  36.181194\n",
       "Meat                78  364.690000   0.000000\n",
       "Office Supplies     89  524.960000   0.000000\n",
       "Personal Care       87   58.145647  13.763921\n",
       "Snacks              82   98.508431   9.675050\n",
       "Vegetables          97   91.900323   9.556571"
      ]
     },
     "execution_count": 12,
     "metadata": {},
     "output_type": "execute_result"
    }
   ],
   "source": [
    "summary = sales.groupby('Item Type')['Unit Cost'].agg(['count','mean','std'])\n",
    "summary"
   ]
  },
  {
   "cell_type": "code",
   "execution_count": 13,
   "metadata": {
    "colab": {},
    "colab_type": "code",
    "deletable": false,
    "editable": false,
    "id": "biwRdgGBRZwe",
    "nbgrader": {
     "checksum": "1d048f3c2c3e21f280ce2a17df6b9af2",
     "grade": true,
     "grade_id": "cell-ead8aa086efe6055",
     "locked": true,
     "points": 3,
     "schema_version": 1,
     "solution": false
    },
    "tags": [
     "Exercise-7"
    ]
   },
   "outputs": [],
   "source": [
    "assert(summary.loc[\"Fruits\",\"count\"]==70)"
   ]
  },
  {
   "cell_type": "markdown",
   "metadata": {
    "colab_type": "text",
    "deletable": false,
    "editable": false,
    "id": "zEbG7Os0RZwh",
    "nbgrader": {
     "checksum": "bbbc73521485c4875d706a3667733e04",
     "grade": false,
     "grade_id": "cell-1d48ac8867ce5357",
     "locked": true,
     "schema_version": 1,
     "solution": false
    },
    "tags": [
     "Exercise-8"
    ]
   },
   "source": [
    "## Exercise 8: Getting the Statistics for a Variable\n",
    "**<div style=\"text-align: right\"> [SCORE: 1]</div>**\n",
    "**Task:** Extract the count, mean and standard deviation for \"Fruits\", \"Vegetables\", \"Baby Food\", and \"Meat\" from `summary`. Assign the result to the variable `kitchen`.\n",
    "\n"
   ]
  },
  {
   "cell_type": "code",
   "execution_count": 14,
   "metadata": {
    "colab": {},
    "colab_type": "code",
    "deletable": false,
    "id": "vowdGpNrRZwi",
    "nbgrader": {
     "checksum": "cda0af49d02a50a954ef49c44f9728ad",
     "grade": false,
     "grade_id": "cell-1937ff8f658173ac",
     "locked": false,
     "schema_version": 1,
     "solution": true
    },
    "outputId": "663ac32e-27cf-4d05-a3b0-9197d61222ee",
    "tags": [
     "Exercise-8"
    ]
   },
   "outputs": [
    {
     "data": {
      "text/html": [
       "<div>\n",
       "<style scoped>\n",
       "    .dataframe tbody tr th:only-of-type {\n",
       "        vertical-align: middle;\n",
       "    }\n",
       "\n",
       "    .dataframe tbody tr th {\n",
       "        vertical-align: top;\n",
       "    }\n",
       "\n",
       "    .dataframe thead th {\n",
       "        text-align: right;\n",
       "    }\n",
       "</style>\n",
       "<table border=\"1\" class=\"dataframe\">\n",
       "  <thead>\n",
       "    <tr style=\"text-align: right;\">\n",
       "      <th></th>\n",
       "      <th>count</th>\n",
       "      <th>mean</th>\n",
       "      <th>std</th>\n",
       "    </tr>\n",
       "    <tr>\n",
       "      <th>Item Type</th>\n",
       "      <th></th>\n",
       "      <th></th>\n",
       "      <th></th>\n",
       "    </tr>\n",
       "  </thead>\n",
       "  <tbody>\n",
       "    <tr>\n",
       "      <th>Fruits</th>\n",
       "      <td>70</td>\n",
       "      <td>6.920000</td>\n",
       "      <td>0.000000</td>\n",
       "    </tr>\n",
       "    <tr>\n",
       "      <th>Vegetables</th>\n",
       "      <td>97</td>\n",
       "      <td>91.900323</td>\n",
       "      <td>9.556571</td>\n",
       "    </tr>\n",
       "    <tr>\n",
       "      <th>Baby Food</th>\n",
       "      <td>87</td>\n",
       "      <td>159.714613</td>\n",
       "      <td>2.747965</td>\n",
       "    </tr>\n",
       "    <tr>\n",
       "      <th>Meat</th>\n",
       "      <td>78</td>\n",
       "      <td>364.690000</td>\n",
       "      <td>0.000000</td>\n",
       "    </tr>\n",
       "  </tbody>\n",
       "</table>\n",
       "</div>"
      ],
      "text/plain": [
       "            count        mean       std\n",
       "Item Type                              \n",
       "Fruits         70    6.920000  0.000000\n",
       "Vegetables     97   91.900323  9.556571\n",
       "Baby Food      87  159.714613  2.747965\n",
       "Meat           78  364.690000  0.000000"
      ]
     },
     "execution_count": 14,
     "metadata": {},
     "output_type": "execute_result"
    }
   ],
   "source": [
    "kitchen = summary.loc[['Fruits','Vegetables','Baby Food', 'Meat']]\n",
    "kitchen"
   ]
  },
  {
   "cell_type": "code",
   "execution_count": 15,
   "metadata": {
    "colab": {},
    "colab_type": "code",
    "deletable": false,
    "editable": false,
    "id": "YhUcN050RZwl",
    "nbgrader": {
     "checksum": "c780d9bfe2378fccb55ac6cba262b954",
     "grade": true,
     "grade_id": "cell-e92c594b4484ff34",
     "locked": true,
     "points": 1,
     "schema_version": 1,
     "solution": false
    },
    "tags": [
     "Exercise-8"
    ]
   },
   "outputs": [],
   "source": [
    "assert(kitchen.loc[\"Vegetables\",\"count\"]==97)"
   ]
  },
  {
   "cell_type": "markdown",
   "metadata": {
    "colab_type": "text",
    "deletable": false,
    "editable": false,
    "id": "TxtPOdsARZwo",
    "nbgrader": {
     "checksum": "04d0ace10b072d917796d482d8fe6144",
     "grade": false,
     "grade_id": "cell-c45c79509bc171fb",
     "locked": true,
     "schema_version": 1,
     "solution": false
    },
    "tags": [
     "Exercise-9"
    ]
   },
   "source": [
    "## Exercise 9: Creating New Columns\n",
    "**<div style=\"text-align: right\"> [SCORE: 2]</div>**\n",
    "**Task:** Generate a new column ‘Total Profit’ for each orders (Total Profit = Total Revenue - Total Cost)"
   ]
  },
  {
   "cell_type": "code",
   "execution_count": 16,
   "metadata": {
    "colab": {},
    "colab_type": "code",
    "deletable": false,
    "id": "454pCtHzRZwo",
    "nbgrader": {
     "checksum": "e3b33abf19eac6d55759738cd1b4b480",
     "grade": false,
     "grade_id": "cell-42dbecfa2ded682b",
     "locked": false,
     "schema_version": 1,
     "solution": true
    },
    "tags": [
     "Exercise-9"
    ]
   },
   "outputs": [],
   "source": [
    "# YOUR CODE HERE\n",
    "sales['Total Profit'] = sales['Total Revenue'] - sales['Total Cost']"
   ]
  },
  {
   "cell_type": "code",
   "execution_count": 17,
   "metadata": {
    "colab": {},
    "colab_type": "code",
    "deletable": false,
    "editable": false,
    "id": "kScFSKA4RZws",
    "nbgrader": {
     "checksum": "14ea12dda6facd9d5e41fd174d2abc63",
     "grade": true,
     "grade_id": "cell-485efa8f12c1b86e",
     "locked": true,
     "points": 2,
     "schema_version": 1,
     "solution": false
    },
    "tags": [
     "Exercise-9"
    ]
   },
   "outputs": [],
   "source": [
    "assert(sales[sales[\"Order ID\"]==246222341][\"Total Profit\"].values == 145419.62)"
   ]
  },
  {
   "cell_type": "markdown",
   "metadata": {
    "colab_type": "text",
    "deletable": false,
    "editable": false,
    "id": "7bVuT2MNRZwx",
    "nbgrader": {
     "checksum": "f510df984653bb8720acc6d8e7b57448",
     "grade": false,
     "grade_id": "cell-d011e0d41fb677ef",
     "locked": true,
     "schema_version": 1,
     "solution": false
    }
   },
   "source": [
    "## Exercise 10: A Simple Insight\n",
    "**<div style=\"text-align: right\"> [SCORE: ]</div>**\n",
    "**Task:** How many instances (rows) are there with profit greater than 60%? Store this number of instances in the variable `high_profit`."
   ]
  },
  {
   "cell_type": "code",
   "execution_count": 18,
   "metadata": {
    "colab": {},
    "colab_type": "code",
    "deletable": false,
    "id": "T2MvSoRNRZwx",
    "nbgrader": {
     "checksum": "a941b48f8eb43021a10b4782cc15cc7d",
     "grade": false,
     "grade_id": "cell-00589b4a972b8fa9",
     "locked": false,
     "schema_version": 1,
     "solution": true
    },
    "tags": [
     "Exercise-10"
    ]
   },
   "outputs": [
    {
     "data": {
      "text/plain": [
       "1000"
      ]
     },
     "execution_count": 18,
     "metadata": {},
     "output_type": "execute_result"
    }
   ],
   "source": [
    "high_profit =((sales[\"Total Profit\"]/sales[\"Total Cost\"])*100>60).count()\n",
    "high_profit"
   ]
  },
  {
   "cell_type": "code",
   "execution_count": 19,
   "metadata": {
    "colab": {},
    "colab_type": "code",
    "deletable": false,
    "editable": false,
    "id": "1362KcAeRZw0",
    "nbgrader": {
     "checksum": "5e501b9c9b4b8f9bea1c3211652646cb",
     "grade": true,
     "grade_id": "cell-f96855e3f1ed9aea",
     "locked": true,
     "points": 1,
     "schema_version": 1,
     "solution": false
    },
    "tags": [
     "Exercise-10"
    ]
   },
   "outputs": [],
   "source": [
    "assert high_profit is not None"
   ]
  },
  {
   "cell_type": "code",
   "execution_count": null,
   "metadata": {},
   "outputs": [],
   "source": []
  },
  {
   "cell_type": "code",
   "execution_count": null,
   "metadata": {},
   "outputs": [],
   "source": []
  }
 ],
 "metadata": {
  "colab": {
   "name": "Assignment_pandas_with_nbgrader.ipynb",
   "provenance": []
  },
  "kernelspec": {
   "display_name": "Python 3",
   "language": "python",
   "name": "python3"
  },
  "language_info": {
   "codemirror_mode": {
    "name": "ipython",
    "version": 3
   },
   "file_extension": ".py",
   "mimetype": "text/x-python",
   "name": "python",
   "nbconvert_exporter": "python",
   "pygments_lexer": "ipython3",
   "version": "3.6.8"
  }
 },
 "nbformat": 4,
 "nbformat_minor": 1
}
