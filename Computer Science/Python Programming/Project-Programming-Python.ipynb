{
 "cells": [
  {
   "cell_type": "markdown",
   "metadata": {
    "colab_type": "text",
    "deletable": false,
    "editable": false,
    "id": "kpQeKEjwlECY",
    "nbgrader": {
     "checksum": "bd3732f78fbd1aed49c0fc71948a165f",
     "grade": false,
     "grade_id": "cell-54e72eeb2527131d",
     "locked": true,
     "schema_version": 1,
     "solution": false
    }
   },
   "source": [
    "# Project: Python Programming\n",
    "\n",
    "**<div style=\"text-align: right\">[TOTAL POINTS: 60]</div>**\n",
    "\n",
    "In this project, you will learn to apply all the skills that you have learnt in this module. Your objective is to scrape data from the web, combine it with data you have, and clean it. These skills will be essential for machine learning. \n"
   ]
  },
  {
   "cell_type": "markdown",
   "metadata": {
    "deletable": false,
    "editable": false,
    "nbgrader": {
     "checksum": "5a731b0f1ccc88b8702cddacd95d1ee2",
     "grade": false,
     "grade_id": "cell-17f0bda694b39af7",
     "locked": true,
     "schema_version": 1,
     "solution": false
    },
    "tags": [
     "Exercise-1"
    ]
   },
   "source": [
    "## Exercise 1: Importing necessary modules\n",
    "\n",
    "**<div style=\"text-align: right\">[POINTS: 5]</div>**\n",
    "\n",
    "Import all the necessary modules here. In particular, you will need to import NumPy, BeautifulSoup, Pandas, Pyplot from Matplotlib, and Requests in order to pass this exercise."
   ]
  },
  {
   "cell_type": "code",
   "execution_count": null,
   "metadata": {
    "colab": {},
    "colab_type": "code",
    "deletable": false,
    "id": "LFk0LmHznrLK",
    "nbgrader": {
     "checksum": "aedb9206a056e4a36bd287168c9abdd1",
     "grade": false,
     "grade_id": "cell-60dd0e2f5cd52bb0",
     "locked": false,
     "schema_version": 1,
     "solution": true
    },
    "tags": [
     "Exercise-1"
    ]
   },
   "outputs": [],
   "source": [
    "!pip install bs4\n",
    "# YOUR CODE HERE\n",
    "raise NotImplementedError()"
   ]
  },
  {
   "cell_type": "code",
   "execution_count": null,
   "metadata": {
    "deletable": false,
    "editable": false,
    "nbgrader": {
     "checksum": "84e71f0d5a21ad322512ee3d7faae981",
     "grade": true,
     "grade_id": "cell-515f97663ca87ea6",
     "locked": true,
     "points": 5,
     "schema_version": 1,
     "solution": false
    },
    "tags": [
     "Exercise-1"
    ]
   },
   "outputs": [],
   "source": [
    "### INTENTIONALLY LEFT BLANK"
   ]
  },
  {
   "cell_type": "markdown",
   "metadata": {
    "colab_type": "text",
    "deletable": false,
    "editable": false,
    "id": "FZ8XGDtrn8km",
    "nbgrader": {
     "checksum": "740bcbbb8dec5ecfacd1524ca4369c43",
     "grade": false,
     "grade_id": "cell-7e82cc7515481f72",
     "locked": true,
     "schema_version": 1,
     "solution": false
    },
    "tags": [
     "Exercise-2"
    ]
   },
   "source": [
    "## Exercise 2: Reading the datasets\n",
    "\n",
    "**<div style=\"text-align: right\">[POINTS: 5]</div>**\n",
    "\n",
    "There are two datasets in the paths `CSV1_PATH` and `CSV2_PATH` as CSV files.\n",
    "\n",
    "**Task:** Read the dataset from the two files using pandas and assign the resulting dataframes to the variables `df1` and `df2` respectively."
   ]
  },
  {
   "cell_type": "code",
   "execution_count": null,
   "metadata": {
    "colab": {},
    "colab_type": "code",
    "deletable": false,
    "id": "TaGF_Tonjfw4",
    "nbgrader": {
     "checksum": "92d0ae65ab4187fdfac9924f428ad91c",
     "grade": false,
     "grade_id": "cell-684e4ff52aa43491",
     "locked": false,
     "schema_version": 1,
     "solution": true
    },
    "tags": [
     "Exercise-2"
    ]
   },
   "outputs": [],
   "source": [
    "CSV1_PATH = 'https://storage.googleapis.com/codehub-data/5-P-3-student_1.csv'\n",
    "CSV2_PATH = 'https://storage.googleapis.com/codehub-data/5-P-3-student_2.csv'\n",
    "\n",
    "df1 = None\n",
    "df2 = None\n",
    "\n",
    "# YOUR CODE HERE\n",
    "raise NotImplementedError()"
   ]
  },
  {
   "cell_type": "code",
   "execution_count": null,
   "metadata": {
    "deletable": false,
    "editable": false,
    "nbgrader": {
     "checksum": "2f7c5ff4f8ffa34817aa31c2b0844fcf",
     "grade": true,
     "grade_id": "cell-0fbfc90e145f59ce",
     "locked": true,
     "points": 5,
     "schema_version": 1,
     "solution": false
    },
    "tags": [
     "Exercise-2"
    ]
   },
   "outputs": [],
   "source": [
    "assert df1 is not None\n",
    "assert df2 is not None"
   ]
  },
  {
   "cell_type": "markdown",
   "metadata": {
    "colab_type": "text",
    "id": "ov8jD4ADx9Dy",
    "tags": [
     "Exercise-3"
    ]
   },
   "source": [
    "## Exercise 3: Explore the data\n",
    "\n",
    "**<div style=\"text-align: right\">[POINTS: 0]</div>**\n",
    "\n",
    "Look at the dataframes. Visualize the data using matplotlib.  Explore and get familiar with them. A small example of visualization using matplotlib and numpy is given below. You can explore other posiblities.\n"
   ]
  },
  {
   "cell_type": "code",
   "execution_count": null,
   "metadata": {
    "colab": {
     "base_uri": "https://localhost:8080/",
     "height": 365
    },
    "colab_type": "code",
    "id": "ii3xZXdXzxBo",
    "outputId": "17a1b396-8844-4ff5-9941-df90f0af171c",
    "tags": [
     "Exercise-3"
    ]
   },
   "outputs": [],
   "source": [
    "# Obtain email_names\n",
    "email_adresses= df2[\"email\"].str.split(\"@\", n = 1, expand = False)\n",
    "email_names = np.array([ename for ename, _ in email_adresses])\n",
    "\n",
    "y_pos = np.arange(len(email_names))\n",
    "# numpy nan_to_num converts NaN to 0\n",
    "np_gpa = np.nan_to_num(np.array(df2['hs_gpa']))\n",
    "\n",
    "plt.figure(figsize=[10,8])\n",
    "plt.bar(y_pos, np_gpa, align='center', alpha=0.5)\n",
    "plt.xticks(y_pos, email_names)\n",
    "plt.ylabel('GPA')\n",
    "plt.xlabel('Student')\n",
    "plt.title('GPA scored')"
   ]
  },
  {
   "cell_type": "markdown",
   "metadata": {
    "colab_type": "text",
    "deletable": false,
    "editable": false,
    "id": "mwtnov2-ojie",
    "nbgrader": {
     "checksum": "6af8bcb16c04604c025653b139327880",
     "grade": false,
     "grade_id": "cell-e8486c71a9d91dc8",
     "locked": true,
     "schema_version": 1,
     "solution": false
    },
    "tags": [
     "Exercise-4"
    ]
   },
   "source": [
    "## Exercise 4: Merge the datasets\n",
    "\n",
    "**<div style=\"text-align: right\">[POINTS: 10]</div>**\n",
    "\n",
    "Join the two datasets `df1` and `df1` column wise. Keep `df1` on the left. Do not throw away any data. Join them accroding to their `id`. Store the resulting dataframe in the variable `data`."
   ]
  },
  {
   "cell_type": "code",
   "execution_count": null,
   "metadata": {
    "colab": {},
    "colab_type": "code",
    "deletable": false,
    "id": "QBGtA173xDSa",
    "nbgrader": {
     "checksum": "e54b02b18344fba475f86f8b0b40b5a7",
     "grade": false,
     "grade_id": "cell-2dfe27c6130045d4",
     "locked": false,
     "schema_version": 1,
     "solution": true
    },
    "tags": [
     "Exercise-4"
    ]
   },
   "outputs": [],
   "source": [
    "data = None\n",
    "\n",
    "# YOUR CODE HERE\n",
    "raise NotImplementedError()\n"
   ]
  },
  {
   "cell_type": "code",
   "execution_count": null,
   "metadata": {
    "colab": {},
    "colab_type": "code",
    "deletable": false,
    "editable": false,
    "id": "qaSl5PsS0Gru",
    "nbgrader": {
     "checksum": "4739862c296bc6a4c95576276e1e8566",
     "grade": true,
     "grade_id": "cell-db063df8128f0062",
     "locked": true,
     "points": 10,
     "schema_version": 1,
     "solution": false
    },
    "tags": [
     "Exercise-4"
    ]
   },
   "outputs": [],
   "source": [
    "assert data is not None"
   ]
  },
  {
   "cell_type": "markdown",
   "metadata": {
    "colab_type": "text",
    "deletable": false,
    "editable": false,
    "id": "trG3f-ga0FR5",
    "nbgrader": {
     "checksum": "8b845fd78808a22ee74f20e7a81283df",
     "grade": false,
     "grade_id": "cell-b433253d40dce761",
     "locked": true,
     "schema_version": 1,
     "solution": false
    },
    "tags": [
     "Exercise-5"
    ]
   },
   "source": [
    "## Exercise 5: Cleaning the dataset \n",
    "\n",
    "**<div style=\"text-align: right\">[POINTS: 5]</div>**\n",
    "\n",
    "**Task:** Delete all the columns that have all column values as NaN. Assign the resulting dataframe to the variable `data_cleaned`. You can use the [drop method](https://pandas.pydata.org/pandas-docs/stable/reference/api/pandas.DataFrame.drop.html) for dataframes. \n",
    "\n",
    "*Notes:* \n",
    "- Remember that it is an important skill to be able to read documentation for code, and figure out how to do things. \n",
    "- We are not using the `.dropna()` method, because it will drop all columns that have any NaNs, We want to drop specific ones. \n",
    "- You can use `df.isnull().sum()` to find number of NaN in each column\n",
    "- You have to set `axis=1` to drop columns instead of rows."
   ]
  },
  {
   "cell_type": "code",
   "execution_count": null,
   "metadata": {
    "colab": {},
    "colab_type": "code",
    "deletable": false,
    "id": "kuCL3FQD18DI",
    "nbgrader": {
     "checksum": "0b177570f47135909a98d705c2b2d12e",
     "grade": false,
     "grade_id": "cell-fc83f6925318c0b3",
     "locked": false,
     "schema_version": 1,
     "solution": true
    },
    "tags": [
     "Exercise-5"
    ]
   },
   "outputs": [],
   "source": [
    "data_cleaned = None\n",
    "# YOUR CODE HERE\n",
    "raise NotImplementedError()"
   ]
  },
  {
   "cell_type": "code",
   "execution_count": null,
   "metadata": {
    "colab": {},
    "colab_type": "code",
    "deletable": false,
    "editable": false,
    "id": "35LlHhUb4GPU",
    "nbgrader": {
     "checksum": "58711d512e2d293c84128c1af911ab00",
     "grade": true,
     "grade_id": "cell-481252ec4ad203f1",
     "locked": true,
     "points": 5,
     "schema_version": 1,
     "solution": false
    },
    "tags": [
     "Exercise-5"
    ]
   },
   "outputs": [],
   "source": [
    "assert data_cleaned is not None\n"
   ]
  },
  {
   "cell_type": "markdown",
   "metadata": {
    "colab_type": "text",
    "id": "0ILOFgYA4Sdo",
    "tags": [
     "Exercise-6"
    ]
   },
   "source": [
    "## Exercise 6: Fill NaN values for categorical features\n",
    "\n",
    "**<div style=\"text-align: right\">[POINTS: 5]</div>**\n",
    "\n",
    "**Task:** Inspect which categorical feature has NaN values on it.  Fill those missing values with the mode of the column. Assign this new dataframe to the variable `data_cleaned_categorical`.\n",
    "\n",
    "**Hints**\n",
    "- There is only one column that you will need to change\n",
    "- Categorical features are usually strings\n",
    "- Be careful not to replace NaN values on other columns, and replace just this single column"
   ]
  },
  {
   "cell_type": "code",
   "execution_count": null,
   "metadata": {
    "colab": {
     "base_uri": "https://localhost:8080/",
     "height": 382
    },
    "colab_type": "code",
    "deletable": false,
    "id": "iuJV1UvS48Jr",
    "nbgrader": {
     "checksum": "ce7bb48c40a259c9721749ac999cd233",
     "grade": false,
     "grade_id": "cell-a622b1826c7005f8",
     "locked": false,
     "schema_version": 1,
     "solution": true
    },
    "outputId": "0751f5be-8b78-4dbd-807e-0c9a058507f2",
    "tags": [
     "Exercise-6"
    ]
   },
   "outputs": [],
   "source": [
    "data_cleaned_categorical = None\n",
    "# YOUR CODE HERE\n",
    "raise NotImplementedError()"
   ]
  },
  {
   "cell_type": "code",
   "execution_count": null,
   "metadata": {
    "colab": {},
    "colab_type": "code",
    "deletable": false,
    "editable": false,
    "id": "Rmti7O9S6DCx",
    "nbgrader": {
     "checksum": "18663ac0e2b835ea28bce558f73287d2",
     "grade": true,
     "grade_id": "cell-fd8072192575f54d",
     "locked": true,
     "points": 5,
     "schema_version": 1,
     "solution": false
    },
    "tags": [
     "Exercise-6"
    ]
   },
   "outputs": [],
   "source": [
    "assert data_cleaned_categorical is not None"
   ]
  },
  {
   "cell_type": "markdown",
   "metadata": {
    "colab_type": "text",
    "deletable": false,
    "editable": false,
    "id": "rKJJ1Md46fH2",
    "nbgrader": {
     "checksum": "6209e32f67b19f478f1e2b4f20ae632c",
     "grade": false,
     "grade_id": "cell-76e04f527f17a44b",
     "locked": true,
     "schema_version": 1,
     "solution": false
    },
    "tags": [
     "Exercise-7"
    ]
   },
   "source": [
    "## Exercise 7: Fill NaN values for numerical features\n",
    "\n",
    "**<div style=\"text-align: right\">[POINTS: 5]</div>**\n",
    "\n",
    "**Task:** Fill the NaN values in the rest of the column using the mean of their respective columns. You can use the `fillna()` method to fill all the remaining numerical features. Assign this dataframe to the variable `data_cleaned_final`."
   ]
  },
  {
   "cell_type": "code",
   "execution_count": null,
   "metadata": {
    "colab": {
     "base_uri": "https://localhost:8080/",
     "height": 382
    },
    "colab_type": "code",
    "deletable": false,
    "id": "K9RNQDAw628v",
    "nbgrader": {
     "checksum": "a1ff0f36ef6ef20e71561afc0983f690",
     "grade": false,
     "grade_id": "cell-a0fedef9cb919e79",
     "locked": false,
     "schema_version": 1,
     "solution": true
    },
    "outputId": "7c076457-8c9e-4bb1-d192-761514b4809d",
    "tags": [
     "Exercise-7"
    ]
   },
   "outputs": [],
   "source": [
    "data_cleaned_final = None\n",
    "# YOUR CODE HERE\n",
    "raise NotImplementedError()"
   ]
  },
  {
   "cell_type": "code",
   "execution_count": null,
   "metadata": {
    "deletable": false,
    "editable": false,
    "nbgrader": {
     "checksum": "38cdb9ae9185c3a4a8324d26729df596",
     "grade": true,
     "grade_id": "cell-d12f29b3b136c3c8",
     "locked": true,
     "points": 5,
     "schema_version": 1,
     "solution": false
    },
    "tags": [
     "Exercise-7"
    ]
   },
   "outputs": [],
   "source": [
    "assert data_cleaned_final is not None\n"
   ]
  },
  {
   "cell_type": "markdown",
   "metadata": {
    "colab_type": "text",
    "deletable": false,
    "editable": false,
    "id": "CCZnuLHK8WD2",
    "nbgrader": {
     "checksum": "d29f67958461c220bb7792bb6c238237",
     "grade": false,
     "grade_id": "cell-506559777fb4c2f4",
     "locked": true,
     "schema_version": 1,
     "solution": false
    }
   },
   "source": [
    "# Web scraping\n",
    "\n",
    "In this section, you will practice scraping websites. You will get the names of all books in a page and then append one book to each student in the dataframe from the previous exercise."
   ]
  },
  {
   "cell_type": "markdown",
   "metadata": {
    "colab_type": "text",
    "deletable": false,
    "editable": false,
    "id": "dzSz4Ff-89AE",
    "nbgrader": {
     "checksum": "e6431f6b4a9e452e9de349d949bda234",
     "grade": false,
     "grade_id": "cell-12e0a8aca4896840",
     "locked": true,
     "schema_version": 1,
     "solution": false
    },
    "tags": [
     "Exercise-8"
    ]
   },
   "source": [
    "## Exercise 8: Sending a request\n",
    "\n",
    "**<div style=\"text-align: right\">[POINTS: 5]</div>**\n",
    "\n",
    "**Task:** The website we want to extract names from is at `BOOKS_URL`. Send a GET request to this website, and assign the result to the variable `page`. "
   ]
  },
  {
   "cell_type": "code",
   "execution_count": null,
   "metadata": {
    "colab": {},
    "colab_type": "code",
    "deletable": false,
    "id": "wSy3QSGO9QHd",
    "nbgrader": {
     "checksum": "3889604c50efd7e8b186509ea2135930",
     "grade": false,
     "grade_id": "cell-26bc5a1f831efb51",
     "locked": false,
     "schema_version": 1,
     "solution": true
    },
    "tags": [
     "Exercise-8"
    ]
   },
   "outputs": [],
   "source": [
    "BOOKS_URL = 'http://books.toscrape.com/catalogue/category/books/science_22/index.html'\n",
    "page = None\n",
    "\n",
    "# YOUR CODE HERE\n",
    "raise NotImplementedError()"
   ]
  },
  {
   "cell_type": "code",
   "execution_count": null,
   "metadata": {
    "colab": {},
    "colab_type": "code",
    "deletable": false,
    "editable": false,
    "id": "vbE3WYF-97vt",
    "nbgrader": {
     "checksum": "a4c38b963ad7406df3ebb1471f6103db",
     "grade": true,
     "grade_id": "cell-a715308f0e0b1a00",
     "locked": true,
     "points": 5,
     "schema_version": 1,
     "solution": false
    },
    "tags": [
     "Exercise-8"
    ]
   },
   "outputs": [],
   "source": [
    "assert page is not None"
   ]
  },
  {
   "cell_type": "markdown",
   "metadata": {
    "colab_type": "text",
    "deletable": false,
    "editable": false,
    "id": "0uS6U7pN-qMn",
    "nbgrader": {
     "checksum": "127a914a2032e3f4f654647a1c8c045d",
     "grade": false,
     "grade_id": "cell-86d537aa6a424939",
     "locked": true,
     "schema_version": 1,
     "solution": false
    },
    "tags": [
     "Exercise-9"
    ]
   },
   "source": [
    "## Exercise 9: Explore the data\n",
    "\n",
    "**<div style=\"text-align: right\">[POINTS: 5]</div>**\n",
    "\n",
    "**Task:** Take the HTML from the `page` object and form a BeautifulSoup object out of it. Assign this object to the variable `soup`. Explore the HTML data in this object."
   ]
  },
  {
   "cell_type": "code",
   "execution_count": null,
   "metadata": {
    "colab": {},
    "colab_type": "code",
    "deletable": false,
    "id": "DEQERy3q-Sks",
    "nbgrader": {
     "checksum": "6b7c6f99fc29bce46aa94931d9fc4740",
     "grade": false,
     "grade_id": "cell-4126e4923f809a62",
     "locked": false,
     "schema_version": 1,
     "solution": true
    },
    "tags": [
     "Exercise-9"
    ]
   },
   "outputs": [],
   "source": [
    "soup = None\n",
    "\n",
    "# YOUR CODE HERE\n",
    "raise NotImplementedError()"
   ]
  },
  {
   "cell_type": "code",
   "execution_count": null,
   "metadata": {
    "colab": {},
    "colab_type": "code",
    "deletable": false,
    "editable": false,
    "id": "wBbtMBeQ_Zc5",
    "nbgrader": {
     "checksum": "db00336de1bb4ff12ff47cda30897d91",
     "grade": true,
     "grade_id": "cell-50650b83b8cdcfa8",
     "locked": true,
     "points": 5,
     "schema_version": 1,
     "solution": false
    },
    "tags": [
     "Exercise-9"
    ]
   },
   "outputs": [],
   "source": [
    "assert soup is not None\n"
   ]
  },
  {
   "cell_type": "markdown",
   "metadata": {
    "colab_type": "text",
    "deletable": false,
    "editable": false,
    "id": "W_BGj_RnQgYQ",
    "nbgrader": {
     "checksum": "de381504f3e2381e33373f614938aecb",
     "grade": false,
     "grade_id": "cell-eadb802d56d401eb",
     "locked": true,
     "schema_version": 1,
     "solution": false
    },
    "tags": [
     "Exercise-10"
    ]
   },
   "source": [
    "## Exercise 10: Extract the data\n",
    "\n",
    "**<div style=\"text-align: right\">[POINTS: 10]</div>**\n",
    "\n",
    "**Task:** There are 14 names of books on the website. Extract them into a list called `names`. \n",
    "\n",
    "**Hint:** The names are inside `<img>` tags with the class `\"thumbnail\"`, in the `alt` field. You can access fields inside a tag by using a command like `img['alt']`. This will output whatever string is in the tag."
   ]
  },
  {
   "cell_type": "code",
   "execution_count": null,
   "metadata": {
    "colab": {},
    "colab_type": "code",
    "deletable": false,
    "id": "vWwV55Y4QTXn",
    "nbgrader": {
     "checksum": "d7966691981211e674faed0618b02ca4",
     "grade": false,
     "grade_id": "cell-8d299f9a8f7bb5c5",
     "locked": false,
     "schema_version": 1,
     "solution": true
    },
    "tags": [
     "Exercise-10"
    ]
   },
   "outputs": [],
   "source": [
    "names = []\n",
    "# YOUR CODE HERE\n",
    "raise NotImplementedError()"
   ]
  },
  {
   "cell_type": "code",
   "execution_count": null,
   "metadata": {
    "colab": {},
    "colab_type": "code",
    "deletable": false,
    "editable": false,
    "id": "frXX1vJUTeKy",
    "nbgrader": {
     "checksum": "875827388175a4fc50439eccbbac49b5",
     "grade": true,
     "grade_id": "cell-0b089be874246f01",
     "locked": true,
     "points": 10,
     "schema_version": 1,
     "solution": false
    },
    "tags": [
     "Exercise-10"
    ]
   },
   "outputs": [],
   "source": [
    "assert len(names) > 0\n"
   ]
  },
  {
   "cell_type": "markdown",
   "metadata": {
    "colab_type": "text",
    "deletable": false,
    "editable": false,
    "id": "bTn5is0YVKI5",
    "nbgrader": {
     "checksum": "2bab4b8c14e7615164d05149c4de7726",
     "grade": false,
     "grade_id": "cell-21c23f66a5dacabc",
     "locked": true,
     "schema_version": 1,
     "solution": false
    },
    "tags": [
     "Exercise-11"
    ]
   },
   "source": [
    "## Exercise 11: Insert book names into `data_cleaned_final`\n",
    "\n",
    "**<div style=\"text-align: right\">[POINTS: 5]</div>**\n",
    "\n",
    "**Task:** There are 9 students in the `data_cleaned_final` dataframe. You should have 14 book names in the `names` list from the previous exercise. Choose any 9 books that you want, and put them into a new column named `books`  in a copy of the `data_cleaned_final` dataframe. Name this copied dataframe `books_and_students`."
   ]
  },
  {
   "cell_type": "code",
   "execution_count": null,
   "metadata": {
    "colab": {},
    "colab_type": "code",
    "deletable": false,
    "id": "KlbvyFfyXA_D",
    "nbgrader": {
     "checksum": "5db47d9f1149c8982a74706c24c28657",
     "grade": false,
     "grade_id": "cell-50839f91e769e0c0",
     "locked": false,
     "schema_version": 1,
     "solution": true
    },
    "tags": [
     "Exercise-11"
    ]
   },
   "outputs": [],
   "source": [
    "books_and_students = data_cleaned_final.copy()\n",
    "# YOUR CODE HERE\n",
    "raise NotImplementedError()"
   ]
  },
  {
   "cell_type": "code",
   "execution_count": null,
   "metadata": {
    "colab": {},
    "colab_type": "code",
    "deletable": false,
    "editable": false,
    "id": "nSanU9miX-Yk",
    "nbgrader": {
     "checksum": "0732c3de448eefde96a9f6764490c82f",
     "grade": true,
     "grade_id": "cell-7b388eb7d4870799",
     "locked": true,
     "points": 5,
     "schema_version": 1,
     "solution": false
    },
    "tags": [
     "Exercise-11"
    ]
   },
   "outputs": [],
   "source": [
    "assert books_and_students is not None"
   ]
  }
 ],
 "metadata": {
  "colab": {
   "collapsed_sections": [],
   "name": "Assignment: Programming (python).ipynb",
   "provenance": [],
   "toc_visible": true
  },
  "kernelspec": {
   "display_name": "Python 3",
   "language": "python",
   "name": "python3"
  },
  "language_info": {
   "codemirror_mode": {
    "name": "ipython",
    "version": 3
   },
   "file_extension": ".py",
   "mimetype": "text/x-python",
   "name": "python",
   "nbconvert_exporter": "python",
   "pygments_lexer": "ipython3",
   "version": "3.6.8"
  }
 },
 "nbformat": 4,
 "nbformat_minor": 1
}
