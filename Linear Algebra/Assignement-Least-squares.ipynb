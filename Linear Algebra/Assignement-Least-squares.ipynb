{
 "cells": [
  {
   "cell_type": "markdown",
   "metadata": {
    "deletable": false,
    "editable": false,
    "nbgrader": {
     "checksum": "467653e6ff3c88bdb3d516672de19d69",
     "grade": false,
     "grade_id": "cell-61bbff5ef53e5e50",
     "locked": true,
     "schema_version": 1,
     "solution": false
    }
   },
   "source": [
    "# Assignment: Orthogonality\n",
    "\n",
    "---\n",
    "\n",
    "\n",
    "<b><div style=\"text-align: right\">[TOTAL POINTS: 30]</div></b>\n",
    "\n",
    "Welcome to orthogonality assignment. This assignment will have two parts. In the first part, we will implement calculation of the projection vectors that we have been talking about for a while and visualize the results by plotting the vectors into subspaces as we discussed throughout the course. In the second phase, we will use this least square approach to develop a  regression model for Housing Price Prediction."
   ]
  },
  {
   "cell_type": "markdown",
   "metadata": {
    "deletable": false,
    "editable": false,
    "nbgrader": {
     "checksum": "9988f2cdee65a17e5a5a69944a119c6a",
     "grade": false,
     "grade_id": "cell-7f965c9756d38f3c",
     "locked": true,
     "schema_version": 1,
     "solution": false
    }
   },
   "source": [
    "## Dataset Description\n",
    "**Source:**: A housing dataset has been used in the second part of the assignment. Boston housing Dataset has been used in this project which has been directedly loaded from `sklearn` dataset and further details about this dataset can be found [here](https://www.cs.toronto.edu/~delve/data/boston/bostonDetail.html). There are fourteen attributes of the data set but we'll only use two as features and one as target.\n",
    "\n",
    "Number of Instances: **506**\n",
    "\n",
    "Number of Attributes: **3**\n",
    "\n",
    "---\n",
    "\n",
    "The features used for the prediction are as follows:\n",
    "\n",
    "1.   **RM:** \n",
    "> average number of rooms per dwelling\n",
    "2.   **AGE:** \n",
    "> proportion of owner-occupied units built prior to 1940\n",
    " \n",
    "\n",
    " The target of the is `MEDV` which is Median value of owner-occupied homes in $1000's."
   ]
  },
  {
   "cell_type": "markdown",
   "metadata": {
    "colab_type": "text",
    "deletable": false,
    "editable": false,
    "id": "tMOWYXLLIjSp",
    "nbgrader": {
     "checksum": "2e0e75ed1f7fabbd817edc2afddf3830",
     "grade": false,
     "grade_id": "cell-e26100ff476e4139",
     "locked": true,
     "schema_version": 1,
     "solution": false
    }
   },
   "source": [
    " ## Part 1 : Basics of Projections"
   ]
  },
  {
   "cell_type": "code",
   "execution_count": 1,
   "metadata": {
    "colab": {},
    "colab_type": "code",
    "deletable": false,
    "editable": false,
    "id": "oSqztjBXO32a",
    "nbgrader": {
     "checksum": "fd5f8e9c762bd1fed825b9e738c88708",
     "grade": false,
     "grade_id": "cell-4613486b9e31fd20",
     "locked": true,
     "schema_version": 1,
     "solution": false
    }
   },
   "outputs": [],
   "source": [
    "# Import libraries\n",
    "import numpy as np\n",
    "import matplotlib.pyplot as plt\n",
    "plt.style.use('ggplot')\n",
    "%matplotlib inline\n",
    "\n",
    "## if you are using this notebook locally, then you can use interactive plot.\n",
    "## comment line above, and uncomment line below\n",
    "## %matplotlib qt"
   ]
  },
  {
   "cell_type": "markdown",
   "metadata": {
    "colab_type": "text",
    "deletable": false,
    "editable": false,
    "id": "2uq3Vys1FlzG",
    "nbgrader": {
     "checksum": "7cb0ffb7ff19667d7a65eaa01031f7b1",
     "grade": false,
     "grade_id": "cell-1c08a1797b734923",
     "locked": true,
     "schema_version": 1,
     "solution": false
    },
    "tags": [
     "Exercise-1"
    ]
   },
   "source": [
    "### Exercise 1: Working with Projection in 2d\n",
    "<b><div style=\"text-align: right\">[UNGRADED]</div></b>\n",
    "We start with a simple projection problem in two dimension ($R^2$).\n",
    "\n",
    "Consider the column vectors : $\\vec a = \\begin{bmatrix}\n",
    "3\\\\ \n",
    "1\n",
    "\\end{bmatrix}$, $\\vec b=\\begin{bmatrix}\n",
    "1\\\\ \n",
    "3\n",
    "\\end{bmatrix}$, each of shape 2 * 1. <br> Now you will calculate projection vector $\\vec p$ obtained after projecting $\\vec b$ along $\\vec a$.\n",
    "\n",
    "**Task:** \n",
    "- Start by defining vectors $\\vec a$ and $\\vec b$ as numpy array of shape $(2,1)$\n",
    "- Initialize 2-dimensional vectors a = (1,3) , b = (3,1) using `np.array()`.\n",
    "\n",
    "**Note:** Please use the exact same value of $a$ and $b$ which will be used in rest of the assignment\n"
   ]
  },
  {
   "cell_type": "code",
   "execution_count": 20,
   "metadata": {
    "colab": {},
    "colab_type": "code",
    "deletable": false,
    "id": "VZFuV1r-bBlk",
    "nbgrader": {
     "checksum": "507c8c42d47a7d04e6822cb72f92bf6d",
     "grade": false,
     "grade_id": "cell-98c4edb6723dbeb9",
     "locked": false,
     "schema_version": 1,
     "solution": true
    },
    "tags": [
     "Exercise-1"
    ]
   },
   "outputs": [],
   "source": [
    "a = np.array([\n",
    "    [3],\n",
    "    [1]\n",
    "])\n",
    "b = np.array([\n",
    "    [1],\n",
    "    [3]\n",
    "])\n",
    "## define the values of a and b below\n",
    "# YOUR CODE HERE\n"
   ]
  },
  {
   "cell_type": "code",
   "execution_count": 10,
   "metadata": {
    "colab": {
     "base_uri": "https://localhost:8080/",
     "height": 84
    },
    "colab_type": "code",
    "deletable": false,
    "editable": false,
    "executionInfo": {
     "elapsed": 1226,
     "status": "ok",
     "timestamp": 1573124727908,
     "user": {
      "displayName": "Robin Ranabhat",
      "photoUrl": "",
      "userId": "02196652062208427927"
     },
     "user_tz": -345
    },
    "id": "PhpeBjMTijF1",
    "nbgrader": {
     "checksum": "d711da39a6490791b30e256790d6b515",
     "grade": true,
     "grade_id": "cell-3701dcb8a0eda2f1",
     "locked": true,
     "points": 0,
     "schema_version": 1,
     "solution": false
    },
    "outputId": "8898b1b3-6d26-40e4-8a95-594eb54de485",
    "tags": [
     "Exercise-1"
    ]
   },
   "outputs": [
    {
     "name": "stdout",
     "output_type": "stream",
     "text": [
      "a:[[3]\n",
      " [1]]\n",
      "b:[[1]\n",
      " [3]]\n"
     ]
    }
   ],
   "source": [
    "print(f'a:{a}\\nb:{b}')\n",
    "assert a.shape==(2,1)\n",
    "assert b.shape==(2,1)\n"
   ]
  },
  {
   "cell_type": "markdown",
   "metadata": {
    "colab_type": "text",
    "deletable": false,
    "editable": false,
    "id": "JR_yXWIrGxsq",
    "nbgrader": {
     "checksum": "a8bda28a11cd3ca4b9f83d34ba51af89",
     "grade": false,
     "grade_id": "cell-ed23697cb8b35aff",
     "locked": true,
     "schema_version": 1,
     "solution": false
    }
   },
   "source": [
    "We have provided the function *plot_arrow_2d* and *plot_region*, for you to visualize the vectors $\\vec a$ and $\\vec b$ you just initilized in cell above. "
   ]
  },
  {
   "cell_type": "code",
   "execution_count": 11,
   "metadata": {
    "colab": {},
    "colab_type": "code",
    "deletable": false,
    "editable": false,
    "id": "nh55zB0P7NLS",
    "nbgrader": {
     "checksum": "f2886667c8662a1ea807c5514991ad6d",
     "grade": false,
     "grade_id": "cell-475f423cf00c4037",
     "locked": true,
     "schema_version": 1,
     "solution": false
    },
    "tags": [
     "Exercise-1"
    ]
   },
   "outputs": [],
   "source": [
    "def plot_arrow_2d(vec, ax, color='r', width=0.001, head_width=3, name=None):\n",
    "  \n",
    "    \"\"\"Plots a given 2d vector in an 2d axis \n",
    "\n",
    "    Parameters\n",
    "    ----------\n",
    "    x : array like\n",
    "        Input vector to be plotted in 2d space, shape : (2,)\n",
    "    ax : matplotlib.axes._subplots.AxesSubplot\n",
    "        The predefined 2d axis where the input 2d vector is plotted\n",
    "        \n",
    "    Returns\n",
    "    -------\n",
    "    None\n",
    "    \"\"\"\n",
    "    \n",
    "    if name:\n",
    "        ax.annotate(name, vec )\n",
    "    ax.arrow(0,0,vec[0][0],vec[1][0],width=width,color = color,head_width= head_width*width)\n",
    "  \n",
    "  \n",
    "def plot_region_2d():\n",
    "    \"\"\"Defines a two dimensional plane to plot our vectors\"\"\"\n",
    "    \n",
    "    fig = plt.figure(figsize=(8,8))\n",
    "    ax = plt.axes()\n",
    "\n",
    "    xlimits = (-5,5)\n",
    "    ylimits = (-8,8)\n",
    "    ax.set_xlim(xlimits)\n",
    "    ax.set_ylim(ylimits)\n",
    "    stepsize = 1\n",
    "\n",
    "    ax.xaxis.set_ticks(np.arange(*xlimits, stepsize))\n",
    "    ax.yaxis.set_ticks(np.arange(*ylimits, stepsize))\n",
    "\n",
    "    ax.plot([0,0],ylimits,zorder=1)\n",
    "    ax.plot(xlimits,[0,0],zorder=1)\n",
    "    plt.grid(b=True)\n",
    "    ax.plot(0,0,'ok')\n",
    "\n",
    "    return ax"
   ]
  },
  {
   "cell_type": "markdown",
   "metadata": {
    "colab_type": "text",
    "deletable": false,
    "editable": false,
    "id": "OoQKZoeNHgXw",
    "nbgrader": {
     "checksum": "f9e4f478a41582f548a0dc0193cffea1",
     "grade": false,
     "grade_id": "cell-3bfde4032f7621d3",
     "locked": true,
     "schema_version": 1,
     "solution": false
    }
   },
   "source": [
    "In the cell below, we can visualize the vectors $\\vec a$ and $\\vec b$.\n"
   ]
  },
  {
   "cell_type": "code",
   "execution_count": 12,
   "metadata": {
    "colab": {
     "base_uri": "https://localhost:8080/",
     "height": 483
    },
    "colab_type": "code",
    "deletable": false,
    "editable": false,
    "executionInfo": {
     "elapsed": 1376,
     "status": "ok",
     "timestamp": 1573124730535,
     "user": {
      "displayName": "Robin Ranabhat",
      "photoUrl": "",
      "userId": "02196652062208427927"
     },
     "user_tz": -345
    },
    "id": "yBXoLdgUHOrZ",
    "nbgrader": {
     "checksum": "d20caec9a590de5729e45281f35627b3",
     "grade": false,
     "grade_id": "cell-d19cdcaee3732c1a",
     "locked": true,
     "schema_version": 1,
     "solution": false
    },
    "outputId": "a633348f-86b1-4f56-b923-b82b2ca2190d"
   },
   "outputs": [
    {
     "data": {
      "image/png": "[encoded data removed]",
      "text/plain": [
       "<Figure size 576x576 with 1 Axes>"
      ]
     },
     "metadata": {},
     "output_type": "display_data"
    }
   ],
   "source": [
    "axes = plot_region_2d()\n",
    "\n",
    "plot_arrow_2d(a,axes,color='b',name='Vector A')\n",
    "plot_arrow_2d(b,axes,color='r',name='Vector B')"
   ]
  },
  {
   "cell_type": "markdown",
   "metadata": {
    "colab_type": "text",
    "deletable": false,
    "editable": false,
    "id": "2-zna0iLIKot",
    "nbgrader": {
     "checksum": "989a210c263a3aa93cffdc70cf4f2478",
     "grade": false,
     "grade_id": "cell-37d5693beafd9fb9",
     "locked": true,
     "schema_version": 1,
     "solution": false
    }
   },
   "source": [
    "Now we go into calculating the projection vector $\\vec p$ of $\\vec b$ onto $\\vec a$. Our calulation takes place as following sequence of steps. We have defined the shapes of each of inbetween calculations to make sure your numpy implementation is on right track.\n",
    "\n",
    " Step 1) Projection matrix : $P_{(2,2)}$  = $\\frac {a_{(2,1)}a^T_{(1,2)}}{a^T_{(1,2)}a_{(2,1)}}$\n",
    "\n",
    " Step 2) Projectied Vector : $\\vec p_{(2,1)}$ = $P_{(2,2)}\\vec b_{(2,1)}$"
   ]
  },
  {
   "cell_type": "markdown",
   "metadata": {
    "deletable": false,
    "editable": false,
    "nbgrader": {
     "checksum": "30da566796f7cb1e980b301bdabf71f7",
     "grade": false,
     "grade_id": "cell-32a2f37287dac767",
     "locked": true,
     "schema_version": 1,
     "solution": false
    },
    "tags": [
     "Exercise-2"
    ]
   },
   "source": [
    "### Exercise 2: Calculate Projection matrix\n",
    "<b><div style=\"text-align:right\">[POINTS: 5]</div></b>\n",
    "Calculate Projection matrix as follow:\n",
    "<center>\n",
    "    $P_{(2,2)}$  = $\\dfrac {a_{(2,1)}a^T_{(1,2)}}{a^T_{(1,2)}a_{(2,1)}}$\n",
    "</center>\n",
    "\n",
    "**Task:** \n",
    "- Calculate the  *numerator : $a_{(2,1)}a^T_{(1,2)}$* and *denimonator : $a^T_{(1,2)}a_{(2,1)}$*\n",
    "- Divide *numerator* by *denominator*\n",
    "\n",
    "**Note:** The numerator for $P$ as been done for you. Complete the rest of the code."
   ]
  },
  {
   "cell_type": "code",
   "execution_count": 15,
   "metadata": {
    "colab": {},
    "colab_type": "code",
    "deletable": false,
    "id": "x7xHKibcijF_",
    "nbgrader": {
     "checksum": "35638bbed77b7d60010d0b75b662714c",
     "grade": false,
     "grade_id": "cell-79cb83568b267db6",
     "locked": false,
     "schema_version": 1,
     "solution": true
    },
    "tags": [
     "Exercise-2"
    ]
   },
   "outputs": [],
   "source": [
    "numerator_matrix = np.matmul(a,a.T)\n",
    "denominator_scalar = np.matmul(a.T,a)\n",
    "Projection_matrix = numerator_matrix/denominator_scalar\n",
    "# YOUR CODE HERE\n"
   ]
  },
  {
   "cell_type": "code",
   "execution_count": 16,
   "metadata": {
    "colab": {
     "base_uri": "https://localhost:8080/",
     "height": 50
    },
    "colab_type": "code",
    "deletable": false,
    "editable": false,
    "executionInfo": {
     "elapsed": 740,
     "status": "ok",
     "timestamp": 1573124730537,
     "user": {
      "displayName": "Robin Ranabhat",
      "photoUrl": "",
      "userId": "02196652062208427927"
     },
     "user_tz": -345
    },
    "id": "-IsXv7AKSfrZ",
    "nbgrader": {
     "checksum": "e9ae53df86e632ddcdce66d592ea5236",
     "grade": true,
     "grade_id": "cell-238d41c49211bab5",
     "locked": true,
     "points": 5,
     "schema_version": 1,
     "solution": false
    },
    "outputId": "5b260017-273f-46b5-8719-3c0ba8a5668d",
    "tags": [
     "Exercise-2"
    ]
   },
   "outputs": [
    {
     "name": "stdout",
     "output_type": "stream",
     "text": [
      "Shape of Numerator Matrix : (2, 2)\n",
      "Shape of Denominator scalar : (1, 1)\n"
     ]
    }
   ],
   "source": [
    "print('Shape of Numerator Matrix :',numerator_matrix.shape)\n",
    "print('Shape of Denominator scalar :',denominator_scalar.shape)\n",
    "assert numerator_matrix.shape == Projection_matrix.shape == (2,2)\n",
    "assert denominator_scalar.shape == (1,1)"
   ]
  },
  {
   "cell_type": "markdown",
   "metadata": {
    "deletable": false,
    "editable": false,
    "nbgrader": {
     "checksum": "6c9a90f4ad641db14267d28f8ed95318",
     "grade": false,
     "grade_id": "cell-6db2dfd8f32df390",
     "locked": true,
     "schema_version": 1,
     "solution": false
    },
    "tags": [
     "Exercise-3"
    ]
   },
   "source": [
    "### Exercise 3: Calculate Projected Vector\n",
    "<b><div style=\"text-align:right\">[POINTS: 5]</div></b>\n",
    "Now calculate projection vector $\\vec p$ using above projection matrix $P$. $P$ acts as transformation of $\\vec p$ into space defined by column space of $\\vec a$.\n",
    "\n",
    "**Task:** \n",
    "- Calculate Projected vector $\\vec p$  as follow:\n",
    "<center>\n",
    "    $\\vec p_{(2,1)}$ = $P_{(2,2)}\\vec b_{(2,1)}$\n",
    "</center>\n",
    "\n",
    "*Hint : use np.matmul*\n"
   ]
  },
  {
   "cell_type": "code",
   "execution_count": 44,
   "metadata": {
    "colab": {},
    "colab_type": "code",
    "deletable": false,
    "id": "qWmoIDb1QeEz",
    "nbgrader": {
     "checksum": "3ae9bf7fd270d18907856b0ebd650ac4",
     "grade": false,
     "grade_id": "cell-830937fc9e4c7cda",
     "locked": false,
     "schema_version": 1,
     "solution": true
    },
    "tags": [
     "Exercise-3"
    ]
   },
   "outputs": [],
   "source": [
    "projected_vector = None\n",
    "# YOUR CODE HERE\n",
    "projected_vector = np.matmul(Projection_matrix,b)"
   ]
  },
  {
   "cell_type": "code",
   "execution_count": 45,
   "metadata": {
    "colab": {},
    "colab_type": "code",
    "deletable": false,
    "editable": false,
    "id": "ke4JdABIijGF",
    "nbgrader": {
     "checksum": "58cca93a5d8d1e98c7ca2f4cc1e8f162",
     "grade": true,
     "grade_id": "cell-efdb1d1cb98c18fa",
     "locked": true,
     "points": 5,
     "schema_version": 1,
     "solution": false
    },
    "tags": [
     "Exercise-3"
    ]
   },
   "outputs": [],
   "source": [
    "assert projected_vector.shape == (2,1)"
   ]
  },
  {
   "cell_type": "markdown",
   "metadata": {
    "colab_type": "text",
    "deletable": false,
    "editable": false,
    "id": "AukjSHLMVmb4",
    "nbgrader": {
     "checksum": "d3b4918e63245fc14b628efb2688042c",
     "grade": false,
     "grade_id": "cell-614bf8f378d380e6",
     "locked": true,
     "schema_version": 1,
     "solution": false
    }
   },
   "source": [
    "Let plot the projected vector. if it's lying along $\\vec a$, we are  certain your implementation is working all good.\n"
   ]
  },
  {
   "cell_type": "code",
   "execution_count": 46,
   "metadata": {
    "colab": {
     "base_uri": "https://localhost:8080/",
     "height": 483
    },
    "colab_type": "code",
    "deletable": false,
    "editable": false,
    "executionInfo": {
     "elapsed": 1681,
     "status": "ok",
     "timestamp": 1573124732305,
     "user": {
      "displayName": "Robin Ranabhat",
      "photoUrl": "",
      "userId": "02196652062208427927"
     },
     "user_tz": -345
    },
    "id": "vtgy63seKI09",
    "nbgrader": {
     "checksum": "533d76a0705401d2a99b65b894862828",
     "grade": false,
     "grade_id": "cell-ca2277d78383c09f",
     "locked": true,
     "schema_version": 1,
     "solution": false
    },
    "outputId": "bdfe240f-5eb0-40e5-8a0d-31cc6f5af9ca"
   },
   "outputs": [
    {
     "data": {
      "image/png": "[encoded data removed]",
      "text/plain": [
       "<Figure size 576x576 with 1 Axes>"
      ]
     },
     "metadata": {},
     "output_type": "display_data"
    }
   ],
   "source": [
    "axes = plot_region_2d()\n",
    "\n",
    "plot_arrow_2d(a,axes,color='b',name = 'Vector a')\n",
    "plot_arrow_2d(b,axes,color='r',name = 'Vector b')\n",
    "plot_arrow_2d(projected_vector,axes,color='g',width=0.05,name= 'p',head_width=4)"
   ]
  },
  {
   "cell_type": "markdown",
   "metadata": {
    "colab_type": "text",
    "deletable": false,
    "editable": false,
    "id": "AnVflXYfhGl3",
    "nbgrader": {
     "checksum": "0fd43ebe90b7a7414cda0ced0527c56a",
     "grade": false,
     "grade_id": "cell-c35473d810e10735",
     "locked": true,
     "schema_version": 1,
     "solution": false
    }
   },
   "source": [
    "## Working with Projection in 3d ##\n",
    "\n",
    "Now, after getting hang of projection in $R^2$, now, we will move into $R^3$, and see how the projection works out for subspaces\n"
   ]
  },
  {
   "cell_type": "markdown",
   "metadata": {
    "colab_type": "text",
    "deletable": false,
    "editable": false,
    "id": "x0plHyA-FQld",
    "nbgrader": {
     "checksum": "ec3b1415c56151aed42890af7954f5fe",
     "grade": false,
     "grade_id": "cell-40de27f10b826447",
     "locked": true,
     "schema_version": 1,
     "solution": false
    }
   },
   "source": [
    "Let's start with a system of linear equation given below : \n",
    "\n",
    "$\\quad \\frac {1}{2}x +y = -1$\n",
    "\n",
    "$\\quad x+y  =  4 $\n",
    "\n",
    "$\\quad7x - y = 2$\n",
    "    \n",
    "\n",
    "We write the given system as $Ax = b$ : $  \n",
    "\\begin{bmatrix}\n",
    "1/2 & 1\\\\ \n",
    "1 & 1\\\\\n",
    "7 & -1\n",
    "\\end{bmatrix} \n",
    "\\begin{bmatrix}\n",
    "x\\\\ \n",
    "y\\\\\n",
    "\\end{bmatrix}    = \n",
    "\\begin{bmatrix}\n",
    "-1\\\\ \n",
    "4\\\\\n",
    "2\n",
    "\\end{bmatrix}    \n",
    "$\n",
    "\n",
    "Further rewriting in terms of column picture :\n",
    "$\n",
    "x\\begin{bmatrix}\n",
    "1/2\\\\ \n",
    "1 \\\\\n",
    "7 \n",
    "\\end{bmatrix}  + y\n",
    "\\begin{bmatrix}\n",
    "1\\\\ \n",
    "1\\\\\n",
    "-1\\\\\n",
    "\\end{bmatrix}    = \n",
    "\\begin{bmatrix}\n",
    "-1\\\\ \n",
    "4\\\\\n",
    "2\n",
    "\\end{bmatrix}    \n",
    "$\n",
    "\n",
    "Suppose $\\vec a_1 = (1/2,1,7)$, $\\vec a_2 = (1,1,-1)$ , $\\vec b=(-1,4,2)$\n",
    "\n",
    "The above column picture demands that, the vector  $[-1,4,2]$ must lie in the subspace spanned by $[1/2,1, 7]$  and $[1,1,-1]$, for solution to exist. Let's visulize the column space of $A$ check if $\\vec b$ falls onto this column space.  \n"
   ]
  },
  {
   "cell_type": "markdown",
   "metadata": {
    "colab_type": "text",
    "deletable": false,
    "editable": false,
    "id": "ZF_p8kzj48i7",
    "nbgrader": {
     "checksum": "e2d1e75c5f7c8401ddcb0ad39a2a5541",
     "grade": false,
     "grade_id": "cell-785b522ac549c22d",
     "locked": true,
     "schema_version": 1,
     "solution": false
    },
    "tags": [
     "Exercise-4"
    ]
   },
   "source": [
    "### Exercise 4: Working with Projection in 3d\n",
    "<b><div style=\"text-align:right\">[UNGRADED]</div></b>\n",
    "Initialize the column vectors $\\vec a_1, \\vec a_2$ and $\\vec b$ as described above. Each  numpy array **must** be of  shape $(3,1)$\n",
    "\n",
    "**Task:** \n",
    "- Initialize $\\vec a_1$ = $(1/2, 1, 7)$\n",
    "- Initialize $\\vec a_2$ = $(1, 1, -1)$\n",
    "- Initialize $\\vec b$ = $(-1, 4, 2)$"
   ]
  },
  {
   "cell_type": "code",
   "execution_count": 48,
   "metadata": {
    "colab": {},
    "colab_type": "code",
    "deletable": false,
    "id": "FbZc6DcjBDGU",
    "nbgrader": {
     "checksum": "c394ba4cff500fc4714a7acd2f87d2ca",
     "grade": false,
     "grade_id": "cell-8dd29d7db191e1fc",
     "locked": false,
     "schema_version": 1,
     "solution": true
    },
    "tags": [
     "Exercise-4"
    ]
   },
   "outputs": [],
   "source": [
    "a1 = np.array([\n",
    "    [1/2,1,7]\n",
    "]).reshape(-1,1)\n",
    "a2 = np.array([\n",
    "    [1,1,-1]\n",
    "]).reshape(-1,1)\n",
    "b = np.array([\n",
    "    [-1,4,2]\n",
    "]).reshape(-1,1)\n",
    "# YOUR CODE HERE"
   ]
  },
  {
   "cell_type": "code",
   "execution_count": 49,
   "metadata": {
    "colab": {},
    "colab_type": "code",
    "deletable": false,
    "editable": false,
    "id": "gxYghmxaijGN",
    "nbgrader": {
     "checksum": "88a15efff170665b22f51493ecc6a8e4",
     "grade": true,
     "grade_id": "cell-80114d53046d1bc0",
     "locked": true,
     "points": 0,
     "schema_version": 1,
     "solution": false
    },
    "tags": [
     "Exercise-4"
    ]
   },
   "outputs": [],
   "source": [
    "assert a1.shape == a2.shape == b.shape == (3,1)"
   ]
  },
  {
   "cell_type": "markdown",
   "metadata": {
    "colab_type": "text",
    "deletable": false,
    "editable": false,
    "id": "0gyw7Nx76dcD",
    "nbgrader": {
     "checksum": "a90fa858a2f7972058b3e821780a7d0c",
     "grade": false,
     "grade_id": "cell-63356bb319907a42",
     "locked": true,
     "schema_version": 1,
     "solution": false
    }
   },
   "source": [
    "In cell below, we have defined functions for visualizing the column space for you."
   ]
  },
  {
   "cell_type": "code",
   "execution_count": 50,
   "metadata": {
    "colab": {},
    "colab_type": "code",
    "deletable": false,
    "editable": false,
    "id": "46VrooJQ0k6H",
    "nbgrader": {
     "checksum": "bc889b9709d0cdb5c64dad65e2287d39",
     "grade": false,
     "grade_id": "cell-2d87c20b18c8e638",
     "locked": true,
     "schema_version": 1,
     "solution": false
    }
   },
   "outputs": [],
   "source": [
    "import matplotlib.pyplot as plt\n",
    "from mpl_toolkits.mplot3d import Axes3D\n",
    "\n",
    "def plot_vector_3d(x,ax,scaling_fac = 8,name=None):\n",
    "    \"\"\"Plots a given 3d vector in an predefined 3d axis \n",
    "    Parameters\n",
    "    ----------\n",
    "    x : array like\n",
    "        Input vector to be plotted in 3d space\n",
    "    ax : mpl_toolkits.mplot3d.axes3d.Axes3D\n",
    "        The predefined 3d axis where the input is plotted\n",
    "    scaling_fac : integer, optional, default None\n",
    "        To define the length of plotted vector\n",
    "\n",
    "    Returns\n",
    "    -------\n",
    "    None\n",
    "    \"\"\" \n",
    "    if not name:\n",
    "        name = ''\n",
    "    \n",
    "    x = [i[0]*float(scaling_fac) for i in x]\n",
    "    X = np.array([0]) ; Y = np.array([0]) ; Z = np.array([0])\n",
    "    U = np.array([x[0]]) ; V = np.array([x[1]]) ; W = np.array([x[2]])\n",
    "    ax.quiver(X,Y,Z,U,V,W,color='red',pivot='tail',arrow_length_ratio=0.01)\n",
    "    ax.text(x[0], x[1], x[2], name + ': ' + str(np.around(np.array(x)/scaling_fac,2)))\n",
    "  \n",
    "  \n",
    "def plot_subspace(vector_1,vector_2,ax):\n",
    "    \"\"\"Plots a given 3d plane as a subspace of two vectors in a predefined 3d axis \n",
    "\n",
    "    Parameters\n",
    "    ----------\n",
    "    vector_1,vector_2 : array like, Shape : (3,)\n",
    "        Input Column vector to be plotted in 3d space\n",
    "    ax : mpl_toolkits.mplot3d.axes3d.Axes3D\n",
    "        The predefined 3d axis where the input is plotted\n",
    "\n",
    "    Returns\n",
    "    -------\n",
    "    None\n",
    "    \"\"\"\n",
    "    \n",
    "    normal = np.cross(np.squeeze(vector_1),np.squeeze(vector_2))\n",
    "\n",
    "    x = np.linspace(-5, 16, 30)\n",
    "    y = np.linspace(-5, 12, 30)\n",
    "\n",
    "    d = 0 \n",
    "    X, Y = np.meshgrid(x, y)\n",
    "    z = (-normal[0] * X - normal[1] * Y - d) * 1. /normal[2]\n",
    "\n",
    "    ax.plot_surface(X, Y, z, alpha=0.3,color = 'blue')\n",
    "  \n",
    "  \n",
    "def plot_region_3d():\n",
    "    \"\"\"Define a 3d axis for plotting our Vectors and Subspaces\"\"\"\n",
    "    \n",
    "    fig = plt.figure(figsize=(8,4))\n",
    "    ax = Axes3D(fig)\n",
    "    ax.set_xlabel('x')\n",
    "    ax.set_ylabel('y')\n",
    "    ax.set_zlabel('z')\n",
    "    return ax"
   ]
  },
  {
   "cell_type": "markdown",
   "metadata": {
    "colab_type": "text",
    "deletable": false,
    "editable": false,
    "id": "r113mOUo7UbJ",
    "nbgrader": {
     "checksum": "8f8e6ec9bfcf09b523d96eb543f6439f",
     "grade": false,
     "grade_id": "cell-93f85a8a5093016c",
     "locked": true,
     "schema_version": 1,
     "solution": false
    }
   },
   "source": [
    "Let's visualize the column space and where $\\vec b$ actually falls into. if it does, we don't need to turn to least squares.\n",
    "\n",
    "\n",
    "Note :To load the interactive 3d visualization for plot above, swap `%matplotlib inline` with `%matplotlib qt` in the first cell. And you must be running this notebook locally as well.\n",
    "\n",
    "\n",
    "\n",
    "\n"
   ]
  },
  {
   "cell_type": "code",
   "execution_count": 51,
   "metadata": {
    "colab": {
     "base_uri": "https://localhost:8080/",
     "height": 319
    },
    "colab_type": "code",
    "deletable": false,
    "editable": false,
    "executionInfo": {
     "elapsed": 2017,
     "status": "ok",
     "timestamp": 1573124735909,
     "user": {
      "displayName": "Robin Ranabhat",
      "photoUrl": "",
      "userId": "02196652062208427927"
     },
     "user_tz": -345
    },
    "id": "nCSzxhIe7CGB",
    "nbgrader": {
     "checksum": "71b4e6b7ece5e25aa2cd3eeb20a67a23",
     "grade": false,
     "grade_id": "cell-cc93f4665585e606",
     "locked": true,
     "schema_version": 1,
     "solution": false
    },
    "outputId": "df52bebb-0a6b-482a-99f6-bd6c5ded45ff"
   },
   "outputs": [
    {
     "data": {
      "image/png": "[encoded data removed]",
      "text/plain": [
       "<Figure size 576x288 with 1 Axes>"
      ]
     },
     "metadata": {},
     "output_type": "display_data"
    }
   ],
   "source": [
    "ax_3d = plot_region_3d()\n",
    "\n",
    "## plotting our subspace for column vectors\n",
    "plot_subspace(a1,a2,ax_3d)\n",
    "\n",
    "## plotting each of vectors we defined\n",
    "\n",
    "plot_vector_3d(a1,ax_3d,scaling_fac=6,name='a1')\n",
    "plot_vector_3d(a2,ax_3d,scaling_fac=6,name='a2')\n",
    "plot_vector_3d(b,ax_3d,scaling_fac=6,name='b')"
   ]
  },
  {
   "cell_type": "markdown",
   "metadata": {
    "colab_type": "text",
    "deletable": false,
    "editable": false,
    "id": "mn9kxHHa8VPE",
    "nbgrader": {
     "checksum": "7e5d873bd5ce487b695c33c58723f720",
     "grade": false,
     "grade_id": "cell-b407f720c24d1407",
     "locked": true,
     "schema_version": 1,
     "solution": false
    }
   },
   "source": [
    "As you can see, the linear equation we defined above cannot be solved with values of $\\vec x=(x_1,x_2)$. Our $\\vec b$ is not in the column space. So, no linear combination of columns of $A$ with $x,y$ can produce $\\vec b$. However, we can find $\\hat x$, $\\hat y$ such that, the linear combination will give closest approximation of $\\vec b$.\n",
    "\n",
    "Intuitively, this best approximation of $\\vec b$ is in fact the closest relative of $\\vec b$ to column space of $A$ i.e. the projection of $\\vec b$ onto  $C(A)$.\n",
    "Now you will calculate the projection of $\\vec b$ in the subspace of Column vectors $\\vec a_1$,$\\vec a_2$ of $A$\n",
    "\n",
    "The $\\vec x = (x_1,x_2)$ are such that, for each of the equation in our system of linear equations we defined, they output the closest approximation of each component of $\\vec b$. i.e the error is minimum. Hence, we call it the least squares solution. "
   ]
  },
  {
   "cell_type": "markdown",
   "metadata": {
    "colab_type": "text",
    "deletable": false,
    "editable": false,
    "id": "G3GI1KQH9Jp1",
    "nbgrader": {
     "checksum": "c030c68d273c8aa37af00330cad068a4",
     "grade": false,
     "grade_id": "cell-5bb8ba8824758120",
     "locked": true,
     "schema_version": 1,
     "solution": false
    }
   },
   "source": [
    "### Step 1 : *Calculate* Projection Matrix $P$ ###\n",
    "\n",
    "\n",
    "$\\quad P_{(3,3)}$ = $A_{(3,2)}(A^TA)^{-1}_{(2,2)}A^T_{(2,3)}$ , where $A$ = $  \n",
    "\\begin{bmatrix}\n",
    "1/2 & 1\\\\ \n",
    "1 & 1\\\\\n",
    "7 & -1\n",
    "\\end{bmatrix} $\n",
    "\n",
    "\n",
    "Just to remind, check for yourself. If $A$ has independent columns, $A^TA$ will have independent column as well.\n",
    "But key insight is not that, but the fact that, If a matrix has indepentent columns, then it's inverse exists. This insight is basic but extremely prominent one, which we urge you to search for yourself.\n",
    "\n",
    "Since $\\vec a_1$ and $\\vec a_2$ are independent linearly, we are certain $(A^TA)^{-1}$ exists.\n",
    "\n",
    "\n",
    " "
   ]
  },
  {
   "cell_type": "markdown",
   "metadata": {
    "deletable": false,
    "editable": false,
    "nbgrader": {
     "checksum": "950fe9f7a2627e3ee180d9d57dbd9482",
     "grade": false,
     "grade_id": "cell-b0929f82e76fcf76",
     "locked": true,
     "schema_version": 1,
     "solution": false
    },
    "tags": [
     "Exercise-5"
    ]
   },
   "source": [
    "### Exercise 5: Form a Matrix $A$\n",
    "<b><div style=\"text-align:right\">[UNGRADED]</div></b>\n",
    "Form a matrix $A$ using $\\vec a_1$ and $\\vec a_2$ such that the two vector are the columns of matrix $A$\n",
    "\n",
    "**Task:** \n",
    "- Calculate $A$: $A$ = $  \n",
    "\\begin{bmatrix}\n",
    "\\vec a_1 & \\vec a_2\n",
    "\\end{bmatrix} $\n",
    "\n",
    "*Hint: Use `np.hstack`*"
   ]
  },
  {
   "cell_type": "code",
   "execution_count": 55,
   "metadata": {
    "colab": {},
    "colab_type": "code",
    "deletable": false,
    "id": "dmOJv4TTHlce",
    "nbgrader": {
     "checksum": "73d80297d6c302a9b93194aed56ca384",
     "grade": false,
     "grade_id": "cell-6051e3a3d62c2a75",
     "locked": false,
     "schema_version": 1,
     "solution": true
    },
    "tags": [
     "Exercise-5"
    ]
   },
   "outputs": [],
   "source": [
    "A = None\n",
    "# YOUR CODE HERE\n",
    "A= np.hstack((a1,a2))"
   ]
  },
  {
   "cell_type": "code",
   "execution_count": 56,
   "metadata": {
    "colab": {},
    "colab_type": "code",
    "deletable": false,
    "editable": false,
    "id": "rXV5N44NijGW",
    "nbgrader": {
     "checksum": "d32f3b14a47b288b57bd94261be34bae",
     "grade": true,
     "grade_id": "cell-dfec662c01820fe1",
     "locked": true,
     "points": 0,
     "schema_version": 1,
     "solution": false
    },
    "tags": [
     "Exercise-5"
    ]
   },
   "outputs": [],
   "source": [
    "assert A.shape == (3,2)"
   ]
  },
  {
   "cell_type": "markdown",
   "metadata": {
    "deletable": false,
    "editable": false,
    "nbgrader": {
     "checksum": "c2a4cdd82339dc25dabe4fd7b27de0bf",
     "grade": false,
     "grade_id": "cell-40d534287b127b0e",
     "locked": true,
     "schema_version": 1,
     "solution": false
    },
    "tags": [
     "Exercise-6"
    ]
   },
   "source": [
    "### Exercise 6: *Calculate* Projection Matrix $P$\n",
    "<b><div style=\"text-align:right\">[POINTS: 10]</div></b>\n",
    "Now using the matrix $A$ calulated above, calculate the Projection matrix $P$\n",
    "\n",
    "**Task:** \n",
    "- Calculate $P$: $\\quad P_{(3,3)}$ = $A_{(3,2)}(A^TA)^{-1}_{(2,2)}A^T_{(2,3)}$ , where $A$ = $  \n",
    "\\begin{bmatrix}\n",
    "1/2 & 1\\\\ \n",
    "1 & 1\\\\\n",
    "7 & -1\n",
    "\\end{bmatrix} $\n",
    "\n",
    "**Note:** \n",
    "- $A$ has already been initialized above\n",
    "- Just to remind, check for yourself. If $A$ has independent columns, $A^TA$ will have independent column as well.\n",
    "But key insight is not that, but the fact that, If a matrix has indepentent columns, then it's inverse exists. This insight is basic but extremely prominent one, which we urge you to search for yourself.\n",
    "Since $\\vec a_1$ and $\\vec a_2$ are independent linearly, we are certain $(A^TA)^{-1}$ exists."
   ]
  },
  {
   "cell_type": "code",
   "execution_count": 62,
   "metadata": {
    "colab": {},
    "colab_type": "code",
    "deletable": false,
    "id": "WuLLAVxoJs_D",
    "nbgrader": {
     "checksum": "451fa1f2157c46117b865bef99d60920",
     "grade": false,
     "grade_id": "cell-4a3e8ce78507e035",
     "locked": false,
     "schema_version": 1,
     "solution": true
    },
    "tags": [
     "Exercise-6"
    ]
   },
   "outputs": [],
   "source": [
    "# Now calculate Projection matrix based on formula above\n",
    "A_transpose_A = None\n",
    "A_transpose_A_inverse = None\n",
    "Projection_matrix = None\n",
    "# YOUR CODE HERE\n",
    "A_transpose_A = A.T @ A\n",
    "A_transpose_A_inverse = np.linalg.inv(A_transpose_A)\n",
    "Projection_matrix = A @ A_transpose_A_inverse @ A.T"
   ]
  },
  {
   "cell_type": "code",
   "execution_count": 63,
   "metadata": {
    "colab": {},
    "colab_type": "code",
    "deletable": false,
    "editable": false,
    "id": "QPnsAYpPijGc",
    "nbgrader": {
     "checksum": "bc5031265d17909e755ccabcbe9e74e6",
     "grade": true,
     "grade_id": "cell-4b8562c2e3912a9a",
     "locked": true,
     "points": 10,
     "schema_version": 1,
     "solution": false
    },
    "tags": [
     "Exercise-6"
    ]
   },
   "outputs": [],
   "source": [
    "assert A_transpose_A.shape == (2,2)\n",
    "assert Projection_matrix.shape == (3,3)"
   ]
  },
  {
   "cell_type": "markdown",
   "metadata": {
    "colab_type": "text",
    "id": "9corzwNiMTyq",
    "tags": [
     "Exercise-7"
    ]
   },
   "source": [
    "### Exercise 7: Calculate Projected Vector $\\vec p$\n",
    "<b><div style=\"text-align:right\">[POINTS: 5]</div></b>\n",
    "Now after the calculation of projection matrix $P$, calculate projected vector $\\vec p$.\n",
    "\n",
    "**Task:** \n",
    "- Calculate $\\vec p$: $\\vec p = P\\vec b$\n",
    "\n",
    "*Hint: Use* `np.matmul`"
   ]
  },
  {
   "cell_type": "code",
   "execution_count": 64,
   "metadata": {
    "colab": {},
    "colab_type": "code",
    "deletable": false,
    "id": "6kAk4kNfMEU7",
    "nbgrader": {
     "checksum": "5d6fd6d8f68b792c3ee77a0a3930c008",
     "grade": false,
     "grade_id": "cell-52b90d3abc853d99",
     "locked": false,
     "schema_version": 1,
     "solution": true
    },
    "tags": [
     "Exercise-7"
    ]
   },
   "outputs": [],
   "source": [
    "projection_vector = None\n",
    "# YOUR CODE HERE\n",
    "projection_vector = np.matmul(Projection_matrix, b)"
   ]
  },
  {
   "cell_type": "code",
   "execution_count": 65,
   "metadata": {
    "colab": {},
    "colab_type": "code",
    "deletable": false,
    "editable": false,
    "id": "bUuH599VijGh",
    "nbgrader": {
     "checksum": "071f87e9f1d6ee728428278f36066a6b",
     "grade": true,
     "grade_id": "cell-79e99c6adbe424d8",
     "locked": true,
     "points": 5,
     "schema_version": 1,
     "solution": false
    },
    "tags": [
     "Exercise-7"
    ]
   },
   "outputs": [],
   "source": [
    "assert projection_vector.shape == (3,1)"
   ]
  },
  {
   "cell_type": "markdown",
   "metadata": {
    "colab_type": "text",
    "deletable": false,
    "editable": false,
    "id": "LHB3EAleLtOE",
    "nbgrader": {
     "checksum": "12d11ea1e0441ac38e31f5aa4338f2e4",
     "grade": false,
     "grade_id": "cell-557c36f19bccfe5d",
     "locked": true,
     "schema_version": 1,
     "solution": false
    }
   },
   "source": [
    "Let's see if the implementation is working correctly. If it\n",
    "s correct, $P$ will transform $\\vec b$ into the subspace of $C(A)$."
   ]
  },
  {
   "cell_type": "code",
   "execution_count": 66,
   "metadata": {
    "colab": {
     "base_uri": "https://localhost:8080/",
     "height": 319
    },
    "colab_type": "code",
    "deletable": false,
    "editable": false,
    "executionInfo": {
     "elapsed": 1844,
     "status": "ok",
     "timestamp": 1573124740785,
     "user": {
      "displayName": "Robin Ranabhat",
      "photoUrl": "",
      "userId": "02196652062208427927"
     },
     "user_tz": -345
    },
    "id": "bkiwUQ5_8EEN",
    "nbgrader": {
     "checksum": "c351a1d3e8f54ecd3bd79d23f631846b",
     "grade": false,
     "grade_id": "cell-75b63961789ffe52",
     "locked": true,
     "schema_version": 1,
     "solution": false
    },
    "outputId": "c3650209-ff23-4d99-8949-68ae4778be3b"
   },
   "outputs": [
    {
     "data": {
      "image/png": "[encoded data removed]",
      "text/plain": [
       "<Figure size 576x288 with 1 Axes>"
      ]
     },
     "metadata": {},
     "output_type": "display_data"
    }
   ],
   "source": [
    "ax_3d = plot_region_3d()\n",
    "\n",
    "## plotting our subspace for column vectors\n",
    "plot_subspace(a1,a2,ax_3d)\n",
    "\n",
    "## plotting each of vectors we defined\n",
    "plot_vector_3d(a1,ax_3d,scaling_fac=6,name='a1')\n",
    "plot_vector_3d(a2,ax_3d,scaling_fac=6,name='a2')\n",
    "plot_vector_3d(b,ax_3d,scaling_fac=6,name='b')\n",
    "\n",
    "## plotting the new projection vector\n",
    "plot_vector_3d(projection_vector,ax_3d,scaling_fac=6,name='Projection Vector') # plot_vector_3d(None,ax_3d,scaling_fac=3) ## code here"
   ]
  },
  {
   "cell_type": "markdown",
   "metadata": {
    "colab_type": "text",
    "deletable": false,
    "editable": false,
    "id": "06k9I-fkSgU5",
    "nbgrader": {
     "checksum": "86170661bb9a0d1c4ea17bfe12e29b49",
     "grade": false,
     "grade_id": "cell-4161b881fd95d129",
     "locked": true,
     "schema_version": 1,
     "solution": false
    }
   },
   "source": [
    "You need to run this notebook locally if and turn on : %matplotlib qt, instead of %matplotlib line, for loading the interactive visualization. The visualization given above isn't clear. So, you have to take our word that projection vector is infact lying at the subspace. "
   ]
  },
  {
   "cell_type": "markdown",
   "metadata": {
    "colab_type": "text",
    "deletable": false,
    "editable": false,
    "id": "oOLVB02eTF5y",
    "nbgrader": {
     "checksum": "4c00934122145e80fe21863b4abcf697",
     "grade": false,
     "grade_id": "cell-f6c5fcbbf62d0350",
     "locked": true,
     "schema_version": 1,
     "solution": false
    }
   },
   "source": [
    "# Part 2 : Regression problem\n",
    "\n",
    "In this section, we will take the concept of Projection, to solve a regression problem of a Boston Housing dataset. We will develop a simple model to predict housing prices. \n"
   ]
  },
  {
   "cell_type": "code",
   "execution_count": 67,
   "metadata": {
    "colab": {
     "base_uri": "https://localhost:8080/",
     "height": 195
    },
    "colab_type": "code",
    "deletable": false,
    "editable": false,
    "executionInfo": {
     "elapsed": 1892,
     "status": "ok",
     "timestamp": 1573124741343,
     "user": {
      "displayName": "Robin Ranabhat",
      "photoUrl": "",
      "userId": "02196652062208427927"
     },
     "user_tz": -345
    },
    "id": "jiWqhXL75Hod",
    "nbgrader": {
     "checksum": "ad1634c7d3c862083dd96ff154fbbfa0",
     "grade": false,
     "grade_id": "cell-e353b7a4c7524250",
     "locked": true,
     "schema_version": 1,
     "solution": false
    },
    "outputId": "91d06f08-f6d1-44cd-91a8-9bc7a580fb24"
   },
   "outputs": [
    {
     "data": {
      "text/html": [
       "<div>\n",
       "<style scoped>\n",
       "    .dataframe tbody tr th:only-of-type {\n",
       "        vertical-align: middle;\n",
       "    }\n",
       "\n",
       "    .dataframe tbody tr th {\n",
       "        vertical-align: top;\n",
       "    }\n",
       "\n",
       "    .dataframe thead th {\n",
       "        text-align: right;\n",
       "    }\n",
       "</style>\n",
       "<table border=\"1\" class=\"dataframe\">\n",
       "  <thead>\n",
       "    <tr style=\"text-align: right;\">\n",
       "      <th></th>\n",
       "      <th>CRIM</th>\n",
       "      <th>ZN</th>\n",
       "      <th>INDUS</th>\n",
       "      <th>CHAS</th>\n",
       "      <th>NOX</th>\n",
       "      <th>RM</th>\n",
       "      <th>AGE</th>\n",
       "      <th>DIS</th>\n",
       "      <th>RAD</th>\n",
       "      <th>TAX</th>\n",
       "      <th>PTRATIO</th>\n",
       "      <th>B</th>\n",
       "      <th>LSTAT</th>\n",
       "      <th>MEDV</th>\n",
       "    </tr>\n",
       "  </thead>\n",
       "  <tbody>\n",
       "    <tr>\n",
       "      <th>0</th>\n",
       "      <td>0.00632</td>\n",
       "      <td>18.0</td>\n",
       "      <td>2.31</td>\n",
       "      <td>0.0</td>\n",
       "      <td>0.538</td>\n",
       "      <td>6.575</td>\n",
       "      <td>65.2</td>\n",
       "      <td>4.0900</td>\n",
       "      <td>1.0</td>\n",
       "      <td>296.0</td>\n",
       "      <td>15.3</td>\n",
       "      <td>396.90</td>\n",
       "      <td>4.98</td>\n",
       "      <td>24.0</td>\n",
       "    </tr>\n",
       "    <tr>\n",
       "      <th>1</th>\n",
       "      <td>0.02731</td>\n",
       "      <td>0.0</td>\n",
       "      <td>7.07</td>\n",
       "      <td>0.0</td>\n",
       "      <td>0.469</td>\n",
       "      <td>6.421</td>\n",
       "      <td>78.9</td>\n",
       "      <td>4.9671</td>\n",
       "      <td>2.0</td>\n",
       "      <td>242.0</td>\n",
       "      <td>17.8</td>\n",
       "      <td>396.90</td>\n",
       "      <td>9.14</td>\n",
       "      <td>21.6</td>\n",
       "    </tr>\n",
       "    <tr>\n",
       "      <th>2</th>\n",
       "      <td>0.02729</td>\n",
       "      <td>0.0</td>\n",
       "      <td>7.07</td>\n",
       "      <td>0.0</td>\n",
       "      <td>0.469</td>\n",
       "      <td>7.185</td>\n",
       "      <td>61.1</td>\n",
       "      <td>4.9671</td>\n",
       "      <td>2.0</td>\n",
       "      <td>242.0</td>\n",
       "      <td>17.8</td>\n",
       "      <td>392.83</td>\n",
       "      <td>4.03</td>\n",
       "      <td>34.7</td>\n",
       "    </tr>\n",
       "    <tr>\n",
       "      <th>3</th>\n",
       "      <td>0.03237</td>\n",
       "      <td>0.0</td>\n",
       "      <td>2.18</td>\n",
       "      <td>0.0</td>\n",
       "      <td>0.458</td>\n",
       "      <td>6.998</td>\n",
       "      <td>45.8</td>\n",
       "      <td>6.0622</td>\n",
       "      <td>3.0</td>\n",
       "      <td>222.0</td>\n",
       "      <td>18.7</td>\n",
       "      <td>394.63</td>\n",
       "      <td>2.94</td>\n",
       "      <td>33.4</td>\n",
       "    </tr>\n",
       "    <tr>\n",
       "      <th>4</th>\n",
       "      <td>0.06905</td>\n",
       "      <td>0.0</td>\n",
       "      <td>2.18</td>\n",
       "      <td>0.0</td>\n",
       "      <td>0.458</td>\n",
       "      <td>7.147</td>\n",
       "      <td>54.2</td>\n",
       "      <td>6.0622</td>\n",
       "      <td>3.0</td>\n",
       "      <td>222.0</td>\n",
       "      <td>18.7</td>\n",
       "      <td>396.90</td>\n",
       "      <td>5.33</td>\n",
       "      <td>36.2</td>\n",
       "    </tr>\n",
       "  </tbody>\n",
       "</table>\n",
       "</div>"
      ],
      "text/plain": [
       "      CRIM    ZN  INDUS  CHAS    NOX     RM   AGE     DIS  RAD    TAX  \\\n",
       "0  0.00632  18.0   2.31   0.0  0.538  6.575  65.2  4.0900  1.0  296.0   \n",
       "1  0.02731   0.0   7.07   0.0  0.469  6.421  78.9  4.9671  2.0  242.0   \n",
       "2  0.02729   0.0   7.07   0.0  0.469  7.185  61.1  4.9671  2.0  242.0   \n",
       "3  0.03237   0.0   2.18   0.0  0.458  6.998  45.8  6.0622  3.0  222.0   \n",
       "4  0.06905   0.0   2.18   0.0  0.458  7.147  54.2  6.0622  3.0  222.0   \n",
       "\n",
       "   PTRATIO       B  LSTAT  MEDV  \n",
       "0     15.3  396.90   4.98  24.0  \n",
       "1     17.8  396.90   9.14  21.6  \n",
       "2     17.8  392.83   4.03  34.7  \n",
       "3     18.7  394.63   2.94  33.4  \n",
       "4     18.7  396.90   5.33  36.2  "
      ]
     },
     "execution_count": 67,
     "metadata": {},
     "output_type": "execute_result"
    }
   ],
   "source": [
    "# Let's load and have a look at dataset.\n",
    "from sklearn.datasets import load_boston\n",
    "## We will use an extremely handy library, pandas to load the dataset from csv as numpy array.\n",
    "import pandas as pd\n",
    "\n",
    "boston_dataset = load_boston()\n",
    "boston = pd.DataFrame(boston_dataset.data, columns=boston_dataset.feature_names)\n",
    "boston['MEDV'] = boston_dataset.target\n",
    "     \n",
    "boston.head()"
   ]
  },
  {
   "cell_type": "markdown",
   "metadata": {
    "colab_type": "text",
    "deletable": false,
    "editable": false,
    "id": "NVpEkxvSijGo",
    "nbgrader": {
     "checksum": "9924545a29aa40f07cc3d1326c97a20d",
     "grade": false,
     "grade_id": "cell-c7bc26f24e07493f",
     "locked": true,
     "schema_version": 1,
     "solution": false
    }
   },
   "source": [
    "We wish to calculate housing price given by column **MEDV** given other feature vectors. For the sake of simplicity and visualization, we will only stick to using the columns **AGE** and **RM** as the features. "
   ]
  },
  {
   "cell_type": "code",
   "execution_count": 68,
   "metadata": {
    "colab": {
     "base_uri": "https://localhost:8080/",
     "height": 195
    },
    "colab_type": "code",
    "deletable": false,
    "editable": false,
    "executionInfo": {
     "elapsed": 1149,
     "status": "ok",
     "timestamp": 1573124741885,
     "user": {
      "displayName": "Robin Ranabhat",
      "photoUrl": "",
      "userId": "02196652062208427927"
     },
     "user_tz": -345
    },
    "id": "AAPF-F7x5Jc3",
    "nbgrader": {
     "checksum": "0dbc15bb6e8224ca9103e4bb14fb91ff",
     "grade": false,
     "grade_id": "cell-2c6ef9e4d866953d",
     "locked": true,
     "schema_version": 1,
     "solution": false
    },
    "outputId": "d16e0ecf-42f3-4d17-b6f2-7fa186155976"
   },
   "outputs": [
    {
     "data": {
      "text/html": [
       "<div>\n",
       "<style scoped>\n",
       "    .dataframe tbody tr th:only-of-type {\n",
       "        vertical-align: middle;\n",
       "    }\n",
       "\n",
       "    .dataframe tbody tr th {\n",
       "        vertical-align: top;\n",
       "    }\n",
       "\n",
       "    .dataframe thead th {\n",
       "        text-align: right;\n",
       "    }\n",
       "</style>\n",
       "<table border=\"1\" class=\"dataframe\">\n",
       "  <thead>\n",
       "    <tr style=\"text-align: right;\">\n",
       "      <th></th>\n",
       "      <th>RM</th>\n",
       "      <th>AGE</th>\n",
       "      <th>MEDV</th>\n",
       "    </tr>\n",
       "  </thead>\n",
       "  <tbody>\n",
       "    <tr>\n",
       "      <th>0</th>\n",
       "      <td>0.577505</td>\n",
       "      <td>0.641607</td>\n",
       "      <td>0.422222</td>\n",
       "    </tr>\n",
       "    <tr>\n",
       "      <th>1</th>\n",
       "      <td>0.547998</td>\n",
       "      <td>0.782698</td>\n",
       "      <td>0.368889</td>\n",
       "    </tr>\n",
       "    <tr>\n",
       "      <th>2</th>\n",
       "      <td>0.694386</td>\n",
       "      <td>0.599382</td>\n",
       "      <td>0.660000</td>\n",
       "    </tr>\n",
       "    <tr>\n",
       "      <th>3</th>\n",
       "      <td>0.658555</td>\n",
       "      <td>0.441813</td>\n",
       "      <td>0.631111</td>\n",
       "    </tr>\n",
       "    <tr>\n",
       "      <th>4</th>\n",
       "      <td>0.687105</td>\n",
       "      <td>0.528321</td>\n",
       "      <td>0.693333</td>\n",
       "    </tr>\n",
       "  </tbody>\n",
       "</table>\n",
       "</div>"
      ],
      "text/plain": [
       "         RM       AGE      MEDV\n",
       "0  0.577505  0.641607  0.422222\n",
       "1  0.547998  0.782698  0.368889\n",
       "2  0.694386  0.599382  0.660000\n",
       "3  0.658555  0.441813  0.631111\n",
       "4  0.687105  0.528321  0.693333"
      ]
     },
     "execution_count": 68,
     "metadata": {},
     "output_type": "execute_result"
    }
   ],
   "source": [
    "## let's normalize the dataset into scale of 0-1\n",
    "## we won't go into details for why we are normalizing the inputs\n",
    "boston = boston[['RM','AGE','MEDV']]\n",
    "boston = (boston - boston.min())/ (boston.max() - boston.min())\n",
    "boston.head()"
   ]
  },
  {
   "cell_type": "markdown",
   "metadata": {
    "colab_type": "text",
    "deletable": false,
    "editable": false,
    "id": "QOKznGvkijGq",
    "nbgrader": {
     "checksum": "b8c765404073dfef2013fae2b266b750",
     "grade": false,
     "grade_id": "cell-966ab2b512916468",
     "locked": true,
     "schema_version": 1,
     "solution": false
    }
   },
   "source": [
    "Now, going towards solving this problem, recall the concept we studied till now. We can write our problem in system of linear equation as $Ax = b$ :\n",
    "\n",
    "\n",
    "$\\quad\\quad  \n",
    "\\begin{bmatrix}\n",
    "1 & 0.577 & 0.641\\\\ \n",
    "1 & 0.547 & 0.782\\\\\n",
    "1 & 0.694 & 0.599\\\\\n",
    ". & . & . \\\\\n",
    ". & . & . \\\\\n",
    "\\end{bmatrix} $\n",
    "$ \\begin{bmatrix}\n",
    "x_{0}\\\\ \n",
    "x_{1}\\\\\n",
    "x_{2}\n",
    "\\\\\n",
    "\\end{bmatrix} =$ $ \\begin{bmatrix}\n",
    "0.422 \\\\\n",
    "0.368 \\\\\n",
    "0.660 \\\\\n",
    ". \\\\\n",
    ". \\\\\n",
    "\\end{bmatrix} $\n",
    "\n",
    "**The parameters $\\vec x = (x_{0},x_{1},x_{2})$ is the solution for the regression problem.**. Each feature column is acting a column vectors and we are trying the to find the best values of $(x_0,x_1,x_2)$ to approximate the values of $\\vec b$ with least errors.\n",
    "\n",
    "Similar to previous, we can write the equation in terms of column picture of $A$ as :\n",
    "\n",
    "$\\quad\\quad\n",
    "x_{0}\\begin{bmatrix}\n",
    "1 \\\\ \n",
    "1 \\\\\n",
    "1 \\\\\n",
    ". \\\\\n",
    ". \n",
    "\\end{bmatrix} +\n",
    "x_{1}\\begin{bmatrix}\n",
    "0.577 \\\\ \n",
    "0.547 \\\\\n",
    "0.694 \\\\\n",
    ". \\\\\n",
    ". \n",
    "\\end{bmatrix} + $ $x_{2}\\begin{bmatrix}\n",
    "0.641 \\\\ \n",
    "0.782 \\\\\n",
    "0.599 \\\\\n",
    ". \\\\\n",
    ". \n",
    "\\end{bmatrix} =$ $\\begin{bmatrix}\n",
    "0.422 \\\\ \n",
    "0.368 \\\\\n",
    "0.660 \\\\\n",
    ". \\\\\n",
    ". \n",
    "\\end{bmatrix} $\n",
    "\n",
    "Column space is in $R_{506}$, so we cannot visualize this dataset like prevoisuly. But we definitely can solve for the values of $\\vec x$. Using equation below, we opt to find $\\vec x =(x_0,x_1,x_2)$, as solution to our regression problem to boston housing dataset. \n",
    "\n",
    "$\\quad \\vec x_{(3,1)} = (A^TA)^{-1}_{(3,3)}A^T_{(3,506)}\\vec b_{(506,1)}$\n",
    "\n",
    "\n",
    "<br>\n",
    "*Why  we added the column vector of $(1,1,1...)_{(506,1)}$ will be discussed in detail when you will get familiar with idea of regression. For now, just remember, while computing components of $\\vec b$ as linear combination of components of $\\vec a$, we are adding additional parameter as :  <br>\n",
    "$( a1.x_{1} + a2.x_{2} = b_1 )$ ---> $( x_0 +  a1.x_{1} + a2.x_{2} = b_1 )$\n",
    "<br>\n",
    "\n",
    "This gives the model a further flexibility in approximating $b$\n",
    "\n"
   ]
  },
  {
   "cell_type": "code",
   "execution_count": 69,
   "metadata": {
    "colab": {
     "base_uri": "https://localhost:8080/",
     "height": 67
    },
    "colab_type": "code",
    "deletable": false,
    "editable": false,
    "executionInfo": {
     "elapsed": 821,
     "status": "ok",
     "timestamp": 1573124741887,
     "user": {
      "displayName": "Robin Ranabhat",
      "photoUrl": "",
      "userId": "02196652062208427927"
     },
     "user_tz": -345
    },
    "id": "tfrY1he2UCJA",
    "nbgrader": {
     "checksum": "aed46ebe571d3e228b7d90936358634a",
     "grade": false,
     "grade_id": "cell-ef7d34054340d06c",
     "locked": true,
     "schema_version": 1,
     "solution": false
    },
    "outputId": "16679459-5323-4f0c-c73d-9a8d58bc9fac"
   },
   "outputs": [
    {
     "name": "stdout",
     "output_type": "stream",
     "text": [
      "No. of rows of dataset :  506\n",
      "shape of A :  (506, 3)\n",
      "shape of b :  (506,)\n"
     ]
    }
   ],
   "source": [
    "## writing our linear equations in terms of numpy arrays as we did previously\n",
    "\n",
    "A = boston[['RM','AGE']].values\n",
    "A = np.concatenate((np.ones((boston.shape[0],1)),A),axis = 1)\n",
    "b = boston['MEDV'].values\n",
    "print('No. of rows of dataset : ',boston.shape[0])\n",
    "print('shape of A : ', A.shape)\n",
    "print('shape of b : ', b.shape)"
   ]
  },
  {
   "cell_type": "markdown",
   "metadata": {
    "deletable": false,
    "editable": false,
    "nbgrader": {
     "checksum": "604ecb5be0e756e1a54e427e4d606459",
     "grade": false,
     "grade_id": "cell-26aadb14b3657b5d",
     "locked": true,
     "schema_version": 1,
     "solution": false
    },
    "tags": [
     "Exercise-8"
    ]
   },
   "source": [
    "### Exercise 8: Calculate weight $\\vec x$\n",
    "<b><div style=\"text-align:right\">[POINTS: 5]</div></b>\n",
    "Provided the matrix $A$ and vector $\\vec b$ as boston['MEDV'], calculate $\\vec x$ in\n",
    "<center>\n",
    "$A\\vec x = \\vec b$\n",
    "</center>\n",
    "\n",
    "**Task:** \n",
    "- Calculate $\\vec x: \\vec x = (A^TA)^{-1}A^T\\vec b$"
   ]
  },
  {
   "cell_type": "code",
   "execution_count": 73,
   "metadata": {
    "colab": {},
    "colab_type": "code",
    "deletable": false,
    "id": "EKTxV7DJb7aR",
    "nbgrader": {
     "checksum": "5641e2b3d23f542c218f676181fda47f",
     "grade": false,
     "grade_id": "cell-27bb4e7dcef88072",
     "locked": false,
     "schema_version": 1,
     "solution": true
    },
    "tags": [
     "Exercise-8"
    ]
   },
   "outputs": [],
   "source": [
    "# We have prepared everything you need for calculation of the parameters x_0,x_2,x_3\n",
    "# Find x using above formula\n",
    "x = None\n",
    "# YOUR CODE HERE\n",
    "x= np.linalg.inv(A.T @ A) @ A.T @ b"
   ]
  },
  {
   "cell_type": "code",
   "execution_count": 74,
   "metadata": {
    "colab": {},
    "colab_type": "code",
    "deletable": false,
    "editable": false,
    "id": "8RxdYtJxijGv",
    "nbgrader": {
     "checksum": "db035b4788e661f19c51e8c6d7f73a7e",
     "grade": true,
     "grade_id": "cell-e3298056941349a1",
     "locked": true,
     "points": 5,
     "schema_version": 1,
     "solution": false
    },
    "tags": [
     "Exercise-8"
    ]
   },
   "outputs": [],
   "source": [
    "assert x.shape == (3,)"
   ]
  },
  {
   "cell_type": "markdown",
   "metadata": {
    "colab_type": "text",
    "deletable": false,
    "editable": false,
    "id": "Akm7tCxQijGw",
    "nbgrader": {
     "checksum": "7544de132c8249c9648bf9eb2ec70f00",
     "grade": false,
     "grade_id": "cell-0967cd9ea92da2d1",
     "locked": true,
     "schema_version": 1,
     "solution": false
    }
   },
   "source": [
    "Now, we predict the prices using our model as :\n",
    "\n",
    "prediction_prices = np.matmul(A,x)"
   ]
  },
  {
   "cell_type": "markdown",
   "metadata": {
    "colab_type": "text",
    "deletable": false,
    "editable": false,
    "id": "kEbEzrU-ijGz",
    "nbgrader": {
     "checksum": "f6642685d4dcdc0f0dc2ba4e3376e761",
     "grade": false,
     "grade_id": "cell-14c58c66309d1c36",
     "locked": true,
     "schema_version": 1,
     "solution": false
    }
   },
   "source": [
    "Let's visualize the dataset and see how the prediction is working"
   ]
  },
  {
   "cell_type": "code",
   "execution_count": null,
   "metadata": {
    "colab": {
     "base_uri": "https://localhost:8080/",
     "height": 466
    },
    "colab_type": "code",
    "deletable": false,
    "editable": false,
    "executionInfo": {
     "elapsed": 1636,
     "status": "ok",
     "timestamp": 1573124747806,
     "user": {
      "displayName": "Robin Ranabhat",
      "photoUrl": "",
      "userId": "02196652062208427927"
     },
     "user_tz": -345
    },
    "id": "RjKT4WNEqLtV",
    "nbgrader": {
     "checksum": "5719787e0c88f77e8d3410c754465b30",
     "grade": false,
     "grade_id": "cell-5585c6f9f5592109",
     "locked": true,
     "schema_version": 1,
     "solution": false
    },
    "outputId": "26539d9f-34fe-420d-c44d-189756acd742"
   },
   "outputs": [],
   "source": [
    "#  graph the data\n",
    "fig = plt.figure(figsize=(12,8))\n",
    "ax = fig.add_subplot(111, projection='3d')\n",
    "\n",
    "# graph the original data, predicted data\n",
    "ax.scatter(A[:, 1], A[:, 2], b, color='r', label='Actual Quality')\n",
    "ax.scatter(A[:, 1], A[:, 2], np.matmul(A,x), color='g', label='Predicted Quality')\n",
    "\n",
    "ax.set_xlabel('RM')\n",
    "ax.set_ylabel('AGE')\n",
    "ax.set_zlabel('MEDV')\n",
    "plt.show()\n"
   ]
  },
  {
   "cell_type": "markdown",
   "metadata": {
    "colab_type": "text",
    "id": "-rsjpN8fijG1"
   },
   "source": [
    "Hence, we can seem we learned a plane of best fit to predict the **MEDV** value."
   ]
  },
  {
   "cell_type": "code",
   "execution_count": null,
   "metadata": {},
   "outputs": [],
   "source": []
  }
 ],
 "metadata": {
  "colab": {
   "collapsed_sections": [],
   "machine_shape": "hm",
   "name": "Assignement_Least_squares.ipynb",
   "provenance": []
  },
  "kernelspec": {
   "display_name": "Python 3",
   "language": "python",
   "name": "python3"
  },
  "language_info": {
   "codemirror_mode": {
    "name": "ipython",
    "version": 3
   },
   "file_extension": ".py",
   "mimetype": "text/x-python",
   "name": "python",
   "nbconvert_exporter": "python",
   "pygments_lexer": "ipython3",
   "version": "3.6.8"
  }
 },
 "nbformat": 4,
 "nbformat_minor": 1
}
