{
 "cells": [
  {
   "cell_type": "markdown",
   "metadata": {
    "colab_type": "text",
    "deletable": false,
    "editable": false,
    "id": "YRQIK1nLj3jy",
    "nbgrader": {
     "checksum": "49c264bedf4753de9e3ba3f495fd31ce",
     "grade": false,
     "grade_id": "cell-4ea6d1371a968a0e",
     "locked": true,
     "schema_version": 1,
     "solution": false
    }
   },
   "source": [
    "# Assignment: Determinant and Inverse\n",
    "\n",
    "---\n",
    "\n",
    "<b><div style=\"text-align: right\">[TOTAL POINTS: 15]</div></b>\n",
    "\n",
    "This assignment is based on the use of determinants and inverses in regression. We will attempt to predict the price of a building based on the features of that particular property."
   ]
  },
  {
   "cell_type": "markdown",
   "metadata": {
    "colab_type": "text",
    "deletable": false,
    "editable": false,
    "id": "eSnDBr06j9g0",
    "nbgrader": {
     "checksum": "d9e514f6e99e43ed8dae0321e3658070",
     "grade": false,
     "grade_id": "cell-21993a5f052efa6a",
     "locked": true,
     "schema_version": 1,
     "solution": false
    }
   },
   "source": [
    "## Dataset Description\n",
    "\n",
    "**Source**: The dataset used here is from a Kaggle challenge - [House Prices: Advanced Regression Techniques](https://www.kaggle.com/c/house-prices-advanced-regression-techniques/data). It is a housing dataset that relates the price of a property based on the features of the property. The version of the dataset that you will use in this assignment does not contain all the features that exist in the original dataset, and some new features have been added too. The dataset presents the data for houses sold in the year 2019. \n",
    "\n",
    "**Number of Instances**: 1000\n",
    "\n",
    "**Number of Attributes**: 10\n",
    "\n",
    "---\n",
    "\n",
    "The features used for the prediction are as follows:\n",
    "\n",
    "1. `Building_design` : Type of house in terms of its design\n",
    "    - 1 - A building with one story\n",
    "    - 2 - A building with 2 storues\n",
    "    - 1.5 - A building with 1 and half stories\n",
    "2. `Area`: Area of house in square feet\n",
    "3. `Width`: Width of plot in feet\n",
    "4. `Length`: Length of house in feet\n",
    "5. `Circumgerence`: Circumference of the base of the house in feet\n",
    "6. `Year_built`: The year that the house was built in\n",
    "7. `Age`: Age of the house when sold\n",
    "8. `No_bedrooms`: Number of bedrooms in the house\n",
    "9. `Quality`: Quality of the house, ranging from 1 (low) to 10 (high)\n",
    "\n",
    "The target of the dataset is the `Price` of the building at the time of sale based on the above 9 attributes.\n"
   ]
  },
  {
   "cell_type": "code",
   "execution_count": 1,
   "metadata": {
    "colab": {},
    "colab_type": "code",
    "deletable": false,
    "editable": false,
    "id": "-eXgZMOw7zXY",
    "nbgrader": {
     "checksum": "d4345aad160f7eaf30e1120fea3891d1",
     "grade": false,
     "grade_id": "cell-48b5b6975ae58ac4",
     "locked": true,
     "schema_version": 1,
     "solution": false
    }
   },
   "outputs": [],
   "source": [
    "# Import libraries\n",
    "import numpy as np\n",
    "import pandas as pd \n",
    "import matplotlib.pyplot as plt\n",
    "from numpy.linalg import LinAlgError, matrix_rank as rank\n",
    "\n",
    "! wget -qO linalg.py 'https://storage.googleapis.com/codehub-data/5-A-2-5-linalg.py'\n",
    "# custom library\n",
    "from linalg import det, inv"
   ]
  },
  {
   "cell_type": "markdown",
   "metadata": {
    "deletable": false,
    "editable": false,
    "nbgrader": {
     "checksum": "4dc979b656d85d81ab96fd7856833ce1",
     "grade": false,
     "grade_id": "cell-8446be64d84430f9",
     "locked": true,
     "schema_version": 1,
     "solution": false
    }
   },
   "source": [
    "**Note:** The functions `det` and `inv` imported above from `linalg` are different from the NumPy implementations of determinant and inverse.  They make sure that problems due to floating point precision do not change the result of the determinant and inverse of a matrix. Use them in place of `np.linalg.det` and `np.linalg.inv` respectively."
   ]
  },
  {
   "cell_type": "code",
   "execution_count": 43,
   "metadata": {
    "colab": {
     "base_uri": "https://localhost:8080/",
     "height": 195
    },
    "colab_type": "code",
    "deletable": false,
    "editable": false,
    "id": "SUi0y_os8hHZ",
    "nbgrader": {
     "checksum": "8f93ff74258e989b9c330ef054c0ca82",
     "grade": false,
     "grade_id": "cell-80650777073babf5",
     "locked": true,
     "schema_version": 1,
     "solution": false
    },
    "outputId": "b3896c4d-fe3e-4fd0-d140-57be3912eabe"
   },
   "outputs": [
    {
     "data": {
      "text/html": [
       "<div>\n",
       "<style scoped>\n",
       "    .dataframe tbody tr th:only-of-type {\n",
       "        vertical-align: middle;\n",
       "    }\n",
       "\n",
       "    .dataframe tbody tr th {\n",
       "        vertical-align: top;\n",
       "    }\n",
       "\n",
       "    .dataframe thead th {\n",
       "        text-align: right;\n",
       "    }\n",
       "</style>\n",
       "<table border=\"1\" class=\"dataframe\">\n",
       "  <thead>\n",
       "    <tr style=\"text-align: right;\">\n",
       "      <th></th>\n",
       "      <th>Building_design</th>\n",
       "      <th>Area</th>\n",
       "      <th>Width</th>\n",
       "      <th>Length</th>\n",
       "      <th>Circumference</th>\n",
       "      <th>Year_built</th>\n",
       "      <th>Age</th>\n",
       "      <th>No_bedroom</th>\n",
       "      <th>Quality</th>\n",
       "      <th>Price</th>\n",
       "    </tr>\n",
       "  </thead>\n",
       "  <tbody>\n",
       "    <tr>\n",
       "      <th>0</th>\n",
       "      <td>2.0</td>\n",
       "      <td>8450</td>\n",
       "      <td>65</td>\n",
       "      <td>130</td>\n",
       "      <td>390</td>\n",
       "      <td>2012</td>\n",
       "      <td>7</td>\n",
       "      <td>3</td>\n",
       "      <td>7</td>\n",
       "      <td>208500</td>\n",
       "    </tr>\n",
       "    <tr>\n",
       "      <th>1</th>\n",
       "      <td>1.0</td>\n",
       "      <td>9600</td>\n",
       "      <td>80</td>\n",
       "      <td>120</td>\n",
       "      <td>400</td>\n",
       "      <td>1985</td>\n",
       "      <td>34</td>\n",
       "      <td>3</td>\n",
       "      <td>6</td>\n",
       "      <td>181500</td>\n",
       "    </tr>\n",
       "    <tr>\n",
       "      <th>2</th>\n",
       "      <td>2.0</td>\n",
       "      <td>11250</td>\n",
       "      <td>68</td>\n",
       "      <td>165</td>\n",
       "      <td>466</td>\n",
       "      <td>2010</td>\n",
       "      <td>9</td>\n",
       "      <td>3</td>\n",
       "      <td>7</td>\n",
       "      <td>223500</td>\n",
       "    </tr>\n",
       "    <tr>\n",
       "      <th>3</th>\n",
       "      <td>2.0</td>\n",
       "      <td>9550</td>\n",
       "      <td>60</td>\n",
       "      <td>159</td>\n",
       "      <td>438</td>\n",
       "      <td>1924</td>\n",
       "      <td>95</td>\n",
       "      <td>3</td>\n",
       "      <td>7</td>\n",
       "      <td>140000</td>\n",
       "    </tr>\n",
       "    <tr>\n",
       "      <th>4</th>\n",
       "      <td>1.0</td>\n",
       "      <td>10084</td>\n",
       "      <td>75</td>\n",
       "      <td>134</td>\n",
       "      <td>418</td>\n",
       "      <td>2013</td>\n",
       "      <td>6</td>\n",
       "      <td>3</td>\n",
       "      <td>8</td>\n",
       "      <td>307000</td>\n",
       "    </tr>\n",
       "  </tbody>\n",
       "</table>\n",
       "</div>"
      ],
      "text/plain": [
       "   Building_design   Area  Width  Length  Circumference  Year_built  Age  \\\n",
       "0              2.0   8450     65     130            390        2012    7   \n",
       "1              1.0   9600     80     120            400        1985   34   \n",
       "2              2.0  11250     68     165            466        2010    9   \n",
       "3              2.0   9550     60     159            438        1924   95   \n",
       "4              1.0  10084     75     134            418        2013    6   \n",
       "\n",
       "   No_bedroom  Quality   Price  \n",
       "0           3        7  208500  \n",
       "1           3        6  181500  \n",
       "2           3        7  223500  \n",
       "3           3        7  140000  \n",
       "4           3        8  307000  "
      ]
     },
     "execution_count": 43,
     "metadata": {},
     "output_type": "execute_result"
    }
   ],
   "source": [
    "# Read the housing data file\n",
    "df = pd.read_csv('https://storage.googleapis.com/codehub-data/5-A-2-5-housing_data.csv')\n",
    "df.head() "
   ]
  },
  {
   "cell_type": "code",
   "execution_count": 44,
   "metadata": {
    "colab": {},
    "colab_type": "code",
    "deletable": false,
    "editable": false,
    "id": "Ye_80dz69J1n",
    "nbgrader": {
     "checksum": "acba0c3f5a5a43f42a1f044cf5ae2d3e",
     "grade": false,
     "grade_id": "cell-8adf55cd50d0ad48",
     "locked": true,
     "schema_version": 1,
     "solution": false
    }
   },
   "outputs": [],
   "source": [
    "# All the columns except for the last one is assigned to input data matrix X\n",
    "X = df.values[:, :-1]\n",
    "\n",
    "# The last column that is Price is assigned to the variable y\n",
    "y = df.values[:, -1]"
   ]
  },
  {
   "cell_type": "code",
   "execution_count": 45,
   "metadata": {
    "colab": {
     "base_uri": "https://localhost:8080/",
     "height": 134
    },
    "colab_type": "code",
    "id": "BlK5Ddr2PYbJ",
    "outputId": "129fb528-20f7-4033-e67d-e1666e421a66"
   },
   "outputs": [
    {
     "data": {
      "text/plain": [
       "array([[2.0000e+00, 8.4500e+03, 6.5000e+01, 1.3000e+02, 3.9000e+02,\n",
       "        2.0120e+03, 7.0000e+00, 3.0000e+00, 7.0000e+00],\n",
       "       [1.0000e+00, 9.6000e+03, 8.0000e+01, 1.2000e+02, 4.0000e+02,\n",
       "        1.9850e+03, 3.4000e+01, 3.0000e+00, 6.0000e+00],\n",
       "       [2.0000e+00, 1.1250e+04, 6.8000e+01, 1.6500e+02, 4.6600e+02,\n",
       "        2.0100e+03, 9.0000e+00, 3.0000e+00, 7.0000e+00],\n",
       "       [2.0000e+00, 9.5500e+03, 6.0000e+01, 1.5900e+02, 4.3800e+02,\n",
       "        1.9240e+03, 9.5000e+01, 3.0000e+00, 7.0000e+00],\n",
       "       [1.0000e+00, 1.0084e+04, 7.5000e+01, 1.3400e+02, 4.1800e+02,\n",
       "        2.0130e+03, 6.0000e+00, 3.0000e+00, 8.0000e+00]])"
      ]
     },
     "execution_count": 45,
     "metadata": {},
     "output_type": "execute_result"
    }
   ],
   "source": [
    "# print first five rows of X\n",
    "X[:5]"
   ]
  },
  {
   "cell_type": "markdown",
   "metadata": {
    "colab_type": "text",
    "deletable": false,
    "editable": false,
    "id": "G727dHxaDOc3",
    "nbgrader": {
     "checksum": "02000b42d046bf7ae46721b02ae30532",
     "grade": false,
     "grade_id": "cell-cb19780e24cf32fa",
     "locked": true,
     "schema_version": 1,
     "solution": false
    }
   },
   "source": [
    "The **target** of the assignment is to obtain a vector $w$ such that $Xw=\\hat{y}$ and $\\hat{y}$ approximates $y$ as closely as possible. "
   ]
  },
  {
   "cell_type": "code",
   "execution_count": 46,
   "metadata": {
    "colab": {
     "base_uri": "https://localhost:8080/",
     "height": 34
    },
    "colab_type": "code",
    "id": "ZHdVBWUAzL7U",
    "outputId": "0c0e4468-5cbd-49f4-a9f2-9a4527f55c9e"
   },
   "outputs": [
    {
     "name": "stdout",
     "output_type": "stream",
     "text": [
      "Shape of X = (1000, 9)\n"
     ]
    }
   ],
   "source": [
    "print(f'Shape of X = {X.shape}')"
   ]
  },
  {
   "cell_type": "markdown",
   "metadata": {
    "colab_type": "text",
    "deletable": false,
    "editable": false,
    "id": "fapAzb4XEi4O",
    "nbgrader": {
     "checksum": "91f325a250407b0904ed459ffa24f0d9",
     "grade": false,
     "grade_id": "cell-716e1d59ce7185c4",
     "locked": true,
     "schema_version": 1,
     "solution": false
    }
   },
   "source": [
    "Since, the dataset contains $10000$ datapoints and only $10$ rows (including Price - our target variable), data matrix $X$ is a rectangular one with shape $1000 \\times 9 $ as seen above. Next, we need to append a vector of length $1000$ of all ones to data matrix. This allows us to introduce a constant bias to our model."
   ]
  },
  {
   "cell_type": "code",
   "execution_count": 47,
   "metadata": {
    "colab": {},
    "colab_type": "code",
    "deletable": false,
    "editable": false,
    "id": "HxRAU-q2P0Uz",
    "nbgrader": {
     "checksum": "e399abffa4680a64780508e8237d8ceb",
     "grade": false,
     "grade_id": "cell-69dfbba2980e5132",
     "locked": true,
     "schema_version": 1,
     "solution": false
    }
   },
   "outputs": [],
   "source": [
    "# Append (1000,1) ones to X\n",
    "X = np.concatenate([np.ones((1000, 1)), X], axis=1)"
   ]
  },
  {
   "cell_type": "code",
   "execution_count": 48,
   "metadata": {
    "colab": {
     "base_uri": "https://localhost:8080/",
     "height": 134
    },
    "colab_type": "code",
    "deletable": false,
    "editable": false,
    "id": "r6Np_2woP8t3",
    "nbgrader": {
     "checksum": "5fbb35928b966d4842c8f123d59f5a91",
     "grade": false,
     "grade_id": "cell-7d5b0e2b15433bb3",
     "locked": true,
     "schema_version": 1,
     "solution": false
    },
    "outputId": "eccd51c9-a3e9-4e96-d1b8-1d962583edc5"
   },
   "outputs": [
    {
     "name": "stdout",
     "output_type": "stream",
     "text": [
      "(1000, 10)\n"
     ]
    }
   ],
   "source": [
    "# Now print shape of X\n",
    "print(X.shape)"
   ]
  },
  {
   "cell_type": "markdown",
   "metadata": {
    "deletable": false,
    "editable": false,
    "nbgrader": {
     "checksum": "d09f9f70763349df16da5fcfcd807039",
     "grade": false,
     "grade_id": "cell-bbd3d2aa85f4994b",
     "locked": true,
     "schema_version": 1,
     "solution": false
    }
   },
   "source": [
    "So, the `ones` has been appended to X and the new shape is $(1000, 1)$."
   ]
  },
  {
   "cell_type": "code",
   "execution_count": 49,
   "metadata": {
    "colab": {
     "base_uri": "https://localhost:8080/",
     "height": 34
    },
    "colab_type": "code",
    "deletable": false,
    "editable": false,
    "id": "WR_oMRO8QPOX",
    "nbgrader": {
     "checksum": "00a340e434da8ed98c89f046b9783b95",
     "grade": false,
     "grade_id": "cell-9196571ee4213e2b",
     "locked": true,
     "schema_version": 1,
     "solution": false
    },
    "outputId": "0fa18eb2-4940-4871-f55a-e8f884cac5a9"
   },
   "outputs": [
    {
     "name": "stdout",
     "output_type": "stream",
     "text": [
      "[[1.0000e+00 2.0000e+00 8.4500e+03 6.5000e+01 1.3000e+02 3.9000e+02\n",
      "  2.0120e+03 7.0000e+00 3.0000e+00 7.0000e+00]\n",
      " [1.0000e+00 1.0000e+00 9.6000e+03 8.0000e+01 1.2000e+02 4.0000e+02\n",
      "  1.9850e+03 3.4000e+01 3.0000e+00 6.0000e+00]\n",
      " [1.0000e+00 2.0000e+00 1.1250e+04 6.8000e+01 1.6500e+02 4.6600e+02\n",
      "  2.0100e+03 9.0000e+00 3.0000e+00 7.0000e+00]\n",
      " [1.0000e+00 2.0000e+00 9.5500e+03 6.0000e+01 1.5900e+02 4.3800e+02\n",
      "  1.9240e+03 9.5000e+01 3.0000e+00 7.0000e+00]\n",
      " [1.0000e+00 1.0000e+00 1.0084e+04 7.5000e+01 1.3400e+02 4.1800e+02\n",
      "  2.0130e+03 6.0000e+00 3.0000e+00 8.0000e+00]]\n"
     ]
    }
   ],
   "source": [
    "# Print 5 rows of X. Here each element of X is a list with 10 numbers and 1 added to each list in the beginning\n",
    "print(X[:5])"
   ]
  },
  {
   "cell_type": "markdown",
   "metadata": {},
   "source": [
    "Run the following two scripts and observe their output"
   ]
  },
  {
   "cell_type": "code",
   "execution_count": 50,
   "metadata": {
    "colab": {
     "base_uri": "https://localhost:8080/",
     "height": 34
    },
    "colab_type": "code",
    "deletable": false,
    "editable": false,
    "id": "cWK0zeMBFOY0",
    "nbgrader": {
     "checksum": "20683278cf55da544b8aac77f9537450",
     "grade": false,
     "grade_id": "cell-868357fbdb98ae35",
     "locked": true,
     "schema_version": 1,
     "solution": false
    },
    "outputId": "e296619d-7e4b-42d5-e172-d86ade8cdc33"
   },
   "outputs": [
    {
     "name": "stdout",
     "output_type": "stream",
     "text": [
      "Error : Last 2 dimensions of the array must be square\n"
     ]
    }
   ],
   "source": [
    "# Try to calculate determinant of matrix X\n",
    "try:\n",
    "    det(X)  \n",
    "except LinAlgError as err:\n",
    "    print(\"Error : \" + str(err))"
   ]
  },
  {
   "cell_type": "code",
   "execution_count": 51,
   "metadata": {
    "colab": {
     "base_uri": "https://localhost:8080/",
     "height": 34
    },
    "colab_type": "code",
    "deletable": false,
    "editable": false,
    "id": "ty6fing0GzMT",
    "nbgrader": {
     "checksum": "31d00e75bced3c47ce61785db7cadf21",
     "grade": false,
     "grade_id": "cell-4672f0b3df8b2bc0",
     "locked": true,
     "schema_version": 1,
     "solution": false
    },
    "outputId": "0ded4cb8-f8f8-422b-8952-4f8dcbc86681"
   },
   "outputs": [
    {
     "name": "stdout",
     "output_type": "stream",
     "text": [
      "Error : Last 2 dimensions of the array must be square\n"
     ]
    }
   ],
   "source": [
    "try: \n",
    "    w = inv(X) @ y\n",
    "except LinAlgError as err:\n",
    "    print(\"Error : \" + str(err))"
   ]
  },
  {
   "cell_type": "markdown",
   "metadata": {
    "colab_type": "text",
    "deletable": false,
    "editable": false,
    "id": "5drpkrjiG6JC",
    "nbgrader": {
     "checksum": "594c64a885c6fa2465c2d2ee86b33ff2",
     "grade": false,
     "grade_id": "cell-4ec0d5e849b64aab",
     "locked": true,
     "schema_version": 1,
     "solution": false
    }
   },
   "source": [
    "$X$ is not a square matrix so, its determinat is not defines as determinant is defined for square matrices only. Similarly, inverse (not right, left, or pseudo defined for rectangluar matrix too) of a matrix is defined on a square matrix only. Hence above, two errors have appeared."
   ]
  },
  {
   "cell_type": "markdown",
   "metadata": {
    "colab_type": "text",
    "deletable": false,
    "editable": false,
    "id": "u9AjUUQ9IHGs",
    "nbgrader": {
     "checksum": "c2d6b9b7017ef2ffd51b3ce873aeb018",
     "grade": false,
     "grade_id": "cell-6e53a9b6c0b859a3",
     "locked": true,
     "schema_version": 1,
     "solution": false
    }
   },
   "source": [
    "Following the errors, we cannot formulate $w$ simply as $w = X^{-1} y$."
   ]
  },
  {
   "cell_type": "markdown",
   "metadata": {
    "tags": [
     "Exercise-1"
    ]
   },
   "source": [
    "### Exercise 1: Inverse Calculation\n",
    "<b><div style=\"text-align:right\">[POINTS: 5]</div></b>\n",
    "Next, we try to obtain the case where inverse will be defined. For this, we multiply both sides of $X w = y$ by $X^T$ obtaining:\n",
    "\n",
    "$$X^T X w = X ^ T y$$\n",
    "\n",
    "<center>\n",
    "$w = (X^T X)^{-1} X ^ T y$, provided $(X^T X)^{-1}$ exists\n",
    "</center>\n",
    "\n",
    "**Task:** \n",
    "- Computer $X^T X$\n"
   ]
  },
  {
   "cell_type": "code",
   "execution_count": 60,
   "metadata": {
    "colab": {},
    "colab_type": "code",
    "deletable": false,
    "id": "waTA3WGFKonu",
    "nbgrader": {
     "checksum": "4f487540653f8b8eefc48b909b995991",
     "grade": false,
     "grade_id": "cell-dc9cbc3282aad0a8",
     "locked": false,
     "schema_version": 1,
     "solution": true
    },
    "tags": [
     "Exercise-1"
    ]
   },
   "outputs": [],
   "source": [
    "def get_X_transpose_X (X):\n",
    "    X_T_X = None\n",
    "    # YOUR CODE HERE\n",
    "    X_T_X = np.transpose(X) @ X\n",
    "    return X_T_X\n",
    "\n",
    "X_transpose_X = get_X_transpose_X(X)"
   ]
  },
  {
   "cell_type": "code",
   "execution_count": 61,
   "metadata": {
    "colab": {
     "base_uri": "https://localhost:8080/",
     "height": 508
    },
    "colab_type": "code",
    "deletable": false,
    "editable": false,
    "id": "Tkv9erBmezoN",
    "nbgrader": {
     "checksum": "43137d257daf19c7c934afdcdd108a23",
     "grade": true,
     "grade_id": "cell-41acb555e273ab17",
     "locked": true,
     "points": 5,
     "schema_version": 1,
     "solution": false
    },
    "outputId": "3150ee86-5cb5-43d9-c372-a627fa051e9d",
    "tags": [
     "Exercise-1"
    ]
   },
   "outputs": [],
   "source": [
    "### INTENTIONALLY LEFT BLANK"
   ]
  },
  {
   "cell_type": "code",
   "execution_count": 62,
   "metadata": {
    "colab": {
     "base_uri": "https://localhost:8080/",
     "height": 34
    },
    "colab_type": "code",
    "id": "dqb6eWpSK2nV",
    "outputId": "d0ff2bf4-5054-43d4-e02c-a0e1613beb88",
    "tags": [
     "Exercise-1"
    ]
   },
   "outputs": [
    {
     "data": {
      "text/plain": [
       "(10, 10)"
      ]
     },
     "execution_count": 62,
     "metadata": {},
     "output_type": "execute_result"
    }
   ],
   "source": [
    "# Get shape of X_transpose_X\n",
    "X_transpose_X.shape"
   ]
  },
  {
   "cell_type": "markdown",
   "metadata": {
    "colab_type": "text",
    "deletable": false,
    "editable": false,
    "id": "cyZKKGOtK07F",
    "nbgrader": {
     "checksum": "a5abbbd2efc6111800215448e7db6833",
     "grade": false,
     "grade_id": "cell-b74141f7457980d7",
     "locked": true,
     "schema_version": 1,
     "solution": false
    },
    "tags": [
     "Exercise-1"
    ]
   },
   "source": [
    "Since, $X^T X$ is square matrix, it may be invertible unlike the rectangular matrix $X$. "
   ]
  },
  {
   "cell_type": "code",
   "execution_count": 63,
   "metadata": {
    "colab": {
     "base_uri": "https://localhost:8080/",
     "height": 34
    },
    "colab_type": "code",
    "deletable": false,
    "editable": false,
    "id": "bzLhCnPhK7rR",
    "nbgrader": {
     "checksum": "49baebae8cd1303612c742f6f9246a88",
     "grade": false,
     "grade_id": "cell-0486d47fda9aef93",
     "locked": true,
     "schema_version": 1,
     "solution": false
    },
    "outputId": "622b9aa2-9b76-4b06-a21d-67880c668ef8",
    "tags": [
     "Exercise-1"
    ]
   },
   "outputs": [
    {
     "name": "stdout",
     "output_type": "stream",
     "text": [
      "Error : Singular matrix is not invertible.\n"
     ]
    }
   ],
   "source": [
    "# Calculate inverse of X_transpose_X\n",
    "try: \n",
    "    inv(X_transpose_X) \n",
    "except LinAlgError as err:\n",
    "    print (\"Error : \" + str(err))"
   ]
  },
  {
   "cell_type": "markdown",
   "metadata": {
    "colab_type": "text",
    "id": "w8OCnj_9N4-F",
    "tags": [
     "Exercise-1"
    ]
   },
   "source": [
    "As the error says X_transpose_X is a singular matrix, so its inverse does not exist. Let's verify it."
   ]
  },
  {
   "cell_type": "code",
   "execution_count": 64,
   "metadata": {
    "colab": {
     "base_uri": "https://localhost:8080/",
     "height": 67
    },
    "colab_type": "code",
    "id": "z4BysYnuL3Ne",
    "outputId": "2a195a4e-2111-4d1f-f2be-c26713dc2ecb",
    "tags": [
     "Exercise-1"
    ]
   },
   "outputs": [
    {
     "name": "stdout",
     "output_type": "stream",
     "text": [
      "Determinant of X_transpose_X = 0.0\n",
      "Rank of X_transpose_X = 8\n",
      "Order of X_transpose_X = 10\n"
     ]
    }
   ],
   "source": [
    "print(\"Determinant of X_transpose_X = {}\".format(det(X_transpose_X)))\n",
    "print(\"Rank of X_transpose_X = {}\".format(rank(X_transpose_X)))\n",
    "print(\"Order of X_transpose_X = {}\".format(X_transpose_X.shape[0]))"
   ]
  },
  {
   "cell_type": "markdown",
   "metadata": {
    "colab_type": "text",
    "deletable": false,
    "editable": false,
    "id": "KGdBY8epOr3r",
    "nbgrader": {
     "checksum": "5a1f7118c887a71409a3750f0d668e6d",
     "grade": false,
     "grade_id": "cell-cf4de64b16fdd0b5",
     "locked": true,
     "schema_version": 1,
     "solution": false
    }
   },
   "source": [
    "Here `X_transpose_X` has rank 8 which is 2 less than its order. Hence, although it's a square matrix, its inverse does not exist. This infers that `X` has rank of 8 since `X_transpose_X` is matrix product of `X_transpose` and `X`. And, since rank of `X` is 8, there must be only 8 independent columns or only 8 independent rows or both. Since, the rows correspond to data for 1000 houses, it's highly unlikely that only 8 of the rows are independent unless it's a corrupted data. So, first let's check for the columns or the features of the data.       "
   ]
  },
  {
   "cell_type": "markdown",
   "metadata": {
    "colab_type": "text",
    "deletable": false,
    "editable": false,
    "id": "Xzuov58-UQQn",
    "nbgrader": {
     "checksum": "552e029e33f03f79321aa74bb754322e",
     "grade": false,
     "grade_id": "cell-8562339506d5bbf4",
     "locked": true,
     "schema_version": 1,
     "solution": false
    }
   },
   "source": [
    "It can be seen that `Circumference`, `Length` and `Width` may dependent. This dependency can be checked as follows: "
   ]
  },
  {
   "cell_type": "code",
   "execution_count": 65,
   "metadata": {
    "colab": {
     "base_uri": "https://localhost:8080/",
     "height": 34
    },
    "colab_type": "code",
    "id": "8z6Yhg2dOsJ4",
    "outputId": "5af0951f-5918-4e05-86c2-689ab7154668"
   },
   "outputs": [
    {
     "data": {
      "text/plain": [
       "True"
      ]
     },
     "execution_count": 65,
     "metadata": {},
     "output_type": "execute_result"
    }
   ],
   "source": [
    "(df['Circumference'] == 2 * (df['Length'] + df['Width'])).all()"
   ]
  },
  {
   "cell_type": "markdown",
   "metadata": {
    "colab_type": "text",
    "deletable": false,
    "editable": false,
    "id": "wzzL9oMeVCVc",
    "nbgrader": {
     "checksum": "15f97c0a42b65c0d7cc3092aab5837e8",
     "grade": false,
     "grade_id": "cell-1d8e400247823ec7",
     "locked": true,
     "schema_version": 1,
     "solution": false
    }
   },
   "source": [
    "Thus, we have obtained one dependent column `Circumference` as it depends on `Length` and `Width`. There may be other independent variable as well. The two columns `Year_built` and `Age` may be dependent. The data was based on the selling of the houses in year 2019 and thus age was difference of 2019 and `Built_Age`. Since, we concatenated a vector of ones and data from columns of dataframe, data from columns `Year_built`, `Age` and 1<sup>st</sup> column in data matrix may be dependent. It can be checked as follows."
   ]
  },
  {
   "cell_type": "code",
   "execution_count": 66,
   "metadata": {
    "colab": {
     "base_uri": "https://localhost:8080/",
     "height": 34
    },
    "colab_type": "code",
    "id": "kW1UiqFmXhAp",
    "outputId": "38396d28-8ee7-441e-a402-ab0ca8329d71"
   },
   "outputs": [
    {
     "data": {
      "text/plain": [
       "True"
      ]
     },
     "execution_count": 66,
     "metadata": {},
     "output_type": "execute_result"
    }
   ],
   "source": [
    "(df['Age'] == 2019 - df['Year_built']).all()"
   ]
  },
  {
   "cell_type": "markdown",
   "metadata": {
    "colab_type": "text",
    "deletable": false,
    "editable": false,
    "id": "BEWCoZQKX7Vl",
    "nbgrader": {
     "checksum": "9d40de1ed316b37833ab5307b92b0a1f",
     "grade": false,
     "grade_id": "cell-db58ac311ba14b9c",
     "locked": true,
     "schema_version": 1,
     "solution": false
    }
   },
   "source": [
    "Now, we can remove one of $Circumference$ or $Length$ or $Width$ and one of $Year\\_built$ or $Age$. Let's remove $Circumference$ and $Year\\_built$ in the dataframe and compute $w$ again."
   ]
  },
  {
   "cell_type": "code",
   "execution_count": 68,
   "metadata": {
    "deletable": false,
    "editable": false,
    "nbgrader": {
     "checksum": "2875e301d318cbc9da38bf0dc1f83c72",
     "grade": false,
     "grade_id": "cell-47a7ecc2553aacd1",
     "locked": true,
     "schema_version": 1,
     "solution": false
    }
   },
   "outputs": [
    {
     "name": "stdout",
     "output_type": "stream",
     "text": [
      "Shape of X = (1000, 8)\n",
      "Rank of X = 8\n",
      "\n",
      "Shape of X_transpose_X = (8, 8)\n",
      "Order of X_transpose_X = 8\n",
      "Determinant of X_transpose_X = 1.4470596477559413e+40\n",
      "Rank of X_transpose_X = 8\n"
     ]
    }
   ],
   "source": [
    "df_ = df.drop(columns=['Circumference', 'Year_built', 'Price'])\n",
    "X = np.concatenate([np.ones((1000, 1)), df_.values], axis=1)\n",
    "y = df['Price'].values\n",
    "\n",
    "X_transpose_X = get_X_transpose_X(X)\n",
    "\n",
    "print(\"Shape of X = {}\".format(X.shape))\n",
    "print(\"Rank of X = {}\".format(rank(X)))\n",
    "\n",
    "print()\n",
    "\n",
    "print(\"Shape of X_transpose_X = {}\".format(X_transpose_X.shape))\n",
    "print(\"Order of X_transpose_X = {}\".format(X_transpose_X.shape[0]))\n",
    "print(\"Determinant of X_transpose_X = {}\".format(det(X_transpose_X)))\n",
    "print(\"Rank of X_transpose_X = {}\".format(rank(X_transpose_X)))"
   ]
  },
  {
   "cell_type": "markdown",
   "metadata": {
    "tags": [
     "Exercise-2"
    ]
   },
   "source": [
    "### Exercise 2: Calculate Left inverse of X\n",
    "<b><div style=\"text-align:right\">[POINTS: 5]</div></b>\n",
    "Now we can calculate $w$ as $w = (X^T X)^{-1} X ^ T y$, since the $(X^T X)^{-1}$ exists after removing dependent features. But first we need to calcualte the left part of y, which is termed as left inverse of X whenever it exits.\n",
    "<center>$X^{-1}_{left} = (X^TX)^{-1}X^T$</center>\n",
    "\n",
    "**Task:** \n",
    "- Compute left inverse of $X$: $X^{-1}_{left}$\n"
   ]
  },
  {
   "cell_type": "code",
   "execution_count": 74,
   "metadata": {
    "deletable": false,
    "nbgrader": {
     "checksum": "804f6b7a56e37ebf76e68bef05edbe07",
     "grade": false,
     "grade_id": "cell-2fcb8a81a64f7be4",
     "locked": false,
     "schema_version": 1,
     "solution": true
    },
    "tags": [
     "Exercise-2"
    ]
   },
   "outputs": [],
   "source": [
    "def left_inverse_of(X):\n",
    "    lft_inv = None\n",
    "    # YOUR CODE HERE\n",
    "    lft_inv = inv(get_X_transpose_X(X)) @ X.T\n",
    "    return lft_inv\n",
    "\n",
    "left_inverse = left_inverse_of(X)"
   ]
  },
  {
   "cell_type": "code",
   "execution_count": 75,
   "metadata": {
    "deletable": false,
    "editable": false,
    "nbgrader": {
     "checksum": "a568f4b113b3101fc819a3614f2711f9",
     "grade": true,
     "grade_id": "cell-f609da81e7bb9799",
     "locked": true,
     "points": 5,
     "schema_version": 1,
     "solution": false
    },
    "tags": [
     "Exercise-2"
    ]
   },
   "outputs": [],
   "source": [
    "### INTENTIONALLY LEFT BLANK"
   ]
  },
  {
   "cell_type": "markdown",
   "metadata": {
    "deletable": false,
    "editable": false,
    "nbgrader": {
     "checksum": "8943246a10704f226e44a1da56b43d9e",
     "grade": false,
     "grade_id": "cell-723d91ceee277129",
     "locked": true,
     "schema_version": 1,
     "solution": false
    }
   },
   "source": [
    "Now, let's check if the left inverse we calculated is truely a left inverse. For this, check whether matrix product of left inverse of X and X give an identity matrix as follows. The matrix elements are rounded off by 7 since, the entire computation involves discripancies in numerical representation of computer hardware which become clear in numerical methods.  "
   ]
  },
  {
   "cell_type": "code",
   "execution_count": 76,
   "metadata": {},
   "outputs": [
    {
     "data": {
      "text/plain": [
       "array([[ 1., -0., -0., -0., -0., -0., -0., -0.],\n",
       "       [ 0.,  1.,  0.,  0.,  0.,  0.,  0.,  0.],\n",
       "       [ 0.,  0.,  1.,  0.,  0.,  0.,  0.,  0.],\n",
       "       [-0., -0., -0.,  1., -0., -0., -0., -0.],\n",
       "       [-0., -0., -0., -0.,  1., -0., -0., -0.],\n",
       "       [-0., -0., -0., -0., -0.,  1., -0., -0.],\n",
       "       [ 0.,  0.,  0.,  0.,  0.,  0.,  1.,  0.],\n",
       "       [ 0.,  0.,  0.,  0., -0.,  0., -0.,  1.]])"
      ]
     },
     "execution_count": 76,
     "metadata": {},
     "output_type": "execute_result"
    }
   ],
   "source": [
    "(left_inverse @ X).round(7)"
   ]
  },
  {
   "cell_type": "code",
   "execution_count": 77,
   "metadata": {},
   "outputs": [
    {
     "data": {
      "text/plain": [
       "True"
      ]
     },
     "execution_count": 77,
     "metadata": {},
     "output_type": "execute_result"
    }
   ],
   "source": [
    "((left_inverse @ X).round(7) == np.eye(rank(X))).all()"
   ]
  },
  {
   "cell_type": "markdown",
   "metadata": {},
   "source": [
    "So, the left inverse matrix we calculated is correct."
   ]
  },
  {
   "cell_type": "markdown",
   "metadata": {
    "tags": [
     "Exercise-3"
    ]
   },
   "source": [
    "### Exercise 3: \n",
    "<b><div style=\"text-align: right\">[POINTS: 5]</div></b>\n",
    "\n",
    "Now, obtain weight($w$) as we have calculated left inverse of $X$.\n",
    "\n",
    "<center>\n",
    "$w = (X^T X)^{-1} X ^ T y$, provided $(X^T X)^{-1}$ exists\n",
    "</center>\n",
    "\n",
    "**Task:** \n",
    "- compute weight w as $w = X^{-1}_{left}y$"
   ]
  },
  {
   "cell_type": "code",
   "execution_count": 85,
   "metadata": {
    "colab": {},
    "colab_type": "code",
    "deletable": false,
    "id": "f_Ln3ugiZ7C2",
    "nbgrader": {
     "checksum": "5d6c2063f389f5132e40cd855a53b3f5",
     "grade": false,
     "grade_id": "cell-373b2c0214e64568",
     "locked": false,
     "schema_version": 1,
     "solution": true
    },
    "tags": [
     "Exercise-3"
    ]
   },
   "outputs": [],
   "source": [
    "def get_weights(X, y):\n",
    "    wt = None\n",
    "    # YOUR CODE HERE\n",
    "    wt = left_inverse_of(X) @ y\n",
    "    return wt\n",
    "\n",
    "w = get_weights(X, y)"
   ]
  },
  {
   "cell_type": "code",
   "execution_count": 79,
   "metadata": {
    "colab": {
     "base_uri": "https://localhost:8080/",
     "height": 370
    },
    "colab_type": "code",
    "deletable": false,
    "editable": false,
    "id": "srqDBEkwbjVU",
    "nbgrader": {
     "checksum": "b0fd97cc2df5ffe8498daa01a3e4c681",
     "grade": true,
     "grade_id": "cell-9bff32e4c3e1bf10",
     "locked": true,
     "points": 5,
     "schema_version": 1,
     "solution": false
    },
    "outputId": "7da92267-c8fd-4223-8942-4a31de9058c0",
    "tags": [
     "Exercise-3"
    ]
   },
   "outputs": [],
   "source": [
    "### INTENTIONALLY LEFT BLANK"
   ]
  },
  {
   "cell_type": "markdown",
   "metadata": {
    "deletable": false,
    "editable": false,
    "nbgrader": {
     "checksum": "1edb4c93e4d580fc614c6e6193c7cb31",
     "grade": false,
     "grade_id": "cell-fddb19452674c9b4",
     "locked": true,
     "schema_version": 1,
     "solution": false
    }
   },
   "source": [
    "Having obtained the weights vector $w$ from $w = (X^T X)^{-1} X^T y$, let's check if $X w = y$ is valid or not. "
   ]
  },
  {
   "cell_type": "code",
   "execution_count": 82,
   "metadata": {},
   "outputs": [
    {
     "data": {
      "text/plain": [
       "False"
      ]
     },
     "execution_count": 82,
     "metadata": {},
     "output_type": "execute_result"
    }
   ],
   "source": [
    "(X @ w == y).any()"
   ]
  },
  {
   "cell_type": "markdown",
   "metadata": {
    "deletable": false,
    "editable": false,
    "nbgrader": {
     "checksum": "44c712c0cc528fe25e0e71e26a9bdd70",
     "grade": false,
     "grade_id": "cell-dd08e7a6882e0725",
     "locked": true,
     "schema_version": 1,
     "solution": false
    }
   },
   "source": [
    "This has been the case since, $y$ is not contained in the column space of $X$. To do extra. If we consider the dataset ('housing_data.csv') is iid (independent and identically distributed), $X$ will have $1000$ (no of rows in $X$) independent rows but there are only $8$ independent columns. Hence, the column space will be a $8$ dimensional sub-space in $1000$  dimensional vector space, making the $Xw$ for any $w$ a very thin sub-space. Thus, the probability of $y$ being contained in the column space of $X$ will be very low when the real life data is taken. This will reason why the target variable price ($y$ in this case) is not perfectly output by $Xw$. There will be some error in that approximation and what $w = left\\_inverse\\_of(X) . y$ gives will be the minimum possible error for the case."
   ]
  }
 ],
 "metadata": {
  "colab": {
   "collapsed_sections": [],
   "name": "Determinant and Inverse Assignment",
   "provenance": []
  },
  "kernelspec": {
   "display_name": "Python 3",
   "language": "python",
   "name": "python3"
  },
  "language_info": {
   "codemirror_mode": {
    "name": "ipython",
    "version": 3
   },
   "file_extension": ".py",
   "mimetype": "text/x-python",
   "name": "python",
   "nbconvert_exporter": "python",
   "pygments_lexer": "ipython3",
   "version": "3.6.8"
  }
 },
 "nbformat": 4,
 "nbformat_minor": 1
}
