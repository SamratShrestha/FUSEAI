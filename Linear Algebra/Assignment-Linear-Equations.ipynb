{
 "cells": [
  {
   "cell_type": "markdown",
   "metadata": {
    "colab_type": "text",
    "deletable": false,
    "editable": false,
    "id": "JKFrYS21yNCy",
    "nbgrader": {
     "checksum": "a2f5717d625375ddd5f2b8a1bc5226e0",
     "grade": false,
     "grade_id": "cell-6f670f059e7b739c",
     "locked": true,
     "schema_version": 1,
     "solution": false
    }
   },
   "source": [
    "# Assignment - Solving Linear Equations\n",
    "\n",
    "**<div style=\"text-align: right\"> [TOTAL SCORE: 45]</div>**\n",
    "\n",
    "In this assignment, you will apply all that you learned about solving linear systems of equations in this Unit, along with Kirchoff's Law, to optimize the traffic flow through a junction in Baneshwor."
   ]
  },
  {
   "cell_type": "markdown",
   "metadata": {
    "colab_type": "text",
    "deletable": false,
    "editable": false,
    "id": "IzAvQfYxyNC1",
    "nbgrader": {
     "checksum": "2875bc766ac417dc17056ddf2dfb3175",
     "grade": false,
     "grade_id": "cell-cbf4e6c8559b044c",
     "locked": true,
     "schema_version": 1,
     "solution": false
    }
   },
   "source": [
    "## The Problem\n",
    "\n",
    "As more and more people migrate to large cities, managing traffic in cities is a common problem in cities all over the world. In this assignment, we aim to optimize the traffic flow through a junction in Baneshor, where this problem is especially pronounced.\n",
    "\n",
    "Our target here is to find the number of vehicles that should be allowed to cross through a junction made of four one way roads, so that the number of vehicles crossing through is maximized, and the traffic flow is smooth. \n",
    "\n",
    "Lets call the the number of vehicles per hour the (mph). In this assignment, we will find the optimum mph for this particular network of roads.\n",
    "\n",
    "Look at the figure below. We know the number of vehicles that leave the junctions A and C in an hour, and we also know the number of vehicles that enter the junctions B and D in an hour. But we do not know the number of vehicles travelling in the roads between these junctions that is optimum."
   ]
  },
  {
   "cell_type": "markdown",
   "metadata": {
    "deletable": false,
    "editable": false,
    "nbgrader": {
     "checksum": "8bd65097807d3ea9fd844b7bb8f049d9",
     "grade": false,
     "grade_id": "cell-8afcf0c5a2eae47e",
     "locked": true,
     "schema_version": 1,
     "solution": false
    }
   },
   "source": [
    "<figure>\n",
    "  <center>\n",
    "    <img src='https://storage.googleapis.com/codehub-data/6-A-2-lineq1.jpg'/>\n",
    "  </center>\n",
    "</figure>"
   ]
  },
  {
   "cell_type": "markdown",
   "metadata": {
    "colab_type": "text",
    "deletable": false,
    "editable": false,
    "id": "6G0wE0dQyNC2",
    "nbgrader": {
     "checksum": "19c33dd66c9e6db8a6fd2950c39f2759",
     "grade": false,
     "grade_id": "cell-296cc2dbe989f78d",
     "locked": true,
     "schema_version": 1,
     "solution": false
    }
   },
   "source": [
    "## Mathematical Model\n",
    "\n",
    "In this section, we will first model the problem using a system of linear equations and then solve this system using two methods:\n",
    "1. Gauss Elimination\n",
    "2. PLU Factorization\n",
    "\n",
    "\n",
    "#### Assumptions\n",
    "In order to simplify our model, lets make some reasonable assumptions about the traffic through this junction.\n",
    "\n",
    "1. The number of vehicles leaving each intersection is always equal to the number of vehicles leaving the intersection.\n",
    "\n",
    "2. All the roads in this system are one-way, with the arrows indicating the direction of traffic flow.\n",
    "\n",
    "### Formulating a Linear System\n",
    "\n",
    "We use Kirchoff's law to model the network in order to formulate a system of linear equations.\n",
    "\n",
    "#### Kirchoff's law:\n",
    "Kirchoff's law states that for any node (junction) in an electrical circuit, the sum of currents flowing into that node is equal to the sum of currents flowing out of that node. In our case, the network of roads is equivalent to an electrical circuit and number of vehicles per hour (vph) is equaivalent to current. \n",
    "\n",
    "This allows us to formulate the following system of linear equations:\n",
    "\n",
    "**At intersection A:** Traffic in $=x_1+x_2$ , traffic out $=150+300$, thus, $x_1+x_2=450$\n",
    "\n",
    "**At intersection B:** Traffic in $=100+250$ , traffic out $=x_1+x_4$, thus, $x_1+x_4=350$\n",
    "\n",
    "**At intersection C:** Traffic in $=x_3+x_4$ , traffic out $=240+100$, thus, $x_3+x_4=340$\n",
    "\n",
    "**At intersection D:** Traffic in $=250+190$ , traffic out $=x_2+x_3$, thus, $x_2+x_3=440$\n",
    "\n",
    "Lets summarize all of these in the four equations below:\n",
    "\n",
    "$$x_1+x_2=450$$\n",
    "$$x_1+x_4=350$$\n",
    "$$x_3+x_4=340$$\n",
    "$$x_2+x_3=440$$\n",
    "\n"
   ]
  },
  {
   "cell_type": "markdown",
   "metadata": {
    "colab_type": "text",
    "deletable": false,
    "editable": false,
    "id": "acGAcqpgyNC3",
    "nbgrader": {
     "checksum": "3e77c74777a4988bdc0ddf0f5be237e4",
     "grade": false,
     "grade_id": "cell-43864cc2ee967902",
     "locked": true,
     "schema_version": 1,
     "solution": false
    }
   },
   "source": [
    "### 1. Import required libraries\n",
    "Run the cell below to import the required libraries."
   ]
  },
  {
   "cell_type": "code",
   "execution_count": 54,
   "metadata": {
    "colab": {},
    "colab_type": "code",
    "deletable": false,
    "editable": false,
    "id": "XWE0UddmyNC4",
    "nbgrader": {
     "checksum": "8e89d9f7385e1a9f33756655a16d7a4d",
     "grade": false,
     "grade_id": "cell-53974a6c4502db20",
     "locked": true,
     "schema_version": 1,
     "solution": false
    }
   },
   "outputs": [],
   "source": [
    "import numpy as np\n",
    "from numpy import linalg"
   ]
  },
  {
   "cell_type": "markdown",
   "metadata": {
    "colab_type": "text",
    "deletable": false,
    "editable": false,
    "id": "rdlAKXb3yNC8",
    "nbgrader": {
     "checksum": "189669a5b8b28adc59ca7a7a1e83f84c",
     "grade": false,
     "grade_id": "cell-760f42773ba1f07f",
     "locked": true,
     "schema_version": 1,
     "solution": false
    },
    "tags": [
     "Exercise-1"
    ]
   },
   "source": [
    "## Exercise 1 - System Representation\n",
    "\n",
    "**<div style=\"text-align: right\"> [SCORE: 2]</div>**\n",
    "\n",
    "In this exercise, you will represent the above system of equations in the general form $A \\vec x = \\vec b$.\n",
    "\n",
    "**Task:** Create the required coefficient matrix A and vector $\\vec b$ using NumPy, and assign them to the variables `A` and `b` respectively."
   ]
  },
  {
   "cell_type": "code",
   "execution_count": 55,
   "metadata": {
    "colab": {},
    "colab_type": "code",
    "deletable": false,
    "id": "EdePzTZoyNC9",
    "nbgrader": {
     "checksum": "0cc1aa03162622aa4eeef8302e981d0b",
     "grade": false,
     "grade_id": "cell-42b00427edb838c7",
     "locked": false,
     "schema_version": 1,
     "solution": true
    },
    "tags": [
     "Exercise-1"
    ]
   },
   "outputs": [],
   "source": [
    "# Create Matrix A of order 4 x 4\n",
    "A=None\n",
    "# YOUR CODE HERE\n",
    "A=np.array([[1,1,0,0],\n",
    "        [1,0,0,1],\n",
    "        [0,0,1,1],\n",
    "          [0,1,1,0]])\n",
    "#Create column vector b of order 4 x 1\n",
    "b=None\n",
    "# YOUR CODE HERE\n",
    "b= np.array([[450],[350],[340],[440]])"
   ]
  },
  {
   "cell_type": "code",
   "execution_count": 56,
   "metadata": {
    "colab": {},
    "colab_type": "code",
    "deletable": false,
    "editable": false,
    "id": "s1EydARpyNC_",
    "nbgrader": {
     "checksum": "340f25ab8086edc0ad9cfa493676963e",
     "grade": true,
     "grade_id": "cell-55753b8197e3b009",
     "locked": true,
     "points": 2,
     "schema_version": 1,
     "solution": false
    },
    "outputId": "ef04631c-0803-4f7b-8431-f146682ac91e",
    "tags": [
     "Exercise-1"
    ]
   },
   "outputs": [
    {
     "name": "stdout",
     "output_type": "stream",
     "text": [
      "A=[[1 1 0 0]\n",
      " [1 0 0 1]\n",
      " [0 0 1 1]\n",
      " [0 1 1 0]]\n",
      "\n",
      "b=[[450]\n",
      " [350]\n",
      " [340]\n",
      " [440]]\n"
     ]
    }
   ],
   "source": [
    "print(f'A={A}\\n')\n",
    "print(f'b={b}')\n",
    "assert A.shape==(4,4)\n",
    "assert b.shape==(4,1)"
   ]
  },
  {
   "cell_type": "markdown",
   "metadata": {
    "colab_type": "text",
    "deletable": false,
    "editable": false,
    "id": "xjmEcHGUyNDE",
    "nbgrader": {
     "checksum": "f94368698a8d54e6a5f97d79e452ec4b",
     "grade": false,
     "grade_id": "cell-ecda59e6e873369b",
     "locked": true,
     "schema_version": 1,
     "solution": false
    },
    "tags": [
     "Exercise-2"
    ]
   },
   "source": [
    "## Exercise 2 - Gauss Elimination\n",
    "\n",
    "Now that we have a system of equations set up, we can use Gauss elimination to solve this system.\n",
    "\n",
    "Now we use Gauss Elimination method to solve this system."
   ]
  },
  {
   "cell_type": "markdown",
   "metadata": {
    "deletable": false,
    "editable": false,
    "nbgrader": {
     "checksum": "90a54eb19524d408135147ae27609ebb",
     "grade": false,
     "grade_id": "cell-b1eab5804b6c6f86",
     "locked": true,
     "schema_version": 1,
     "solution": false
    },
    "tags": [
     "Exercise-2-Question-1"
    ]
   },
   "source": [
    "### Question 1 - Permutation matrix $P_{12}$\n",
    "\n",
    "**<div style=\"text-align: right\"> [SCORE: 2]</div>**\n",
    "\n",
    "**Task:** Create the permutation matrix $P_{12}$ to exchange 1st and 2nd row so that it is easier to solve the equations and also calculate A and $\\vec b$ after aplying the permutation."
   ]
  },
  {
   "cell_type": "code",
   "execution_count": 57,
   "metadata": {
    "colab": {},
    "colab_type": "code",
    "deletable": false,
    "id": "ixJp8uoOyNDF",
    "nbgrader": {
     "checksum": "b67396700f0f3b87cd69ab93cb489c2c",
     "grade": false,
     "grade_id": "cell-93fc395a8352f25d",
     "locked": false,
     "schema_version": 1,
     "solution": true
    },
    "outputId": "5464a65a-7e27-4adc-abd0-5301f9eb1cd1",
    "tags": [
     "Exercise-2-Question-1"
    ]
   },
   "outputs": [],
   "source": [
    "P12 = [\n",
    "    [0,1,0,0],\n",
    "    [1,0,0,0],\n",
    "    [0,0,1,0],\n",
    "    [0,0,0,1]\n",
    "]\n",
    "\n",
    "# YOUR CODE HERE\n",
    "A=np.matmul(P12,A)\n",
    "b=np.matmul(P12,b)"
   ]
  },
  {
   "cell_type": "code",
   "execution_count": 58,
   "metadata": {
    "colab": {},
    "colab_type": "code",
    "deletable": false,
    "editable": false,
    "id": "187pZXXjyNDI",
    "nbgrader": {
     "checksum": "2b1e8056176e2a715419ef4d75bb31fd",
     "grade": true,
     "grade_id": "cell-6b5f9ff236be482b",
     "locked": true,
     "points": 2,
     "schema_version": 1,
     "solution": false
    },
    "outputId": "038ceb6e-9eb4-4cf4-fbe0-a677f6f2b084",
    "tags": [
     "Exercise-2-Question-1"
    ]
   },
   "outputs": [
    {
     "name": "stdout",
     "output_type": "stream",
     "text": [
      "P12=[[1 0 0 1]\n",
      " [1 1 0 0]\n",
      " [0 0 1 1]\n",
      " [0 1 1 0]]\n",
      "A=[[1 0 0 1]\n",
      " [1 1 0 0]\n",
      " [0 0 1 1]\n",
      " [0 1 1 0]]\n",
      "b=[[350]\n",
      " [450]\n",
      " [340]\n",
      " [440]]\n"
     ]
    }
   ],
   "source": [
    "assert P12 is not None\n",
    "print(f'P12={A}')\n",
    "print(f'A={A}')\n",
    "print(f'b={b}')\n"
   ]
  },
  {
   "cell_type": "markdown",
   "metadata": {
    "colab_type": "text",
    "deletable": false,
    "editable": false,
    "id": "8WNwMP6VyNDL",
    "nbgrader": {
     "checksum": "e9c69713ae7515e8056c4dc6108eb556",
     "grade": false,
     "grade_id": "cell-022a144e96bb74a7",
     "locked": true,
     "schema_version": 1,
     "solution": false
    },
    "tags": [
     "Exercise-2-Question-2"
    ]
   },
   "source": [
    "### Question 2: Elimination matrices $E_{21}, E_{31}$ and $E_{41}$\n",
    "\n",
    "**<div style=\"text-align: right\"> [SCORE: 5]</div>**\n",
    "\n",
    "**Task:**  Write the elimination matrices $E_{21}, E_{31} and E_{41}$ to obtain the first pivot column and also the matrix A and $\\vec b$ after performing these eliminations.\n"
   ]
  },
  {
   "cell_type": "code",
   "execution_count": 59,
   "metadata": {
    "colab": {},
    "colab_type": "code",
    "deletable": false,
    "id": "BRr4-927yNDM",
    "nbgrader": {
     "checksum": "b3ca16d7960ca71234b81058f16833cb",
     "grade": false,
     "grade_id": "cell-69e70c38216f326b",
     "locked": false,
     "schema_version": 1,
     "solution": true
    },
    "outputId": "aa119eef-8add-4eca-c64d-28ed9bea3c1a",
    "tags": [
     "Exercise-2-Question-2"
    ]
   },
   "outputs": [],
   "source": [
    "E21=[\n",
    "    [0,0,0,0],\n",
    "    [1,0,0,0],\n",
    "    [0,0,0,0],\n",
    "    [0,0,0,0]\n",
    "]\n",
    "E31=[\n",
    "    [0,0,0,0],\n",
    "    [0,0,0,0],\n",
    "    [0,0,0,0],\n",
    "    [0,0,0,0]\n",
    "]\n",
    "E41=[\n",
    "    [0,0,0,0],\n",
    "    [0,0,0,0],\n",
    "    [0,0,0,0],\n",
    "    [0,0,0,0]\n",
    "]\n",
    "A= A\n",
    "b= b\n",
    "# YOUR CODE HERE\n",
    "A=A-np.matmul(E21,A)\n",
    "b=b-np.matmul(E21,b)\n",
    "A=A-np.matmul(E31,A)\n",
    "b=b-np.matmul(E31,b)\n",
    "A=A-np.matmul(E41,A)\n",
    "b=b-np.matmul(E41,b)\n"
   ]
  },
  {
   "cell_type": "code",
   "execution_count": 60,
   "metadata": {
    "colab": {},
    "colab_type": "code",
    "deletable": false,
    "editable": false,
    "id": "kreOhKVuyNDO",
    "nbgrader": {
     "checksum": "f49ad7c69bf9d50cf9d72ef0d9038a40",
     "grade": true,
     "grade_id": "cell-4a6d510f7b176c21",
     "locked": true,
     "points": 5,
     "schema_version": 1,
     "solution": false
    },
    "outputId": "76c8aa58-1a7a-407e-8162-3e298e02817b",
    "tags": [
     "Exercise-2-Question-2"
    ]
   },
   "outputs": [
    {
     "name": "stdout",
     "output_type": "stream",
     "text": [
      "E21=[[0, 0, 0, 0], [1, 0, 0, 0], [0, 0, 0, 0], [0, 0, 0, 0]]\n",
      "E31=[[0, 0, 0, 0], [0, 0, 0, 0], [0, 0, 0, 0], [0, 0, 0, 0]]\n",
      "E41=[[0, 0, 0, 0], [0, 0, 0, 0], [0, 0, 0, 0], [0, 0, 0, 0]]\n",
      "A=[[ 1  0  0  1]\n",
      " [ 0  1  0 -1]\n",
      " [ 0  0  1  1]\n",
      " [ 0  1  1  0]]\n",
      "b=[[350]\n",
      " [100]\n",
      " [340]\n",
      " [440]]\n"
     ]
    }
   ],
   "source": [
    "print(f'E21={E21}')\n",
    "print(f'E31={E31}')\n",
    "print(f'E41={E41}')\n",
    "print(f'A={A}')\n",
    "print(f'b={b}')\n",
    "\n"
   ]
  },
  {
   "cell_type": "markdown",
   "metadata": {
    "colab_type": "text",
    "deletable": false,
    "editable": false,
    "id": "ChCS5u_vyNDR",
    "nbgrader": {
     "checksum": "02b56b048b89aeadafb5c6e198861261",
     "grade": false,
     "grade_id": "cell-8c4f8e758963855c",
     "locked": true,
     "schema_version": 1,
     "solution": false
    },
    "tags": [
     "Exercise-2-Question-3"
    ]
   },
   "source": [
    "### Question 3: Elimination Matrices $E_{32}$ and $E_{42}$\n",
    "\n",
    "**<div style=\"text-align: right\"> [SCORE: 5]</div>**\n",
    "\n",
    "**Task:**  Write the elimination matrices $E_{32}$ and $E_{42}$ to obtain the second pivot column and also the matrix A and $\\vec b$ after performing these eliminations."
   ]
  },
  {
   "cell_type": "code",
   "execution_count": null,
   "metadata": {
    "colab": {},
    "colab_type": "code",
    "deletable": false,
    "id": "sjozY6OMyNDS",
    "nbgrader": {
     "checksum": "5959f4ba6e54a6fc7c8deab98351709b",
     "grade": false,
     "grade_id": "cell-7524dc13f06d56d5",
     "locked": false,
     "schema_version": 1,
     "solution": true
    },
    "tags": [
     "Exercise-2-Question-3"
    ]
   },
   "outputs": [],
   "source": [
    "E32=None\n",
    "E42=None\n",
    "A=A\n",
    "b=b\n",
    "\n",
    "# YOUR CODE HERE\n",
    "raise NotImplementedError()\n"
   ]
  },
  {
   "cell_type": "code",
   "execution_count": null,
   "metadata": {
    "colab": {},
    "colab_type": "code",
    "deletable": false,
    "editable": false,
    "id": "NiS7n-dNyNDV",
    "nbgrader": {
     "checksum": "61800606c696efc17f921d188c0c7c30",
     "grade": true,
     "grade_id": "cell-f5ca016077544e33",
     "locked": true,
     "points": 5,
     "schema_version": 1,
     "solution": false
    },
    "outputId": "2b4f347e-1f0a-45fa-d824-4cdeb4b06ba9",
    "tags": [
     "Exercise-2-Question-3"
    ]
   },
   "outputs": [],
   "source": [
    "print(f'E32={E32}')\n",
    "print(f'E42={E42}')\n",
    "print(f'A={A}')\n",
    "print(f'b={b}')\n",
    "\n"
   ]
  },
  {
   "cell_type": "markdown",
   "metadata": {
    "colab_type": "text",
    "deletable": false,
    "editable": false,
    "id": "Z0YCMXviyNDY",
    "nbgrader": {
     "checksum": "ceae93011ce56aa4dbc90c159fdbb94a",
     "grade": false,
     "grade_id": "cell-f1e494aca2afa066",
     "locked": true,
     "schema_version": 1,
     "solution": false
    },
    "tags": [
     "Exercise-2-Question-4"
    ]
   },
   "source": [
    "### Question 4: Elimination Matrix $E_{43}$\n",
    "\n",
    "**<div style=\"text-align: right\"> [SCORE: 5]</div>**\n",
    "\n",
    "**Task:**  Write the elimination matrix $E_{43}$ to obtain the third pivot column and and also the final row echelon matrix R and $\\vec b$ after performing these eliminations."
   ]
  },
  {
   "cell_type": "code",
   "execution_count": null,
   "metadata": {
    "colab": {},
    "colab_type": "code",
    "deletable": false,
    "id": "AV07xQKmyNDZ",
    "nbgrader": {
     "checksum": "416a48d7d95a2e53b1aa437bc676d79c",
     "grade": false,
     "grade_id": "cell-c3d691534dad95ea",
     "locked": false,
     "schema_version": 1,
     "solution": true
    },
    "tags": [
     "Exercise-2-Question-4"
    ]
   },
   "outputs": [],
   "source": [
    "E43=None\n",
    "R=None\n",
    "b=b\n",
    "\n",
    "# YOUR CODE HERE\n",
    "raise NotImplementedError()\n"
   ]
  },
  {
   "cell_type": "code",
   "execution_count": null,
   "metadata": {
    "colab": {},
    "colab_type": "code",
    "deletable": false,
    "editable": false,
    "id": "loYKD65TyNDc",
    "nbgrader": {
     "checksum": "282ace117803640abb4435035fa68682",
     "grade": true,
     "grade_id": "cell-d5f1ccaffaa92311",
     "locked": true,
     "points": 5,
     "schema_version": 1,
     "solution": false
    },
    "outputId": "ea0dcbeb-240b-4db2-9698-c586c1861860",
    "tags": [
     "Exercise-2-Question-4"
    ]
   },
   "outputs": [],
   "source": [
    "print(f'E43={E43}')\n",
    "print(f'R={R}')\n",
    "print(f'b={b}')\n",
    "\n"
   ]
  },
  {
   "cell_type": "markdown",
   "metadata": {
    "colab_type": "text",
    "deletable": false,
    "editable": false,
    "id": "JGklr1fAyNDf",
    "nbgrader": {
     "checksum": "c2f57186be98fdf0edc6c155a560f007",
     "grade": false,
     "grade_id": "cell-d2eaa25af756f418",
     "locked": true,
     "schema_version": 1,
     "solution": false
    },
    "tags": [
     "Exercise-2-Question-5"
    ]
   },
   "source": [
    "### Question 5: Rank of $R$\n",
    "\n",
    "**<div style=\"text-align: right\"> [SCORE: 2]</div>**\n",
    "\n",
    "**Task:**  Find rank of `R` and assign it to `rank`.\n"
   ]
  },
  {
   "cell_type": "code",
   "execution_count": null,
   "metadata": {
    "colab": {},
    "colab_type": "code",
    "deletable": false,
    "id": "OLMSITrhyNDg",
    "nbgrader": {
     "checksum": "c27687a092437d53a397ee9575ceeb78",
     "grade": false,
     "grade_id": "cell-f942285a55eac8c6",
     "locked": false,
     "schema_version": 1,
     "solution": true
    },
    "tags": [
     "Exercise-2-Question-5"
    ]
   },
   "outputs": [],
   "source": [
    "rank=None\n",
    "# YOUR CODE HERE\n",
    "raise NotImplementedError()\n"
   ]
  },
  {
   "cell_type": "code",
   "execution_count": null,
   "metadata": {
    "colab": {},
    "colab_type": "code",
    "deletable": false,
    "editable": false,
    "id": "d5xqRUUoyNDi",
    "nbgrader": {
     "checksum": "6d99184c8ad833fd2d6a059826811ef8",
     "grade": true,
     "grade_id": "cell-d11c6b59148a2409",
     "locked": true,
     "points": 2,
     "schema_version": 1,
     "solution": false
    },
    "outputId": "fcbf66db-ff87-4f11-a065-2944040901ea",
    "tags": [
     "Exercise-2-Question-5"
    ]
   },
   "outputs": [],
   "source": [
    "print(f'Rank of the matrix R is {rank}.')\n"
   ]
  },
  {
   "cell_type": "markdown",
   "metadata": {
    "colab_type": "text",
    "deletable": false,
    "editable": false,
    "id": "TMZq9RGAyNDl",
    "nbgrader": {
     "checksum": "bc4af36ae6c545ca35f6f89039c282ff",
     "grade": false,
     "grade_id": "cell-87d361bf6133e14f",
     "locked": true,
     "schema_version": 1,
     "solution": false
    },
    "tags": [
     "Exercise-2-Question-6"
    ]
   },
   "source": [
    "### Question 6: Free Variables\n",
    "\n",
    "**<div style=\"text-align: right\"> [SCORE: 2]</div>**\n",
    "\n",
    "**Task:**  Find the number of free variables and assign it to `num_free`. Also find free variables if any and put it in the list `free`. For example, `free=['x1','x3']`.\n"
   ]
  },
  {
   "cell_type": "code",
   "execution_count": null,
   "metadata": {
    "colab": {},
    "colab_type": "code",
    "deletable": false,
    "id": "U8MsRW-PyNDm",
    "nbgrader": {
     "checksum": "f55e05fd800bab8314314e44fb0af28d",
     "grade": false,
     "grade_id": "cell-aef0c71d122acfe6",
     "locked": false,
     "schema_version": 1,
     "solution": true
    },
    "tags": [
     "Exercise-2-Question-6"
    ]
   },
   "outputs": [],
   "source": [
    "num_free=None\n",
    "free=None\n",
    "# YOUR CODE HERE\n",
    "raise NotImplementedError()\n"
   ]
  },
  {
   "cell_type": "code",
   "execution_count": null,
   "metadata": {
    "colab": {},
    "colab_type": "code",
    "deletable": false,
    "editable": false,
    "id": "DXcBvb8ByNDp",
    "nbgrader": {
     "checksum": "780f95197fffdc09373d5d4447f10603",
     "grade": true,
     "grade_id": "cell-66385043eb8a1dfc",
     "locked": true,
     "points": 2,
     "schema_version": 1,
     "solution": false
    },
    "outputId": "70fb0be6-64d0-4cca-eaba-ce841d779b8a",
    "tags": [
     "Exercise-2-Question-6"
    ]
   },
   "outputs": [],
   "source": [
    "print(f'number of free variables = {num_free}')"
   ]
  },
  {
   "cell_type": "markdown",
   "metadata": {
    "colab_type": "text",
    "deletable": false,
    "editable": false,
    "id": "1AEPckFRyNDs",
    "nbgrader": {
     "checksum": "021c210c9ab6e714b8715995415b3336",
     "grade": false,
     "grade_id": "cell-5bfdaa9e6283cb08",
     "locked": true,
     "schema_version": 1,
     "solution": false
    }
   },
   "source": [
    "You must have found out that there is a free variable, $x_4$. Therefore, this system has infinitely many solutions.\n",
    "\n",
    "The system of equations that corresponds to the row echelon form $R\\vec x=\\vec b$ is\n",
    "\n",
    "$$x_1+x_4=b_1$$\n",
    "\n",
    "$$x_2-x_4=b_2$$\n",
    "\n",
    "$$x_3+x_4=b_3$$\n",
    "\n",
    "We express all the other vaariables in terms of $x_4$. \n",
    "\n",
    "$$x_1=-x_4+b_1$$\n",
    "\n",
    "$$x_2=x_4+b_2$$\n",
    "\n",
    "$$x_3=-x_4+b_3$$\n",
    "\n",
    "We said that this system of the equations has infinitely many solutions, but what does this actually mean? It means that there are infinitely many ways to manage the traffic flow in this junction. \n",
    "\n",
    "Consider the stretch DC. It may be desirable to have as little traffic flow as possible along this stretch. The flow of traffic in each stretch in the junction can be controlled using things like traffic lights and speed limit signs. According to the model, the third equation in the system shows that $x_3$ will be a minimum when $x_4$ is as large as possible, as long as it does not exceeds $b_3$. The largest value can be assumed without causing negative values of $x_1$ or $x_2$, i.e. must be less than $b_1$. So, for convenience we choose the value of $x_4=100$ since it satisifies all the conditions. "
   ]
  },
  {
   "cell_type": "markdown",
   "metadata": {
    "colab_type": "text",
    "deletable": false,
    "editable": false,
    "id": "oHzOO9mQyNDt",
    "nbgrader": {
     "checksum": "f6dd81cb38c486ce53c2a242201c1de2",
     "grade": false,
     "grade_id": "cell-e8f0890dfdd8da62",
     "locked": true,
     "schema_version": 1,
     "solution": false
    },
    "tags": [
     "Exercise-2-Question-7"
    ]
   },
   "source": [
    "### Question 7: Calculating a Solution\n",
    "\n",
    "**<div style=\"text-align: right\"> [SCORE: 4]</div>**\n",
    "\n",
    "**Task:**  Using $x_4=100$ and the values of $b_1,b_2,b_3$ obtained previously in $\\vec b$, calculate $x_1, x_2, x_3$."
   ]
  },
  {
   "cell_type": "code",
   "execution_count": null,
   "metadata": {
    "colab": {},
    "colab_type": "code",
    "deletable": false,
    "id": "xh10rpKQyNDu",
    "nbgrader": {
     "checksum": "4ba77665923c38eb8810a56c7958f080",
     "grade": false,
     "grade_id": "cell-d702bcb4cb4274a7",
     "locked": false,
     "schema_version": 1,
     "solution": true
    },
    "tags": [
     "Exercise-2-Question-7"
    ]
   },
   "outputs": [],
   "source": [
    "b1=None\n",
    "b2=None\n",
    "b3=None\n",
    "\n",
    "x1=None\n",
    "x2=None\n",
    "x3=None\n",
    "x4=100\n",
    "\n",
    "# YOUR CODE HERE\n",
    "raise NotImplementedError()"
   ]
  },
  {
   "cell_type": "code",
   "execution_count": null,
   "metadata": {
    "colab": {},
    "colab_type": "code",
    "deletable": false,
    "editable": false,
    "id": "UGMb2YCqyNDw",
    "nbgrader": {
     "checksum": "0a268842fece780fa3285c8b4755fca9",
     "grade": true,
     "grade_id": "cell-a8342c1b2567e7b2",
     "locked": true,
     "points": 4,
     "schema_version": 1,
     "solution": false
    },
    "outputId": "20f5fd4d-a694-4156-d041-36e67d51a180",
    "tags": [
     "Exercise-2-Question-7"
    ]
   },
   "outputs": [],
   "source": [
    "print(f'b1:{b1}\\nb2:{b2}\\nb3:{b3}\\n')\n",
    "print(f'x1:{x1}\\nx2:{x2}\\nx3:{x3}\\nx4:{x4}')\n",
    "\n"
   ]
  },
  {
   "cell_type": "markdown",
   "metadata": {
    "colab_type": "text",
    "deletable": false,
    "editable": false,
    "id": "LsCd8TTyyND1",
    "nbgrader": {
     "checksum": "3a5c49eb4a9de6a1fed418d44c215a0d",
     "grade": false,
     "grade_id": "cell-3a54fe9ab93f67d0",
     "locked": true,
     "schema_version": 1,
     "solution": false
    }
   },
   "source": [
    "Therefore, to keep the traffic flowing x3  must be routed between D and C, x1 between A and B, x2 between A and D and x4 between B and C."
   ]
  },
  {
   "cell_type": "markdown",
   "metadata": {
    "colab_type": "text",
    "deletable": false,
    "editable": false,
    "id": "JjaSj7JnyND3",
    "nbgrader": {
     "checksum": "96ca4ed84fa0a84832b7dfd2d31dd84d",
     "grade": false,
     "grade_id": "cell-92cd8e36e28ddb93",
     "locked": true,
     "schema_version": 1,
     "solution": false
    },
    "tags": [
     "Exercise-3"
    ]
   },
   "source": [
    "## Exercise 3: Elimination by PLU Factorization\n",
    "\n",
    "In the previous exercise, we solved the given system of equations using Gauss Elimination. In this exercse, we will do the same thing, but this time using PLU factorization. \n",
    "\n",
    "$PA=LU$\n",
    "\n",
    "where,\n",
    "\n",
    "- P is a permutation matrix\n",
    "\n",
    "- L is a lower trianglar matrix\n",
    "\n",
    "- U = R is an upper triangular matrix\n",
    "\n",
    "- A is the initial coefficient matrix\n",
    "\n",
    "Let us revisit the system of linear equations obtained previously:\n",
    "\n",
    "$$x_1+x_2=450$$\n",
    "\n",
    "$$x_1+x_4=350$$\n",
    "\n",
    "$$x_3+x_4=340$$\n",
    "\n",
    "$$x_2+x_3=440$$\n"
   ]
  },
  {
   "cell_type": "markdown",
   "metadata": {
    "colab_type": "text",
    "deletable": false,
    "editable": false,
    "id": "cYJZWolzyND4",
    "nbgrader": {
     "checksum": "db14ae043309ae767322b46c0c0005a3",
     "grade": false,
     "grade_id": "cell-6e2e868559e1f9ac",
     "locked": true,
     "schema_version": 1,
     "solution": false
    },
    "tags": [
     "Exercise-3-Question-1"
    ]
   },
   "source": [
    "### Question 1: System Representation\n",
    "\n",
    "**<div style=\"text-align: right\"> [SCORE: 2]</div>**\n",
    "\n",
    "**Task:** Re-represent the given system of equations in the form $A\\vec x = \\vec b$ by creating the required coefficient matrix A and vector $\\vec b$ using numpy arrays. We need to this because while solving the questions in the first exercise, the variables `A` and `b` had been changed many times."
   ]
  },
  {
   "cell_type": "code",
   "execution_count": null,
   "metadata": {
    "colab": {},
    "colab_type": "code",
    "deletable": false,
    "id": "4y1vp4uCyND5",
    "nbgrader": {
     "checksum": "264ac48dc2024d093df5d00d0cd94dfd",
     "grade": false,
     "grade_id": "cell-192c5cc6a67ae2ea",
     "locked": false,
     "schema_version": 1,
     "solution": true
    },
    "tags": [
     "Exercise-3-Question-1"
    ]
   },
   "outputs": [],
   "source": [
    "# Create Matrix A of order 4 x 4\n",
    "A=None\n",
    "# YOUR CODE HERE\n",
    "raise NotImplementedError()\n",
    "\n",
    "#Create column vector b of order 4 x 1\n",
    "b=None\n",
    "# YOUR CODE HERE\n",
    "raise NotImplementedError()\n"
   ]
  },
  {
   "cell_type": "code",
   "execution_count": null,
   "metadata": {
    "colab": {},
    "colab_type": "code",
    "deletable": false,
    "editable": false,
    "id": "-AmdMWyYyND7",
    "nbgrader": {
     "checksum": "dfe8462457db627d37b8a7f93e66c7f1",
     "grade": true,
     "grade_id": "cell-57a818ecbfe4d7ae",
     "locked": true,
     "points": 2,
     "schema_version": 1,
     "solution": false
    },
    "outputId": "bcd8e958-62df-4846-b8f9-11b49bb79433",
    "tags": [
     "Exercise-3-Question-1"
    ]
   },
   "outputs": [],
   "source": [
    "print(f'A={A}\\n')\n",
    "print(f'b={b}')\n",
    "assert A.shape==(4,4)\n",
    "assert b.shape==(4,1)"
   ]
  },
  {
   "cell_type": "markdown",
   "metadata": {
    "colab_type": "text",
    "deletable": false,
    "editable": false,
    "id": "7EMYkComyND-",
    "nbgrader": {
     "checksum": "59da53daace3e884254f4fe31f27e8a0",
     "grade": false,
     "grade_id": "cell-f81f74c4c7ffa0e1",
     "locked": true,
     "schema_version": 1,
     "solution": false
    },
    "tags": [
     "Exercise-3-Question-1"
    ]
   },
   "source": [
    "Now, since $PA=LU$, we can write\n",
    "\n",
    "\n",
    "$\\quad \\quad A\\vec x=\\vec b$<br> \n",
    "$\\implies PA\\vec x=P\\vec b$<br> \n",
    "$\\implies LU\\vec x=P\\vec b$\n",
    "\n",
    "Consider,\n",
    "\n",
    "$\\quad \\quad U\\vec x=\\vec c=\\begin{bmatrix}c_1\\\\c_2\\\\c_3\\\\c_4\\end{bmatrix}$ Then, <br>\n",
    "\n",
    "$\\implies L\\vec c=P\\vec b$<br> \n"
   ]
  },
  {
   "cell_type": "markdown",
   "metadata": {
    "colab_type": "text",
    "deletable": false,
    "editable": false,
    "id": "53l0DSiWyND-",
    "nbgrader": {
     "checksum": "aca059b6499e02ffdbdda5fbe0041e29",
     "grade": false,
     "grade_id": "cell-95d3d1bf278e74aa",
     "locked": true,
     "schema_version": 1,
     "solution": false
    },
    "tags": [
     "Exercise-3-Question-2"
    ]
   },
   "source": [
    "### Question 2: Permutation and Lower Triangular Matrix\n",
    "\n",
    "**<div style=\"text-align: right\"> [SCORE: 4]</div>**\n",
    "**Task:** Use the permutation matrix above and obtain $P\\vec b$. Also obain L using the elimination matrices caluclated above."
   ]
  },
  {
   "cell_type": "code",
   "execution_count": null,
   "metadata": {
    "colab": {},
    "colab_type": "code",
    "deletable": false,
    "id": "l2uWFGukyND_",
    "nbgrader": {
     "checksum": "f0cf38c648603b6f9fc588d0758765f2",
     "grade": false,
     "grade_id": "cell-14b477feb240688d",
     "locked": false,
     "schema_version": 1,
     "solution": true
    },
    "tags": [
     "Exercise-3-Question-2"
    ]
   },
   "outputs": [],
   "source": [
    "Pb=None\n",
    "L=None\n",
    "\n",
    "# YOUR CODE HERE\n",
    "raise NotImplementedError()"
   ]
  },
  {
   "cell_type": "code",
   "execution_count": null,
   "metadata": {
    "colab": {},
    "colab_type": "code",
    "deletable": false,
    "editable": false,
    "id": "1YRQti6uyNEC",
    "nbgrader": {
     "checksum": "84d66fdaa8f5f6ad6bf8ec7a214ae373",
     "grade": true,
     "grade_id": "cell-0056aba65ddb41fc",
     "locked": true,
     "points": 4,
     "schema_version": 1,
     "solution": false
    },
    "outputId": "2c5c3dd9-8be0-4eef-ef86-26f6f8c2b8a0",
    "tags": [
     "Exercise-3-Question-2"
    ]
   },
   "outputs": [],
   "source": [
    "print(f'L={L}\\n')\n",
    "print(f'Pb={Pb}')\n",
    "\n",
    "\n"
   ]
  },
  {
   "cell_type": "markdown",
   "metadata": {
    "colab_type": "text",
    "deletable": false,
    "editable": false,
    "id": "TT1EUVlkyNEE",
    "nbgrader": {
     "checksum": "3aba656c70b8ed6ff153a40130165b66",
     "grade": false,
     "grade_id": "cell-bfd75e030d6d812f",
     "locked": true,
     "schema_version": 1,
     "solution": false
    },
    "tags": [
     "Exercise-3-Question-3"
    ]
   },
   "source": [
    "### Question 3: Upper Triangular Matrix\n",
    "\n",
    "**<div style=\"text-align: right\"> [SCORE: 1]</div>**\n",
    "**Task:** Solve $L\\vec c=P\\vec b$ to obtain $\\vec c$. Then obtain U using the row echelon form R."
   ]
  },
  {
   "cell_type": "code",
   "execution_count": null,
   "metadata": {
    "colab": {},
    "colab_type": "code",
    "deletable": false,
    "id": "TL2cwhIDyNEH",
    "nbgrader": {
     "checksum": "c1035906e26104ed5151d3e17038e3aa",
     "grade": false,
     "grade_id": "cell-0f856971d1ec3d0b",
     "locked": false,
     "schema_version": 1,
     "solution": true
    },
    "tags": [
     "Exercise-3-Question-3"
    ]
   },
   "outputs": [],
   "source": [
    "U=None\n",
    "# YOUR CODE HERE\n",
    "raise NotImplementedError()"
   ]
  },
  {
   "cell_type": "code",
   "execution_count": null,
   "metadata": {
    "colab": {},
    "colab_type": "code",
    "deletable": false,
    "editable": false,
    "id": "fc-PJM0cyNEJ",
    "nbgrader": {
     "checksum": "d08f08028d34df06cdd3be00f39e0bc7",
     "grade": true,
     "grade_id": "cell-960e445a26a6121e",
     "locked": true,
     "points": 1,
     "schema_version": 1,
     "solution": false
    },
    "outputId": "44959a31-86ad-4207-e4f3-c46e55b38035",
    "tags": [
     "Exercise-3-Question-3"
    ]
   },
   "outputs": [],
   "source": [
    "print(f'c={c}\\n')\n",
    "print(f'U={U}')"
   ]
  },
  {
   "cell_type": "markdown",
   "metadata": {
    "colab_type": "text",
    "deletable": false,
    "editable": false,
    "id": "GpUKoAMpyNEM",
    "nbgrader": {
     "checksum": "a2266783ec7ba997ae9b40f862dcac51",
     "grade": false,
     "grade_id": "cell-cdebac8b45b69cce",
     "locked": true,
     "schema_version": 1,
     "solution": false
    }
   },
   "source": [
    "The system of equations that corresponds to $U\\vec x=\\vec c$ is\n",
    "\n",
    "$$x_1+x_4=c_1$$\n",
    "\n",
    "$$x_2-x_4=c_2$$\n",
    "\n",
    "$$x_3+x_4=c_3$$\n",
    "\n",
    "We express other equations in terms of $x_4$. \n",
    "\n",
    "$$x_1=-x_4+c_1$$\n",
    "\n",
    "$$x_2=x_4+c_2$$\n",
    "\n",
    "$$x_3=-x_4+c_3$$\n",
    "\n",
    "We take $x_4=100$ since it is a free variable"
   ]
  },
  {
   "cell_type": "markdown",
   "metadata": {
    "deletable": false,
    "editable": false,
    "nbgrader": {
     "checksum": "37187794d8494b3583dac4788bca6948",
     "grade": false,
     "grade_id": "cell-be72dccdbd5f39be",
     "locked": true,
     "schema_version": 1,
     "solution": false
    },
    "tags": [
     "Exercise-3-Question-4"
    ]
   },
   "source": [
    "### Question 4: Solving for $\\vec x$\n",
    "**<div style=\"text-align: right\"> [SCORE: 4]</div>**\n",
    "**Task:** Solve $U\\vec x = \\vec c$ to obtain the final solution $\\vec x$."
   ]
  },
  {
   "cell_type": "code",
   "execution_count": null,
   "metadata": {
    "colab": {},
    "colab_type": "code",
    "deletable": false,
    "id": "y7joKQV6yNEN",
    "nbgrader": {
     "checksum": "863e9ba224daa506597e87d6ae1cd1a1",
     "grade": false,
     "grade_id": "cell-ccce6d256383ca2b",
     "locked": false,
     "schema_version": 1,
     "solution": true
    }
   },
   "outputs": [],
   "source": [
    "c1=None\n",
    "c2=None\n",
    "c3=None\n",
    "\n",
    "x1=None\n",
    "x2=None\n",
    "x3=None\n",
    "x4=100\n",
    "\n",
    "# YOUR CODE HERE\n",
    "raise NotImplementedError()"
   ]
  },
  {
   "cell_type": "code",
   "execution_count": null,
   "metadata": {
    "colab": {},
    "colab_type": "code",
    "deletable": false,
    "editable": false,
    "id": "1c7uKyXkyNEQ",
    "nbgrader": {
     "checksum": "f5140cb930dce4ac283a454cab16c83c",
     "grade": true,
     "grade_id": "cell-bc1d999ddeed4c6d",
     "locked": true,
     "points": 4,
     "schema_version": 1,
     "solution": false
    },
    "outputId": "3e51f3b7-524e-408d-c416-d71726b29262",
    "tags": [
     "Exercise-3-Question-4"
    ]
   },
   "outputs": [],
   "source": [
    "print(f'c1:{c1}\\nc2:{c2}\\nc3:{c3}\\n')\n",
    "print(f'x1:{x1}\\nx2:{x2}\\nx3:{x3}\\nx4:{x4}')\n",
    "\n"
   ]
  },
  {
   "cell_type": "markdown",
   "metadata": {
    "colab_type": "text",
    "deletable": false,
    "editable": false,
    "id": "Y9Xigk6iyNES",
    "nbgrader": {
     "checksum": "a7e50dd19a3bce9430e1b48d53155e2e",
     "grade": false,
     "grade_id": "cell-f7ee6d9b65d06ff3",
     "locked": true,
     "schema_version": 1,
     "solution": false
    }
   },
   "source": [
    "Let us suppose the data is collected again in 2019 in the same streets and the new data is as shown in Figure 2\n",
    "\n",
    "<figure>\n",
    "  <center>\n",
    "   <img src='https://storage.googleapis.com/codehub-data/6-A-2-lineq2.jpg'/>\n",
    "  </center>\n",
    "</figure>\n",
    "\n",
    "So, the system of equations for the model was formulated using Kirchoff's law as follows:\n",
    "\n",
    "**At intersection A:** Traffic in $=x_1+x_2$ , traffic out $=150+250$, thus, $x_1+x_2=400$\n",
    "\n",
    "**At intersection B:** Traffic in $=130+220$ , traffic out $=x_1+x_4$, thus, $x_1+x_4=350$\n",
    "\n",
    "**At intersection C:** Traffic in $=x_3+x_4$ , traffic out $=210+150$, thus, $x_3+x_4=360$\n",
    "\n",
    "**At intersection D:** Traffic in $=200+200$ , traffic out $=x_2+x_3$, thus, $x_2+x_3=400$\n",
    "\n",
    "The constraints were written as a system of linear equations as follows:\n",
    "\n",
    "$$x_1+x_2=400$$\n",
    "\n",
    "$$x_1+x_4=350$$\n",
    "\n",
    "$$x_3+x_4=360$$\n",
    "\n",
    "$$x_2+x_3=400$$\n",
    "\n",
    "Using PLU Factorization, it is easy to solve these system of equations since only $\\vec b$ has changed. So, the value of P, L and U can be reused to calculate $\\vec x$ quickly."
   ]
  },
  {
   "cell_type": "markdown",
   "metadata": {
    "colab_type": "text",
    "deletable": false,
    "editable": false,
    "id": "7Nh9mf27yNET",
    "nbgrader": {
     "checksum": "84cb173aea4d6bc14ae8a037ab76757c",
     "grade": false,
     "grade_id": "cell-c467b7dcf147054b",
     "locked": true,
     "schema_version": 1,
     "solution": false
    },
    "tags": [
     "Exercise-3-Question-5"
    ]
   },
   "source": [
    "### Question 5: Setting Up A System For New Data\n",
    "**<div style=\"text-align: right\"> [SCORE: 2]</div>**\n",
    "**Tesk:** So, now create the new vector $\\vec b$ using numpy arrays and use the permutation matrix calculated above and obtain $P\\vec b$."
   ]
  },
  {
   "cell_type": "code",
   "execution_count": null,
   "metadata": {
    "colab": {},
    "colab_type": "code",
    "deletable": false,
    "id": "Y09-_3sSyNEU",
    "nbgrader": {
     "checksum": "9eb1eefcc50d5c39f61bb4c45f815aaa",
     "grade": false,
     "grade_id": "cell-0a7f59c16288371c",
     "locked": false,
     "schema_version": 1,
     "solution": true
    },
    "tags": [
     "Exercise-3-Question-5"
    ]
   },
   "outputs": [],
   "source": [
    "b=None\n",
    "Pb=None\n",
    "\n",
    "#Create column vector b of order 4 x 1 and also caluclate Pb\n",
    "# YOUR CODE HERE\n",
    "raise NotImplementedError()"
   ]
  },
  {
   "cell_type": "code",
   "execution_count": null,
   "metadata": {
    "colab": {},
    "colab_type": "code",
    "deletable": false,
    "editable": false,
    "id": "pJscH6K7yNEW",
    "nbgrader": {
     "checksum": "039ea1fe753f5325b59dda77fc2553b0",
     "grade": true,
     "grade_id": "cell-76fa8df2d6a97fa3",
     "locked": true,
     "points": 2,
     "schema_version": 1,
     "solution": false
    },
    "outputId": "d7b34450-7e51-491c-c193-bc6b1f57334a",
    "tags": [
     "Exercise-3-Question-5"
    ]
   },
   "outputs": [],
   "source": [
    "print(f'b={b}\\n')\n",
    "print(f'Pb={Pb}')"
   ]
  },
  {
   "cell_type": "markdown",
   "metadata": {
    "colab_type": "text",
    "deletable": false,
    "editable": false,
    "id": "eF4i3DmWyNEa",
    "nbgrader": {
     "checksum": "9a510b0093a09309104383eca85a7d0e",
     "grade": false,
     "grade_id": "cell-54c915a52140b9aa",
     "locked": true,
     "schema_version": 1,
     "solution": false
    },
    "tags": [
     "Exercise-3-Question-6"
    ]
   },
   "source": [
    "### Question 6: Finding $C$\n",
    "**<div style=\"text-align: right\"> [SCORE: 1]</div>**\n",
    "**Task:** Solve $L\\vec c=P\\vec b$ to obtain $\\vec c$."
   ]
  },
  {
   "cell_type": "code",
   "execution_count": null,
   "metadata": {
    "colab": {},
    "colab_type": "code",
    "deletable": false,
    "id": "wOkz3JQbyNEa",
    "nbgrader": {
     "checksum": "449a6216eec82948aeeab366ade93bda",
     "grade": false,
     "grade_id": "cell-eed2747f45be5748",
     "locked": false,
     "schema_version": 1,
     "solution": true
    },
    "outputId": "158c85e4-893c-4fef-e826-187ca99e2e9c",
    "tags": [
     "Exercise-3-Question-6"
    ]
   },
   "outputs": [],
   "source": [
    "# YOUR CODE HERE\n",
    "raise NotImplementedError()"
   ]
  },
  {
   "cell_type": "code",
   "execution_count": null,
   "metadata": {
    "deletable": false,
    "editable": false,
    "nbgrader": {
     "checksum": "ece86acf25762d4db43818cb1758276e",
     "grade": true,
     "grade_id": "cell-07d750e86f5d3359",
     "locked": true,
     "points": 1,
     "schema_version": 1,
     "solution": false
    },
    "tags": [
     "Exercise-3-Question-6"
    ]
   },
   "outputs": [],
   "source": [
    "print(f'c={c}\\n')\n",
    "print(f'U={U}')"
   ]
  },
  {
   "cell_type": "markdown",
   "metadata": {
    "colab_type": "text",
    "deletable": false,
    "editable": false,
    "id": "zk35NtYQyNEd",
    "nbgrader": {
     "checksum": "de6c4ce2fb4864eed42c00aada777995",
     "grade": false,
     "grade_id": "cell-3f82424d1409ec63",
     "locked": true,
     "schema_version": 1,
     "solution": false
    },
    "tags": [
     "Exercise-3-Question-6"
    ]
   },
   "source": [
    "The system of equations that corresponds to $U\\vec x=\\vec c$ is\n",
    "\n",
    "$$x_1+x_4=c_1$$\n",
    "\n",
    "$$x_2-x_4=c_2$$\n",
    "\n",
    "$$x_3+x_4=c_3$$\n",
    "\n",
    "We express other equations in terms of $x_4$. \n",
    "\n",
    "$$x_1=-x_4+c_1$$\n",
    "\n",
    "$$x_2=x_4+c_2$$\n",
    "\n",
    "$$x_3=-x_4+c_3$$\n",
    "\n",
    "We take $x_4=100$ since it is a free variable"
   ]
  },
  {
   "cell_type": "markdown",
   "metadata": {
    "deletable": false,
    "editable": false,
    "nbgrader": {
     "checksum": "e2d7aa7b69e86c3dd63dd61cec4dbf61",
     "grade": false,
     "grade_id": "cell-10436d7ddd5e981d",
     "locked": true,
     "schema_version": 1,
     "solution": false
    },
    "tags": [
     "Exercise-3-Question-7"
    ]
   },
   "source": [
    "### Question 7: Solving For $X$\n",
    "**<div style=\"text-align: right\"> [SCORE: 4]</div>**\n",
    "**Task:** Solve $U\\vec x = \\vec c$ to obtain the final solution $\\vec x$."
   ]
  },
  {
   "cell_type": "code",
   "execution_count": null,
   "metadata": {
    "colab": {},
    "colab_type": "code",
    "deletable": false,
    "id": "SR_VyymhyNEd",
    "nbgrader": {
     "checksum": "674a07d197ff238c4344b4ce1593d509",
     "grade": false,
     "grade_id": "cell-10a1ecfa637bc3fd",
     "locked": false,
     "schema_version": 1,
     "solution": true
    },
    "tags": [
     "Exercise-3-Question-7"
    ]
   },
   "outputs": [],
   "source": [
    "c1=None\n",
    "c2=None\n",
    "c3=None\n",
    "\n",
    "x1=None\n",
    "x2=None\n",
    "x3=None\n",
    "x4=100\n",
    "\n",
    "# YOUR CODE HERE\n",
    "raise NotImplementedError()"
   ]
  },
  {
   "cell_type": "code",
   "execution_count": null,
   "metadata": {
    "colab": {},
    "colab_type": "code",
    "deletable": false,
    "editable": false,
    "id": "lLME5VeuyNEg",
    "nbgrader": {
     "checksum": "6705c52711094f2e52a6a03140938acd",
     "grade": true,
     "grade_id": "cell-4a3ae12712b7d749",
     "locked": true,
     "points": 4,
     "schema_version": 1,
     "solution": false
    },
    "outputId": "4879c090-7807-4670-887a-74a58b25c4b9",
    "tags": [
     "Exercise-3-Question-7"
    ]
   },
   "outputs": [],
   "source": [
    "print(f'c1:{c1}\\nc2:{c2}\\nc3:{c3}\\n')\n",
    "print(f'x1:{x1}\\nx2:{x2}\\nx3:{x3}\\nx4:{x4}')\n",
    "\n"
   ]
  },
  {
   "cell_type": "markdown",
   "metadata": {
    "colab_type": "text",
    "deletable": false,
    "editable": false,
    "id": "ZnAPqDzeyNEn",
    "nbgrader": {
     "checksum": "e7b9e5034c30349701cd9cfe22b043bf",
     "grade": false,
     "grade_id": "cell-74c07897e789c4fc",
     "locked": true,
     "schema_version": 1,
     "solution": false
    }
   },
   "source": [
    "Hence, PLU Factorization can be used to calculate the solutions easily when data is changed. "
   ]
  }
 ],
 "metadata": {
  "colab": {
   "collapsed_sections": [
    "Z0YCMXviyNDY",
    "JGklr1fAyNDf",
    "TMZq9RGAyNDl",
    "oHzOO9mQyNDt",
    "cYJZWolzyND4",
    "53l0DSiWyND-",
    "TT1EUVlkyNEE",
    "7Nh9mf27yNET",
    "eF4i3DmWyNEa"
   ],
   "name": "Unit 2.4 Solving Linear Equations_Teacher.ipynb",
   "provenance": []
  },
  "kernelspec": {
   "display_name": "Python 3",
   "language": "python",
   "name": "python3"
  },
  "language_info": {
   "codemirror_mode": {
    "name": "ipython",
    "version": 3
   },
   "file_extension": ".py",
   "mimetype": "text/x-python",
   "name": "python",
   "nbconvert_exporter": "python",
   "pygments_lexer": "ipython3",
   "version": "3.6.8"
  }
 },
 "nbformat": 4,
 "nbformat_minor": 1
}
