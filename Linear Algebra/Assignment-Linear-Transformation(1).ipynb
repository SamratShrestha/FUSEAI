{
 "cells": [
  {
   "cell_type": "markdown",
   "metadata": {
    "colab_type": "text",
    "deletable": false,
    "editable": false,
    "id": "6Vqt4FAtcAF_",
    "nbgrader": {
     "checksum": "ed86e2581ea0a0acab93e5b6f03bec3b",
     "grade": false,
     "grade_id": "cell-eef0122bc41ceb66",
     "locked": true,
     "schema_version": 1,
     "solution": false
    }
   },
   "source": [
    "\n",
    "# Linear Transformation Assignment \n",
    "\n",
    "## Capture the Coin: A Matrix Transformation Game\n",
    "\n",
    "**<div style=\"text-align: right\"> [TOTAL SCORE: 30]</div>**\n",
    "\n",
    "In this assignment, you are going to visualize how linear transformation and matrix operations can be used to manipulate shapes in a 2D space by controlling a playable character and making it capture the coin in the playground. The main objective of this assignment is to be able to formulate the transformation problems as matrix multiplication and implementing them using python and numpy. "
   ]
  },
  {
   "cell_type": "markdown",
   "metadata": {
    "colab_type": "text",
    "deletable": false,
    "editable": false,
    "id": "bScPM7WVcAGG",
    "nbgrader": {
     "checksum": "d4d9096385a55fea22ea50c8aac75152",
     "grade": false,
     "grade_id": "cell-ee3a558565329b05",
     "locked": true,
     "schema_version": 1,
     "solution": false
    }
   },
   "source": [
    "### Pre-requisite concepts\n",
    "\n",
    "Before delving into the problem, it is important for you to understand 2 main concepts:"
   ]
  },
  {
   "cell_type": "markdown",
   "metadata": {
    "colab_type": "text",
    "deletable": false,
    "editable": false,
    "id": "Q6gElyNCcAGI",
    "nbgrader": {
     "checksum": "6a0902376fcf1e9797282b1c80641dbe",
     "grade": false,
     "grade_id": "cell-f206cab2a2e89741",
     "locked": true,
     "schema_version": 1,
     "solution": false
    }
   },
   "source": [
    "#### 1. Homogeneous coordinates  \n",
    "\n",
    "From the lesson and quiz, you must have realized that translation is not a linear operation as it doesn't fix the origin. However, it can be converted into a linear operation by introducing an additional dimension in our operation which transforms the system into what is called a *Homogeneous Co-ordinate System*.\n",
    "\n",
    "For example,\n",
    "In normal 2D co-ordinate system, we have a point $\\begin{bmatrix} x \\\\ y \\end{bmatrix}$\n",
    "\n",
    "In Homogeneous co-ordinate system, the same point is represented as $\\begin{bmatrix} x \\\\ y \\\\1 \\end{bmatrix}$\n",
    "\n",
    "Due to this, the $2 \\times 2$ transformation matrices that you learned for 2D spaces are now transformed into $3 \\times 3$ transformation matrices as follows:\n",
    "\n",
    "$\n",
    "\\begin{bmatrix}\n",
    "a & b \\\\\n",
    "c & d \\\\\n",
    "\\end{bmatrix}\n",
    "\\to\n",
    "\\begin{bmatrix}\n",
    "a & b & 0 \\\\\n",
    "c & d & 0 \\\\\n",
    "0 & 0 & 1\n",
    "\\end{bmatrix}\n",
    "$\n",
    "\n",
    "Now, in this *homogeneous coordinate system*, the translation operation can also be formulated as a matrix operation by the following matrix:\n",
    "\n",
    "$\n",
    "\\begin{bmatrix}\n",
    "1 & 0 & t_x \\\\\n",
    "0 & 1 & t_y \\\\\n",
    "0 & 0 & 1\n",
    "\\end{bmatrix}\n",
    "$\n",
    " where, $t_x$ gives the translation amount along x-axis and $t_y$ gives the translation amount along y-axis"
   ]
  },
  {
   "cell_type": "markdown",
   "metadata": {
    "colab_type": "text",
    "deletable": false,
    "editable": false,
    "id": "mrD8MWYpcAGL",
    "nbgrader": {
     "checksum": "eaa8fa2e347a5b854ad6aa401193a630",
     "grade": false,
     "grade_id": "cell-a6b008db197e84be",
     "locked": true,
     "schema_version": 1,
     "solution": false
    }
   },
   "source": [
    "#### 2. Rotation about points other than origin\n",
    "\n",
    "Until now, the rotation operation studied was done taking the origin $(0,0)$ as the pivot. To rotate any point or shape about other points, we need to perform the following steps:\n",
    "\n",
    "1. Translate all the *to be rotated* points such that the *pivot* point $(a,b)$ is translated to the origin $(0,0)$.\n",
    "\n",
    "2. Rotate the *to be rotated* points about the origin $(0,0)$ using the rotation matrix already discussed.\n",
    "\n",
    "3. Translate all the *rotated* points such that the *pivot* point is translated back from the origin $(0,0)$ to its original location $(a,b)$\n",
    "\n",
    "Also note that all these transformation operations can be represented by a single composite transformation matrix. Such a matrix can be obtained by the matrix multiplication of the involved transformation matrices such that the order in which the operation is applied is preserved."
   ]
  },
  {
   "cell_type": "markdown",
   "metadata": {
    "colab_type": "text",
    "deletable": false,
    "editable": false,
    "id": "yQPP7eJxcAGN",
    "nbgrader": {
     "checksum": "949bdc057f02f11587204dd2ed562752",
     "grade": false,
     "grade_id": "cell-e371718a6d8692ca",
     "locked": true,
     "schema_version": 1,
     "solution": false
    }
   },
   "source": [
    "### Problem Statement\n",
    "\n",
    "Your main task in this assignment is to find the transformation matrix, use it to change the player's position in the 2D space and reach the location of the coin to capture it. The player in this game is a 2D diamond (rectangle) which has 4 points. Initially, the player is placed such that its tail is at the origin.\n",
    "\n",
    "Go through the instructions properly as you attempt to solve the task.\n",
    "\n",
    "Start by importing the packages essential for this task."
   ]
  },
  {
   "cell_type": "code",
   "execution_count": 13,
   "metadata": {
    "colab": {},
    "colab_type": "code",
    "deletable": false,
    "editable": false,
    "id": "g8G6v_e2cAGP",
    "nbgrader": {
     "checksum": "4c2f7aeca227c477515576e889bd9513",
     "grade": false,
     "grade_id": "cell-9e7d98629193c99c",
     "locked": true,
     "schema_version": 1,
     "solution": false
    }
   },
   "outputs": [],
   "source": [
    "import numpy as np\n",
    "import matplotlib.pyplot as plt \n",
    "from matplotlib.patches import Polygon, Circle\n",
    "import math"
   ]
  },
  {
   "cell_type": "markdown",
   "metadata": {
    "colab_type": "text",
    "deletable": false,
    "editable": false,
    "id": "mX4G4BjucAGT",
    "nbgrader": {
     "checksum": "759e6d46e645aec1db50b3cc45f9df7e",
     "grade": false,
     "grade_id": "cell-d6e67e6202696c23",
     "locked": true,
     "schema_version": 1,
     "solution": false
    }
   },
   "source": [
    "### API Documentation\n",
    "\n",
    "This section demonstrates the functions that you need to use to perform the task.\n",
    "\n",
    "For trigonometric operation needed in the task, you can use the following trigonometric utility functions:\n",
    "\n",
    "a) ```cos(x)``` returns the cosine of an angle.\n",
    "\n",
    "b) ```sin(x)``` returns the sine of an angle. \n",
    "\n",
    "c) ```tan(x)``` returns the tangent of an angle.\n",
    "\n",
    "The angle ```x``` should be in degrees\n",
    "\n",
    "The playable shape is controlled using the object ```player``` which is an instance of the ```Player``` class. \n",
    "\n",
    "The position of the player is represented by the following position matrix:\n",
    "$$\n",
    "\\begin{bmatrix}\n",
    "x_1 && x_2 && x_3 && x_4 \\\\\n",
    "y_1 && y_2 && y_3 && y_4\n",
    "\\end{bmatrix}\n",
    "$$\n",
    "where $(x_1,y_1), (x_2,y_2), (x_3,y_3), (x_4,y_4)$ are the four vertices of the diamond.\n",
    "\n",
    "The ```player``` object will be created for you but you might need to use the following class methods to perform the task:\n",
    "\n",
    "1. ```get_position()```\n",
    "\n",
    "This method returns the current position matrix of the player as a ```numpy``` 2D array.\n",
    "\n",
    "2. ```set_position(new_position)```\n",
    "\n",
    "This method sets the ```new_position``` matrix as the current position of the player. It expects a ```numpy``` 2D array as input.\n",
    "\n",
    "3. ```get_orientation()```\n",
    "\n",
    "This method returns the angle made by the vector joining the tail and head of the player at its current orientation with the positive x-axis.\n",
    "\n",
    "4. ```get_tail_location()```\n",
    "\n",
    "This method returns the co-ordinate points of the tail, i.e. $\\begin{bmatrix} x1 & y1 \\end{bmatrix}$. The returned points are arranged in a ```numpy``` array of dimension (1,)"
   ]
  },
  {
   "cell_type": "code",
   "execution_count": 14,
   "metadata": {
    "colab": {},
    "colab_type": "code",
    "deletable": false,
    "editable": false,
    "id": "HMdU5OwJcAGV",
    "nbgrader": {
     "checksum": "024796684119215359142f86fdfeabb3",
     "grade": false,
     "grade_id": "cell-92c05305a0e3d253",
     "locked": true,
     "schema_version": 1,
     "solution": false
    }
   },
   "outputs": [],
   "source": [
    "#Defining the trigonometric utility functions\n",
    "\n",
    "def cos(x):\n",
    "    '''returns the cosine of an angle in degrees'''\n",
    "    return math.cos(x*math.pi/180)\n",
    "\n",
    "def sin(x):\n",
    "    '''returns the sine of an angle in degrees'''\n",
    "    return math.sin(x*math.pi/180)"
   ]
  },
  {
   "cell_type": "code",
   "execution_count": 15,
   "metadata": {
    "colab": {},
    "colab_type": "code",
    "deletable": false,
    "editable": false,
    "id": "0N3cK3BtcAGZ",
    "nbgrader": {
     "checksum": "87734e2f91148405997737a29bd17333",
     "grade": false,
     "grade_id": "cell-ac24ee12f0836f10",
     "locked": true,
     "schema_version": 1,
     "solution": false
    }
   },
   "outputs": [],
   "source": [
    "#Defining the classes and their respective methods necessary to control the player and the scene.\n",
    "\n",
    "class Scene:\n",
    "    '''The class to manage and display objects on the playground'''\n",
    "    def __init__(self, xlimits, ylimits, grid_width):\n",
    "        self.xlimits = xlimits\n",
    "        self.ylimits = ylimits\n",
    "        self.stepsize = grid_width\n",
    "        \n",
    "    def plot(self, player):\n",
    "        fig = plt.figure(figsize=(12,12))\n",
    "        ax = plt.axes()\n",
    "        ax.xaxis.set_ticks(np.arange(*self.xlimits, self.stepsize))\n",
    "        ax.yaxis.set_ticks(np.arange(*self.ylimits, self.stepsize))\n",
    "        ax.plot([0,0],self.ylimits,zorder=1)\n",
    "        ax.plot(self.xlimits,[0,0],zorder=1)\n",
    "        player_shape = Polygon(player.get_plot_points(), color=[0.8,0.2,0], zorder=2)\n",
    "        ax.add_patch(player_shape)\n",
    "        target_pos = [20*math.sqrt(5)*cos(33.434948), 20*math.sqrt(5)*sin(33.434948)]\n",
    "        xs = [0.0,40*cos(60),target_pos[0]]\n",
    "        ys = [0.0,40*sin(60),target_pos[1]]\n",
    "        ax.plot(xs, ys, 'm--')\n",
    "        target_shape = Circle(target_pos, radius=1, color=[0,0.8,0.5], zorder=3)\n",
    "        ax.add_patch(target_shape)\n",
    "        plt.grid()\n",
    "        plt.show()\n",
    "        \n",
    "        \n",
    "class Player:\n",
    "    '''The class to manage the position of the playable shape'''\n",
    "    def __init__(self):\n",
    "        self._position = np.array([[0,2.5,5,2.5],[0,1,0,-1],[1,1,1,1]])\n",
    "        \n",
    "    def get_orientation(self):\n",
    "        '''Returns the angle (in degrees) made by the player's orientation with the positive x-axis'''\n",
    "        tail = self._position[:2,0].ravel()\n",
    "        head = self._position[:2,2].ravel()\n",
    "        orientation_vec = head-tail\n",
    "        orientation = np.arctan2(orientation_vec[1], orientation_vec[0])\n",
    "        return orientation*180/math.pi\n",
    "    \n",
    "    def get_plot_points(self):\n",
    "        return self._position[:2,:].T\n",
    "    \n",
    "    def get_position(self):\n",
    "        '''Returns the position matrix which gives the points that define the position of the player.'''\n",
    "        return self._position\n",
    "    \n",
    "    def get_tail_location(self):\n",
    "        '''Returns the coordinates of the tail of the player'''\n",
    "        tail = self._position[:2,0].ravel()\n",
    "        return tail\n",
    "    \n",
    "    def set_position(self, position_matrix):\n",
    "        '''Set the points that define the position of the player. Takes a matrix of points as param'''\n",
    "        self._position = position_matrix\n",
    "        "
   ]
  },
  {
   "cell_type": "markdown",
   "metadata": {
    "colab_type": "text",
    "deletable": false,
    "editable": false,
    "id": "TsyGzUsEcAGd",
    "nbgrader": {
     "checksum": "0c3bb92398aa78fa96482a6873f5e420",
     "grade": false,
     "grade_id": "cell-31dcdb3fdca2538b",
     "locked": true,
     "schema_version": 1,
     "solution": false
    }
   },
   "source": [
    "Take a look at the playground. The red diamond is the player, the blue circle is the target coin and the pink dotted lines represent the path that the player has to follow to reach the goal. You will be using matrix operations to move the player along this path. "
   ]
  },
  {
   "cell_type": "code",
   "execution_count": 16,
   "metadata": {
    "colab": {
     "base_uri": "https://localhost:8080/",
     "height": 700
    },
    "colab_type": "code",
    "deletable": false,
    "editable": false,
    "executionInfo": {
     "elapsed": 1849,
     "status": "ok",
     "timestamp": 1573405650592,
     "user": {
      "displayName": "Bipin Lekhak",
      "photoUrl": "https://lh3.googleusercontent.com/a-/AAuE7mC0npxAmD58IVdiy3h9vCTh13e4uXCLTF9u4kJ3=s64",
      "userId": "09547906499567078667"
     },
     "user_tz": -345
    },
    "id": "pkoHeBmKcAGe",
    "nbgrader": {
     "checksum": "8fc9c9d23938b566ac02ce2ec003fef3",
     "grade": false,
     "grade_id": "cell-2f15ceebac6e1ae2",
     "locked": true,
     "schema_version": 1,
     "solution": false
    },
    "outputId": "c69c26de-e90e-4125-a807-344dec5a1115"
   },
   "outputs": [
    {
     "data": {
      "image/png": "[encoded data removed]",
      "text/plain": [
       "<Figure size 864x864 with 1 Axes>"
      ]
     },
     "metadata": {},
     "output_type": "display_data"
    }
   ],
   "source": [
    "#Creation of the Scene and the Player objects\n",
    "scene = Scene((-10,50),(-10,50),5)\n",
    "player = Player()\n",
    "scene.plot(player)"
   ]
  },
  {
   "cell_type": "markdown",
   "metadata": {
    "colab_type": "text",
    "deletable": false,
    "editable": false,
    "id": "TT3AAXqWcAGk",
    "nbgrader": {
     "checksum": "08809775b9e4dc8647ebe34c4156de93",
     "grade": false,
     "grade_id": "cell-4f087af42a7ac213",
     "locked": true,
     "schema_version": 1,
     "solution": false
    }
   },
   "source": [
    "## Exercise 1: Align the Player\n",
    "<b><div style=\"text-align: right\">[POINTS: 5]</div></b>\n",
    "Your first task is to align the player with the path it is supposed to follow. Do this by rotating the player (i.e. all the points that define it) about its tail location which is at origin by 60$^{\\circ}$ in anti-clockwise direction.\n",
    "\n",
    "**Task:** \n",
    "Find the rotation matrix required for this task in homogeneous co-ordinate system and assign it to the variable ```transformation_1```. Use this to transform the points and set the new position of the player using its ```set_position()``` method.\n"
   ]
  },
  {
   "cell_type": "code",
   "execution_count": 17,
   "metadata": {
    "colab": {
     "base_uri": "https://localhost:8080/",
     "height": 119
    },
    "colab_type": "code",
    "deletable": false,
    "executionInfo": {
     "elapsed": 1293,
     "status": "ok",
     "timestamp": 1573405653995,
     "user": {
      "displayName": "Bipin Lekhak",
      "photoUrl": "https://lh3.googleusercontent.com/a-/AAuE7mC0npxAmD58IVdiy3h9vCTh13e4uXCLTF9u4kJ3=s64",
      "userId": "09547906499567078667"
     },
     "user_tz": -345
    },
    "id": "_QoDi0pUcAGl",
    "nbgrader": {
     "checksum": "b774d470eea45d14fe51c86967e2af45",
     "grade": false,
     "grade_id": "cell-5aabe6d5ea3a0236",
     "locked": false,
     "schema_version": 1,
     "solution": true
    },
    "outputId": "92a715c9-3a1d-4ead-a919-a9bbc5fe7fe5",
    "tags": [
     "Exercise-1"
    ]
   },
   "outputs": [
    {
     "name": "stdout",
     "output_type": "stream",
     "text": [
      "[[0.5000000000000001, -0.8660254037844386, 0], [0.8660254037844386, 0.5000000000000001, 0], [0, 0, 1]]\n",
      "[[0.         0.3839746  2.5        2.1160254 ]\n",
      " [0.         2.66506351 4.33012702 1.66506351]\n",
      " [1.         1.         1.         1.        ]]\n"
     ]
    }
   ],
   "source": [
    "transformation_1 = None\n",
    "# YOUR CODE HERE\n",
    "x=60\n",
    "transformation_1 = [[cos(x),-sin(x),0],[sin(x),cos(x),0],[0,0,1]]\n",
    "player.set_position(np.matmul(transformation_1,player.get_position()))\n",
    "print(transformation_1)\n",
    "print(player.get_position())"
   ]
  },
  {
   "cell_type": "code",
   "execution_count": 18,
   "metadata": {
    "colab": {
     "base_uri": "https://localhost:8080/",
     "height": 700
    },
    "colab_type": "code",
    "deletable": false,
    "editable": false,
    "executionInfo": {
     "elapsed": 1690,
     "status": "ok",
     "timestamp": 1573405660267,
     "user": {
      "displayName": "Bipin Lekhak",
      "photoUrl": "https://lh3.googleusercontent.com/a-/AAuE7mC0npxAmD58IVdiy3h9vCTh13e4uXCLTF9u4kJ3=s64",
      "userId": "09547906499567078667"
     },
     "user_tz": -345
    },
    "id": "W5Hj0nd3cAGr",
    "nbgrader": {
     "checksum": "8f007825af5b742e85a31f02f70d4316",
     "grade": true,
     "grade_id": "cell-0a8e57d3da8bbeff",
     "locked": true,
     "points": 5,
     "schema_version": 1,
     "solution": false
    },
    "outputId": "5ec5bff6-e0f1-4923-c94a-4b7726306e21",
    "tags": [
     "Exercise-1"
    ]
   },
   "outputs": [
    {
     "data": {
      "image/png": "[encoded data removed]",
      "text/plain": [
       "<Figure size 864x864 with 1 Axes>"
      ]
     },
     "metadata": {},
     "output_type": "display_data"
    }
   ],
   "source": [
    "assert transformation_1 is not None\n",
    "scene.plot(player)\n"
   ]
  },
  {
   "cell_type": "markdown",
   "metadata": {
    "colab_type": "text",
    "deletable": false,
    "editable": false,
    "id": "yKmXrYRncAGv",
    "nbgrader": {
     "checksum": "4f6cdd0b967f0b711c15ade2874b6d08",
     "grade": false,
     "grade_id": "cell-8cb6926354d34b04",
     "locked": true,
     "schema_version": 1,
     "solution": false
    },
    "tags": [
     "Exercise-2"
    ]
   },
   "source": [
    "## Exercise 2: Move the Player\n",
    "<b><div style=\"text-align: right\">[POINTS: 5]</div></b>\n",
    "Your second task is to move the player by 40 units in the direction of its current orientation. This will make the player reach the peak in the path shown in the playground.\n",
    "\n",
    "**Task:** \n",
    "Find the translation matrix required for this task in homogeneous co-ordinate system and assign it to the variable ```transformation_2```. Use this to transform the points and set the new position of the player using its ```set_position()``` method.\n"
   ]
  },
  {
   "cell_type": "code",
   "execution_count": 19,
   "metadata": {
    "colab": {
     "base_uri": "https://localhost:8080/",
     "height": 119
    },
    "colab_type": "code",
    "deletable": false,
    "executionInfo": {
     "elapsed": 1585,
     "status": "ok",
     "timestamp": 1573405664019,
     "user": {
      "displayName": "Bipin Lekhak",
      "photoUrl": "https://lh3.googleusercontent.com/a-/AAuE7mC0npxAmD58IVdiy3h9vCTh13e4uXCLTF9u4kJ3=s64",
      "userId": "09547906499567078667"
     },
     "user_tz": -345
    },
    "id": "IlNfpPs1cAGw",
    "nbgrader": {
     "checksum": "89f6c5dc14580a339301ea425e9a0799",
     "grade": false,
     "grade_id": "cell-234659ade6777a84",
     "locked": false,
     "schema_version": 1,
     "solution": true
    },
    "outputId": "f93c9319-6d73-4cec-a594-e2fe7ae061d0",
    "tags": [
     "Exercise-2"
    ]
   },
   "outputs": [],
   "source": [
    "transformation_2 = None\n",
    "\n",
    "# YOUR CODE HERE\n",
    "theta = player.get_orientation()\n",
    "transformation_2 = [[1,0,40*cos(theta)],\n",
    "                             [0,1,40*sin(theta)],\n",
    "                             [0,0,1]]\n",
    "player.set_position(np.matmul(transformation_2,player.get_position()))\n",
    "# print(transformation_2)\n",
    "# print(player.get_position())"
   ]
  },
  {
   "cell_type": "code",
   "execution_count": 20,
   "metadata": {
    "colab": {
     "base_uri": "https://localhost:8080/",
     "height": 700
    },
    "colab_type": "code",
    "deletable": false,
    "editable": false,
    "executionInfo": {
     "elapsed": 1809,
     "status": "ok",
     "timestamp": 1573405666878,
     "user": {
      "displayName": "Bipin Lekhak",
      "photoUrl": "https://lh3.googleusercontent.com/a-/AAuE7mC0npxAmD58IVdiy3h9vCTh13e4uXCLTF9u4kJ3=s64",
      "userId": "09547906499567078667"
     },
     "user_tz": -345
    },
    "id": "RXCnDzXlcAG0",
    "nbgrader": {
     "checksum": "b3dae9021ddfed70426af3c3c9822b13",
     "grade": true,
     "grade_id": "cell-cbf1a809a8673649",
     "locked": true,
     "points": 5,
     "schema_version": 1,
     "solution": false
    },
    "outputId": "b693ba38-4cde-490a-81e6-964937df2c56",
    "tags": [
     "Exercise-2"
    ]
   },
   "outputs": [
    {
     "data": {
      "image/png": "[encoded data removed]",
      "text/plain": [
       "<Figure size 864x864 with 1 Axes>"
      ]
     },
     "metadata": {},
     "output_type": "display_data"
    }
   ],
   "source": [
    "assert transformation_2 is not None\n",
    "scene.plot(player)\n"
   ]
  },
  {
   "cell_type": "markdown",
   "metadata": {
    "colab_type": "text",
    "deletable": false,
    "editable": false,
    "id": "0Z4w8SW0cAG4",
    "nbgrader": {
     "checksum": "b60a98cda839d9b39811e232ee780baf",
     "grade": false,
     "grade_id": "cell-5fd12a768c73bb79",
     "locked": true,
     "schema_version": 1,
     "solution": false
    },
    "tags": [
     "Exercise-3"
    ]
   },
   "source": [
    "## Exercise 3: Rotate the Player\n",
    "<b><div style=\"text-align: right\">[POINTS: 15]</div></b>\n",
    "Your third task is to rotate the player (i.e. all the points that define it) by 90$^{\\circ}$ in clockwise direction about its tail location. Please note that since the tail is now not at origin, this task is rotation about an arbitrary point other than origin.\n",
    "\n",
    "**Task:** \n",
    "Find the composite transformation matrix (the single matrix that represents all sub-operations involved) required for this task and assign it to the variable ```transformation_3```. Use this to transform the points and set the new position of the player using its ```set_position()``` method.\n",
    "\n"
   ]
  },
  {
   "cell_type": "code",
   "execution_count": 21,
   "metadata": {
    "colab": {
     "base_uri": "https://localhost:8080/",
     "height": 119
    },
    "colab_type": "code",
    "deletable": false,
    "executionInfo": {
     "elapsed": 1319,
     "status": "ok",
     "timestamp": 1573405669830,
     "user": {
      "displayName": "Bipin Lekhak",
      "photoUrl": "https://lh3.googleusercontent.com/a-/AAuE7mC0npxAmD58IVdiy3h9vCTh13e4uXCLTF9u4kJ3=s64",
      "userId": "09547906499567078667"
     },
     "user_tz": -345
    },
    "id": "IHpyji7JcAG5",
    "nbgrader": {
     "checksum": "a7a06b3994083096b07df549f81e7914",
     "grade": false,
     "grade_id": "cell-239bb0aa16a6333d",
     "locked": false,
     "schema_version": 1,
     "solution": true
    },
    "outputId": "d2b0215b-9c38-48fb-fc77-23c0435ee71e",
    "tags": [
     "Exercise-3"
    ]
   },
   "outputs": [],
   "source": [
    "transformation_3 = None\n",
    "\n",
    "# YOUR CODE HERE\n",
    "x=-90\n",
    "theta = player.get_orientation()\n",
    "transformation_back_to_origin = [[1,0,-40*cos(theta)],[0,1,-40*sin(theta)],[0,0,1]]\n",
    "transformation_3 =np.matmul(np.array([\n",
    "    [cos(x),-sin(x),40*cos(theta)],\n",
    "    [sin(x),cos(x),40*sin(theta)],\n",
    "    [0,0,1]\n",
    "    ]),transformation_back_to_origin) \n",
    "player.set_position(np.matmul(transformation_3,player.get_position()))"
   ]
  },
  {
   "cell_type": "code",
   "execution_count": 22,
   "metadata": {
    "colab": {
     "base_uri": "https://localhost:8080/",
     "height": 700
    },
    "colab_type": "code",
    "deletable": false,
    "editable": false,
    "executionInfo": {
     "elapsed": 1631,
     "status": "ok",
     "timestamp": 1573405672542,
     "user": {
      "displayName": "Bipin Lekhak",
      "photoUrl": "https://lh3.googleusercontent.com/a-/AAuE7mC0npxAmD58IVdiy3h9vCTh13e4uXCLTF9u4kJ3=s64",
      "userId": "09547906499567078667"
     },
     "user_tz": -345
    },
    "id": "qHO7cvp3cAG8",
    "nbgrader": {
     "checksum": "4ee067ad6270f08a6fbb9117ad1060af",
     "grade": true,
     "grade_id": "cell-66ed9344003d66d4",
     "locked": true,
     "points": 15,
     "schema_version": 1,
     "solution": false
    },
    "outputId": "270903bc-eb72-4f53-fd69-37b0909815f0",
    "tags": [
     "Exercise-3"
    ]
   },
   "outputs": [
    {
     "data": {
      "image/png": "[encoded data removed]",
      "text/plain": [
       "<Figure size 864x864 with 1 Axes>"
      ]
     },
     "metadata": {},
     "output_type": "display_data"
    }
   ],
   "source": [
    "assert transformation_3 is not None\n",
    "scene.plot(player)\n"
   ]
  },
  {
   "cell_type": "markdown",
   "metadata": {
    "colab_type": "text",
    "deletable": false,
    "editable": false,
    "id": "lcal9F52cAHB",
    "nbgrader": {
     "checksum": "bff6013a5f248221e5583125ff5ddf73",
     "grade": false,
     "grade_id": "cell-e0874623b2b342bf",
     "locked": true,
     "schema_version": 1,
     "solution": false
    },
    "tags": [
     "Exercise-4"
    ]
   },
   "source": [
    "## Exercise 4: Rotate the Player\n",
    "<b><div style=\"text-align: right\">[POINTS: 5]</div></b>\n",
    "Your fourth task is to move the player by 20 units in the direction of its current orientation.\n",
    "\n",
    "**Task:** \n",
    "Find the translation matrix required for this task in homogeneous co-ordinate system and assign it to the variable ```transformation_4```. Use this to transform the points and set the new position of the player using its ```set_position()``` method.\n",
    "\n",
    "\n"
   ]
  },
  {
   "cell_type": "code",
   "execution_count": 23,
   "metadata": {
    "colab": {
     "base_uri": "https://localhost:8080/",
     "height": 119
    },
    "colab_type": "code",
    "deletable": false,
    "executionInfo": {
     "elapsed": 1590,
     "status": "ok",
     "timestamp": 1573405675720,
     "user": {
      "displayName": "Bipin Lekhak",
      "photoUrl": "https://lh3.googleusercontent.com/a-/AAuE7mC0npxAmD58IVdiy3h9vCTh13e4uXCLTF9u4kJ3=s64",
      "userId": "09547906499567078667"
     },
     "user_tz": -345
    },
    "id": "mYQUveVQcAHD",
    "nbgrader": {
     "checksum": "00184db3ce8b411b73ac323e8e4e37fe",
     "grade": false,
     "grade_id": "cell-b08fa144e57aa5bb",
     "locked": false,
     "schema_version": 1,
     "solution": true
    },
    "outputId": "2748e831-7492-4289-9339-6c8874691de0",
    "tags": [
     "Exercise-4"
    ]
   },
   "outputs": [],
   "source": [
    "transformation_4 = None\n",
    "\n",
    "# YOUR CODE HERE\n",
    "theta = player.get_orientation()\n",
    "transformation_4= np.array([\n",
    "                    [1,0,20*cos(theta)],\n",
    "                    [0,1,20*sin(theta)],\n",
    "                    [0,0,1]]\n",
    ")\n",
    "player.set_position(np.matmul(transformation_4,player.get_position()))\n",
    "\n",
    "# print(transformation_4)\n",
    "# print(player.get_position())"
   ]
  },
  {
   "cell_type": "code",
   "execution_count": 24,
   "metadata": {
    "colab": {},
    "colab_type": "code",
    "deletable": false,
    "editable": false,
    "id": "p3ckuivpcAHH",
    "nbgrader": {
     "checksum": "583a036bf463c865695c18fa7f33dff5",
     "grade": true,
     "grade_id": "cell-c35e4b9eb26a00d1",
     "locked": true,
     "points": 5,
     "schema_version": 1,
     "solution": false
    },
    "tags": [
     "Exercise-4"
    ]
   },
   "outputs": [
    {
     "data": {
      "image/png": "[encoded data removed]",
      "text/plain": [
       "<Figure size 864x864 with 1 Axes>"
      ]
     },
     "metadata": {},
     "output_type": "display_data"
    }
   ],
   "source": [
    "assert transformation_4 is not None\n",
    "scene.plot(player)\n"
   ]
  },
  {
   "cell_type": "code",
   "execution_count": null,
   "metadata": {},
   "outputs": [],
   "source": []
  },
  {
   "cell_type": "code",
   "execution_count": null,
   "metadata": {},
   "outputs": [],
   "source": []
  },
  {
   "cell_type": "code",
   "execution_count": null,
   "metadata": {},
   "outputs": [],
   "source": []
  },
  {
   "cell_type": "code",
   "execution_count": null,
   "metadata": {},
   "outputs": [],
   "source": []
  }
 ],
 "metadata": {
  "colab": {
   "name": "Assignment_Linear_Transformation.ipynb",
   "provenance": []
  },
  "kernelspec": {
   "display_name": "Python 3",
   "language": "python",
   "name": "python3"
  },
  "language_info": {
   "codemirror_mode": {
    "name": "ipython",
    "version": 3
   },
   "file_extension": ".py",
   "mimetype": "text/x-python",
   "name": "python",
   "nbconvert_exporter": "python",
   "pygments_lexer": "ipython3",
   "version": "3.6.8"
  }
 },
 "nbformat": 4,
 "nbformat_minor": 1
}
