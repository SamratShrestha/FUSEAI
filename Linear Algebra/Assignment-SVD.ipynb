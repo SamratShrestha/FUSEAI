{
 "cells": [
  {
   "cell_type": "markdown",
   "metadata": {
    "colab_type": "text",
    "deletable": false,
    "editable": false,
    "id": "0POu4Htix2mh",
    "nbgrader": {
     "checksum": "d1c7f842f32d5f5d6dbfee71d4de58ec",
     "grade": false,
     "grade_id": "cell-3a82bdee606edad1",
     "locked": true,
     "schema_version": 1,
     "solution": false
    }
   },
   "source": [
    "# Assignment: Singular Value Decomposition\n",
    "\n",
    "---\n",
    "\n",
    "\n",
    "<b><div style=\"text-align: right\">[TOTAL POINTS: 20]</div></b>\n",
    "\n",
    "Welcome to the Final Assignment of the Module.\n",
    "Here we test your understanding of the Singular Value Decomposition (SVD) by demonstrating a use case for doing cool stuffs with SVD.\n",
    "\n",
    "Our main task in this assignment is to use SVD to calculate surface normal for individual points in a point clouds. These surface normals can be useful in diferent applications involving 3D shapes, including but not limmited to robotics, graphics, computer vision etc.\n",
    "\n",
    "\n",
    "*Note: Surface normal refers to a vector that is perpendicular to a plane that describes any surface.*\n"
   ]
  },
  {
   "cell_type": "markdown",
   "metadata": {
    "colab_type": "text",
    "deletable": false,
    "editable": false,
    "id": "yZnp5b5L761d",
    "nbgrader": {
     "checksum": "565cc7059d26156ce2c859a0b48d1cc8",
     "grade": false,
     "grade_id": "cell-759ea09b9d6b1cf0",
     "locked": true,
     "schema_version": 1,
     "solution": false
    }
   },
   "source": [
    "## Dataset Description\n",
    "**Source:**: The dataset used in this assignment is a famous 3D model named: Stanford Bunny model whose details can be found [here](http://graphics.stanford.edu/data/3Dscanrep/).\n",
    "\n",
    "Number of Instances: **40256**\n",
    "\n",
    "Number of Attributes: **3**\n",
    "\n",
    "---\n",
    "Real-life data relating to 3D objects are sometimes represented in form of **point clouds**. \n",
    "\n",
    "Pointcloud refers to a set of data points in a space. We restrict ourselves to the 3 dimensional Cartesian Space, which by now you might have realized is the most natural way to think about objects in real life. \n",
    "\n",
    "So when a real-life 3d object is represented as a point cloud, we expect the object to be represented by many points which are part of the object's surface and the appearence of the point cloud in bulk is such that it builds perception of vision of that particular object to a human observer.\n",
    "\n",
    "Here is a small animation that will help you visualize how the 3D model actually looks:\n",
    "<figure>\n",
    "  <center>\n",
    "    <img src='https://storage.googleapis.com/codehub-data/5-A-2-7-bunny.gif'/>\n",
    "  </center>\n",
    "</figure>\n",
    "Notice that the yellowish looking points are dense enough and also positioned such that they give the visual perception of bunny, when infact they are just points in 3D plane with (x,y,z) coordinates. We shall see the data shortly. One thing to note is that it is completely different from how a normal image (2d image) is represented.\n",
    "\n",
    "The attributes of the data are as follows:\n",
    "\n",
    "1.   **x:** x co-ordinate of a point\n",
    "1.   **y:** y co-ordinate of a point\n",
    "1.   **z:** z co-ordinate of a point\n",
    "\n",
    "The target is to compute **surface normals** for different points in point-cloud."
   ]
  },
  {
   "cell_type": "markdown",
   "metadata": {
    "colab_type": "text",
    "deletable": false,
    "editable": false,
    "id": "u2RdZxYDApYQ",
    "nbgrader": {
     "checksum": "98a0b6c4004c329767c6de361e4e835e",
     "grade": false,
     "grade_id": "cell-2609dc71fe33d803",
     "locked": true,
     "schema_version": 1,
     "solution": false
    }
   },
   "source": [
    "Lets get started by importing necessary modules: The usual suspects: Numpy, and Matplotlib. We also import cKDTree from scipy. This will be useful in later part of assignment but we will not go into much details as the details are irrelevant to the course. Just keep in mind that we will use it later."
   ]
  },
  {
   "cell_type": "code",
   "execution_count": 1,
   "metadata": {
    "colab": {},
    "colab_type": "code",
    "id": "RqStixnQAt5Y"
   },
   "outputs": [],
   "source": [
    "import numpy as np\n",
    "import matplotlib.pyplot as plt\n",
    "from scipy.spatial import cKDTree"
   ]
  },
  {
   "cell_type": "markdown",
   "metadata": {
    "colab_type": "text",
    "deletable": false,
    "editable": false,
    "id": "-hc0uCYbBhI5",
    "nbgrader": {
     "checksum": "8bc2ed9d963d78c20a6ebf1ca118ed45",
     "grade": false,
     "grade_id": "cell-889c05d87c7c3a05",
     "locked": true,
     "schema_version": 1,
     "solution": false
    }
   },
   "source": [
    "Now, let us have a quick look at the data:"
   ]
  },
  {
   "cell_type": "code",
   "execution_count": 5,
   "metadata": {
    "colab": {
     "base_uri": "https://localhost:8080/",
     "height": 136
    },
    "colab_type": "code",
    "deletable": false,
    "editable": false,
    "id": "jaJE9ocZCBCx",
    "nbgrader": {
     "checksum": "8e4eaca490597a06a1675cb082b49bf2",
     "grade": false,
     "grade_id": "cell-c87ec705790ad401",
     "locked": true,
     "schema_version": 1,
     "solution": false
    },
    "outputId": "da0fe93f-fca7-460a-8f63-31a7c88a6ee0"
   },
   "outputs": [
    {
     "data": {
      "text/plain": [
       "array([[-0.06325 ,  0.035979,  0.042087],\n",
       "       [-0.06275 ,  0.036034,  0.042595],\n",
       "       [-0.0645  ,  0.03651 ,  0.040436],\n",
       "       ...,\n",
       "       [-0.01575 ,  0.187201, -0.022021],\n",
       "       [-0.01525 ,  0.187218, -0.023778],\n",
       "       [-0.018   ,  0.18794 , -0.019725]])"
      ]
     },
     "execution_count": 5,
     "metadata": {},
     "output_type": "execute_result"
    }
   ],
   "source": [
    "!wget -qO bunny.xyz 'https://storage.googleapis.com/codehub-data/5-A-2-7-bunny.xyz'\n",
    "bunny_points = np.genfromtxt('bunny.xyz')\n",
    "bunny_points"
   ]
  },
  {
   "cell_type": "code",
   "execution_count": 3,
   "metadata": {
    "colab": {
     "base_uri": "https://localhost:8080/",
     "height": 34
    },
    "colab_type": "code",
    "id": "l7ZjzFvfCKVO",
    "outputId": "df253fd3-2503-4477-8d47-4652fcb6b5e4"
   },
   "outputs": [
    {
     "data": {
      "text/plain": [
       "(40256, 3)"
      ]
     },
     "execution_count": 3,
     "metadata": {},
     "output_type": "execute_result"
    }
   ],
   "source": [
    "bunny_points.shape"
   ]
  },
  {
   "cell_type": "markdown",
   "metadata": {
    "colab_type": "text",
    "deletable": false,
    "editable": false,
    "id": "8noarFgcCOsK",
    "nbgrader": {
     "checksum": "a5a5a36d243e5fbfb9378a9e2bffeb2c",
     "grade": false,
     "grade_id": "cell-874dbe813e928198",
     "locked": true,
     "schema_version": 1,
     "solution": false
    }
   },
   "source": [
    "The shape of (40256, 3), as you might have guessed it refers to the 40256 points each represented by a row and the 3 columns representing the x, y and z values.\n",
    "\n",
    "Now, in many applications we will be interested in projecting the object in 2D instead of using 3D. Let us try to project the image into 2D and visualize it.\n",
    "\n",
    "For projecting in 2D we try a trivial yet popular method, called the orthographic projection. We want to project the image in the x-y plane so, we simply get rid of the z plane no matter what the value of z. "
   ]
  },
  {
   "cell_type": "code",
   "execution_count": 56,
   "metadata": {
    "colab": {
     "base_uri": "https://localhost:8080/",
     "height": 282
    },
    "colab_type": "code",
    "id": "5OTuybg_CM9C",
    "outputId": "027a26b5-b4a2-43d4-f40b-e0fd3788ab03"
   },
   "outputs": [
    {
     "data": {
      "text/plain": [
       "<matplotlib.collections.PathCollection at 0x7f986127eb00>"
      ]
     },
     "execution_count": 56,
     "metadata": {},
     "output_type": "execute_result"
    },
    {
     "data": {
      "image/png": "[encoded data removed]",
      "text/plain": [
       "<Figure size 432x288 with 1 Axes>"
      ]
     },
     "metadata": {},
     "output_type": "display_data"
    }
   ],
   "source": [
    "# Code HERE\n",
    "# find orthographic projection by getting rid of z axis\n",
    "# 1 line\n",
    "bunny_projected = bunny_points[:, 0:2]\n",
    "# Code Ends\n",
    "\n",
    "# Visualize the orthgraphic projection using scatter plot\n",
    "plt.scatter(bunny_projected[:,0], bunny_projected[:,1], s=1)"
   ]
  },
  {
   "cell_type": "markdown",
   "metadata": {
    "colab_type": "text",
    "deletable": false,
    "editable": false,
    "id": "MM4r9nRVDz9A",
    "nbgrader": {
     "checksum": "e36d3f39f3ba39d736fbfd941bf54661",
     "grade": false,
     "grade_id": "cell-cd663e1248c10d95",
     "locked": true,
     "schema_version": 1,
     "solution": false
    }
   },
   "source": [
    "You may have immediately noticed that when this projection is made, a lot of information (especially the information relating to z values) are lost. The projected image does not seem representative of the original image.\n",
    "\n",
    "This loss of image seems mostly prominent towards the leg (try finding the hind left leg of the bunny in the projected image) and also somehow towards the ear (the grooves of ear visible in the 3D are hidden from 2D.\n",
    "\n",
    "Also notice that, if we extract edges from this projected bunny (It is common that we look to represent an object by only its edges), the information lost will be lost totally and the edges will be completely different from the original 3D image.\n",
    "\n",
    "For correctly extracting edges in 2D projection, we might want to do some smart operations in the 3D cloud before we do the projection. This way we will be able to capture the nuances of the object in a more appropriate way. This is where surface normals come handy."
   ]
  },
  {
   "cell_type": "markdown",
   "metadata": {
    "colab_type": "text",
    "deletable": false,
    "editable": false,
    "id": "dKJC6qVjNE4N",
    "nbgrader": {
     "checksum": "221211c2870ac9e3ba130ef168a95180",
     "grade": false,
     "grade_id": "cell-ce9c88f71c95876f",
     "locked": true,
     "schema_version": 1,
     "solution": false
    }
   },
   "source": [
    "Our next task is to compute surface normals for different points in point-cloud. This surface normals will be later used to filter points from the 3d point cloud before projection, so as to preserve some properties of point-cloud. \n",
    "\n",
    "We compute surface normal by following algorithm:\n",
    "\n",
    "For each point:\n",
    "1. Find the k nearest neighbors (we use 5)\n",
    "2. Compute centroid of all the neighbor points\n",
    "3. Calculate vectors that represent the vectors from centroid to each neighboring points\n",
    "4. Using SVD, determine the three singular vectors in cartesian coordinates (xyz). The right singular vector with smallest associated singular value is the surface normal."
   ]
  },
  {
   "cell_type": "markdown",
   "metadata": {
    "colab_type": "text",
    "deletable": false,
    "editable": false,
    "id": "4weYr8XPPRhs",
    "nbgrader": {
     "checksum": "ac4f23fcdd2d5fb5c010017fda26811b",
     "grade": false,
     "grade_id": "cell-d801cac00d1f4127",
     "locked": true,
     "schema_version": 1,
     "solution": false
    }
   },
   "source": [
    "The first step of algorithm deals with finding nearest neighbor which has already been implemented for you here."
   ]
  },
  {
   "cell_type": "code",
   "execution_count": 89,
   "metadata": {
    "colab": {},
    "colab_type": "code",
    "deletable": false,
    "editable": false,
    "id": "AMR2_rktPh3m",
    "nbgrader": {
     "checksum": "f2b07a6f561a16c5824142bac9782c4b",
     "grade": false,
     "grade_id": "cell-61cf23831fd2eb21",
     "locked": true,
     "schema_version": 1,
     "solution": false
    }
   },
   "outputs": [],
   "source": [
    "def find_k_neighbors(point_cloud, query_point, k=5):\n",
    "    \"\"\"\n",
    "    Function takes pointcloud and querypoint and number of nearest neighbor to \n",
    "    search for.\n",
    "\n",
    "    Inputs:\n",
    "        point_cloud: numpy array containing entire pointcloud to search from\n",
    "        query_point: single point whose neares neighbor is to be calculated\n",
    "        k: number of nearest neighbors to be calculated, default=5\n",
    "\n",
    "    Outputs:\n",
    "        k nearest neighbors of the query_point\n",
    "    \"\"\"\n",
    "    \n",
    "    tree = cKDTree(point_cloud)\n",
    "    _, indices = tree.query(query_point, k=k)\n",
    "    return indices"
   ]
  },
  {
   "cell_type": "markdown",
   "metadata": {
    "colab_type": "text",
    "id": "cGPxwPdJx2nQ",
    "tags": [
     "Exercise-1"
    ]
   },
   "source": [
    "### Exercise 1: Compute centroid\n",
    "<b><div style=\"text-align:right\">[POINTS: 5]</div></b>\n",
    "Calculate the centroid of the neighouring points obtained from above function.\n",
    "\n",
    "**Task:** \n",
    "- Complete the function `compute_centroid` that takes in a $(k, 3)$ shaped numpy array and returns the centroid of given set of points.\n",
    "\n",
    "**Note:** Centroid of group of vectors will be equal to the mean of their individual components.\n"
   ]
  },
  {
   "cell_type": "code",
   "execution_count": 84,
   "metadata": {
    "colab": {},
    "colab_type": "code",
    "deletable": false,
    "id": "cuGcV19yRE4L",
    "nbgrader": {
     "checksum": "d69c3661038d6be738981649a80d5517",
     "grade": false,
     "grade_id": "cell-f4f3580d9d81e7d8",
     "locked": false,
     "schema_version": 1,
     "solution": true
    },
    "tags": [
     "Exercise-1"
    ]
   },
   "outputs": [
    {
     "name": "stdout",
     "output_type": "stream",
     "text": [
      "[6. 7. 8.]\n"
     ]
    }
   ],
   "source": [
    "def compute_centroid(k_points):\n",
    "    centroid = None\n",
    "    # YOUR CODE HERE\n",
    "    centroid = np.mean(k_points,axis=0)\n",
    "    return centroid\n",
    "points__ = np.arange(15).reshape(-1,3)\n",
    "centroid__ = compute_centroid(points__)\n",
    "print(centroid__)"
   ]
  },
  {
   "cell_type": "code",
   "execution_count": 85,
   "metadata": {
    "colab": {},
    "colab_type": "code",
    "deletable": false,
    "editable": false,
    "id": "Rt9VGQpbx2nU",
    "nbgrader": {
     "checksum": "eb6b5d8398fbeb2288d377fc9d9aaccd",
     "grade": true,
     "grade_id": "cell-1a8e15a8c8eff3a9",
     "locked": true,
     "points": 5,
     "schema_version": 1,
     "solution": false
    },
    "tags": [
     "Exercise-1"
    ]
   },
   "outputs": [],
   "source": [
    "points__ = np.arange(15).reshape(-1,3)\n",
    "centroid__ = compute_centroid(points__)\n"
   ]
  },
  {
   "cell_type": "markdown",
   "metadata": {
    "colab_type": "text",
    "id": "pgQxOsXQx2nY",
    "tags": [
     "Exercise-2"
    ]
   },
   "source": [
    "### Exercise 2: Compute vectors\n",
    "<b><div style=\"text-align:right\">[POINTS: 5]</div></b>\n",
    "Calculate vectors that represent vectors from centroid to each neighboring points.\n",
    "\n",
    "**Task:** \n",
    "- Calculate vector between two points\n",
    "\n",
    "*Hint:* Vector from point $\\mathbf{x_1}$ to point $\\mathbf{x_2}$ will be $\\mathbf{x_2 - x_1}$"
   ]
  },
  {
   "cell_type": "code",
   "execution_count": 88,
   "metadata": {
    "colab": {},
    "colab_type": "code",
    "deletable": false,
    "id": "IN2-61VbR41H",
    "nbgrader": {
     "checksum": "0e6f086a13716d77614fa678f7c8acbe",
     "grade": false,
     "grade_id": "cell-35d44e2aa9eee4bb",
     "locked": false,
     "schema_version": 1,
     "solution": true
    },
    "tags": [
     "Exercise-2"
    ]
   },
   "outputs": [
    {
     "name": "stdout",
     "output_type": "stream",
     "text": [
      "[[-6. -6. -6.]\n",
      " [-3. -3. -3.]\n",
      " [ 0.  0.  0.]\n",
      " [ 3.  3.  3.]\n",
      " [ 6.  6.  6.]]\n"
     ]
    }
   ],
   "source": [
    "def compute_vectors(k_points):\n",
    "    centroid = compute_centroid(k_points)\n",
    "    # YOUR CODE HERE\n",
    "    k_vectors = k_points - centroid\n",
    "    return k_vectors\n",
    "vectors__ = compute_vectors(points__)\n",
    "print(vectors__)"
   ]
  },
  {
   "cell_type": "code",
   "execution_count": 87,
   "metadata": {
    "colab": {},
    "colab_type": "code",
    "deletable": false,
    "editable": false,
    "id": "10LzY2jTx2nc",
    "nbgrader": {
     "checksum": "deeaed94273b943af35892aeadbae1d4",
     "grade": true,
     "grade_id": "cell-946ceaaf1cac1416",
     "locked": true,
     "points": 5,
     "schema_version": 1,
     "solution": false
    },
    "tags": [
     "Exercise-2"
    ]
   },
   "outputs": [],
   "source": [
    "vectors__ = compute_vectors(points__)\n"
   ]
  },
  {
   "cell_type": "markdown",
   "metadata": {
    "colab_type": "text",
    "deletable": false,
    "editable": false,
    "id": "a5oOzAzpx2nf",
    "nbgrader": {
     "checksum": "ea859a07172cb7ee4b3a3a91ea23dc4b",
     "grade": false,
     "grade_id": "cell-ed8e2ec98d01a79c",
     "locked": true,
     "schema_version": 1,
     "solution": false
    },
    "tags": [
     "Exercise-3"
    ]
   },
   "source": [
    "### Exercise 3: Obtain surface normal of point cloud\n",
    "<b><div style=\"text-align:right\">[POINTS: 10]</div></b>\n",
    "Using SVD, determine the three singular vectors in cartesian coordinates (xyz). The right singular vector with smallest associated singular value is the surface normal.\n",
    "\n",
    "**Task:** \n",
    "- Complete function that takes group of vectors in form of matrix, computes SVD, and returns the surface normal, i.e. the right singular vector with smallest singular value which is normally the last row of right singular matrix."
   ]
  },
  {
   "cell_type": "code",
   "execution_count": 76,
   "metadata": {
    "colab": {},
    "colab_type": "code",
    "deletable": false,
    "id": "nQ3fIu3MSx8o",
    "nbgrader": {
     "checksum": "e0cd8f523ea0707a0453182a60ae67e3",
     "grade": false,
     "grade_id": "cell-6dad94692ca77325",
     "locked": false,
     "schema_version": 1,
     "solution": true
    },
    "tags": [
     "Exercise-3"
    ]
   },
   "outputs": [],
   "source": [
    "def compute_normal(matrix):\n",
    "    # Compute SVD: 1 line\n",
    "\n",
    "    # YOUR CODE HERE\n",
    "    u,s,vh = np.linalg.svd(matrix)\n",
    "    surface_normal = vh[2]\n",
    "    return surface_normal "
   ]
  },
  {
   "cell_type": "code",
   "execution_count": 77,
   "metadata": {
    "colab": {},
    "colab_type": "code",
    "deletable": false,
    "editable": false,
    "id": "PpLvHdwJx2nk",
    "nbgrader": {
     "checksum": "d97c89550e1c299b3c8115ab40f0560b",
     "grade": true,
     "grade_id": "cell-1833954952b07bc1",
     "locked": true,
     "points": 10,
     "schema_version": 1,
     "solution": false
    },
    "tags": [
     "Exercise-3"
    ]
   },
   "outputs": [],
   "source": [
    "normal__ = compute_normal(vectors__)\n"
   ]
  },
  {
   "cell_type": "markdown",
   "metadata": {
    "colab_type": "text",
    "deletable": false,
    "editable": false,
    "id": "DM8iUCYUT1Bx",
    "nbgrader": {
     "checksum": "32e8f91e82af73f70097dbb5dadecabe",
     "grade": false,
     "grade_id": "cell-455c9f9ca9a37094",
     "locked": true,
     "schema_version": 1,
     "solution": false
    }
   },
   "source": [
    "Now that we have completed all the individual steps, lets combine the algorithm in a single function to compute surface normal."
   ]
  },
  {
   "cell_type": "code",
   "execution_count": 78,
   "metadata": {
    "colab": {},
    "colab_type": "code",
    "deletable": false,
    "editable": false,
    "id": "3TbWqLKrSo5-",
    "nbgrader": {
     "checksum": "fcd2ad960f7209f7c4594d083942200c",
     "grade": false,
     "grade_id": "cell-21edc9b571dccfb1",
     "locked": true,
     "schema_version": 1,
     "solution": false
    }
   },
   "outputs": [],
   "source": [
    "def get_normals(point_cloud):\n",
    "    normals = np.zeros_like(point_cloud, dtype='float64')\n",
    "\n",
    "    neighbor_indices = find_k_neighbors(point_cloud, point_cloud)\n",
    "\n",
    "    for i, point in enumerate(point_cloud):\n",
    "        neighbors_ = neighbor_indices[i]\n",
    "        k_nearest_points = point_cloud[neighbors_]\n",
    "        k_vectors = compute_vectors(k_nearest_points)\n",
    "        normal = compute_normal(k_vectors)\n",
    "        normals[i] = normal\n",
    "\n",
    "    return normals"
   ]
  },
  {
   "cell_type": "markdown",
   "metadata": {
    "colab_type": "text",
    "deletable": false,
    "editable": false,
    "id": "FMJszojzVA4Y",
    "nbgrader": {
     "checksum": "c19877cda7028296ad5d3e4cab08ef30",
     "grade": false,
     "grade_id": "cell-545e6123e3688ce4",
     "locked": true,
     "schema_version": 1,
     "solution": false
    }
   },
   "source": [
    "Great...\n",
    "Now lets compute normals for the bunny.\n",
    "\n",
    "This might take some time..... Be patient, Sit back and relax :)"
   ]
  },
  {
   "cell_type": "code",
   "execution_count": 79,
   "metadata": {
    "colab": {
     "base_uri": "https://localhost:8080/",
     "height": 324
    },
    "colab_type": "code",
    "deletable": false,
    "editable": false,
    "id": "CVZy0Q0AU4G8",
    "nbgrader": {
     "checksum": "b7d9342fdde5602daa1ed481fd1bd57c",
     "grade": false,
     "grade_id": "cell-194287e604b45515",
     "locked": true,
     "schema_version": 1,
     "solution": false
    },
    "outputId": "1762acb4-cd71-4169-abc7-b50b56191abd"
   },
   "outputs": [
    {
     "ename": "ValueError",
     "evalue": "operands could not be broadcast together with shapes (5,3) (5,) ",
     "output_type": "error",
     "traceback": [
      "\u001b[0;31m---------------------------------------------------------------------------\u001b[0m",
      "\u001b[0;31mValueError\u001b[0m                                Traceback (most recent call last)",
      "\u001b[0;32m<ipython-input-79-12183fabadfc>\u001b[0m in \u001b[0;36m<module>\u001b[0;34m()\u001b[0m\n\u001b[0;32m----> 1\u001b[0;31m \u001b[0mbunny_normals\u001b[0m \u001b[0;34m=\u001b[0m \u001b[0mget_normals\u001b[0m\u001b[0;34m(\u001b[0m\u001b[0mbunny_points\u001b[0m\u001b[0;34m)\u001b[0m\u001b[0;34m\u001b[0m\u001b[0;34m\u001b[0m\u001b[0m\n\u001b[0m\u001b[1;32m      2\u001b[0m \u001b[0mbunny_normals\u001b[0m\u001b[0;34m.\u001b[0m\u001b[0mshape\u001b[0m\u001b[0;34m\u001b[0m\u001b[0;34m\u001b[0m\u001b[0m\n",
      "\u001b[0;32m<ipython-input-78-eb206e74f0f0>\u001b[0m in \u001b[0;36mget_normals\u001b[0;34m(point_cloud)\u001b[0m\n\u001b[1;32m      7\u001b[0m         \u001b[0mneighbors_\u001b[0m \u001b[0;34m=\u001b[0m \u001b[0mneighbor_indices\u001b[0m\u001b[0;34m[\u001b[0m\u001b[0mi\u001b[0m\u001b[0;34m]\u001b[0m\u001b[0;34m\u001b[0m\u001b[0;34m\u001b[0m\u001b[0m\n\u001b[1;32m      8\u001b[0m         \u001b[0mk_nearest_points\u001b[0m \u001b[0;34m=\u001b[0m \u001b[0mpoint_cloud\u001b[0m\u001b[0;34m[\u001b[0m\u001b[0mneighbors_\u001b[0m\u001b[0;34m]\u001b[0m\u001b[0;34m\u001b[0m\u001b[0;34m\u001b[0m\u001b[0m\n\u001b[0;32m----> 9\u001b[0;31m         \u001b[0mk_vectors\u001b[0m \u001b[0;34m=\u001b[0m \u001b[0mcompute_vectors\u001b[0m\u001b[0;34m(\u001b[0m\u001b[0mk_nearest_points\u001b[0m\u001b[0;34m)\u001b[0m\u001b[0;34m\u001b[0m\u001b[0;34m\u001b[0m\u001b[0m\n\u001b[0m\u001b[1;32m     10\u001b[0m         \u001b[0mnormal\u001b[0m \u001b[0;34m=\u001b[0m \u001b[0mcompute_normal\u001b[0m\u001b[0;34m(\u001b[0m\u001b[0mk_vectors\u001b[0m\u001b[0;34m)\u001b[0m\u001b[0;34m\u001b[0m\u001b[0;34m\u001b[0m\u001b[0m\n\u001b[1;32m     11\u001b[0m         \u001b[0mnormals\u001b[0m\u001b[0;34m[\u001b[0m\u001b[0mi\u001b[0m\u001b[0;34m]\u001b[0m \u001b[0;34m=\u001b[0m \u001b[0mnormal\u001b[0m\u001b[0;34m\u001b[0m\u001b[0;34m\u001b[0m\u001b[0m\n",
      "\u001b[0;32m<ipython-input-74-82adef6bd5f0>\u001b[0m in \u001b[0;36mcompute_vectors\u001b[0;34m(k_points)\u001b[0m\n\u001b[1;32m      2\u001b[0m     \u001b[0mcentroid\u001b[0m \u001b[0;34m=\u001b[0m \u001b[0mcompute_centroid\u001b[0m\u001b[0;34m(\u001b[0m\u001b[0mk_points\u001b[0m\u001b[0;34m)\u001b[0m\u001b[0;34m\u001b[0m\u001b[0;34m\u001b[0m\u001b[0m\n\u001b[1;32m      3\u001b[0m     \u001b[0;31m# YOUR CODE HERE\u001b[0m\u001b[0;34m\u001b[0m\u001b[0;34m\u001b[0m\u001b[0;34m\u001b[0m\u001b[0m\n\u001b[0;32m----> 4\u001b[0;31m     \u001b[0mk_vectors\u001b[0m \u001b[0;34m=\u001b[0m \u001b[0mk_points\u001b[0m \u001b[0;34m-\u001b[0m \u001b[0mcentroid\u001b[0m\u001b[0;34m\u001b[0m\u001b[0;34m\u001b[0m\u001b[0m\n\u001b[0m\u001b[1;32m      5\u001b[0m     \u001b[0;32mreturn\u001b[0m \u001b[0mk_vectors\u001b[0m\u001b[0;34m\u001b[0m\u001b[0;34m\u001b[0m\u001b[0m\n",
      "\u001b[0;31mValueError\u001b[0m: operands could not be broadcast together with shapes (5,3) (5,) "
     ]
    }
   ],
   "source": [
    "bunny_normals = get_normals(bunny_points)\n",
    "bunny_normals.shape"
   ]
  },
  {
   "cell_type": "markdown",
   "metadata": {
    "colab_type": "text",
    "deletable": false,
    "editable": false,
    "id": "JR3aGEzrU9Dw",
    "nbgrader": {
     "checksum": "9afbcf9c10b7267ac3b095419cc750d0",
     "grade": false,
     "grade_id": "cell-2929c7b68ee30512",
     "locked": true,
     "schema_version": 1,
     "solution": false
    }
   },
   "source": [
    "Now that we have the normals, we fliter the points to get the edges.\n",
    "For this particular task we, filter all the points whose z value for normal has an absolute value less than 0.6: i.e. we filter out points whose z value of normal are either > 0.6 or < 0.6"
   ]
  },
  {
   "cell_type": "code",
   "execution_count": 80,
   "metadata": {
    "colab": {},
    "colab_type": "code",
    "id": "usRl6mY2x2n7",
    "outputId": "bdf0aa88-4082-47d3-cd93-f40e719b0b61"
   },
   "outputs": [
    {
     "data": {
      "text/plain": [
       "array([[ 0.70194603,  0.47990273, -0.52627477],\n",
       "       [ 0.55483717,  0.5059102 , -0.6604624 ],\n",
       "       [-0.81507987, -0.21189767,  0.53920699],\n",
       "       ...,\n",
       "       [-0.87089258, -0.30214256, -0.38762867],\n",
       "       [-0.90397695, -0.21108247, -0.37184655],\n",
       "       [ 0.62097181,  0.66403503,  0.41647509]])"
      ]
     },
     "execution_count": 80,
     "metadata": {},
     "output_type": "execute_result"
    }
   ],
   "source": [
    "bunny_normals"
   ]
  },
  {
   "cell_type": "code",
   "execution_count": 81,
   "metadata": {
    "colab": {},
    "colab_type": "code",
    "deletable": false,
    "editable": false,
    "id": "H46aPRgrVnqX",
    "nbgrader": {
     "checksum": "8e031b1eb0cd48d9cab9def496b138fa",
     "grade": false,
     "grade_id": "cell-a007e304117ae175",
     "locked": true,
     "schema_version": 1,
     "solution": false
    }
   },
   "outputs": [],
   "source": [
    "def filter_points(point_cloud, surface_normal):\n",
    "    condition = np.where(\n",
    "        np.abs(surface_normal[:, 2]) <= 0.6\n",
    "    )\n",
    "    points_filtered = point_cloud[condition]\n",
    "    return points_filtered"
   ]
  },
  {
   "cell_type": "markdown",
   "metadata": {
    "colab_type": "text",
    "deletable": false,
    "editable": false,
    "id": "9u5z9lXSV6Wt",
    "nbgrader": {
     "checksum": "b230ff4a904db76dfa4e779bae636826",
     "grade": false,
     "grade_id": "cell-acbea77b26823d02",
     "locked": true,
     "schema_version": 1,
     "solution": false
    }
   },
   "source": [
    "Now lets use this filter to see the outcome"
   ]
  },
  {
   "cell_type": "code",
   "execution_count": 82,
   "metadata": {
    "colab": {},
    "colab_type": "code",
    "id": "PllV8PheV5mJ",
    "outputId": "92daaad5-6e02-450c-c7c3-0f000b72b62d"
   },
   "outputs": [
    {
     "data": {
      "text/plain": [
       "(9191, 3)"
      ]
     },
     "execution_count": 82,
     "metadata": {},
     "output_type": "execute_result"
    }
   ],
   "source": [
    "filtered_bunny = filter_points(bunny_points, bunny_normals)\n",
    "filtered_bunny.shape"
   ]
  },
  {
   "cell_type": "markdown",
   "metadata": {
    "colab_type": "text",
    "deletable": false,
    "editable": false,
    "id": "rqj6ulboWdC0",
    "nbgrader": {
     "checksum": "4c01675c17afeea5f76d046fa88dab25",
     "grade": false,
     "grade_id": "cell-92010ec22f586b99",
     "locked": true,
     "schema_version": 1,
     "solution": false
    }
   },
   "source": [
    "Now lets plot this bunny."
   ]
  },
  {
   "cell_type": "code",
   "execution_count": 83,
   "metadata": {
    "colab": {},
    "colab_type": "code",
    "id": "F2w2vosIV3Xw",
    "outputId": "de69af0a-60e3-4af2-afd0-a8179c94fbaa"
   },
   "outputs": [
    {
     "data": {
      "text/plain": [
       "<matplotlib.collections.PathCollection at 0x7f986215d668>"
      ]
     },
     "execution_count": 83,
     "metadata": {},
     "output_type": "execute_result"
    },
    {
     "data": {
      "image/png": "[encoded data removed]",
      "text/plain": [
       "<Figure size 432x288 with 1 Axes>"
      ]
     },
     "metadata": {},
     "output_type": "display_data"
    }
   ],
   "source": [
    "plt.scatter(filtered_bunny[:,0], filtered_bunny[:,1], s=1)"
   ]
  },
  {
   "cell_type": "code",
   "execution_count": 41,
   "metadata": {},
   "outputs": [
    {
     "name": "stdout",
     "output_type": "stream",
     "text": [
      "rm: cannot remove 'bunny.xyz': No such file or directory\r\n"
     ]
    }
   ],
   "source": [
    "# delete the model file\n",
    "!rm bunny.xyz"
   ]
  },
  {
   "cell_type": "code",
   "execution_count": null,
   "metadata": {},
   "outputs": [],
   "source": []
  }
 ],
 "metadata": {
  "colab": {
   "collapsed_sections": [],
   "name": "SVD_Assignment.ipynb",
   "provenance": []
  },
  "kernelspec": {
   "display_name": "Python 3",
   "language": "python",
   "name": "python3"
  },
  "language_info": {
   "codemirror_mode": {
    "name": "ipython",
    "version": 3
   },
   "file_extension": ".py",
   "mimetype": "text/x-python",
   "name": "python",
   "nbconvert_exporter": "python",
   "pygments_lexer": "ipython3",
   "version": "3.6.8"
  }
 },
 "nbformat": 4,
 "nbformat_minor": 1
}
