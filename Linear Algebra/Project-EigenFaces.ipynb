{
 "cells": [
  {
   "cell_type": "markdown",
   "metadata": {
    "colab_type": "text",
    "deletable": false,
    "editable": false,
    "id": "RJoTOWvwCyK8",
    "nbgrader": {
     "checksum": "496650f5053275ce3ae9024a3f04dda6",
     "grade": false,
     "grade_id": "cell-f7a172ad2fabdb7c",
     "locked": true,
     "schema_version": 1,
     "solution": false
    }
   },
   "source": [
    "# Eigen Faces\n",
    "\n",
    "---\n",
    "\n",
    "\n",
    "<b><div style=\"text-align: right\">[TOTAL POINTS: 100]</div></b>\n",
    "\n",
    "In this assignment you will learn to generate new human faces by using the concept of SVD from linear algebra. An image is defined by a collection of pixel values defined for each discrete point in a 2D plane. Human faces are alike(i.e. they have eyes, hair, nose, lips etc.) and can thus be decomposed into a number of distinct components. \n",
    "If we add these different components in different ratios we can generate various of faces. This assignment manipulates this fact to first decompose the images to generate its components using SVD. We then choose the top `n` components with greatest singular values. These are the components which include the most variance and rejecting the smaller components should do little harm to the quality of image. By only storing the top `n` components we can regenerate the whole set of images with little loss of information. \n",
    "\n",
    "This characteristic of SVD can be used in compressing images. Interesting, right? Let's start coding."
   ]
  },
  {
   "cell_type": "markdown",
   "metadata": {
    "colab_type": "text",
    "deletable": false,
    "editable": false,
    "id": "BnVWma1aCyLL",
    "nbgrader": {
     "checksum": "6278372795ea106c5386266aff03823c",
     "grade": false,
     "grade_id": "cell-00a8cda7934f8c64",
     "locked": true,
     "schema_version": 1,
     "solution": false
    }
   },
   "source": [
    "## Dataset Description\n",
    "**Source:** https://susanqq.github.io/UTKFace/\n",
    "\n",
    "UTKFace dataset is a large-scale face dataset with long age span (range from 0 to 116 years old). The dataset consists of over 20,000 face images with only one face in each image which are labelled by age, gender, and ethnicity. The dataset also provides correspondingly aligned and cropped faces and corresponding landmarks. The images cover large variation in pose, facial expression, illumination, occlusion, resolution, etc. This dataset could be used on a variety of tasks, e.g., face detection, age estimation, age progression/regression, landmark localization, etc.\n"
   ]
  },
  {
   "cell_type": "code",
   "execution_count": 1,
   "metadata": {
    "deletable": false,
    "editable": false,
    "nbgrader": {
     "checksum": "e85b166e8f45557ffc185969b7b9aa05",
     "grade": false,
     "grade_id": "cell-d6028232c8b02427",
     "locked": true,
     "schema_version": 1,
     "solution": false
    }
   },
   "outputs": [
    {
     "name": "stdout",
     "output_type": "stream",
     "text": [
      "--2021-06-16 15:07:46--  https://storage.googleapis.com/codehub-data/6-P-2-UTKFaces-Subset.zip\n",
      "Resolving storage.googleapis.com (storage.googleapis.com)... 209.85.146.128, 142.250.125.128, 142.250.136.128, ...\n",
      "Connecting to storage.googleapis.com (storage.googleapis.com)|209.85.146.128|:443... connected.\n",
      "HTTP request sent, awaiting response... 200 OK\n",
      "Length: 3268426 (3.1M) [application/x-zip-compressed]\n",
      "Saving to: ‘utk_subset.zip’\n",
      "\n",
      "utk_subset.zip      100%[===================>]   3.12M  --.-KB/s    in 0.03s   \n",
      "\n",
      "2021-06-16 15:07:51 (95.4 MB/s) - ‘utk_subset.zip’ saved [3268426/3268426]\n",
      "\n"
     ]
    }
   ],
   "source": [
    "!wget -O utk_subset.zip 'https://storage.googleapis.com/codehub-data/6-P-2-UTKFaces-Subset.zip'\n",
    "import sys\n",
    "from zipfile import PyZipFile\n",
    "pzf = PyZipFile('utk_subset.zip')\n",
    "pzf.extractall()\n",
    "# Dataset is now at the directory 'UTKsubset'"
   ]
  },
  {
   "cell_type": "markdown",
   "metadata": {
    "colab_type": "text",
    "deletable": false,
    "editable": false,
    "id": "Vtz_QpAlCyLY",
    "nbgrader": {
     "checksum": "b6e70a14dba237cf150c145f97b9d215",
     "grade": false,
     "grade_id": "cell-68df909a2f41cd67",
     "locked": true,
     "schema_version": 1,
     "solution": false
    }
   },
   "source": [
    "### Import libraries\n",
    "\n",
    "First, we will import the required libraries. We will need the help of four main libraries, namely, `numpy`, `os`,`PIL` and `matplotlib`. By now, you should be familiar with those libraries."
   ]
  },
  {
   "cell_type": "code",
   "execution_count": 2,
   "metadata": {
    "colab": {},
    "colab_type": "code",
    "deletable": false,
    "editable": false,
    "id": "R84lHfhbCyLj",
    "nbgrader": {
     "checksum": "bdbba45478962f83337d642ac23025e3",
     "grade": false,
     "grade_id": "cell-6d4e26dd28fa6af8",
     "locked": true,
     "schema_version": 1,
     "solution": false
    }
   },
   "outputs": [],
   "source": [
    "import numpy as np # for numerical manipulation and linear algebra\n",
    "import PIL.Image as Image   # for opening, resizing and filtering images\n",
    "import matplotlib.pyplot as plt # for plotting images\n",
    "import os # for walking through directories\n",
    "import random"
   ]
  },
  {
   "cell_type": "markdown",
   "metadata": {
    "colab_type": "text",
    "deletable": false,
    "editable": false,
    "id": "0vIq3ymMCyMA",
    "nbgrader": {
     "checksum": "c28abb82ddd55be5caeb62e435d08ed2",
     "grade": false,
     "grade_id": "cell-3007163ed30ce956",
     "locked": true,
     "schema_version": 1,
     "solution": false
    }
   },
   "source": [
    "### Prepare dataset\n",
    "Dataset has been downloaded and unzipped into folder `crop_part1`. In this section, we will use the `os.walk` function to walk through all the directories and files of the extracted folder and collect the path to all the files having '.jpg' extension.\n",
    "\n",
    "Then, we will load $500$ gray scale form of images of size $64\\times 64$ into a numpy array using `PIL` library to open, resize and convert the images to gray scale form. "
   ]
  },
  {
   "cell_type": "code",
   "execution_count": 3,
   "metadata": {
    "colab": {},
    "colab_type": "code",
    "deletable": false,
    "editable": false,
    "id": "s_epv9MbCyMN",
    "nbgrader": {
     "checksum": "ad270dd1681c3a80eb1aa8ac4795f4e8",
     "grade": false,
     "grade_id": "cell-3c44c4c584dd77a8",
     "locked": true,
     "schema_version": 1,
     "solution": false
    }
   },
   "outputs": [],
   "source": [
    "data_paths = [] # array for storing image paths\n",
    "labels = [] # array for storing image names\n",
    "\n",
    "def parse_gender(file_name):\n",
    "    return int(file_name.split('_')[1])\n",
    "for image_file_name in os.listdir('UTKsubset'):\n",
    "    \n",
    "    data_paths.append(os.path.join('UTKsubset', image_file_name))\n",
    "    labels.append(parse_gender(image_file_name))\n",
    "    \n",
    "temp = list(zip(data_paths, labels))\n",
    "random.shuffle(temp)\n",
    "data_paths, labels = zip(*temp)"
   ]
  },
  {
   "cell_type": "code",
   "execution_count": 4,
   "metadata": {
    "colab": {},
    "colab_type": "code",
    "deletable": false,
    "editable": false,
    "id": "kPNvVPXjCyMi",
    "nbgrader": {
     "checksum": "e7f41212b68c83bd493279167effc8ca",
     "grade": false,
     "grade_id": "cell-aaeeedc9ed6e3fb2",
     "locked": true,
     "schema_version": 1,
     "solution": false
    },
    "outputId": "ceda4e81-3fb1-48a5-eb8b-b1004b1de1e1"
   },
   "outputs": [],
   "source": [
    "height, width = 64 , 64 # designate the height and width to resize the images to\n",
    "NUM_IMAGES_TRAIN = 500  # define the number of images to train with \n",
    "NUM_IMAGES_TEST = 100  # define the number of images to test with\n",
    "\n",
    "train_images_paths = data_paths[:NUM_IMAGES_TRAIN]\n",
    "test_images_paths = data_paths[-NUM_IMAGES_TEST:]\n",
    "train_labels = labels[:NUM_IMAGES_TRAIN]\n",
    "test_labels = labels[-NUM_IMAGES_TEST:]\n"
   ]
  },
  {
   "cell_type": "code",
   "execution_count": 5,
   "metadata": {
    "deletable": false,
    "editable": false,
    "nbgrader": {
     "checksum": "2e68560f4ac60baaea959ec2e1afd734",
     "grade": false,
     "grade_id": "cell-adb558ada51cb8bd",
     "locked": true,
     "schema_version": 1,
     "solution": false
    }
   },
   "outputs": [
    {
     "name": "stdout",
     "output_type": "stream",
     "text": [
      "(500, 64, 64)\n"
     ]
    },
    {
     "data": {
      "image/png": "[encoded data removed]",
      "text/plain": [
       "<Figure size 432x288 with 1 Axes>"
      ]
     },
     "metadata": {},
     "output_type": "display_data"
    }
   ],
   "source": [
    "train_images = []\n",
    "for image_path in train_images_paths:\n",
    "    image = Image.open(image_path).resize((height,width),Image.BICUBIC).convert('L')\n",
    "    train_images.append(np.array(image))\n",
    "train_images = np.array(train_images)\n",
    "\n",
    "test_images = []\n",
    "for image_path in test_images_paths:\n",
    "    image = Image.open(image_path).resize((height,width),Image.BICUBIC).convert('L')\n",
    "    test_images.append(np.array(image))\n",
    "test_images = np.array(test_images)\n",
    "\n",
    "# test if the dataset has desired shape and show one image in the dataset\n",
    "plt.imshow(train_images[0],cmap='gray') # show the first image\n",
    "print(train_images.shape)"
   ]
  },
  {
   "cell_type": "markdown",
   "metadata": {
    "colab_type": "text",
    "deletable": false,
    "editable": false,
    "id": "c7mcQUmyCyM5",
    "nbgrader": {
     "checksum": "c6d5ffeba790e1161eb41b780aa6e84d",
     "grade": false,
     "grade_id": "cell-fb2bec7b54bacab8",
     "locked": true,
     "schema_version": 1,
     "solution": false
    }
   },
   "source": [
    "### Compute mean faces and centered dataset\n",
    "\n",
    "Now, we will compute the **mean** face. The mean face is the face image whose pixel values are the average of all the pixel values in the dataset. We will then subtract the mean face from all the images in the dataset to get the mean to $0$.   "
   ]
  },
  {
   "cell_type": "code",
   "execution_count": 6,
   "metadata": {
    "colab": {},
    "colab_type": "code",
    "deletable": false,
    "editable": false,
    "id": "LohjdJnzCyM-",
    "nbgrader": {
     "checksum": "39df79b0c0c9561df6b067ddc50b80d9",
     "grade": false,
     "grade_id": "cell-f34dcc36fc3dc6a3",
     "locked": true,
     "schema_version": 1,
     "solution": false
    },
    "outputId": "b13d858e-20a9-49f4-ed3b-a3c4dbdad4c1"
   },
   "outputs": [
    {
     "data": {
      "text/plain": [
       "<matplotlib.image.AxesImage at 0x7fd339c70e48>"
      ]
     },
     "execution_count": 6,
     "metadata": {},
     "output_type": "execute_result"
    },
    {
     "data": {
      "image/png": "[encoded data removed]",
      "text/plain": [
       "<Figure size 432x288 with 1 Axes>"
      ]
     },
     "metadata": {},
     "output_type": "display_data"
    }
   ],
   "source": [
    "mean_face = train_images.mean(axis=0).astype(np.uint8) #compute the mean face\n",
    "plt.imshow(mean_face, cmap=\"gray\") # plot the face"
   ]
  },
  {
   "cell_type": "code",
   "execution_count": 7,
   "metadata": {
    "colab": {},
    "colab_type": "code",
    "deletable": false,
    "editable": false,
    "id": "BVn7HZABCyNQ",
    "nbgrader": {
     "checksum": "59a71ff3e006f7745e199da22db207e4",
     "grade": false,
     "grade_id": "cell-1e156e7c6f0e5677",
     "locked": true,
     "schema_version": 1,
     "solution": false
    },
    "outputId": "1830575c-f817-4f0c-c740-2cdea7e58a56"
   },
   "outputs": [
    {
     "data": {
      "text/plain": [
       "<matplotlib.image.AxesImage at 0x7fd339bdff28>"
      ]
     },
     "execution_count": 7,
     "metadata": {},
     "output_type": "execute_result"
    },
    {
     "data": {
      "image/png": "[encoded data removed]",
      "text/plain": [
       "<Figure size 432x288 with 1 Axes>"
      ]
     },
     "metadata": {},
     "output_type": "display_data"
    }
   ],
   "source": [
    "dataset_centered = np.int8(train_images - mean_face)\n",
    "plt.imshow(dataset_centered[0],cmap=\"gray\") # plot an image from the centered dataset"
   ]
  },
  {
   "cell_type": "markdown",
   "metadata": {
    "colab_type": "text",
    "deletable": false,
    "editable": false,
    "id": "6Hwb4i2pCyNf",
    "nbgrader": {
     "checksum": "582e4fe0f171cc45438671e53be43700",
     "grade": false,
     "grade_id": "cell-085621566071f1b4",
     "locked": true,
     "schema_version": 1,
     "solution": false
    },
    "tags": [
     "Exercise-1"
    ]
   },
   "source": [
    "### Exercise 1: Decompose the data into components\n",
    "<b><div style=\"text-align: right\">[POINTS: 25]</div></b>\n",
    "\n",
    "Finally, it is your time to code. You will now write a function to decompose an image into components using Singular Value Decomposition. You can refer to the reading material to review the concept of SVD. In this assignment, we will use two terminologies to refer to the results of SVD. We know,\n",
    "$$\n",
    "A = U \\Sigma V^T\n",
    "$$\n",
    "Here, the columns of $U \\Sigma$ are referred to as `projections` and the rows of $V^T$ are referred to as `components`.\n",
    "\n",
    "**Task:** \n",
    "- Define the function `get_components`\n",
    "- It takes `centered_dataset` and  `num_components` as arguments\n",
    "- It returns the top `num_components` rows of `components` matrix "
   ]
  },
  {
   "cell_type": "code",
   "execution_count": 8,
   "metadata": {
    "colab": {},
    "colab_type": "code",
    "deletable": false,
    "id": "jAp9WaN3CyNl",
    "nbgrader": {
     "checksum": "da37b946e9873c1aaceafd9a73ce829d",
     "grade": false,
     "grade_id": "cell-4312cf0c09b347be",
     "locked": false,
     "schema_version": 1,
     "solution": true
    },
    "tags": [
     "Exercise-1"
    ]
   },
   "outputs": [],
   "source": [
    "def get_components(centered_dataset, num_components):\n",
    "    U, S, Vt = np.linalg.svd(centered_dataset) # calculate the SVD of centered_dataset\n",
    "    components = np.array([Vt[num_components-1]]) # select the top num_components components\n",
    "    return components"
   ]
  },
  {
   "cell_type": "code",
   "execution_count": 9,
   "metadata": {
    "colab": {},
    "colab_type": "code",
    "deletable": false,
    "editable": false,
    "id": "JMMZWQe0CyN7",
    "nbgrader": {
     "checksum": "9a0e8dbfc814e56595f545f44b180f49",
     "grade": true,
     "grade_id": "cell-423666cbfaa06099",
     "locked": true,
     "points": 25,
     "schema_version": 1,
     "solution": false
    },
    "tags": [
     "Exercise-1"
    ]
   },
   "outputs": [],
   "source": [
    "assert np.array_equal(get_components(np.asarray([[1,0,0],[0,1,0]]), 1),[[1., 0., 0.]])"
   ]
  },
  {
   "cell_type": "markdown",
   "metadata": {
    "colab_type": "text",
    "deletable": false,
    "editable": false,
    "id": "tLStO7lFCyOJ",
    "nbgrader": {
     "checksum": "af8a567023afc8a4899beeb87c26cd2b",
     "grade": false,
     "grade_id": "cell-bbe4bff00aaf7db4",
     "locked": true,
     "schema_version": 1,
     "solution": false
    },
    "tags": [
     "Exercise-2"
    ]
   },
   "source": [
    "### Exercise 2: Project the centered faces to the eigen space\n",
    "\n",
    "<b><div style=\"text-align: right\">[POINTS: 25]</div></b>\n",
    "\n",
    "You have the components, which form a basis for the eigen space of the faces. Project the faces to this space using the vectors in this basis. Remember that the length of projection of a column vector $\\vec{a}$ to another column vector $\\vec{b}$ is given by $\\vec{a}^T\\vec{b}$ when b is a unit vector. This means that the lengths of projections of $\\vec{a}$ into a new set of unit basis vectors arranged in a matrix $C$ is given by $\\vec{a}^TC$.\n",
    "\n",
    "* Define a function `project` that takes in the arguments `vectors` and `basis`.\n",
    "* `project` should return the projection of vectors in `vectors` into the space spanned by the vectors in `basis`."
   ]
  },
  {
   "cell_type": "code",
   "execution_count": 39,
   "metadata": {
    "colab": {},
    "colab_type": "code",
    "deletable": false,
    "id": "Q3w3Joa4CyOP",
    "nbgrader": {
     "checksum": "9b92385c2e9a480d341e4fc2f1a03572",
     "grade": false,
     "grade_id": "cell-cf7830db8b57528c",
     "locked": false,
     "schema_version": 1,
     "solution": true
    },
    "tags": [
     "Exercise-2"
    ]
   },
   "outputs": [],
   "source": [
    "def project(vectors, basis):\n",
    "    return  np.dot(vectors, basis.T) "
   ]
  },
  {
   "cell_type": "code",
   "execution_count": 40,
   "metadata": {
    "colab": {},
    "colab_type": "code",
    "deletable": false,
    "editable": false,
    "id": "N-0_3nkCCyOd",
    "nbgrader": {
     "checksum": "0c42968cb4444221cc9571da9dca1b0e",
     "grade": true,
     "grade_id": "cell-efd2b244fa185516",
     "locked": true,
     "points": 25,
     "schema_version": 1,
     "solution": false
    },
    "tags": [
     "Exercise-2"
    ]
   },
   "outputs": [],
   "source": [
    "assert np.array_equal(project(np.asarray([[1,0,0],[0,1,0]]), np.asarray([[1,0,1],[0,1,1]])),[[1, 0],[0, 1]])\n"
   ]
  },
  {
   "cell_type": "markdown",
   "metadata": {
    "colab_type": "text",
    "deletable": false,
    "editable": false,
    "id": "dS92Usy8CyOu",
    "nbgrader": {
     "checksum": "e1dea7d4dc208e8710b67a41fded51ab",
     "grade": false,
     "grade_id": "cell-24e7d9575c452074",
     "locked": true,
     "schema_version": 1,
     "solution": false
    },
    "tags": [
     "Exercise-3"
    ]
   },
   "source": [
    "### Exercise 3: Reconstruct faces using the eigenfaces\n",
    "\n",
    "<b><div style=\"text-align: right\">[POINTS: 20]</div></b>\n",
    "\n",
    "Reconstruct a face from back to the image space. Then, reshape this reconstructed vector to be of same shape as `mean_image`, and then add the `mean_image`."
   ]
  },
  {
   "cell_type": "code",
   "execution_count": 12,
   "metadata": {
    "colab": {},
    "colab_type": "code",
    "deletable": false,
    "id": "MuSFgT2KCyOx",
    "nbgrader": {
     "checksum": "e0161db755dbcad6c861106a48c5374b",
     "grade": false,
     "grade_id": "cell-216a7840e3e1c51e",
     "locked": false,
     "schema_version": 1,
     "solution": true
    },
    "tags": [
     "Exercise-3"
    ]
   },
   "outputs": [],
   "source": [
    "def reconstruct(projection, components, mean_image):\n",
    "    \n",
    "    # backproject projection to the original image space\n",
    "    reconstructed_vector = projection @ components  \n",
    "    \n",
    "    # reshape the vector from above to be of same shape \n",
    "    # as mean_image and add the mean image to it\n",
    "    reconstructed_image = mean_image + reconstructed_vector.reshape(mean_image.shape)\n",
    "    \n",
    "    return reconstructed_image\n",
    "\n",
    "# YOUR CODE HERE\n",
    "# raise NotImplementedError()\n"
   ]
  },
  {
   "cell_type": "code",
   "execution_count": 13,
   "metadata": {
    "colab": {},
    "colab_type": "code",
    "deletable": false,
    "editable": false,
    "id": "F3QW4i_uCyO_",
    "nbgrader": {
     "checksum": "88f76341d8d2d57a77a0a469e98396e7",
     "grade": true,
     "grade_id": "cell-c96a5264e50520d4",
     "locked": true,
     "points": 20,
     "schema_version": 1,
     "solution": false
    },
    "tags": [
     "Exercise-3"
    ]
   },
   "outputs": [],
   "source": [
    "assert np.array_equal(reconstruct(np.asarray([[1, 0],[0, 1]]),\n",
    "                                  np.asarray([[1, 0, 0],[0, 1, 0]]),\n",
    "                                  np.asarray([[0.5,0.5,0.5],[0.5,0.5,0.5]])),\n",
    "                                  [[1.5, 0.5, 0.5],[0.5, 1.5, 0.5]])\n"
   ]
  },
  {
   "cell_type": "markdown",
   "metadata": {
    "colab_type": "text",
    "deletable": false,
    "editable": false,
    "id": "dXgInAsECyPL",
    "nbgrader": {
     "checksum": "76767784a5e88ce8e824da5f8609f5b5",
     "grade": false,
     "grade_id": "cell-c95d17228805d4f1",
     "locked": true,
     "schema_version": 1,
     "solution": false
    }
   },
   "source": [
    "### Bringing it all together\n",
    "\n",
    "Your solutions to the three exercises above can now be brought together to compute the eigenfaces for this dataset. Be sure to experiment with different values of `NUM_COMPONENTS` and see how it affects the quality of reconstructed images. "
   ]
  },
  {
   "cell_type": "code",
   "execution_count": 14,
   "metadata": {
    "colab": {},
    "colab_type": "code",
    "deletable": false,
    "editable": false,
    "id": "2N_cHEZDCyPR",
    "nbgrader": {
     "checksum": "5b9e48a38cece2744e151ec744778e15",
     "grade": false,
     "grade_id": "cell-3958bfb96e91eaf1",
     "locked": true,
     "schema_version": 1,
     "solution": false
    }
   },
   "outputs": [],
   "source": [
    "NUM_COMPONENTS = 300 # number of principal components to use"
   ]
  },
  {
   "cell_type": "code",
   "execution_count": 15,
   "metadata": {
    "colab": {},
    "colab_type": "code",
    "deletable": false,
    "editable": false,
    "id": "K9nQZ0fvCyPg",
    "nbgrader": {
     "checksum": "3a2e69ed91ceb3d26465aa89f95bb98a",
     "grade": false,
     "grade_id": "cell-9dec2aa575c9b8e3",
     "locked": true,
     "schema_version": 1,
     "solution": false
    }
   },
   "outputs": [],
   "source": [
    "components = get_components( # decompose\n",
    "    dataset_centered.reshape(NUM_IMAGES_TRAIN,height*width), \n",
    "    NUM_COMPONENTS\n",
    ")"
   ]
  },
  {
   "cell_type": "code",
   "execution_count": 16,
   "metadata": {
    "colab": {},
    "colab_type": "code",
    "deletable": false,
    "editable": false,
    "id": "JOb3BiQ-CyPt",
    "nbgrader": {
     "checksum": "955fa8e12e7e92434520cb3c7d511755",
     "grade": false,
     "grade_id": "cell-5538a13d608257b5",
     "locked": true,
     "schema_version": 1,
     "solution": false
    }
   },
   "outputs": [],
   "source": [
    "# we can now project images from the test set\n",
    "# into the space formed by principal components\n",
    "\n",
    "# pick a random image from the test set\n",
    "test_face = test_images[np.random.randint(0,NUM_IMAGES_TEST)]\n",
    "\n",
    "# center the test_face at the mean face\n",
    "test_face_centered = np.int8(test_face - mean_face)\n",
    "\n",
    "# project the images to the principal components\n",
    "test_projection = project(test_face_centered.reshape(-1, 64*64), components)"
   ]
  },
  {
   "cell_type": "code",
   "execution_count": 17,
   "metadata": {
    "colab": {},
    "colab_type": "code",
    "deletable": false,
    "editable": false,
    "id": "aU0tu-8QCyP8",
    "nbgrader": {
     "checksum": "e45033cd2c9d3885b1b91173b3060d22",
     "grade": false,
     "grade_id": "cell-0464c3531f5b43b6",
     "locked": true,
     "schema_version": 1,
     "solution": false
    }
   },
   "outputs": [],
   "source": [
    "test_reconstruction = reconstruct(test_projection, components, mean_face)"
   ]
  },
  {
   "cell_type": "code",
   "execution_count": 18,
   "metadata": {
    "colab": {},
    "colab_type": "code",
    "deletable": false,
    "editable": false,
    "id": "KqLRLiU3CyQH",
    "nbgrader": {
     "checksum": "a807e97dd8d361bf5d7c82632ff804c9",
     "grade": false,
     "grade_id": "cell-86287f245aac392c",
     "locked": true,
     "schema_version": 1,
     "solution": false
    },
    "outputId": "92d3bbed-7d38-4f6b-c879-937d21689a82"
   },
   "outputs": [
    {
     "data": {
      "image/png": "[encoded data removed]",
      "text/plain": [
       "<Figure size 720x432 with 2 Axes>"
      ]
     },
     "metadata": {},
     "output_type": "display_data"
    }
   ],
   "source": [
    "f, axarr = plt.subplots(1,2, figsize=(10,6))\n",
    "axarr[0].imshow(test_face, cmap='gray')\n",
    "axarr[0].title.set_text('Original Image')\n",
    "axarr[1].imshow(test_reconstruction, cmap='gray')\n",
    "axarr[1].title.set_text('Reconstructed Image')\n",
    "plt.show()"
   ]
  },
  {
   "cell_type": "markdown",
   "metadata": {
    "deletable": false,
    "editable": false,
    "nbgrader": {
     "checksum": "8edcbf34e584c7e172085b76ab878c35",
     "grade": false,
     "grade_id": "cell-ae189513757daeeb",
     "locked": true,
     "schema_version": 1,
     "solution": false
    },
    "tags": [
     "Exercise-4"
    ]
   },
   "source": [
    "### Exercise 4: Predicting the gender\n",
    "\n",
    "<b><div style=\"text-align: right\">[POINTS: 30]</div></b>\n",
    "\n",
    "In this task, you will be implementing a simple linear regression model and using it to predict the gender of the person based on the provided image. The training data, training labels, test data and test labels are provided to you. We can formulate the problem as follows:\n",
    "\n",
    "$A. w = B$\n",
    "\n",
    "where $A$ is a $(n\\times d)$ matrix of training image projections. Each image projection obtained from above tasks are arranged as rows of matrix $A$. Similarly, $B$ is a $(n \\times 1)$ matrix where each row gives the label of the corresponding image. We use label: 100 for females and label: -100 for males.\n",
    "\n",
    "Your task will be to learn the elements in the $w$ matrix which map the image projections to their corresponding labels. Do this by using the Least Squares Solution of Linear Equation you have previously learnt.\n",
    "\n",
    "* Give the definition for the function `learn_weights` that takes in the arguments `training_data` and `labels`.\n",
    " `learn_weights` should return the weight matrix $w$ defined as a $(d \\times d)$ matrix.\n",
    "\n",
    "* Also give the definition for the function `predict_results` that takes in the arguments `test_data` and `weights`and returns the prediction labels for the test image projections provided as a $(n \\times d)$ matrix similar to the train image projections. You should generate the prediction labels based on the equation given above."
   ]
  },
  {
   "cell_type": "code",
   "execution_count": 29,
   "metadata": {
    "colab": {},
    "colab_type": "code",
    "deletable": false,
    "id": "DEZFUvYECyQW",
    "nbgrader": {
     "checksum": "67e21ae03fb77491601eae8cd6cce316",
     "grade": false,
     "grade_id": "cell-45a2644cecc9f493",
     "locked": false,
     "schema_version": 1,
     "solution": true
    },
    "tags": [
     "Exercise-4"
    ]
   },
   "outputs": [
    {
     "ename": "ValueError",
     "evalue": "matmul: Input operand 1 has a mismatch in its core dimension 0, with gufunc signature (n?,k),(k,m?)->(n?,m?) (size 500 is different from 1)",
     "output_type": "error",
     "traceback": [
      "\u001b[0;31m---------------------------------------------------------------------------\u001b[0m",
      "\u001b[0;31mValueError\u001b[0m                                Traceback (most recent call last)",
      "\u001b[0;32m<ipython-input-29-1aaae62d9735>\u001b[0m in \u001b[0;36m<module>\u001b[0;34m()\u001b[0m\n\u001b[1;32m     12\u001b[0m \u001b[0mtrain_projections\u001b[0m \u001b[0;34m=\u001b[0m \u001b[0mproject\u001b[0m\u001b[0;34m(\u001b[0m\u001b[0mtrain_images\u001b[0m\u001b[0;34m.\u001b[0m\u001b[0mreshape\u001b[0m\u001b[0;34m(\u001b[0m\u001b[0;34m-\u001b[0m\u001b[0;36m1\u001b[0m\u001b[0;34m,\u001b[0m\u001b[0mheight\u001b[0m\u001b[0;34m*\u001b[0m\u001b[0mwidth\u001b[0m\u001b[0;34m)\u001b[0m\u001b[0;34m,\u001b[0m\u001b[0mcomponents\u001b[0m\u001b[0;34m)\u001b[0m\u001b[0;34m\u001b[0m\u001b[0;34m\u001b[0m\u001b[0m\n\u001b[1;32m     13\u001b[0m \u001b[0mtrain_labels\u001b[0m \u001b[0;34m=\u001b[0m \u001b[0mnp\u001b[0m\u001b[0;34m.\u001b[0m\u001b[0marray\u001b[0m\u001b[0;34m(\u001b[0m\u001b[0mtrain_labels\u001b[0m\u001b[0;34m)\u001b[0m\u001b[0;34m*\u001b[0m\u001b[0;36m200\u001b[0m \u001b[0;34m-\u001b[0m \u001b[0;36m100\u001b[0m\u001b[0;34m\u001b[0m\u001b[0;34m\u001b[0m\u001b[0m\n\u001b[0;32m---> 14\u001b[0;31m \u001b[0mweights\u001b[0m \u001b[0;34m=\u001b[0m \u001b[0mlearn_weights\u001b[0m\u001b[0;34m(\u001b[0m\u001b[0mtrain_projections\u001b[0m\u001b[0;34m,\u001b[0m\u001b[0mtrain_labels\u001b[0m\u001b[0;34m)\u001b[0m\u001b[0;34m\u001b[0m\u001b[0;34m\u001b[0m\u001b[0m\n\u001b[0m",
      "\u001b[0;32m<ipython-input-29-1aaae62d9735>\u001b[0m in \u001b[0;36mlearn_weights\u001b[0;34m(training_data, labels)\u001b[0m\n\u001b[1;32m      2\u001b[0m     \u001b[0mweights\u001b[0m \u001b[0;34m=\u001b[0m \u001b[0;32mNone\u001b[0m\u001b[0;34m\u001b[0m\u001b[0;34m\u001b[0m\u001b[0m\n\u001b[1;32m      3\u001b[0m     \u001b[0;31m# YOUR CODE HERE\u001b[0m\u001b[0;34m\u001b[0m\u001b[0;34m\u001b[0m\u001b[0;34m\u001b[0m\u001b[0m\n\u001b[0;32m----> 4\u001b[0;31m     \u001b[0;32mreturn\u001b[0m \u001b[0;34m(\u001b[0m\u001b[0mtraining_data\u001b[0m\u001b[0;34m)\u001b[0m \u001b[0;34m@\u001b[0m \u001b[0mlabels\u001b[0m\u001b[0;34m\u001b[0m\u001b[0;34m\u001b[0m\u001b[0m\n\u001b[0m\u001b[1;32m      5\u001b[0m \u001b[0;34m\u001b[0m\u001b[0m\n\u001b[1;32m      6\u001b[0m \u001b[0;32mdef\u001b[0m \u001b[0mpredict_results\u001b[0m\u001b[0;34m(\u001b[0m\u001b[0mtest_data\u001b[0m\u001b[0;34m,\u001b[0m \u001b[0mweights\u001b[0m\u001b[0;34m)\u001b[0m\u001b[0;34m:\u001b[0m\u001b[0;34m\u001b[0m\u001b[0;34m\u001b[0m\u001b[0m\n",
      "\u001b[0;31mValueError\u001b[0m: matmul: Input operand 1 has a mismatch in its core dimension 0, with gufunc signature (n?,k),(k,m?)->(n?,m?) (size 500 is different from 1)"
     ]
    }
   ],
   "source": [
    "def learn_weights(training_data, labels):\n",
    "    weights = None\n",
    "    # YOUR CODE HERE\n",
    "    return weights\n",
    "def predict_results(test_data, weights):\n",
    "    predictions = None\n",
    "    # YOUR CODE HERE\n",
    "    predictions = test_data @ weights\n",
    "    return predictions\n",
    "\n",
    "train_projections = project(train_images.reshape(-1,height*width),components)\n",
    "train_labels = np.array(train_labels)*200 - 100\n",
    "weights = learn_weights(train_projections,train_labels)"
   ]
  },
  {
   "cell_type": "code",
   "execution_count": 30,
   "metadata": {
    "deletable": false,
    "editable": false,
    "nbgrader": {
     "checksum": "be14c94efea3bbbf53a628399e78ba03",
     "grade": true,
     "grade_id": "cell-aa3da312a9b71163",
     "locked": true,
     "points": 30,
     "schema_version": 1,
     "solution": false
    },
    "tags": [
     "Exercise-4"
    ]
   },
   "outputs": [
    {
     "ename": "ValueError",
     "evalue": "matmul: Input operand 1 has a mismatch in its core dimension 0, with gufunc signature (n?,k),(k,m?)->(n?,m?) (size 3 is different from 2)",
     "output_type": "error",
     "traceback": [
      "\u001b[0;31m---------------------------------------------------------------------------\u001b[0m",
      "\u001b[0;31mValueError\u001b[0m                                Traceback (most recent call last)",
      "\u001b[0;32m<ipython-input-30-4194f4174277>\u001b[0m in \u001b[0;36m<module>\u001b[0;34m()\u001b[0m\n\u001b[1;32m      2\u001b[0m     learn_weights(\n\u001b[1;32m      3\u001b[0m         \u001b[0mnp\u001b[0m\u001b[0;34m.\u001b[0m\u001b[0masarray\u001b[0m\u001b[0;34m(\u001b[0m\u001b[0;34m[\u001b[0m\u001b[0;34m[\u001b[0m\u001b[0;36m1\u001b[0m\u001b[0;34m,\u001b[0m\u001b[0;36m0.5\u001b[0m\u001b[0;34m]\u001b[0m\u001b[0;34m,\u001b[0m\u001b[0;34m[\u001b[0m\u001b[0;36m0.5\u001b[0m\u001b[0;34m,\u001b[0m\u001b[0;36m1\u001b[0m\u001b[0;34m]\u001b[0m\u001b[0;34m,\u001b[0m\u001b[0;34m[\u001b[0m\u001b[0;36m0.5\u001b[0m\u001b[0;34m,\u001b[0m \u001b[0;36m1\u001b[0m\u001b[0;34m]\u001b[0m\u001b[0;34m]\u001b[0m\u001b[0;34m)\u001b[0m\u001b[0;34m,\u001b[0m\u001b[0;34m\u001b[0m\u001b[0;34m\u001b[0m\u001b[0m\n\u001b[0;32m----> 4\u001b[0;31m         \u001b[0mnp\u001b[0m\u001b[0;34m.\u001b[0m\u001b[0masarray\u001b[0m\u001b[0;34m(\u001b[0m\u001b[0;34m[\u001b[0m\u001b[0;36m0\u001b[0m\u001b[0;34m,\u001b[0m\u001b[0;36m1\u001b[0m\u001b[0;34m,\u001b[0m\u001b[0;36m5\u001b[0m\u001b[0;34m]\u001b[0m\u001b[0;34m)\u001b[0m\u001b[0;34m\u001b[0m\u001b[0;34m\u001b[0m\u001b[0m\n\u001b[0m\u001b[1;32m      5\u001b[0m     ), \n\u001b[1;32m      6\u001b[0m     \u001b[0mnp\u001b[0m\u001b[0;34m.\u001b[0m\u001b[0marray\u001b[0m\u001b[0;34m(\u001b[0m\u001b[0;34m[\u001b[0m\u001b[0;34m-\u001b[0m\u001b[0;36m2\u001b[0m\u001b[0;34m,\u001b[0m \u001b[0;36m4\u001b[0m\u001b[0;34m]\u001b[0m\u001b[0;34m)\u001b[0m\u001b[0;34m\u001b[0m\u001b[0;34m\u001b[0m\u001b[0m\n",
      "\u001b[0;32m<ipython-input-29-1aaae62d9735>\u001b[0m in \u001b[0;36mlearn_weights\u001b[0;34m(training_data, labels)\u001b[0m\n\u001b[1;32m      2\u001b[0m     \u001b[0mweights\u001b[0m \u001b[0;34m=\u001b[0m \u001b[0;32mNone\u001b[0m\u001b[0;34m\u001b[0m\u001b[0;34m\u001b[0m\u001b[0m\n\u001b[1;32m      3\u001b[0m     \u001b[0;31m# YOUR CODE HERE\u001b[0m\u001b[0;34m\u001b[0m\u001b[0;34m\u001b[0m\u001b[0;34m\u001b[0m\u001b[0m\n\u001b[0;32m----> 4\u001b[0;31m     \u001b[0;32mreturn\u001b[0m \u001b[0;34m(\u001b[0m\u001b[0mtraining_data\u001b[0m\u001b[0;34m)\u001b[0m \u001b[0;34m@\u001b[0m \u001b[0mlabels\u001b[0m\u001b[0;34m\u001b[0m\u001b[0;34m\u001b[0m\u001b[0m\n\u001b[0m\u001b[1;32m      5\u001b[0m \u001b[0;34m\u001b[0m\u001b[0m\n\u001b[1;32m      6\u001b[0m \u001b[0;32mdef\u001b[0m \u001b[0mpredict_results\u001b[0m\u001b[0;34m(\u001b[0m\u001b[0mtest_data\u001b[0m\u001b[0;34m,\u001b[0m \u001b[0mweights\u001b[0m\u001b[0;34m)\u001b[0m\u001b[0;34m:\u001b[0m\u001b[0;34m\u001b[0m\u001b[0;34m\u001b[0m\u001b[0m\n",
      "\u001b[0;31mValueError\u001b[0m: matmul: Input operand 1 has a mismatch in its core dimension 0, with gufunc signature (n?,k),(k,m?)->(n?,m?) (size 3 is different from 2)"
     ]
    }
   ],
   "source": [
    "np.testing.assert_array_almost_equal(\n",
    "    learn_weights(\n",
    "        np.asarray([[1,0.5],[0.5,1],[0.5, 1]]),\n",
    "        np.asarray([0,1,5])\n",
    "    ), \n",
    "    np.array([-2, 4])\n",
    ")\n",
    "assert np.array_equal(predict_results(np.asarray([0.5,1,1]),np.asarray([0,1,0])),1)"
   ]
  },
  {
   "cell_type": "code",
   "execution_count": null,
   "metadata": {
    "deletable": false,
    "editable": false,
    "nbgrader": {
     "checksum": "43f5a6b161d6690cce8aebc57520256f",
     "grade": false,
     "grade_id": "cell-7bbc000733d391bc",
     "locked": true,
     "schema_version": 1,
     "solution": false
    }
   },
   "outputs": [],
   "source": [
    "def calc_accuracy(predictions, labels):\n",
    "    return np.sum(np.equal(predictions>0,labels>0))/len(labels)"
   ]
  },
  {
   "cell_type": "code",
   "execution_count": null,
   "metadata": {
    "deletable": false,
    "editable": false,
    "nbgrader": {
     "checksum": "10b552f257040a1a5f7098b365e0b8ea",
     "grade": false,
     "grade_id": "cell-00c8fa610355fc1a",
     "locked": true,
     "schema_version": 1,
     "solution": false
    }
   },
   "outputs": [],
   "source": [
    "train_projections = project(train_images.reshape(-1,height*width),components)\n",
    "test_projections = project(test_images.reshape(-1,height*width), components)\n",
    "train_labels = np.array(train_labels)*200 - 100\n",
    "test_labels = np.array(test_labels)*200 - 100\n",
    "weights = learn_weights(train_projections,train_labels)\n",
    "predictions = predict_results(test_projections,weights)\n",
    "accuracy = calc_accuracy(predictions,test_labels)\n",
    "print(\"Overall test set accuracy: \",accuracy)\n",
    "\n",
    "#visualizing the results in test images\n",
    "fig, axes = plt.subplots(3,3, figsize=(10,18))\n",
    "\n",
    "\n",
    "test_predictions = predict_results(test_projections[6:15], weights)\n",
    "for i in range(3):\n",
    "    for j in range(3):\n",
    "        axes[i][j].imshow(test_images[6+i*3+j], cmap='gray')\n",
    "        label_text = 'Female' if test_labels[6+i*3+j]>0  else 'Male'\n",
    "        prediction_text = 'Female' if test_predictions[i*3+j]>0 else 'Male'\n",
    "        axes[i][j].title.set_text('True Label:{}\\n Predicted Label:{}'.format(label_text,prediction_text))\n",
    "plt.show()"
   ]
  }
 ],
 "metadata": {
  "colab": {
   "name": "EigenFaces.ipynb",
   "provenance": []
  },
  "kernelspec": {
   "display_name": "Python 3",
   "language": "python",
   "name": "python3"
  },
  "language_info": {
   "codemirror_mode": {
    "name": "ipython",
    "version": 3
   },
   "file_extension": ".py",
   "mimetype": "text/x-python",
   "name": "python",
   "nbconvert_exporter": "python",
   "pygments_lexer": "ipython3",
   "version": "3.6.8"
  }
 },
 "nbformat": 4,
 "nbformat_minor": 1
}
