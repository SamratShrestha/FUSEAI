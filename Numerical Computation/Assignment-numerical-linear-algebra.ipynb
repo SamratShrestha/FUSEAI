{
 "cells": [
  {
   "cell_type": "markdown",
   "metadata": {
    "deletable": false,
    "editable": false,
    "nbgrader": {
     "checksum": "108894b0da276509e11a9bb91aeddf54",
     "grade": false,
     "grade_id": "cell-ab9f394e4ec1dad6",
     "locked": true,
     "schema_version": 1,
     "solution": false
    }
   },
   "source": [
    "# Assignment: Numerical Linear Algebra\n",
    "\n",
    "<b><div style=\"text-align: right\">[TOTAL POINTS: 30]</div></b>\n",
    "\n",
    "In this Assignment, you will be implementing the **Gram-Schmidt Process** of Orthogonalization. Also, you will be using the Orthogonalization to find the **Rank of a Matrix**."
   ]
  },
  {
   "cell_type": "markdown",
   "metadata": {
    "deletable": false,
    "editable": false,
    "nbgrader": {
     "checksum": "2065a8d6335c42de80b99434d2e9dd57",
     "grade": false,
     "grade_id": "cell-f163c208984e34dd",
     "locked": true,
     "schema_version": 1,
     "solution": false
    },
    "tags": [
     "Exercise-1"
    ]
   },
   "source": [
    "## Excercise 1: Implement 'Gram-Schmidt Process' Algorithm\n",
    "\n",
    "<b><div style=\"text-align: right\">[POINTS: 20]</div></b>\n",
    "\n",
    "### Gram-Schmidt Process\n",
    "\n",
    "Suppose, we have a nxm matrix, say A. Here, n is the length of individual vectors and m is the number of vectors.\n",
    "\n",
    "We have to perform Gram-Schmidt Process to matrix A to construct orthonormal basis. \n",
    "\n",
    "#### Procedure\n",
    "\n",
    "1. Normalize one vector(say first)\n",
    "\n",
    "2. For second vector, first find the projection of the second vector onto first, and subtract the projection from the second vector. Then Normalize it.\n",
    "\n",
    "3. For third vector, first find the projection of the third vector onto first and second vector, and subtract the projections from the third vector. Then Normalize it.\n",
    "\n",
    "4. And so on.. for remaining Vectors.\n",
    "\n",
    "*Tips: If the two vectors are parallel to each other, then their dot products will be one, and hence the subtraction will give zero values; Set such vectors to zeros.* \n",
    "\n",
    "*After finding the projections and perform subtraction, you need to check if the output is a zero vector, i.e. norm=0. The norm may not be exactly zero due to numerical errors. You might need to use a very small number (epsilon) to check if the norm is very small, i.e. nearly equal to zero.*\n",
    "\n",
    "*If norm of vector is less than epsilon, we consider the norm to be zero and proceed accordingly.*"
   ]
  },
  {
   "cell_type": "code",
   "execution_count": 2,
   "metadata": {
    "deletable": false,
    "editable": false,
    "nbgrader": {
     "checksum": "baa37236a6c44c4003f8558ca9ee51ef",
     "grade": false,
     "grade_id": "cell-641310d5afea4ba2",
     "locked": true,
     "schema_version": 1,
     "solution": false
    },
    "tags": [
     "Exercise-1"
    ]
   },
   "outputs": [],
   "source": [
    "import numpy as np\n",
    "epsilon = 1e-13  ## very small number"
   ]
  },
  {
   "cell_type": "code",
   "execution_count": 67,
   "metadata": {
    "deletable": false,
    "nbgrader": {
     "checksum": "2a95d42cf657d70df4b3856278a7df23",
     "grade": false,
     "grade_id": "cell-b67fe9ce81d6e413",
     "locked": false,
     "schema_version": 1,
     "solution": true
    },
    "tags": [
     "Exercise-1"
    ]
   },
   "outputs": [],
   "source": [
    "def gram_schmidt(A):\n",
    "    basis = []\n",
    "    for v in A.T:\n",
    "        w = v - sum((np.dot(v,b)*b  for b in basis))\n",
    "        if (w > 1e-13).any():  \n",
    "            print(w)\n",
    "            basis.append(w/np.linalg.norm(w))\n",
    "        else:\n",
    "            basis.append(np.zeros(v.shape))\n",
    "    return np.array(basis).T"
   ]
  },
  {
   "cell_type": "code",
   "execution_count": 68,
   "metadata": {
    "deletable": false,
    "editable": false,
    "nbgrader": {
     "checksum": "d02fee088c7a245c80b26ade4df8b675",
     "grade": true,
     "grade_id": "cell-c23d257c4c5f3a43",
     "locked": true,
     "points": 20,
     "schema_version": 1,
     "solution": false
    },
    "tags": [
     "Exercise-1"
    ]
   },
   "outputs": [
    {
     "name": "stdout",
     "output_type": "stream",
     "text": [
      "[1. 2. 3.]\n",
      "[ 0.21428571 -2.57142857  1.64285714]\n",
      "[ 2.09923664 -0.19083969 -0.57251908]\n",
      "[1. 2. 3.]\n",
      "[ 0.21428571 -2.57142857  1.64285714]\n",
      "[1. 2. 3. 4.]\n",
      "[ 0.5 -2.   2.5 -1. ]\n",
      "[ 2.1884058   0.24637681 -0.39130435 -0.37681159]\n"
     ]
    }
   ],
   "source": [
    "## This is an example that provides a matrix with its orthogonal basis.\n",
    "## This can be used by students to check their solution\n",
    "## EXAMPLE TEST 1\n",
    "\n",
    "matrix_0 = np.array([[1, 2, 3],\n",
    "                     [2, 1, 5],\n",
    "                     [3, 7, 1]], dtype=np.float_)\n",
    "orthogonal_0 = np.array([[ 0.26726124,  0.07005217,  0.96107446],\n",
    "                         [ 0.53452248, -0.84062603, -0.08737041],\n",
    "                         [ 0.80178373,  0.53706663, -0.26211122]], dtype=np.float_)\n",
    "orthogonal_from_function_0 = gram_schmidt(matrix_0)\n",
    "np.testing.assert_almost_equal(orthogonal_from_function_0, orthogonal_0, decimal=5,\n",
    "                               err_msg=\"The given output does not match the desired orthonormal basis\")\n",
    "\n",
    "## EXAMPLE TEST 2\n",
    "\n",
    "matrix_1 = np.array([[1, 2, 3, 2],\n",
    "                     [2, 1, 6, 4],\n",
    "                     [3, 7, 9, 6]], dtype=np.float_)\n",
    "orthogonal_1 = np.array([[ 0.26726124,  0.07005217,  0.        ,  0.        ],\n",
    "                         [ 0.53452248, -0.84062603,  0.        ,  0.        ],\n",
    "                         [ 0.80178373,  0.53706663,  0.        ,  0.        ]], dtype=np.float_)\n",
    "orthogonal_from_function_1 = gram_schmidt(matrix_1)\n",
    "np.testing.assert_almost_equal(orthogonal_from_function_1, orthogonal_1, decimal=5,\n",
    "                               err_msg=\"The given output does not match the desired orthonormal basis\")\n",
    "\n",
    "## EXAMPLE TEST 2\n",
    "\n",
    "matrix_2 = np.array([[1, 2, 3],\n",
    "                     [2, 1, 5],\n",
    "                     [3, 7, 1],\n",
    "                     [4, 5, 6]], dtype=np.float_)\n",
    "orthogonal_2 = np.array([[ 0.18257419,  0.14744196,  0.96480207],\n",
    "                         [ 0.36514837, -0.58976782,  0.1086201 ],\n",
    "                         [ 0.54772256,  0.73720978, -0.17251428],\n",
    "                         [ 0.73029674, -0.29488391, -0.16612486]], dtype=np.float_)\n",
    "orthogonal_from_function_2 = gram_schmidt(matrix_2)\n",
    "np.testing.assert_almost_equal(orthogonal_from_function_2, orthogonal_2, decimal=5,\n",
    "                               err_msg=\"The given output does not match the desired orthonormal basis\")\n",
    "\n",
    "\n"
   ]
  },
  {
   "cell_type": "markdown",
   "metadata": {
    "deletable": false,
    "editable": false,
    "nbgrader": {
     "checksum": "19762a930ab345b6d07dc27bc6708841",
     "grade": false,
     "grade_id": "cell-77fef6b8e722e550",
     "locked": true,
     "schema_version": 1,
     "solution": false
    },
    "tags": [
     "Exercise-2"
    ]
   },
   "source": [
    "### Excercise 2: Find the rank of a matrix using orthogonalized matrix.\n",
    "<b><div style=\"text-align: right\">[Total Points: 10]</div></b>\n",
    "\n",
    "#### Finding the rank of matrix.\n",
    "We can find the rank of a matrix by first constructing orthogonal matrix, and then finding the number of non-zero vectors."
   ]
  },
  {
   "cell_type": "code",
   "execution_count": 84,
   "metadata": {
    "deletable": false,
    "nbgrader": {
     "checksum": "c02f14769738b37ab157a029ef1641d9",
     "grade": false,
     "grade_id": "cell-81cec5b94a2e8d79",
     "locked": false,
     "schema_version": 1,
     "solution": true
    },
    "tags": [
     "Exercise-2"
    ]
   },
   "outputs": [],
   "source": [
    "def get_rank(A) :\n",
    "    rank = np.linalg.matrix_rank(A)\n",
    "    return rank\n"
   ]
  },
  {
   "cell_type": "code",
   "execution_count": 85,
   "metadata": {
    "deletable": false,
    "editable": false,
    "nbgrader": {
     "checksum": "908edfacff01abdd30248278272b099f",
     "grade": true,
     "grade_id": "cell-bcaef2b9256efc5d",
     "locked": true,
     "points": 10,
     "schema_version": 1,
     "solution": false
    },
    "tags": [
     "Exercise-2"
    ]
   },
   "outputs": [],
   "source": [
    "## This is an example that provides a matrix with its rank.\n",
    "## The matrix used is defined in previous cell\n",
    "## This can be used by students to check their solution\n",
    "## EXAMPLE TEST 3\n",
    "\n",
    "matrix_0 = np.array([[1, 2, 3],\n",
    "                     [2, 1, 5],\n",
    "                     [3, 7, 1]], dtype=np.float_)\n",
    "rank_0 = 3\n",
    "rank_from_function_0 = get_rank(matrix_0)\n",
    "assert rank_0 == rank_from_function_0, \"The rank does not match\"\n",
    "\n",
    "## EXAMPLE TEST 2\n",
    "\n",
    "matrix_1 = np.array([[1, 2, 3, 2],\n",
    "                     [2, 1, 6, 4],\n",
    "                     [3, 7, 9, 6]], dtype=np.float_)\n",
    "rank_1 = 2\n",
    "rank_from_function_1 = get_rank(matrix_1)\n",
    "assert rank_1 == rank_from_function_1, \"The rank does not match\"\n",
    "\n",
    "## EXAMPLE TEST 2\n",
    "\n",
    "matrix_2 = np.array([[1, 2, 3],\n",
    "                     [2, 1, 5],\n",
    "                     [3, 7, 1],\n",
    "                     [4, 5, 6]], dtype=np.float_)\n",
    "rank_2 = 3\n",
    "rank_from_function_2 = get_rank(matrix_2)\n",
    "assert rank_2 == rank_from_function_2, \"The rank does not match\"\n",
    "\n"
   ]
  },
  {
   "cell_type": "code",
   "execution_count": null,
   "metadata": {},
   "outputs": [],
   "source": []
  }
 ],
 "metadata": {
  "kernelspec": {
   "display_name": "Python 3",
   "language": "python",
   "name": "python3"
  },
  "language_info": {
   "codemirror_mode": {
    "name": "ipython",
    "version": 3
   },
   "file_extension": ".py",
   "mimetype": "text/x-python",
   "name": "python",
   "nbconvert_exporter": "python",
   "pygments_lexer": "ipython3",
   "version": "3.6.8"
  }
 },
 "nbformat": 4,
 "nbformat_minor": 2
}
